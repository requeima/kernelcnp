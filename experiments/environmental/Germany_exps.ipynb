{
 "cells": [
  {
   "cell_type": "code",
   "execution_count": 1,
   "id": "61d7dd9b-3f33-4d8f-926a-a4a20a2e4134",
   "metadata": {},
   "outputs": [
    {
     "name": "stdout",
     "output_type": "stream",
     "text": [
      "/home/av555/iclr\n"
     ]
    }
   ],
   "source": [
    "!pwd"
   ]
  },
  {
   "cell_type": "code",
   "execution_count": 2,
   "id": "8494728d-ce15-4fd6-95f3-ee7bd2cfa536",
   "metadata": {},
   "outputs": [],
   "source": [
    "import sys\n",
    "sys.path.append('/home/av555/iclr/')"
   ]
  },
  {
   "cell_type": "code",
   "execution_count": 3,
   "id": "f8486977-c2e7-408e-b1a5-fcc1eb96a7c4",
   "metadata": {},
   "outputs": [],
   "source": [
    "from architectures import *\n",
    "from trainer import *\n",
    "from loaders import *\n",
    "from models import *\n",
    "from utils import *"
   ]
  },
  {
   "cell_type": "code",
   "execution_count": null,
   "id": "29092f34-cab2-4ea7-934a-95bb2892f1be",
   "metadata": {},
   "outputs": [],
   "source": []
  },
  {
   "cell_type": "code",
   "execution_count": 4,
   "id": "fa0691f4-9f77-4474-b4ed-33026539292c",
   "metadata": {},
   "outputs": [],
   "source": [
    "import numpy as np\n",
    "from matplotlib import pyplot as plt\n",
    "import torch"
   ]
  },
  {
   "cell_type": "code",
   "execution_count": 5,
   "id": "af933156-85b5-4a62-9dc2-bb9abf643abc",
   "metadata": {},
   "outputs": [
    {
     "name": "stdout",
     "output_type": "stream",
     "text": [
      "ls: cannot access iclr/exps/: No such file or directory\n"
     ]
    }
   ],
   "source": [
    "!ls iclr/exps/"
   ]
  },
  {
   "cell_type": "markdown",
   "id": "3c74300c-9e41-457f-b7d9-c65a790018e3",
   "metadata": {},
   "source": [
    "Identifying best epoch"
   ]
  },
  {
   "cell_type": "code",
   "execution_count": 6,
   "id": "7f63c838-3ebf-43de-a092-87d05f3fb809",
   "metadata": {},
   "outputs": [],
   "source": [
    "exp_path = \"/home/av555/iclr/exps_no_distance_scaling/convCNP_germany/\"\n",
    "losses = np.load(exp_path+\"losses.npy\")"
   ]
  },
  {
   "cell_type": "code",
   "execution_count": 7,
   "id": "0166a53e-8eeb-4314-909e-72f47adbe47b",
   "metadata": {},
   "outputs": [
    {
     "data": {
      "text/plain": [
       "[<matplotlib.lines.Line2D at 0x2b17b72c5940>]"
      ]
     },
     "execution_count": 7,
     "metadata": {},
     "output_type": "execute_result"
    },
    {
     "data": {
      "image/png": "[encoded data removed]",
      "text/plain": [
       "<Figure size 432x288 with 1 Axes>"
      ]
     },
     "metadata": {
      "needs_background": "light"
     },
     "output_type": "display_data"
    }
   ],
   "source": [
    "plt.plot(losses)"
   ]
  },
  {
   "cell_type": "code",
   "execution_count": 10,
   "id": "009a836f-0f2e-4b80-a5a6-e43eb7679810",
   "metadata": {},
   "outputs": [
    {
     "data": {
      "text/plain": [
       "263.90330674913196"
      ]
     },
     "execution_count": 10,
     "metadata": {},
     "output_type": "execute_result"
    }
   ],
   "source": [
    "losses[496]"
   ]
  },
  {
   "cell_type": "code",
   "execution_count": 9,
   "id": "599b425c-d34a-4d3e-955b-b4a8dc1d46a5",
   "metadata": {},
   "outputs": [
    {
     "data": {
      "text/plain": [
       "496"
      ]
     },
     "execution_count": 9,
     "metadata": {},
     "output_type": "execute_result"
    }
   ],
   "source": [
    "np.argmin(losses)"
   ]
  },
  {
   "cell_type": "markdown",
   "id": "f7fe54da-dc39-4d16-b340-e38a0d28543d",
   "metadata": {},
   "source": [
    "## Germany"
   ]
  },
  {
   "cell_type": "code",
   "execution_count": 8,
   "id": "1b9c988a-9e72-41f5-86f5-1b8514deadeb",
   "metadata": {},
   "outputs": [],
   "source": [
    "def load_model(path, model):\n",
    "\n",
    "    checkpoint = torch.load(path, map_location=torch.device('cpu'))\n",
    "    model.load_state_dict(checkpoint['model_state_dict'])\n",
    "    epoch = checkpoint['epoch']\n",
    "    loss = checkpoint['loss']\n",
    "\n",
    "    model.eval()\n",
    "    return model, epoch, loss\n"
   ]
  },
  {
   "cell_type": "code",
   "execution_count": 9,
   "id": "1dc0bfab-2972-4118-9d2b-fb3d7342022b",
   "metadata": {},
   "outputs": [],
   "source": [
    "def eval_model(model, val_loader):\n",
    "    preds = []\n",
    "    targets = []\n",
    "\n",
    "    with torch.no_grad():\n",
    "        for task in val_loader:\n",
    "            task[\"dists\"] = task[\"dists\"][0,...]\n",
    "            out = model(task)\n",
    "            preds.append(out)\n",
    "            targets.append(task[\"y_target\"])\n",
    "\n",
    "    #concat full arrays\n",
    "    preds = torch.cat(preds, dim = 1)\n",
    "    targets = torch.cat(targets, dim = 0)\n",
    "\n",
    "    #To cpu\n",
    "    preds = preds.cpu().numpy()\n",
    "    targets = targets.cpu().numpy()\n",
    "\n",
    "    return preds, targets\n",
    "\n",
    "    "
   ]
  },
  {
   "cell_type": "code",
   "execution_count": 10,
   "id": "1c8c8356-d9d6-4d4b-9c49-0ad11b96987e",
   "metadata": {},
   "outputs": [],
   "source": [
    "def get_val_stats_bs(predictions, targets):\n",
    "        \n",
    "\n",
    "        maes = np.zeros(predictions.shape[1])\n",
    "        spearmans = np.zeros(predictions.shape[1])\n",
    "        pearsons = np.zeros(predictions.shape[1])\n",
    "\n",
    "        for st in range(predictions.shape[1]):\n",
    "            # Get station\n",
    "            true_mean = targets[:, st]\n",
    "            pred_mean = predictions[:, st,0]\n",
    "            # Remove nans\n",
    "            pred_mean = pred_mean[~np.isnan(true_mean)]\n",
    "            true_mean = true_mean[~np.isnan(true_mean)]\n",
    "\n",
    "            try:\n",
    "                maes[st] = np.mean(np.abs(true_mean - pred_mean))\n",
    "                pearsons[st] = scipy.stats.pearsonr(pred_mean, true_mean)[0]\n",
    "                spearmans[st] = scipy.stats.spearmanr(pred_mean, true_mean).correlation\n",
    "            except:\n",
    "                maes[st] = np.nan\n",
    "                pearsons[st] = np.nan\n",
    "                spearmans[st] = np.nan\n",
    "                continue\n",
    "        print(\"Mean absolute error: {}\".format(np.nanmedian(maes)))\n",
    "        print(\"Pearson correlation: {}\".format(np.nanmedian(pearsons)))\n",
    "        print(\"Spearman correlation: {}\".format(np.nanmedian(spearmans)))\n",
    "        \n"
   ]
  },
  {
   "cell_type": "code",
   "execution_count": 20,
   "id": "564d9616-2781-44ac-9c81-1795bf5cafa3",
   "metadata": {},
   "outputs": [],
   "source": []
  },
  {
   "cell_type": "code",
   "execution_count": 11,
   "id": "1781f102-afed-438a-9d6d-6b82c8aff0ee",
   "metadata": {},
   "outputs": [],
   "source": [
    "use_cpu = True\n",
    "device = torch.device('cpu') if use_cpu else torch.device('cuda')"
   ]
  },
  {
   "cell_type": "code",
   "execution_count": 12,
   "id": "29c38a81-ad96-4417-916a-0725090e93be",
   "metadata": {},
   "outputs": [],
   "source": [
    "# data\n",
    "test_inds = np.load(\"/home/av555/iclr/data/test_inds.npy\")\n",
    "train_inds = np.load(\"/home/av555/iclr/data/train_inds.npy\")\n",
    "\n",
    "\n",
    "val_ds = GermanyRandomExperimentDataset(100, test_inds, train_inds, \"/home/av555/iclr/data/\", device=device, train=False)\n",
    "val_loader = DataLoader(\n",
    "    val_ds, batch_size = 16, shuffle = False)"
   ]
  },
  {
   "cell_type": "code",
   "execution_count": 12,
   "id": "0ae1cfd4-f0a9-4281-8e63-6ac2df7d0c90",
   "metadata": {},
   "outputs": [
    {
     "name": "stderr",
     "output_type": "stream",
     "text": [
      "/home/av555/iclr/loaders.py:97: UserWarning: The given NumPy array is not writeable, and PyTorch does not support non-writeable tensors. This means you can write to the underlying (supposedly non-writeable) NumPy array using the tensor. You may want to copy the array to protect its data or make it writeable before converting it to a tensor. This type of warning will be suppressed for the rest of this program. (Triggered internally at  ../torch/csrc/utils/tensor_numpy.cpp:180.)\n",
      "  y_context = torch.from_numpy(self.y_context[index,...]).float()\n",
      "/home/av555/iclr_exps/lib64/python3.6/site-packages/numpy/core/fromnumeric.py:3373: RuntimeWarning: Mean of empty slice.\n",
      "  out=out, **kwargs)\n",
      "/home/av555/iclr_exps/lib64/python3.6/site-packages/numpy/core/_methods.py:170: RuntimeWarning: invalid value encountered in true_divide\n",
      "  ret = ret.dtype.type(ret / rcount)\n"
     ]
    },
    {
     "name": "stdout",
     "output_type": "stream",
     "text": [
      "Mean absolute error: 0.9352286756038666\n",
      "Pearson correlation: 0.990871465130876\n",
      "Spearman correlation: 0.9912591059458851\n"
     ]
    }
   ],
   "source": [
    "# ConvCNP\n",
    "\n",
    "convcnp_path = \"/home/av555/iclr/exps_no_distance_scaling/convCNP_germany/epoch_496\"\n",
    "concnp_model = convCNP(\n",
    "    in_channels=25)\n",
    "\n",
    "concnp_model, convcnp_epoch, convcnp_loss = load_model(convcnp_path, concnp_model)\n",
    "convcnp_preds, convcnp_targets = eval_model(concnp_model, val_loader)\n",
    "get_val_stats_bs(convcnp_preds, convcnp_targets)"
   ]
  },
  {
   "cell_type": "markdown",
   "id": "6ae5ab81-afbd-4b00-a98e-204039554b8d",
   "metadata": {},
   "source": [
    "convGNP - linear kernel"
   ]
  },
  {
   "cell_type": "code",
   "execution_count": 19,
   "id": "42aa3662-e873-43b5-9c0b-0f35c4f1254f",
   "metadata": {},
   "outputs": [],
   "source": [
    "exp_path = \"/home/av555/iclr/exps_no_distance_scaling/convGNP_linear_germany/\"\n",
    "losses = np.load(exp_path+\"losses.npy\")"
   ]
  },
  {
   "cell_type": "code",
   "execution_count": 21,
   "id": "feea389b-ffe4-4d6a-936d-1cef9621b591",
   "metadata": {},
   "outputs": [
    {
     "data": {
      "text/plain": [
       "224.7401477301346"
      ]
     },
     "execution_count": 21,
     "metadata": {},
     "output_type": "execute_result"
    }
   ],
   "source": [
    "losses[498]"
   ]
  },
  {
   "cell_type": "code",
   "execution_count": 20,
   "id": "35c4500e-a83f-4382-a544-812a9c930d90",
   "metadata": {},
   "outputs": [
    {
     "data": {
      "text/plain": [
       "498"
      ]
     },
     "execution_count": 20,
     "metadata": {},
     "output_type": "execute_result"
    },
    {
     "data": {
      "image/png": "[encoded data removed]",
      "text/plain": [
       "<Figure size 432x288 with 1 Axes>"
      ]
     },
     "metadata": {
      "needs_background": "light"
     },
     "output_type": "display_data"
    }
   ],
   "source": [
    "plt.plot(losses[10:])\n",
    "np.argmin(losses)"
   ]
  },
  {
   "cell_type": "code",
   "execution_count": null,
   "id": "59422bd5-375a-422a-8ec8-e20ce14ecfc2",
   "metadata": {},
   "outputs": [
    {
     "ename": "RuntimeError",
     "evalue": "Error(s) in loading state_dict for convNP:\n\tMissing key(s) in state_dict: \"decoder_1.in_conv.weight\", \"decoder_1.in_conv.bias\", \"decoder_1.resnet.0.conv.depthwise.weight\", \"decoder_1.resnet.0.conv.depthwise.bias\", \"decoder_1.resnet.0.conv.pointwise.weight\", \"decoder_1.resnet.0.conv.pointwise.bias\", \"decoder_1.resnet.0.depthwise.weight\", \"decoder_1.resnet.0.depthwise.bias\", \"decoder_1.resnet.0.pointwise.weight\", \"decoder_1.resnet.0.pointwise.bias\", \"decoder_1.resnet.1.conv.depthwise.weight\", \"decoder_1.resnet.1.conv.depthwise.bias\", \"decoder_1.resnet.1.conv.pointwise.weight\", \"decoder_1.resnet.1.conv.pointwise.bias\", \"decoder_1.resnet.1.depthwise.weight\", \"decoder_1.resnet.1.depthwise.bias\", \"decoder_1.resnet.1.pointwise.weight\", \"decoder_1.resnet.1.pointwise.bias\", \"decoder_1.resnet.2.conv.depthwise.weight\", \"decoder_1.resnet.2.conv.depthwise.bias\", \"decoder_1.resnet.2.conv.pointwise.weight\", \"decoder_1.resnet.2.conv.pointwise.bias\", \"decoder_1.resnet.2.depthwise.weight\", \"decoder_1.resnet.2.depthwise.bias\", \"decoder_1.resnet.2.pointwise.weight\", \"decoder_1.resnet.2.pointwise.bias\", \"decoder_1.out_mlp.mlp.0.weight\", \"decoder_1.out_mlp.mlp.0.bias\", \"decoder_1.out_mlp.mlp.2.0.weight\", \"decoder_1.out_mlp.mlp.2.0.bias\", \"decoder_1.out_mlp.mlp.3.0.weight\", \"decoder_1.out_mlp.mlp.3.0.bias\", \"decoder_1.out_mlp.mlp.4.0.weight\", \"decoder_1.out_mlp.mlp.4.0.bias\", \"decoder_1.out_mlp.mlp.5.0.weight\", \"decoder_1.out_mlp.mlp.5.0.bias\", \"decoder_1.out_mlp.mlp.6.weight\", \"decoder_1.out_mlp.mlp.6.bias\", \"decoder_2.in_conv.weight\", \"decoder_2.in_conv.bias\", \"decoder_2.resnet.0.conv.depthwise.weight\", \"decoder_2.resnet.0.conv.depthwise.bias\", \"decoder_2.resnet.0.conv.pointwise.weight\", \"decoder_2.resnet.0.conv.pointwise.bias\", \"decoder_2.resnet.0.depthwise.weight\", \"decoder_2.resnet.0.depthwise.bias\", \"decoder_2.resnet.0.pointwise.weight\", \"decoder_2.resnet.0.pointwise.bias\", \"decoder_2.resnet.1.conv.depthwise.weight\", \"decoder_2.resnet.1.conv.depthwise.bias\", \"decoder_2.resnet.1.conv.pointwise.weight\", \"decoder_2.resnet.1.conv.pointwise.bias\", \"decoder_2.resnet.1.depthwise.weight\", \"decoder_2.resnet.1.depthwise.bias\", \"decoder_2.resnet.1.pointwise.weight\", \"decoder_2.resnet.1.pointwise.bias\", \"decoder_2.resnet.2.conv.depthwise.weight\", \"decoder_2.resnet.2.conv.depthwise.bias\", \"decoder_2.resnet.2.conv.pointwise.weight\", \"decoder_2.resnet.2.conv.pointwise.bias\", \"decoder_2.resnet.2.depthwise.weight\", \"decoder_2.resnet.2.depthwise.bias\", \"decoder_2.resnet.2.pointwise.weight\", \"decoder_2.resnet.2.pointwise.bias\", \"decoder_2.out_mlp.mlp.0.weight\", \"decoder_2.out_mlp.mlp.0.bias\", \"decoder_2.out_mlp.mlp.2.0.weight\", \"decoder_2.out_mlp.mlp.2.0.bias\", \"decoder_2.out_mlp.mlp.3.0.weight\", \"decoder_2.out_mlp.mlp.3.0.bias\", \"decoder_2.out_mlp.mlp.4.0.weight\", \"decoder_2.out_mlp.mlp.4.0.bias\", \"decoder_2.out_mlp.mlp.5.0.weight\", \"decoder_2.out_mlp.mlp.5.0.bias\", \"decoder_2.out_mlp.mlp.6.weight\", \"decoder_2.out_mlp.mlp.6.bias\". \n\tUnexpected key(s) in state_dict: \"decoder.in_conv.weight\", \"decoder.in_conv.bias\", \"decoder.resnet.0.conv.depthwise.weight\", \"decoder.resnet.0.conv.depthwise.bias\", \"decoder.resnet.0.conv.pointwise.weight\", \"decoder.resnet.0.conv.pointwise.bias\", \"decoder.resnet.0.depthwise.weight\", \"decoder.resnet.0.depthwise.bias\", \"decoder.resnet.0.pointwise.weight\", \"decoder.resnet.0.pointwise.bias\", \"decoder.resnet.1.conv.depthwise.weight\", \"decoder.resnet.1.conv.depthwise.bias\", \"decoder.resnet.1.conv.pointwise.weight\", \"decoder.resnet.1.conv.pointwise.bias\", \"decoder.resnet.1.depthwise.weight\", \"decoder.resnet.1.depthwise.bias\", \"decoder.resnet.1.pointwise.weight\", \"decoder.resnet.1.pointwise.bias\", \"decoder.resnet.2.conv.depthwise.weight\", \"decoder.resnet.2.conv.depthwise.bias\", \"decoder.resnet.2.conv.pointwise.weight\", \"decoder.resnet.2.conv.pointwise.bias\", \"decoder.resnet.2.depthwise.weight\", \"decoder.resnet.2.depthwise.bias\", \"decoder.resnet.2.pointwise.weight\", \"decoder.resnet.2.pointwise.bias\", \"decoder.resnet.3.conv.depthwise.weight\", \"decoder.resnet.3.conv.depthwise.bias\", \"decoder.resnet.3.conv.pointwise.weight\", \"decoder.resnet.3.conv.pointwise.bias\", \"decoder.resnet.3.depthwise.weight\", \"decoder.resnet.3.depthwise.bias\", \"decoder.resnet.3.pointwise.weight\", \"decoder.resnet.3.pointwise.bias\", \"decoder.resnet.4.conv.depthwise.weight\", \"decoder.resnet.4.conv.depthwise.bias\", \"decoder.resnet.4.conv.pointwise.weight\", \"decoder.resnet.4.conv.pointwise.bias\", \"decoder.resnet.4.depthwise.weight\", \"decoder.resnet.4.depthwise.bias\", \"decoder.resnet.4.pointwise.weight\", \"decoder.resnet.4.pointwise.bias\", \"decoder.resnet.5.conv.depthwise.weight\", \"decoder.resnet.5.conv.depthwise.bias\", \"decoder.resnet.5.conv.pointwise.weight\", \"decoder.resnet.5.conv.pointwise.bias\", \"decoder.resnet.5.depthwise.weight\", \"decoder.resnet.5.depthwise.bias\", \"decoder.resnet.5.pointwise.weight\", \"decoder.resnet.5.pointwise.bias\", \"decoder.out_mlp.mlp.0.weight\", \"decoder.out_mlp.mlp.0.bias\", \"decoder.out_mlp.mlp.2.0.weight\", \"decoder.out_mlp.mlp.2.0.bias\", \"decoder.out_mlp.mlp.3.0.weight\", \"decoder.out_mlp.mlp.3.0.bias\", \"decoder.out_mlp.mlp.4.0.weight\", \"decoder.out_mlp.mlp.4.0.bias\", \"decoder.out_mlp.mlp.5.0.weight\", \"decoder.out_mlp.mlp.5.0.bias\", \"decoder.out_mlp.mlp.6.weight\", \"decoder.out_mlp.mlp.6.bias\". \n\tsize mismatch for elev_mlp.mlp.0.weight: copying a param with shape torch.Size([64, 133]) from checkpoint, the shape in current model is torch.Size([64, 5]).\n\tsize mismatch for elev_mlp.mlp.6.weight: copying a param with shape torch.Size([130, 64]) from checkpoint, the shape in current model is torch.Size([2, 64]).\n\tsize mismatch for elev_mlp.mlp.6.bias: copying a param with shape torch.Size([130]) from checkpoint, the shape in current model is torch.Size([2]).",
     "output_type": "error",
     "traceback": [
      "\u001b[0;31m---------------------------------------------------------------------------\u001b[0m",
      "\u001b[0;31mRuntimeError\u001b[0m                              Traceback (most recent call last)",
      "\u001b[0;32m<ipython-input-10-7b2ffd433ff5>\u001b[0m in \u001b[0;36m<module>\u001b[0;34m\u001b[0m\n\u001b[1;32m      5\u001b[0m     n_latent_vars=32)\n\u001b[1;32m      6\u001b[0m \u001b[0;34m\u001b[0m\u001b[0m\n\u001b[0;32m----> 7\u001b[0;31m \u001b[0mconcnp_model\u001b[0m\u001b[0;34m,\u001b[0m \u001b[0mconvcnp_epoch\u001b[0m\u001b[0;34m,\u001b[0m \u001b[0mconvcnp_loss\u001b[0m \u001b[0;34m=\u001b[0m \u001b[0mload_model\u001b[0m\u001b[0;34m(\u001b[0m\u001b[0mconvcnp_path\u001b[0m\u001b[0;34m,\u001b[0m \u001b[0mconcnp_model\u001b[0m\u001b[0;34m)\u001b[0m\u001b[0;34m\u001b[0m\u001b[0;34m\u001b[0m\u001b[0m\n\u001b[0m\u001b[1;32m      8\u001b[0m \u001b[0mconvcnp_preds\u001b[0m\u001b[0;34m,\u001b[0m \u001b[0mconvcnp_targets\u001b[0m \u001b[0;34m=\u001b[0m \u001b[0meval_model\u001b[0m\u001b[0;34m(\u001b[0m\u001b[0mconcnp_model\u001b[0m\u001b[0;34m,\u001b[0m \u001b[0mval_loader\u001b[0m\u001b[0;34m)\u001b[0m\u001b[0;34m\u001b[0m\u001b[0;34m\u001b[0m\u001b[0m\n\u001b[1;32m      9\u001b[0m \u001b[0mget_val_stats_bs\u001b[0m\u001b[0;34m(\u001b[0m\u001b[0mconvcnp_preds\u001b[0m\u001b[0;34m[\u001b[0m\u001b[0;36m0\u001b[0m\u001b[0;34m,\u001b[0m\u001b[0;34m...\u001b[0m\u001b[0;34m]\u001b[0m\u001b[0;34m,\u001b[0m \u001b[0mconvcnp_targets\u001b[0m\u001b[0;34m)\u001b[0m\u001b[0;34m\u001b[0m\u001b[0;34m\u001b[0m\u001b[0m\n",
      "\u001b[0;32m<ipython-input-7-cdcd7e01ea2d>\u001b[0m in \u001b[0;36mload_model\u001b[0;34m(path, model)\u001b[0m\n\u001b[1;32m      2\u001b[0m \u001b[0;34m\u001b[0m\u001b[0m\n\u001b[1;32m      3\u001b[0m     \u001b[0mcheckpoint\u001b[0m \u001b[0;34m=\u001b[0m \u001b[0mtorch\u001b[0m\u001b[0;34m.\u001b[0m\u001b[0mload\u001b[0m\u001b[0;34m(\u001b[0m\u001b[0mpath\u001b[0m\u001b[0;34m,\u001b[0m \u001b[0mmap_location\u001b[0m\u001b[0;34m=\u001b[0m\u001b[0mtorch\u001b[0m\u001b[0;34m.\u001b[0m\u001b[0mdevice\u001b[0m\u001b[0;34m(\u001b[0m\u001b[0;34m'cpu'\u001b[0m\u001b[0;34m)\u001b[0m\u001b[0;34m)\u001b[0m\u001b[0;34m\u001b[0m\u001b[0;34m\u001b[0m\u001b[0m\n\u001b[0;32m----> 4\u001b[0;31m     \u001b[0mmodel\u001b[0m\u001b[0;34m.\u001b[0m\u001b[0mload_state_dict\u001b[0m\u001b[0;34m(\u001b[0m\u001b[0mcheckpoint\u001b[0m\u001b[0;34m[\u001b[0m\u001b[0;34m'model_state_dict'\u001b[0m\u001b[0;34m]\u001b[0m\u001b[0;34m)\u001b[0m\u001b[0;34m\u001b[0m\u001b[0;34m\u001b[0m\u001b[0m\n\u001b[0m\u001b[1;32m      5\u001b[0m     \u001b[0mepoch\u001b[0m \u001b[0;34m=\u001b[0m \u001b[0mcheckpoint\u001b[0m\u001b[0;34m[\u001b[0m\u001b[0;34m'epoch'\u001b[0m\u001b[0;34m]\u001b[0m\u001b[0;34m\u001b[0m\u001b[0;34m\u001b[0m\u001b[0m\n\u001b[1;32m      6\u001b[0m     \u001b[0mloss\u001b[0m \u001b[0;34m=\u001b[0m \u001b[0mcheckpoint\u001b[0m\u001b[0;34m[\u001b[0m\u001b[0;34m'loss'\u001b[0m\u001b[0;34m]\u001b[0m\u001b[0;34m\u001b[0m\u001b[0;34m\u001b[0m\u001b[0m\n",
      "\u001b[0;32m~/iclr_exps/lib64/python3.6/site-packages/torch/nn/modules/module.py\u001b[0m in \u001b[0;36mload_state_dict\u001b[0;34m(self, state_dict, strict)\u001b[0m\n\u001b[1;32m   1405\u001b[0m         \u001b[0;32mif\u001b[0m \u001b[0mlen\u001b[0m\u001b[0;34m(\u001b[0m\u001b[0merror_msgs\u001b[0m\u001b[0;34m)\u001b[0m \u001b[0;34m>\u001b[0m \u001b[0;36m0\u001b[0m\u001b[0;34m:\u001b[0m\u001b[0;34m\u001b[0m\u001b[0;34m\u001b[0m\u001b[0m\n\u001b[1;32m   1406\u001b[0m             raise RuntimeError('Error(s) in loading state_dict for {}:\\n\\t{}'.format(\n\u001b[0;32m-> 1407\u001b[0;31m                                self.__class__.__name__, \"\\n\\t\".join(error_msgs)))\n\u001b[0m\u001b[1;32m   1408\u001b[0m         \u001b[0;32mreturn\u001b[0m \u001b[0m_IncompatibleKeys\u001b[0m\u001b[0;34m(\u001b[0m\u001b[0mmissing_keys\u001b[0m\u001b[0;34m,\u001b[0m \u001b[0munexpected_keys\u001b[0m\u001b[0;34m)\u001b[0m\u001b[0;34m\u001b[0m\u001b[0;34m\u001b[0m\u001b[0m\n\u001b[1;32m   1409\u001b[0m \u001b[0;34m\u001b[0m\u001b[0m\n",
      "\u001b[0;31mRuntimeError\u001b[0m: Error(s) in loading state_dict for convNP:\n\tMissing key(s) in state_dict: \"decoder_1.in_conv.weight\", \"decoder_1.in_conv.bias\", \"decoder_1.resnet.0.conv.depthwise.weight\", \"decoder_1.resnet.0.conv.depthwise.bias\", \"decoder_1.resnet.0.conv.pointwise.weight\", \"decoder_1.resnet.0.conv.pointwise.bias\", \"decoder_1.resnet.0.depthwise.weight\", \"decoder_1.resnet.0.depthwise.bias\", \"decoder_1.resnet.0.pointwise.weight\", \"decoder_1.resnet.0.pointwise.bias\", \"decoder_1.resnet.1.conv.depthwise.weight\", \"decoder_1.resnet.1.conv.depthwise.bias\", \"decoder_1.resnet.1.conv.pointwise.weight\", \"decoder_1.resnet.1.conv.pointwise.bias\", \"decoder_1.resnet.1.depthwise.weight\", \"decoder_1.resnet.1.depthwise.bias\", \"decoder_1.resnet.1.pointwise.weight\", \"decoder_1.resnet.1.pointwise.bias\", \"decoder_1.resnet.2.conv.depthwise.weight\", \"decoder_1.resnet.2.conv.depthwise.bias\", \"decoder_1.resnet.2.conv.pointwise.weight\", \"decoder_1.resnet.2.conv.pointwise.bias\", \"decoder_1.resnet.2.depthwise.weight\", \"decoder_1.resnet.2.depthwise.bias\", \"decoder_1.resnet.2.pointwise.weight\", \"decoder_1.resnet.2.pointwise.bias\", \"decoder_1.out_mlp.mlp.0.weight\", \"decoder_1.out_mlp.mlp.0.bias\", \"decoder_1.out_mlp.mlp.2.0.weight\", \"decoder_1.out_mlp.mlp.2.0.bias\", \"decoder_1.out_mlp.mlp.3.0.weight\", \"decoder_1.out_mlp.mlp.3.0.bias\", \"decoder_1.out_mlp.mlp.4.0.weight\", \"decoder_1.out_mlp.mlp.4.0.bias\", \"decoder_1.out_mlp.mlp.5.0.weight\", \"decoder_1.out_mlp.mlp.5.0.bias\", \"decoder_1.out_mlp.mlp.6.weight\", \"decoder_1.out_mlp.mlp.6.bias\", \"decoder_2.in_conv.weight\", \"decoder_2.in_conv.bias\", \"decoder_2.resnet.0.conv.depthwise.weight\", \"decoder_2.resnet.0.conv.depthwise.bias\", \"decoder_2.resnet.0.conv.pointwise.weight\", \"decoder_2.resnet.0.conv.pointwise.bias\", \"decoder_2.resnet.0.depthwise.weight\", \"decoder_2.resnet.0.depthwise.bias\", \"decoder_2.resnet.0.pointwise.weight\", \"decoder_2.resnet.0.pointwise.bias\", \"decoder_2.resnet.1.conv.depthwise.weight\", \"decoder_2.resnet.1.conv.depthwise.bias\", \"decoder_2.resnet.1.conv.pointwise.weight\", \"decoder_2.resnet.1.conv.pointwise.bias\", \"decoder_2.resnet.1.depthwise.weight\", \"decoder_2.resnet.1.depthwise.bias\", \"decoder_2.resnet.1.pointwise.weight\", \"decoder_2.resnet.1.pointwise.bias\", \"decoder_2.resnet.2.conv.depthwise.weight\", \"decoder_2.resnet.2.conv.depthwise.bias\", \"decoder_2.resnet.2.conv.pointwise.weight\", \"decoder_2.resnet.2.conv.pointwise.bias\", \"decoder_2.resnet.2.depthwise.weight\", \"decoder_2.resnet.2.depthwise.bias\", \"decoder_2.resnet.2.pointwise.weight\", \"decoder_2.resnet.2.pointwise.bias\", \"decoder_2.out_mlp.mlp.0.weight\", \"decoder_2.out_mlp.mlp.0.bias\", \"decoder_2.out_mlp.mlp.2.0.weight\", \"decoder_2.out_mlp.mlp.2.0.bias\", \"decoder_2.out_mlp.mlp.3.0.weight\", \"decoder_2.out_mlp.mlp.3.0.bias\", \"decoder_2.out_mlp.mlp.4.0.weight\", \"decoder_2.out_mlp.mlp.4.0.bias\", \"decoder_2.out_mlp.mlp.5.0.weight\", \"decoder_2.out_mlp.mlp.5.0.bias\", \"decoder_2.out_mlp.mlp.6.weight\", \"decoder_2.out_mlp.mlp.6.bias\". \n\tUnexpected key(s) in state_dict: \"decoder.in_conv.weight\", \"decoder.in_conv.bias\", \"decoder.resnet.0.conv.depthwise.weight\", \"decoder.resnet.0.conv.depthwise.bias\", \"decoder.resnet.0.conv.pointwise.weight\", \"decoder.resnet.0.conv.pointwise.bias\", \"decoder.resnet.0.depthwise.weight\", \"decoder.resnet.0.depthwise.bias\", \"decoder.resnet.0.pointwise.weight\", \"decoder.resnet.0.pointwise.bias\", \"decoder.resnet.1.conv.depthwise.weight\", \"decoder.resnet.1.conv.depthwise.bias\", \"decoder.resnet.1.conv.pointwise.weight\", \"decoder.resnet.1.conv.pointwise.bias\", \"decoder.resnet.1.depthwise.weight\", \"decoder.resnet.1.depthwise.bias\", \"decoder.resnet.1.pointwise.weight\", \"decoder.resnet.1.pointwise.bias\", \"decoder.resnet.2.conv.depthwise.weight\", \"decoder.resnet.2.conv.depthwise.bias\", \"decoder.resnet.2.conv.pointwise.weight\", \"decoder.resnet.2.conv.pointwise.bias\", \"decoder.resnet.2.depthwise.weight\", \"decoder.resnet.2.depthwise.bias\", \"decoder.resnet.2.pointwise.weight\", \"decoder.resnet.2.pointwise.bias\", \"decoder.resnet.3.conv.depthwise.weight\", \"decoder.resnet.3.conv.depthwise.bias\", \"decoder.resnet.3.conv.pointwise.weight\", \"decoder.resnet.3.conv.pointwise.bias\", \"decoder.resnet.3.depthwise.weight\", \"decoder.resnet.3.depthwise.bias\", \"decoder.resnet.3.pointwise.weight\", \"decoder.resnet.3.pointwise.bias\", \"decoder.resnet.4.conv.depthwise.weight\", \"decoder.resnet.4.conv.depthwise.bias\", \"decoder.resnet.4.conv.pointwise.weight\", \"decoder.resnet.4.conv.pointwise.bias\", \"decoder.resnet.4.depthwise.weight\", \"decoder.resnet.4.depthwise.bias\", \"decoder.resnet.4.pointwise.weight\", \"decoder.resnet.4.pointwise.bias\", \"decoder.resnet.5.conv.depthwise.weight\", \"decoder.resnet.5.conv.depthwise.bias\", \"decoder.resnet.5.conv.pointwise.weight\", \"decoder.resnet.5.conv.pointwise.bias\", \"decoder.resnet.5.depthwise.weight\", \"decoder.resnet.5.depthwise.bias\", \"decoder.resnet.5.pointwise.weight\", \"decoder.resnet.5.pointwise.bias\", \"decoder.out_mlp.mlp.0.weight\", \"decoder.out_mlp.mlp.0.bias\", \"decoder.out_mlp.mlp.2.0.weight\", \"decoder.out_mlp.mlp.2.0.bias\", \"decoder.out_mlp.mlp.3.0.weight\", \"decoder.out_mlp.mlp.3.0.bias\", \"decoder.out_mlp.mlp.4.0.weight\", \"decoder.out_mlp.mlp.4.0.bias\", \"decoder.out_mlp.mlp.5.0.weight\", \"decoder.out_mlp.mlp.5.0.bias\", \"decoder.out_mlp.mlp.6.weight\", \"decoder.out_mlp.mlp.6.bias\". \n\tsize mismatch for elev_mlp.mlp.0.weight: copying a param with shape torch.Size([64, 133]) from checkpoint, the shape in current model is torch.Size([64, 5]).\n\tsize mismatch for elev_mlp.mlp.6.weight: copying a param with shape torch.Size([130, 64]) from checkpoint, the shape in current model is torch.Size([2, 64]).\n\tsize mismatch for elev_mlp.mlp.6.bias: copying a param with shape torch.Size([130]) from checkpoint, the shape in current model is torch.Size([2])."
     ]
    }
   ],
   "source": [
    "# convGNP linear\n",
    "convcnp_path = \"/home/av555/iclr/exps_no_distance_scaling/convGNP_linear_germany/epoch_498\"\n",
    "concnp_model = convGNPLinear()\n",
    "\n",
    "concnp_model, convcnp_epoch, convcnp_loss = load_model(convcnp_path, concnp_model)\n",
    "convcnp_preds, convcnp_targets = eval_model(concnp_model, val_loader)\n",
    "get_val_stats_bs(convcnp_preds, convcnp_targets)"
   ]
  },
  {
   "cell_type": "markdown",
   "id": "da5c1392-4661-4d61-a6c8-0d9b8b87fba8",
   "metadata": {},
   "source": [
    "convGNP - kvv kernel"
   ]
  },
  {
   "cell_type": "code",
   "execution_count": 24,
   "id": "227890e7-8708-4a59-8e3b-5702cb743fb7",
   "metadata": {},
   "outputs": [],
   "source": [
    "exp_path = \"/home/av555/iclr/exps_no_distance_scaling/convGNP_kvv_germany/\"\n",
    "losses = np.load(exp_path+\"losses.npy\")"
   ]
  },
  {
   "cell_type": "code",
   "execution_count": 25,
   "id": "f723a68b-5147-4a06-9fad-a0e0b85dc91e",
   "metadata": {},
   "outputs": [
    {
     "data": {
      "text/plain": [
       "383"
      ]
     },
     "execution_count": 25,
     "metadata": {},
     "output_type": "execute_result"
    },
    {
     "data": {
      "image/png": "[encoded data removed]",
      "text/plain": [
       "<Figure size 432x288 with 1 Axes>"
      ]
     },
     "metadata": {
      "needs_background": "light"
     },
     "output_type": "display_data"
    }
   ],
   "source": [
    "plt.plot(losses[10:])\n",
    "np.argmin(losses)"
   ]
  },
  {
   "cell_type": "code",
   "execution_count": 37,
   "id": "b2e31074-d47d-4480-88e2-eca1ba0aac0b",
   "metadata": {},
   "outputs": [
    {
     "name": "stdout",
     "output_type": "stream",
     "text": [
      "Mean absolute error: 0.9994873404502869\n",
      "Pearson correlation: 0.9900997853234166\n",
      "Spearman correlation: 0.9908312669775494\n"
     ]
    }
   ],
   "source": [
    "# convGNP kvv\n",
    "convcnp_path = \"/home/av555/iclr/exps_no_distance_scaling/convGNP_kvv_germany/epoch_383\"\n",
    "concnp_model = convGNPKvv()\n",
    "\n",
    "concnp_model, convcnp_epoch, convcnp_loss = load_model(convcnp_path, concnp_model)\n",
    "convcnp_preds, convcnp_targets = eval_model(concnp_model, val_loader)\n",
    "get_val_stats_bs(convcnp_preds, convcnp_targets)"
   ]
  },
  {
   "cell_type": "code",
   "execution_count": 32,
   "id": "4e379201-231a-44e9-810a-8d681432e483",
   "metadata": {},
   "outputs": [
    {
     "data": {
      "text/plain": [
       "209.0610898199078"
      ]
     },
     "execution_count": 34,
     "metadata": {},
     "output_type": "execute_result"
    }
   ],
   "source": [
    "losses[383]"
   ]
  },
  {
   "cell_type": "markdown",
   "id": "a5c5b93e-8c68-4473-8d17-09e0c3192063",
   "metadata": {},
   "source": [
    "## convNP"
   ]
  },
  {
   "cell_type": "code",
   "execution_count": 13,
   "id": "3cf07d9f-d591-4c4c-9d61-1096f9c4e810",
   "metadata": {},
   "outputs": [],
   "source": [
    "exp_path = \"/home/av555/iclr/exps_no_distance_scaling/convNP_germany/\"\n",
    "losses = np.load(exp_path+\"losses.npy\")"
   ]
  },
  {
   "cell_type": "code",
   "execution_count": 14,
   "id": "74cb978f-1182-40f2-a856-064cb25c06b1",
   "metadata": {},
   "outputs": [
    {
     "data": {
      "text/plain": [
       "497"
      ]
     },
     "execution_count": 14,
     "metadata": {},
     "output_type": "execute_result"
    },
    {
     "data": {
      "image/png": "[encoded data removed]",
      "text/plain": [
       "<Figure size 432x288 with 1 Axes>"
      ]
     },
     "metadata": {
      "needs_background": "light"
     },
     "output_type": "display_data"
    }
   ],
   "source": [
    "plt.plot(losses)\n",
    "np.argmin(losses)"
   ]
  },
  {
   "cell_type": "code",
   "execution_count": 31,
   "id": "54aee35f-64f7-406b-b3de-8a584c6cc540",
   "metadata": {
    "tags": []
   },
   "outputs": [],
   "source": [
    "# convGNP kvv\n",
    "convcnp_path = \"/home/av555/iclr/exps_no_distance_scaling/convNP_germany/epoch_497\"\n",
    "concnp_model = convNP(\n",
    "    ls = 0.02,\n",
    "    n_samples=24,\n",
    "    n_latent_vars=32)\n",
    "\n",
    "concnp_model, convcnp_epoch, convcnp_loss = load_model(convcnp_path, concnp_model)\n",
    "convcnp_preds, convcnp_targets = eval_model(concnp_model, val_loader)"
   ]
  },
  {
   "cell_type": "code",
   "execution_count": 29,
   "id": "a208e413-ee86-4d1e-92bb-a6991130a54b",
   "metadata": {},
   "outputs": [],
   "source": [
    "def get_val_stats_bs_convNP(predictions, targets): \n",
    "\n",
    "        maes = np.zeros(predictions.shape[2])\n",
    "        spearmans = np.zeros(predictions.shape[2])\n",
    "        pearsons = np.zeros(predictions.shape[2])\n",
    "\n",
    "        for st in range(predictions.shape[2]):\n",
    "            # Get station\n",
    "            true_mean = targets[:, st]\n",
    "            pred_mean = predictions[:,:, st,0]\n",
    "\n",
    "            # Remove nans\n",
    "            pred_mean = pred_mean[:,~np.isnan(true_mean)]\n",
    "            true_mean = true_mean[~np.isnan(true_mean)]\n",
    "\n",
    "            try:\n",
    "                maes[st] = np.mean(np.abs(true_mean - pred_mean))\n",
    "            except:\n",
    "                maes[st] = np.nan\n",
    "                continue\n",
    "        print(\"Mean absolute error: {}\".format(np.nanmedian(maes)))\n",
    "        \n"
   ]
  },
  {
   "cell_type": "code",
   "execution_count": 30,
   "id": "07ebedf1-fe76-47b6-a767-69864e602aa8",
   "metadata": {},
   "outputs": [
    {
     "name": "stdout",
     "output_type": "stream",
     "text": [
      "Mean absolute error: 1.1337901949882507\n"
     ]
    }
   ],
   "source": [
    "get_val_stats_bs_convNP(convcnp_preds, convcnp_targets)"
   ]
  },
  {
   "cell_type": "code",
   "execution_count": 22,
   "id": "6972f5a2-118e-4b3c-ba98-cd624f155378",
   "metadata": {},
   "outputs": [
    {
     "data": {
      "text/plain": [
       "(2, 2192, 250, 2)"
      ]
     },
     "execution_count": 22,
     "metadata": {},
     "output_type": "execute_result"
    }
   ],
   "source": [
    "convcnp_preds.shape"
   ]
  },
  {
   "cell_type": "code",
   "execution_count": 23,
   "id": "1ba544e4-20d2-4992-aceb-e20e6e453378",
   "metadata": {},
   "outputs": [
    {
     "data": {
      "text/plain": [
       "252.9455274309431"
      ]
     },
     "execution_count": 23,
     "metadata": {},
     "output_type": "execute_result"
    }
   ],
   "source": [
    "losses[498]\n"
   ]
  },
  {
   "cell_type": "code",
   "execution_count": 23,
   "id": "3ed4d724-3f97-4d9c-beba-8695ddfd29b5",
   "metadata": {},
   "outputs": [
    {
     "data": {
      "text/plain": [
       "(2192, 250)"
      ]
     },
     "execution_count": 23,
     "metadata": {},
     "output_type": "execute_result"
    }
   ],
   "source": [
    "convcnp_targets.shape"
   ]
  },
  {
   "cell_type": "code",
   "execution_count": null,
   "id": "b3f7bd8d-50fd-4199-913e-9bdc8aa2b508",
   "metadata": {},
   "outputs": [],
   "source": []
  }
 ],
 "metadata": {
  "kernelspec": {
   "display_name": "iclr_exps",
   "language": "python",
   "name": "iclr_exps"
  },
  "language_info": {
   "codemirror_mode": {
    "name": "ipython",
    "version": 3
   },
   "file_extension": ".py",
   "mimetype": "text/x-python",
   "name": "python",
   "nbconvert_exporter": "python",
   "pygments_lexer": "ipython3",
   "version": "3.6.8"
  }
 },
 "nbformat": 4,
 "nbformat_minor": 5
}
