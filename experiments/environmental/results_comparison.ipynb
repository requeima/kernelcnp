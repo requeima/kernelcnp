{
 "cells": [
  {
   "cell_type": "code",
   "execution_count": 2,
   "id": "c252ab42-386c-4f3d-9b2f-7053d09e94df",
   "metadata": {},
   "outputs": [],
   "source": [
    "import numpy as np\n",
    "import pandas as pd\n",
    "import matplotlib.pyplot as plt\n",
    "import pickle\n",
    "from scipy.stats import multivariate_normal\n"
   ]
  },
  {
   "cell_type": "code",
   "execution_count": 19,
   "id": "c87b4134-687e-407a-8b2a-a594f8128b7b",
   "metadata": {},
   "outputs": [],
   "source": [
    "mae_data = np.array([1.41, 1.33, 1.30])\n",
    "ll_data = np.array([-176.93, -156.23,-157.25])\n",
    "corr_data = np.array([0.98, 0.98, 0.98])\n",
    "\n",
    "y_data = np.array(range(3))\n",
    "markers = [\"s\", \"^\", \"^\"]\n",
    "marker_sizes = [60., 60., 60.]\n",
    "colours = ['tab:red', 'tab:green', 'tab:blue']\n",
    "\n"
   ]
  },
  {
   "cell_type": "code",
   "execution_count": 23,
   "id": "b5839f9f-3519-42f6-b7ca-0489c027d4e6",
   "metadata": {},
   "outputs": [
    {
     "data": {
      "image/png": "[encoded data removed]",
      "text/plain": [
       "<Figure size 1152x360 with 3 Axes>"
      ]
     },
     "metadata": {
      "needs_background": "light"
     },
     "output_type": "display_data"
    }
   ],
   "source": [
    "fig, (ax1, ax2, ax3) = plt.subplots(1, 3, figsize=(16,5))\n",
    "\n",
    "ax1.set_xlim([-1, 3])\n",
    "ax1.title.set_text(\"MAE\")\n",
    "ax1.set_xticks([], minor=True)\n",
    "for i in range(3):\n",
    "    ax1.scatter(y_data[i], mae_data[i], marker=markers[i], s=marker_sizes[i], color=colours[i], linewidth=0.6, edgecolor='k')\n",
    "    \n",
    "ax2.set_xlim([-1, 3])\n",
    "ax2.title.set_text(\"Log likelihood\")\n",
    "ax2.set_xticks([], minor=True)\n",
    "for i in range(3):\n",
    "    ax2.scatter(y_data[i], ll_data[i], marker=markers[i], s=marker_sizes[i], color=colours[i], linewidth=0.6, edgecolor='k')\n",
    "    \n",
    "ax3.set_xlim([-1, 3])\n",
    "ax3.title.set_text(\"Pearson correlation\")\n",
    "ax3.set_xticks([], minor=True)\n",
    "for i in range(3):\n",
    "    ax3.scatter(y_data[i], corr_data[i], marker=markers[i], s=marker_sizes[i], color=colours[i], linewidth=0.6, edgecolor='k')"
   ]
  },
  {
   "cell_type": "code",
   "execution_count": null,
   "id": "18af9efb-d0c1-4cc4-8f06-5e4af8686344",
   "metadata": {},
   "outputs": [],
   "source": [
    "def plot_all_toy_results(df):\n",
    "    \n",
    "    data_names = [\"MAE\",\n",
    "                  \"Pearson correlation\",\n",
    "                  \"Log likelihood\"]\n",
    "    \n",
    "    titles = [\"MAE\",\n",
    "              \"Pearson correlation\",\n",
    "              \"Log likelihood\"]\n",
    "    \n",
    "    labels = [\"convCNP\",\n",
    "              \"convGNP (linear)\",\n",
    "              \"convGNP (kvv)\"]\n",
    "    \n",
    "   # yticks = [np.linspace(-1.0, 1.5, 6),\n",
    "   #           np.linspace(-1.0, 1.5, 6),\n",
    "   #           np.linspace(-1.5, 1.0, 6),\n",
    "   #           np.linspace(-1.5, 0.5, 5),\n",
    "   #           np.linspace(-0.5, 2.5, 4)]\n",
    "    \n",
    "    markers = [\"^\", \"s\", \"s\"]\n",
    "    marker_sizes = [60., 60., 50.]\n",
    "    \n",
    "    colors = ['tab:red', 'tab:green', 'tab:blue']\n",
    "    \n",
    "    fig = plt.figure(figsize=(14, 5))\n",
    "    \n",
    "    for i, d in enumerate(data_names):\n",
    "        \n",
    "        plt.subplot(1, len(data_names), i+1)\n",
    "        \n",
    "        x = np.arange(len(df[d]) + 2)\n",
    "#         x = [x_ for i, x_ in enumerate(x)]\n",
    "        ones = np.ones_like(x)\n",
    "        y = df[d]\n",
    "        e = df[d + '-error']\n",
    "        oracle_result = df[d][\"Oracle-GP\"]\n",
    "        oracle_error = df[d + \"-error\"][\"Oracle-GP\"]\n",
    "        oracle_diag_result = df[d][\"Oracle-GP-diag\"]\n",
    "        oracle_diag_error = df[d + \"-error\"][\"Oracle-GP-diag\"]\n",
    "\n",
    "        for j in range(2, len(labels)+2):\n",
    "            \n",
    "            if i == len(data_names) - 1:\n",
    "                plt.scatter(x[j], y[j], marker=markers[j-2], s=marker_sizes[j-2], color=colors[j-2], linewidth=0.6, edgecolor='k', zorder=2, label=labels[j-2])\n",
    "            \n",
    "            else:\n",
    "                plt.scatter(x[j], y[j], marker=markers[j-2], s=marker_sizes[j-2], color=colors[j-2], linewidth=0.6, edgecolor='k', zorder=2)\n",
    "\n",
    "        plt.xticks([])\n",
    "        plt.title(titles[i], fontsize=18)\n",
    "        plt.xlim([0., 14])\n",
    "        \n",
    "        if i == 0:\n",
    "            plt.ylabel('Log. likelihood', fontsize=24)\n",
    "    \n",
    "        ylims = [(-1.10, 1.65),\n",
    "                 (-1.10, 1.53),\n",
    "                 (-1.75, 1.35),\n",
    "                 (-1.75, 0.90),\n",
    "                 (-0.60, 2.6)]\n",
    "            \n",
    "        plt.yticks(yticks[i], fontsize=14)\n",
    "        plt.ylim(ylims[i])\n",
    "        \n",
    "        \n",
    "    handles, labels = plt.gca().get_legend_handles_labels()\n",
    "#     fig.legend(handles[:2], labels[:2], loc='right', ncol=2, fontsize=13)\n",
    "\n",
    "    fig.legend(handles[:2], labels[:2], loc='lower left', ncol=1, fontsize=14, bbox_to_anchor=(0.02, 0.015, 0.10, 0.10))\n",
    "    fig.legend(handles[2:], labels[2:], loc='center', ncol=4, fontsize=14, bbox_to_anchor=(0.4, 0.0, 0.4, 0.2))\n",
    "\n",
    "    plt.tight_layout()\n",
    "    fig.subplots_adjust(bottom=0.22)\n",
    "    plt.savefig(\"./plots/toy-results.pdf\")\n",
    "    plt.show()"
   ]
  }
 ],
 "metadata": {
  "kernelspec": {
   "display_name": "Python 3 (ipykernel)",
   "language": "python",
   "name": "python3"
  },
  "language_info": {
   "codemirror_mode": {
    "name": "ipython",
    "version": 3
   },
   "file_extension": ".py",
   "mimetype": "text/x-python",
   "name": "python",
   "nbconvert_exporter": "python",
   "pygments_lexer": "ipython3",
   "version": "3.8.11"
  }
 },
 "nbformat": 4,
 "nbformat_minor": 5
}
