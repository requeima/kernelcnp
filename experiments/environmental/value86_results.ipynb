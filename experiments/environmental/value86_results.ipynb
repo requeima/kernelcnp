{
 "cells": [
  {
   "cell_type": "code",
   "execution_count": 1,
   "id": "9d457dad-b098-4db9-b384-1ddf80988ec2",
   "metadata": {
    "tags": []
   },
   "outputs": [],
   "source": [
    "import sys\n",
    "sys.path.append('/home/av555/iclr/')"
   ]
  },
  {
   "cell_type": "code",
   "execution_count": 2,
   "id": "48d54a5a-9f2f-4e87-8b23-de2ae1ce436a",
   "metadata": {},
   "outputs": [],
   "source": [
    "from architectures import *\n",
    "from trainer import *\n",
    "from loaders import *\n",
    "from models import *\n",
    "from utils import *"
   ]
  },
  {
   "cell_type": "code",
   "execution_count": 3,
   "id": "661c2948-3eca-49a8-ab79-7451c56d61d2",
   "metadata": {},
   "outputs": [],
   "source": [
    "import numpy as np\n",
    "from matplotlib import pyplot as plt\n",
    "import torch"
   ]
  },
  {
   "cell_type": "code",
   "execution_count": null,
   "id": "7c26581a-5d35-4bc6-9f92-5316dbbb3740",
   "metadata": {},
   "outputs": [],
   "source": []
  },
  {
   "cell_type": "code",
   "execution_count": 4,
   "id": "1dc7aec9-ee27-48b0-abe9-5377d9a9ec17",
   "metadata": {},
   "outputs": [],
   "source": [
    "def load_model(path, model):\n",
    "\n",
    "    checkpoint = torch.load(path, map_location=torch.device('cpu'))\n",
    "    model.load_state_dict(checkpoint['model_state_dict'])\n",
    "    epoch = checkpoint['epoch']\n",
    "    loss = checkpoint['loss']\n",
    "\n",
    "    model.eval()\n",
    "    return model, epoch, loss\n"
   ]
  },
  {
   "cell_type": "code",
   "execution_count": 5,
   "id": "89100b67-91db-47ef-98ab-eea5d87ebae8",
   "metadata": {},
   "outputs": [],
   "source": [
    "def eval_model(model, val_loader):\n",
    "    preds = []\n",
    "    targets = []\n",
    "\n",
    "    with torch.no_grad():\n",
    "        for task in val_loader:\n",
    "            task[\"dists\"] = task[\"dists\"][0,...]\n",
    "            out = model(task)\n",
    "            preds.append(out)\n",
    "            targets.append(task[\"y_target\"])\n",
    "\n",
    "    #concat full arrays\n",
    "    preds = torch.cat(preds, dim = 1)\n",
    "    targets = torch.cat(targets, dim = 0)\n",
    "\n",
    "    #To cpu\n",
    "    preds = preds.cpu().numpy()\n",
    "    targets = targets.cpu().numpy()\n",
    "\n",
    "    return preds, targets"
   ]
  },
  {
   "cell_type": "code",
   "execution_count": 6,
   "id": "1cb881c6-e991-410d-9753-431c5e9b8a28",
   "metadata": {},
   "outputs": [],
   "source": [
    "def get_val_stats_bs(predictions, targets):\n",
    "        \n",
    "\n",
    "        maes = np.zeros(predictions.shape[1])\n",
    "        spearmans = np.zeros(predictions.shape[1])\n",
    "        pearsons = np.zeros(predictions.shape[1])\n",
    "\n",
    "        for st in range(predictions.shape[1]):\n",
    "            # Get station\n",
    "            true_mean = targets[:, st]\n",
    "            pred_mean = predictions[:, st,0]\n",
    "            # Remove nans\n",
    "            pred_mean = pred_mean[~np.isnan(true_mean)]\n",
    "            true_mean = true_mean[~np.isnan(true_mean)]\n",
    "\n",
    "            try:\n",
    "                maes[st] = np.mean(np.abs(true_mean - pred_mean))\n",
    "                pearsons[st] = scipy.stats.pearsonr(pred_mean, true_mean)[0]\n",
    "                spearmans[st] = scipy.stats.spearmanr(pred_mean, true_mean).correlation\n",
    "            except:\n",
    "                maes[st] = np.nan\n",
    "                pearsons[st] = np.nan\n",
    "                spearmans[st] = np.nan\n",
    "                continue\n",
    "        print(\"Mean absolute error: {}\".format(np.nanmedian(maes)))\n",
    "        print(\"Pearson correlation: {}\".format(np.nanmedian(pearsons)))\n",
    "        print(\"Spearman correlation: {}\".format(np.nanmedian(spearmans)))"
   ]
  },
  {
   "cell_type": "code",
   "execution_count": 7,
   "id": "74cceff1-9240-43aa-ade9-e2ba5d251e71",
   "metadata": {},
   "outputs": [],
   "source": [
    "use_cpu = True\n",
    "device = torch.device('cpu') if use_cpu else torch.device('cuda')"
   ]
  },
  {
   "cell_type": "code",
   "execution_count": 8,
   "id": "44646fa5-3ac7-4eec-aca5-0c3048f6582f",
   "metadata": {},
   "outputs": [],
   "source": [
    "# data\n",
    "val_ds = ValueExperimentDataset86(\"/home/av555/iclr/data/\", device=device, train=False)\n",
    "val_loader = DataLoader(\n",
    "    val_ds, batch_size = 16, shuffle = False)"
   ]
  },
  {
   "cell_type": "code",
   "execution_count": null,
   "id": "d0b1db1e-8191-4353-986d-899791633f21",
   "metadata": {},
   "outputs": [],
   "source": []
  },
  {
   "cell_type": "code",
   "execution_count": null,
   "id": "808edab7-24dc-4b14-b8e3-376576037a32",
   "metadata": {},
   "outputs": [],
   "source": []
  },
  {
   "cell_type": "code",
   "execution_count": null,
   "id": "7e873839-60f8-4e7e-870b-460243d7a4e8",
   "metadata": {},
   "outputs": [],
   "source": []
  },
  {
   "cell_type": "code",
   "execution_count": null,
   "id": "8002119d-eceb-4d96-83bb-11eeb10a4d8e",
   "metadata": {},
   "outputs": [],
   "source": []
  },
  {
   "cell_type": "code",
   "execution_count": null,
   "id": "c9c6f770-e849-452b-869f-b7a3fecd8994",
   "metadata": {},
   "outputs": [],
   "source": []
  },
  {
   "cell_type": "markdown",
   "id": "736c2524-a33a-438f-bfbb-81f864476929",
   "metadata": {
    "tags": []
   },
   "source": [
    "## convCNP"
   ]
  },
  {
   "cell_type": "code",
   "execution_count": 9,
   "id": "27f508e9-217b-4e35-97f1-7db40a73c130",
   "metadata": {},
   "outputs": [
    {
     "name": "stdout",
     "output_type": "stream",
     "text": [
      "ls: cannot access iclr/exps/: No such file or directory\n"
     ]
    }
   ],
   "source": [
    "!ls iclr/exps/\n"
   ]
  },
  {
   "cell_type": "code",
   "execution_count": 10,
   "id": "07b93e09-4e03-46f2-8d45-03e61c8b8877",
   "metadata": {},
   "outputs": [],
   "source": [
    "exp_path = \"/home/av555/iclr/exps/convCNP_value_86/\"\n",
    "losses = np.load(exp_path+\"losses.npy\")"
   ]
  },
  {
   "cell_type": "code",
   "execution_count": 11,
   "id": "d7af6df4-309c-4cf2-9c79-b2fdab006f24",
   "metadata": {},
   "outputs": [
    {
     "data": {
      "text/plain": [
       "[<matplotlib.lines.Line2D at 0x2b75c0329470>]"
      ]
     },
     "execution_count": 11,
     "metadata": {},
     "output_type": "execute_result"
    },
    {
     "data": {
      "image/png": "[encoded data removed]",
      "text/plain": [
       "<Figure size 432x288 with 1 Axes>"
      ]
     },
     "metadata": {
      "needs_background": "light"
     },
     "output_type": "display_data"
    }
   ],
   "source": [
    "plt.plot(losses)"
   ]
  },
  {
   "cell_type": "code",
   "execution_count": 12,
   "id": "8feba47b-20f4-4f70-8a20-a602cf2664f1",
   "metadata": {},
   "outputs": [
    {
     "data": {
      "text/plain": [
       "498"
      ]
     },
     "execution_count": 12,
     "metadata": {},
     "output_type": "execute_result"
    }
   ],
   "source": [
    "np.argmin(losses)\n"
   ]
  },
  {
   "cell_type": "code",
   "execution_count": 13,
   "id": "b336b7d6-65f5-4705-af84-43742009451e",
   "metadata": {},
   "outputs": [
    {
     "data": {
      "text/plain": [
       "148.12049018012152"
      ]
     },
     "execution_count": 13,
     "metadata": {},
     "output_type": "execute_result"
    }
   ],
   "source": [
    "losses[498]"
   ]
  },
  {
   "cell_type": "code",
   "execution_count": 14,
   "id": "98b1620d-3379-487d-8f94-0a15acfda16e",
   "metadata": {},
   "outputs": [
    {
     "name": "stdout",
     "output_type": "stream",
     "text": [
      "epoch_1   epoch_13  epoch_17  epoch_20\tepoch_24  epoch_3  epoch_7\n",
      "epoch_10  epoch_14  epoch_18  epoch_21\tepoch_25  epoch_4  epoch_8\n",
      "epoch_11  epoch_15  epoch_19  epoch_22\tepoch_26  epoch_5  epoch_9\n",
      "epoch_12  epoch_16  epoch_2   epoch_23\tepoch_27  epoch_6\n"
     ]
    }
   ],
   "source": [
    "!ls /home/av555/iclr/exps_no_distance_scaling/convCNP_value_86"
   ]
  },
  {
   "cell_type": "code",
   "execution_count": 15,
   "id": "f8ec16f8-7b5a-46f9-8866-8aef33f1ba1c",
   "metadata": {},
   "outputs": [
    {
     "name": "stderr",
     "output_type": "stream",
     "text": [
      "/home/av555/iclr/loaders.py:190: UserWarning: The given NumPy array is not writeable, and PyTorch does not support non-writeable tensors. This means you can write to the underlying (supposedly non-writeable) NumPy array using the tensor. You may want to copy the array to protect its data or make it writeable before converting it to a tensor. This type of warning will be suppressed for the rest of this program. (Triggered internally at  ../torch/csrc/utils/tensor_numpy.cpp:180.)\n",
      "  y_context = torch.from_numpy(self.y_context[index,...]).float()\n"
     ]
    },
    {
     "name": "stdout",
     "output_type": "stream",
     "text": [
      "Mean absolute error: 1.0581230521202087\n",
      "Pearson correlation: 0.9862988924541032\n",
      "Spearman correlation: 0.9874473434055733\n"
     ]
    }
   ],
   "source": [
    "# ConvCNP\n",
    "\n",
    "convcnp_path = \"/home/av555/iclr/exps/convCNP_value_86/epoch_498\"\n",
    "concnp_model = convCNP(\n",
    "    in_channels=25)\n",
    "\n",
    "concnp_model, convcnp_epoch, convcnp_loss = load_model(convcnp_path, concnp_model)\n",
    "convcnp_preds, convcnp_targets = eval_model(concnp_model, val_loader)\n",
    "get_val_stats_bs(convcnp_preds, convcnp_targets)"
   ]
  },
  {
   "cell_type": "markdown",
   "id": "ef5c3b47-c2d6-475c-9407-51cda0328565",
   "metadata": {},
   "source": [
    "## convGNP linear"
   ]
  },
  {
   "cell_type": "code",
   "execution_count": 19,
   "id": "486ed96d-6464-4520-b92c-4bd78402de8e",
   "metadata": {},
   "outputs": [],
   "source": [
    "exp_path = \"/home/av555/iclr/exps/convGNP_linear_value_86/\"\n",
    "losses = np.load(exp_path+\"losses.npy\")"
   ]
  },
  {
   "cell_type": "code",
   "execution_count": 20,
   "id": "b88c4a5e-3df3-4eca-863e-08a45b53168d",
   "metadata": {},
   "outputs": [
    {
     "data": {
      "text/plain": [
       "457"
      ]
     },
     "execution_count": 20,
     "metadata": {},
     "output_type": "execute_result"
    }
   ],
   "source": [
    "np.argmin(losses)\n"
   ]
  },
  {
   "cell_type": "code",
   "execution_count": 21,
   "id": "af3c7819-7912-43b9-83f4-70c7b957bf59",
   "metadata": {},
   "outputs": [
    {
     "data": {
      "text/plain": [
       "132.18209733408744"
      ]
     },
     "execution_count": 21,
     "metadata": {},
     "output_type": "execute_result"
    }
   ],
   "source": [
    "losses[498]"
   ]
  },
  {
   "cell_type": "code",
   "execution_count": 22,
   "id": "e1025258-6461-4a21-9369-785784d3f980",
   "metadata": {},
   "outputs": [
    {
     "name": "stdout",
     "output_type": "stream",
     "text": [
      "Mean absolute error: 1.0319218039512634\n",
      "Pearson correlation: 0.9868675824179771\n",
      "Spearman correlation: 0.9877562606674604\n"
     ]
    }
   ],
   "source": [
    "# ConvCNP\n",
    "\n",
    "convcnp_path = \"/home/av555/iclr/exps/convGNP_linear_value_86/epoch_457\"\n",
    "concnp_model = convGNPLinear()\n",
    "\n",
    "concnp_model, convcnp_epoch, convcnp_loss = load_model(convcnp_path, concnp_model)\n",
    "convcnp_preds, convcnp_targets = eval_model(concnp_model, val_loader)\n",
    "get_val_stats_bs(convcnp_preds, convcnp_targets)"
   ]
  },
  {
   "cell_type": "markdown",
   "id": "b84ae7f3-bc13-4bb1-b006-fd4f9ce99cb1",
   "metadata": {},
   "source": [
    "## convGNP - kvv"
   ]
  },
  {
   "cell_type": "code",
   "execution_count": 23,
   "id": "590a4c6d-5977-49d0-9d51-bafe64f461b3",
   "metadata": {},
   "outputs": [],
   "source": [
    "exp_path = \"/home/av555/iclr/exps/convGNP_kvv_value_86/\"\n",
    "losses = np.load(exp_path+\"losses.npy\")"
   ]
  },
  {
   "cell_type": "code",
   "execution_count": 24,
   "id": "11536116-aa87-40ab-b3af-61891a7adb86",
   "metadata": {},
   "outputs": [
    {
     "data": {
      "text/plain": [
       "492"
      ]
     },
     "execution_count": 24,
     "metadata": {},
     "output_type": "execute_result"
    }
   ],
   "source": [
    "np.argmin(losses)"
   ]
  },
  {
   "cell_type": "code",
   "execution_count": 25,
   "id": "9af6a2a5-12d7-4819-84d7-002c965cb34a",
   "metadata": {},
   "outputs": [
    {
     "data": {
      "text/plain": [
       "131.47229939049623"
      ]
     },
     "execution_count": 25,
     "metadata": {},
     "output_type": "execute_result"
    }
   ],
   "source": [
    "losses[492]"
   ]
  },
  {
   "cell_type": "code",
   "execution_count": 33,
   "id": "b16feb9d-bfe5-4c49-804d-fb0f890ebe87",
   "metadata": {},
   "outputs": [
    {
     "name": "stdout",
     "output_type": "stream",
     "text": [
      "Mean absolute error: 16.688918113708496\n",
      "Pearson correlation: 0.30388085787009955\n",
      "Spearman correlation: 0.32431356901274866\n"
     ]
    }
   ],
   "source": [
    "# ConvCNP\n",
    "\n",
    "convcnp_path = \"/home/av555/iclr/exps/convGNP_kvv_value_86/epoch_492\"\n",
    "concnp_model = convGNPLinear()\n",
    "\n",
    "concnp_model, convcnp_epoch, convcnp_loss = load_model(convcnp_path, concnp_model)\n",
    "convcnp_preds, convcnp_targets = eval_model(concnp_model, val_loader)\n",
    "get_val_stats_bs(convcnp_preds, convcnp_targets)"
   ]
  },
  {
   "cell_type": "markdown",
   "id": "7f69a06d-e141-4498-ab12-647109b04ff8",
   "metadata": {},
   "source": [
    "## convNP"
   ]
  },
  {
   "cell_type": "code",
   "execution_count": 9,
   "id": "dc0071f3-af54-4d00-91cf-95c1c53f2c35",
   "metadata": {
    "tags": []
   },
   "outputs": [
    {
     "ename": "FileNotFoundError",
     "evalue": "[Errno 2] No such file or directory: '/home/av555/iclr/exps_no_distance_scaling/convNP_value_86/losses.npy'",
     "output_type": "error",
     "traceback": [
      "\u001b[0;31m---------------------------------------------------------------------------\u001b[0m",
      "\u001b[0;31mFileNotFoundError\u001b[0m                         Traceback (most recent call last)",
      "\u001b[0;32m<ipython-input-9-5d05044088d4>\u001b[0m in \u001b[0;36m<module>\u001b[0;34m\u001b[0m\n\u001b[1;32m      1\u001b[0m \u001b[0mexp_path\u001b[0m \u001b[0;34m=\u001b[0m \u001b[0;34m\"/home/av555/iclr/exps_no_distance_scaling/convNP_value_86/\"\u001b[0m\u001b[0;34m\u001b[0m\u001b[0;34m\u001b[0m\u001b[0m\n\u001b[0;32m----> 2\u001b[0;31m \u001b[0mlosses\u001b[0m \u001b[0;34m=\u001b[0m \u001b[0mnp\u001b[0m\u001b[0;34m.\u001b[0m\u001b[0mload\u001b[0m\u001b[0;34m(\u001b[0m\u001b[0mexp_path\u001b[0m\u001b[0;34m+\u001b[0m\u001b[0;34m\"losses.npy\"\u001b[0m\u001b[0;34m)\u001b[0m\u001b[0;34m\u001b[0m\u001b[0;34m\u001b[0m\u001b[0m\n\u001b[0m",
      "\u001b[0;32m~/iclr_exps/lib64/python3.6/site-packages/numpy/lib/npyio.py\u001b[0m in \u001b[0;36mload\u001b[0;34m(file, mmap_mode, allow_pickle, fix_imports, encoding)\u001b[0m\n\u001b[1;32m    414\u001b[0m             \u001b[0mown_fid\u001b[0m \u001b[0;34m=\u001b[0m \u001b[0;32mFalse\u001b[0m\u001b[0;34m\u001b[0m\u001b[0;34m\u001b[0m\u001b[0m\n\u001b[1;32m    415\u001b[0m         \u001b[0;32melse\u001b[0m\u001b[0;34m:\u001b[0m\u001b[0;34m\u001b[0m\u001b[0;34m\u001b[0m\u001b[0m\n\u001b[0;32m--> 416\u001b[0;31m             \u001b[0mfid\u001b[0m \u001b[0;34m=\u001b[0m \u001b[0mstack\u001b[0m\u001b[0;34m.\u001b[0m\u001b[0menter_context\u001b[0m\u001b[0;34m(\u001b[0m\u001b[0mopen\u001b[0m\u001b[0;34m(\u001b[0m\u001b[0mos_fspath\u001b[0m\u001b[0;34m(\u001b[0m\u001b[0mfile\u001b[0m\u001b[0;34m)\u001b[0m\u001b[0;34m,\u001b[0m \u001b[0;34m\"rb\"\u001b[0m\u001b[0;34m)\u001b[0m\u001b[0;34m)\u001b[0m\u001b[0;34m\u001b[0m\u001b[0;34m\u001b[0m\u001b[0m\n\u001b[0m\u001b[1;32m    417\u001b[0m             \u001b[0mown_fid\u001b[0m \u001b[0;34m=\u001b[0m \u001b[0;32mTrue\u001b[0m\u001b[0;34m\u001b[0m\u001b[0;34m\u001b[0m\u001b[0m\n\u001b[1;32m    418\u001b[0m \u001b[0;34m\u001b[0m\u001b[0m\n",
      "\u001b[0;31mFileNotFoundError\u001b[0m: [Errno 2] No such file or directory: '/home/av555/iclr/exps_no_distance_scaling/convNP_value_86/losses.npy'"
     ]
    }
   ],
   "source": [
    "exp_path = \"/home/av555/iclr/exps_no_distance_scaling/convNP_value_86/\"\n",
    "losses = np.load(exp_path+\"losses.npy\")"
   ]
  },
  {
   "cell_type": "code",
   "execution_count": null,
   "id": "745c8b8a-9799-416d-aec1-49bf8f2a9969",
   "metadata": {},
   "outputs": [],
   "source": [
    "np.argmin(losses)"
   ]
  },
  {
   "cell_type": "code",
   "execution_count": 18,
   "id": "535c7b2c-af29-4518-8e36-cc2904ea74bd",
   "metadata": {},
   "outputs": [
    {
     "name": "stdout",
     "output_type": "stream",
     "text": [
      "epoch_1    epoch_15   epoch_207  epoch_277  epoch_353  epoch_435  epoch_7\n",
      "epoch_10   epoch_152  epoch_208  epoch_279  epoch_36   epoch_44   epoch_70\n",
      "epoch_100  epoch_156  epoch_21\t epoch_28   epoch_365  epoch_45   epoch_72\n",
      "epoch_105  epoch_16   epoch_210  epoch_285  epoch_378  epoch_452  epoch_73\n",
      "epoch_11   epoch_161  epoch_217  epoch_29   epoch_38   epoch_468  epoch_74\n",
      "epoch_110  epoch_162  epoch_22\t epoch_296  epoch_381  epoch_49   epoch_8\n",
      "epoch_117  epoch_17   epoch_230  epoch_3    epoch_4    epoch_5\t  epoch_82\n",
      "epoch_12   epoch_170  epoch_237  epoch_30   epoch_40   epoch_50   epoch_83\n",
      "epoch_126  epoch_172  epoch_239  epoch_307  epoch_406  epoch_54   epoch_87\n",
      "epoch_13   epoch_18   epoch_25\t epoch_31   epoch_409  epoch_55   epoch_9\n",
      "epoch_131  epoch_190  epoch_250  epoch_316  epoch_41   epoch_6\t  epoch_90\n",
      "epoch_14   epoch_194  epoch_26\t epoch_32   epoch_42   epoch_61   epoch_91\n",
      "epoch_140  epoch_2    epoch_261  epoch_323  epoch_424  epoch_63   epoch_96\n",
      "epoch_142  epoch_20   epoch_265  epoch_326  epoch_43   epoch_65\n",
      "epoch_143  epoch_204  epoch_27\t epoch_34   epoch_430  epoch_67\n"
     ]
    }
   ],
   "source": [
    "!ls /home/av555/iclr/exps_convNP/convNP_value_86/"
   ]
  },
  {
   "cell_type": "code",
   "execution_count": 12,
   "id": "0f48fa1f-7c40-4d64-9c1e-58a1447fbc7b",
   "metadata": {},
   "outputs": [],
   "source": [
    "# ConvCNP\n",
    "\n",
    "convcnp_path = \"/home/av555/iclr/exps_convNP/convNP_value_86/epoch_468\"\n",
    "concnp_model = convNP(\n",
    "    ls = 0.02,\n",
    "    n_samples=24,\n",
    "    n_latent_vars=32)\n",
    "\n",
    "concnp_model, convcnp_epoch, convcnp_loss = load_model(convcnp_path, concnp_model)\n"
   ]
  },
  {
   "cell_type": "code",
   "execution_count": 13,
   "id": "e6d06b9b-4584-40c3-a201-7eb7d31cd3b6",
   "metadata": {},
   "outputs": [
    {
     "name": "stderr",
     "output_type": "stream",
     "text": [
      "/home/av555/iclr/loaders.py:190: UserWarning: The given NumPy array is not writeable, and PyTorch does not support non-writeable tensors. This means you can write to the underlying (supposedly non-writeable) NumPy array using the tensor. You may want to copy the array to protect its data or make it writeable before converting it to a tensor. This type of warning will be suppressed for the rest of this program. (Triggered internally at  ../torch/csrc/utils/tensor_numpy.cpp:180.)\n",
      "  y_context = torch.from_numpy(self.y_context[index,...]).float()\n"
     ]
    }
   ],
   "source": [
    "convcnp_preds, convcnp_targets = eval_model(concnp_model, val_loader)\n"
   ]
  },
  {
   "cell_type": "code",
   "execution_count": 14,
   "id": "73af4bfe-497c-4a34-a81b-b66e47c0b4bb",
   "metadata": {},
   "outputs": [],
   "source": [
    "def get_val_stats_bs_convNP(predictions, targets): \n",
    "\n",
    "        maes = np.zeros(predictions.shape[2])\n",
    "        spearmans = np.zeros(predictions.shape[2])\n",
    "        pearsons = np.zeros(predictions.shape[2])\n",
    "\n",
    "        for st in range(predictions.shape[2]):\n",
    "            # Get station\n",
    "            true_mean = targets[:, st]\n",
    "            pred_mean = predictions[:,:, st,0]\n",
    "\n",
    "            # Remove nans\n",
    "            pred_mean = pred_mean[:,~np.isnan(true_mean)]\n",
    "            true_mean = true_mean[~np.isnan(true_mean)]\n",
    "\n",
    "            try:\n",
    "                maes[st] = np.mean(np.abs(true_mean - pred_mean))\n",
    "            except:\n",
    "                maes[st] = np.nan\n",
    "                continue\n",
    "        print(\"Mean absolute error: {}\".format(np.nanmedian(maes)))\n",
    "        \n"
   ]
  },
  {
   "cell_type": "code",
   "execution_count": 15,
   "id": "16e949fd-8e88-4f0d-879e-9473272eeebc",
   "metadata": {},
   "outputs": [
    {
     "name": "stdout",
     "output_type": "stream",
     "text": [
      "Mean absolute error: 1.0800406336784363\n"
     ]
    }
   ],
   "source": [
    "get_val_stats_bs_convNP(convcnp_preds, convcnp_targets)"
   ]
  },
  {
   "cell_type": "code",
   "execution_count": 16,
   "id": "c145bc51-269b-42a6-bb83-235718e16f3c",
   "metadata": {},
   "outputs": [
    {
     "data": {
      "text/plain": [
       "(24, 2192, 86, 2)"
      ]
     },
     "execution_count": 16,
     "metadata": {},
     "output_type": "execute_result"
    }
   ],
   "source": [
    "convcnp_preds.shape"
   ]
  },
  {
   "cell_type": "code",
   "execution_count": 17,
   "id": "563df028-56fc-4001-a644-12f5a780d873",
   "metadata": {},
   "outputs": [
    {
     "data": {
      "text/plain": [
       "(2192, 86)"
      ]
     },
     "execution_count": 17,
     "metadata": {},
     "output_type": "execute_result"
    }
   ],
   "source": [
    "convcnp_targets.shape"
   ]
  },
  {
   "cell_type": "code",
   "execution_count": 11,
   "id": "25075d73-58e7-43e4-9c09-f57d3d67d110",
   "metadata": {},
   "outputs": [
    {
     "name": "stdout",
     "output_type": "stream",
     "text": [
      "epoch_1    epoch_15   epoch_207  epoch_277  epoch_353  epoch_435  epoch_7\n",
      "epoch_10   epoch_152  epoch_208  epoch_279  epoch_36   epoch_44   epoch_70\n",
      "epoch_100  epoch_156  epoch_21\t epoch_28   epoch_365  epoch_45   epoch_72\n",
      "epoch_105  epoch_16   epoch_210  epoch_285  epoch_378  epoch_452  epoch_73\n",
      "epoch_11   epoch_161  epoch_217  epoch_29   epoch_38   epoch_468  epoch_74\n",
      "epoch_110  epoch_162  epoch_22\t epoch_296  epoch_381  epoch_49   epoch_8\n",
      "epoch_117  epoch_17   epoch_230  epoch_3    epoch_4    epoch_5\t  epoch_82\n",
      "epoch_12   epoch_170  epoch_237  epoch_30   epoch_40   epoch_50   epoch_83\n",
      "epoch_126  epoch_172  epoch_239  epoch_307  epoch_406  epoch_54   epoch_87\n",
      "epoch_13   epoch_18   epoch_25\t epoch_31   epoch_409  epoch_55   epoch_9\n",
      "epoch_131  epoch_190  epoch_250  epoch_316  epoch_41   epoch_6\t  epoch_90\n",
      "epoch_14   epoch_194  epoch_26\t epoch_32   epoch_42   epoch_61   epoch_91\n",
      "epoch_140  epoch_2    epoch_261  epoch_323  epoch_424  epoch_63   epoch_96\n",
      "epoch_142  epoch_20   epoch_265  epoch_326  epoch_43   epoch_65\n",
      "epoch_143  epoch_204  epoch_27\t epoch_34   epoch_430  epoch_67\n"
     ]
    }
   ],
   "source": [
    "# Get log lik\n",
    "for i in range(24):\n",
    "    p = convcnp_preds[0,...]\n",
    "    \n",
    "    "
   ]
  },
  {
   "cell_type": "code",
   "execution_count": null,
   "id": "746f928f-6cca-4bc9-af73-1ddffdfbf459",
   "metadata": {},
   "outputs": [],
   "source": []
  },
  {
   "cell_type": "code",
   "execution_count": null,
   "id": "648073d3-cdd7-47b2-b9f0-b5e69f6ba165",
   "metadata": {},
   "outputs": [],
   "source": []
  }
 ],
 "metadata": {
  "kernelspec": {
   "display_name": "iclr_exps",
   "language": "python",
   "name": "iclr_exps"
  },
  "language_info": {
   "codemirror_mode": {
    "name": "ipython",
    "version": 3
   },
   "file_extension": ".py",
   "mimetype": "text/x-python",
   "name": "python",
   "nbconvert_exporter": "python",
   "pygments_lexer": "ipython3",
   "version": "3.6.8"
  }
 },
 "nbformat": 4,
 "nbformat_minor": 5
}
