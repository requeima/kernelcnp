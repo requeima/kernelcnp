{
 "cells": [
  {
   "cell_type": "code",
   "execution_count": 4,
   "id": "1f95733d-650b-44ea-84aa-17dc4a665450",
   "metadata": {},
   "outputs": [],
   "source": [
    "import sys\n",
    "sys.path.append('/home/av555/iclr/')"
   ]
  },
  {
   "cell_type": "code",
   "execution_count": 5,
   "id": "3e23af86-8f33-424e-a4eb-1c806dd04495",
   "metadata": {},
   "outputs": [],
   "source": [
    "from architectures import *\n",
    "from trainer import *\n",
    "from loaders import *\n",
    "from models import *\n",
    "from utils import *"
   ]
  },
  {
   "cell_type": "code",
   "execution_count": 6,
   "id": "6069ef58-20f3-4924-b7a8-46e431d91316",
   "metadata": {},
   "outputs": [],
   "source": [
    "import numpy as np\n",
    "from matplotlib import pyplot as plt\n",
    "import torch"
   ]
  },
  {
   "cell_type": "markdown",
   "id": "3bf0d2d0-eafc-49be-82fa-9313f00f9e6c",
   "metadata": {},
   "source": [
    "## Utils"
   ]
  },
  {
   "cell_type": "code",
   "execution_count": 7,
   "id": "a9d63870-bda6-4a01-963f-06c73417171b",
   "metadata": {},
   "outputs": [],
   "source": [
    "def load_model(path, model):\n",
    "\n",
    "    checkpoint = torch.load(path, map_location=torch.device('cpu'))\n",
    "    model.load_state_dict(checkpoint['model_state_dict'])\n",
    "    epoch = checkpoint['epoch']\n",
    "    loss = checkpoint['loss']\n",
    "\n",
    "    model.eval()\n",
    "    return model, epoch, loss\n"
   ]
  },
  {
   "cell_type": "code",
   "execution_count": 8,
   "id": "abd62820-4b44-4322-9735-1cd706c34e80",
   "metadata": {},
   "outputs": [],
   "source": [
    "def eval_model(model, val_loader):\n",
    "    preds = []\n",
    "    targets = []\n",
    "\n",
    "    with torch.no_grad():\n",
    "        for task in val_loader:\n",
    "            task[\"dists\"] = task[\"dists\"][0,...]\n",
    "            out = model(task)\n",
    "            preds.append(out)\n",
    "            targets.append(task[\"y_target\"])\n",
    "\n",
    "    #concat full arrays\n",
    "    preds = torch.cat(preds, dim = 1)\n",
    "    targets = torch.cat(targets, dim = 0)\n",
    "\n",
    "    #To cpu\n",
    "    preds = preds.cpu().numpy()\n",
    "    targets = targets.cpu().numpy()\n",
    "\n",
    "    return preds, targets"
   ]
  },
  {
   "cell_type": "code",
   "execution_count": 9,
   "id": "3add2067-7de3-4143-b93d-42f9f3254e48",
   "metadata": {},
   "outputs": [],
   "source": [
    "def get_val_stats_bs(predictions, targets):\n",
    "        \n",
    "\n",
    "        maes = np.zeros(predictions.shape[1])\n",
    "        spearmans = np.zeros(predictions.shape[1])\n",
    "        pearsons = np.zeros(predictions.shape[1])\n",
    "\n",
    "        for st in range(predictions.shape[1]):\n",
    "            # Get station\n",
    "            true_mean = targets[:, st]\n",
    "            pred_mean = predictions[:, st,0]\n",
    "            # Remove nans\n",
    "            pred_mean = pred_mean[~np.isnan(true_mean)]\n",
    "            true_mean = true_mean[~np.isnan(true_mean)]\n",
    "\n",
    "            try:\n",
    "                maes[st] = np.mean(np.abs(true_mean - pred_mean))\n",
    "                pearsons[st] = scipy.stats.pearsonr(pred_mean, true_mean)[0]\n",
    "                spearmans[st] = scipy.stats.spearmanr(pred_mean, true_mean).correlation\n",
    "            except:\n",
    "                maes[st] = np.nan\n",
    "                pearsons[st] = np.nan\n",
    "                spearmans[st] = np.nan\n",
    "                continue\n",
    "        print(\"Mean absolute error: {}\".format(np.nanmedian(maes)))\n",
    "        print(\"Pearson correlation: {}\".format(np.nanmedian(pearsons)))\n",
    "        print(\"Spearman correlation: {}\".format(np.nanmedian(spearmans)))"
   ]
  },
  {
   "cell_type": "code",
   "execution_count": 10,
   "id": "35fac15c-129e-4100-b16d-a2ee5077a47b",
   "metadata": {},
   "outputs": [],
   "source": [
    "use_cpu = True\n",
    "device = torch.device('cpu') if use_cpu else torch.device('cuda')\n"
   ]
  },
  {
   "cell_type": "code",
   "execution_count": 11,
   "id": "ab1f9f5e-5021-4425-9512-a970c1cb92a7",
   "metadata": {},
   "outputs": [],
   "source": [
    "# data\n",
    "val_ds = ValueExperimentDataset86(\"/home/av555/iclr/data/\", device=device, train=False)\n",
    "val_loader = DataLoader(\n",
    "    val_ds, batch_size = 16, shuffle = False)"
   ]
  },
  {
   "cell_type": "markdown",
   "id": "4aced97c-2a2a-4b24-a345-e507b41f7644",
   "metadata": {},
   "source": [
    "## convCNP"
   ]
  },
  {
   "cell_type": "code",
   "execution_count": 9,
   "id": "0955c43f-08cc-4c5b-beb6-e0f27b3097d2",
   "metadata": {},
   "outputs": [],
   "source": [
    "exp_path = \"/home/av555/iclr/exps_no_distance_scaling/convCNP_value_all/\"\n",
    "losses = np.load(exp_path+\"losses.npy\")"
   ]
  },
  {
   "cell_type": "code",
   "execution_count": 10,
   "id": "1211405e-f53e-4fd3-9757-8abc6fd62397",
   "metadata": {},
   "outputs": [
    {
     "data": {
      "text/plain": [
       "[<matplotlib.lines.Line2D at 0x2af355d72748>]"
      ]
     },
     "execution_count": 10,
     "metadata": {},
     "output_type": "execute_result"
    },
    {
     "data": {
      "image/png": "[encoded data removed]",
      "text/plain": [
       "<Figure size 432x288 with 1 Axes>"
      ]
     },
     "metadata": {
      "needs_background": "light"
     },
     "output_type": "display_data"
    }
   ],
   "source": [
    "plt.plot(losses[10:250])"
   ]
  },
  {
   "cell_type": "code",
   "execution_count": 12,
   "id": "9c8564cf-9261-4946-ace6-6099ae7e9181",
   "metadata": {},
   "outputs": [
    {
     "data": {
      "text/plain": [
       "491"
      ]
     },
     "execution_count": 12,
     "metadata": {},
     "output_type": "execute_result"
    }
   ],
   "source": [
    "np.argmin(losses)\n"
   ]
  },
  {
   "cell_type": "code",
   "execution_count": 13,
   "id": "b5b24555-0f6b-4d55-9e17-2463cf116478",
   "metadata": {},
   "outputs": [
    {
     "data": {
      "text/plain": [
       "176.93093787299262"
      ]
     },
     "execution_count": 13,
     "metadata": {},
     "output_type": "execute_result"
    }
   ],
   "source": [
    "losses[491]"
   ]
  },
  {
   "cell_type": "code",
   "execution_count": 14,
   "id": "c0377d51-f796-45c3-a652-6918f1f8f66a",
   "metadata": {},
   "outputs": [
    {
     "name": "stderr",
     "output_type": "stream",
     "text": [
      "/home/av555/iclr/loaders.py:190: UserWarning: The given NumPy array is not writeable, and PyTorch does not support non-writeable tensors. This means you can write to the underlying (supposedly non-writeable) NumPy array using the tensor. You may want to copy the array to protect its data or make it writeable before converting it to a tensor. This type of warning will be suppressed for the rest of this program. (Triggered internally at  ../torch/csrc/utils/tensor_numpy.cpp:180.)\n",
      "  y_context = torch.from_numpy(self.y_context[index,...]).float()\n"
     ]
    },
    {
     "name": "stdout",
     "output_type": "stream",
     "text": [
      "Mean absolute error: 1.4068061113357544\n",
      "Pearson correlation: 0.9784008441391129\n",
      "Spearman correlation: 0.9808301092550032\n"
     ]
    }
   ],
   "source": [
    "# ConvCNP\n",
    "\n",
    "convcnp_path = \"/home/av555/iclr/exps_no_distance_scaling/convCNP_value_all/epoch_491\"\n",
    "concnp_model = convCNP(\n",
    "    in_channels=25)\n",
    "\n",
    "concnp_model, convcnp_epoch, convcnp_loss = load_model(convcnp_path, concnp_model)\n",
    "convcnp_preds, convcnp_targets = eval_model(concnp_model, val_loader)\n",
    "get_val_stats_bs(convcnp_preds, convcnp_targets)"
   ]
  },
  {
   "cell_type": "markdown",
   "id": "b192a66f-26ea-4232-a0af-7be46f229758",
   "metadata": {},
   "source": [
    "## convGNP-linear"
   ]
  },
  {
   "cell_type": "code",
   "execution_count": 15,
   "id": "60e08cc4-1c02-4162-912e-151a71a628d2",
   "metadata": {},
   "outputs": [],
   "source": [
    "exp_path = \"/home/av555/iclr/exps_no_distance_scaling/convGNP_linear_value_all/\"\n",
    "losses = np.load(exp_path+\"losses.npy\")"
   ]
  },
  {
   "cell_type": "code",
   "execution_count": 16,
   "id": "3ccb983b-26a0-48b1-a7d0-1b32a5dbe490",
   "metadata": {},
   "outputs": [
    {
     "data": {
      "text/plain": [
       "488"
      ]
     },
     "execution_count": 16,
     "metadata": {},
     "output_type": "execute_result"
    }
   ],
   "source": [
    "np.argmin(losses)\n"
   ]
  },
  {
   "cell_type": "code",
   "execution_count": 17,
   "id": "8460c5a9-0ac2-47ad-88b8-e88fb81624a9",
   "metadata": {},
   "outputs": [
    {
     "data": {
      "text/plain": [
       "154.25270927620696"
      ]
     },
     "execution_count": 17,
     "metadata": {},
     "output_type": "execute_result"
    }
   ],
   "source": [
    "losses[488]"
   ]
  },
  {
   "cell_type": "code",
   "execution_count": 18,
   "id": "c103fd80-c2da-484c-b2f5-d349b4d31c11",
   "metadata": {},
   "outputs": [
    {
     "name": "stdout",
     "output_type": "stream",
     "text": [
      "Mean absolute error: 1.3268150091171265\n",
      "Pearson correlation: 0.9804741269403658\n",
      "Spearman correlation: 0.9818639678864598\n"
     ]
    }
   ],
   "source": [
    "\n",
    "convcnp_path = \"/home/av555/iclr/exps_no_distance_scaling/convGNP_linear_value_all/epoch_488\"\n",
    "concnp_model = convGNPLinear()\n",
    "\n",
    "concnp_model, convcnp_epoch, convcnp_loss = load_model(convcnp_path, concnp_model)\n",
    "convcnp_preds, convcnp_targets = eval_model(concnp_model, val_loader)\n",
    "get_val_stats_bs(convcnp_preds, convcnp_targets)"
   ]
  },
  {
   "cell_type": "markdown",
   "id": "dd45ae6a-c0e7-4ff1-8e59-e19d35a0bdc2",
   "metadata": {},
   "source": [
    "## convGNP-kvv"
   ]
  },
  {
   "cell_type": "code",
   "execution_count": 19,
   "id": "f82e8cb9-e9b8-4189-b33f-c5001925d878",
   "metadata": {},
   "outputs": [],
   "source": [
    "exp_path = \"/home/av555/iclr/exps_no_distance_scaling/convGNP_kvv_value_all/\"\n",
    "losses = np.load(exp_path+\"losses.npy\")"
   ]
  },
  {
   "cell_type": "code",
   "execution_count": 20,
   "id": "ad800695-ad0e-4e1d-b462-6369a43fb641",
   "metadata": {},
   "outputs": [
    {
     "data": {
      "text/plain": [
       "[<matplotlib.lines.Line2D at 0x2af35de6ae48>]"
      ]
     },
     "execution_count": 20,
     "metadata": {},
     "output_type": "execute_result"
    },
    {
     "data": {
      "image/png": "[encoded data removed]",
      "text/plain": [
       "<Figure size 432x288 with 1 Axes>"
      ]
     },
     "metadata": {
      "needs_background": "light"
     },
     "output_type": "display_data"
    }
   ],
   "source": [
    "plt.plot(losses[10:])"
   ]
  },
  {
   "cell_type": "code",
   "execution_count": 21,
   "id": "f33f78f4-b4dc-41bb-9ad5-8f705cfad42b",
   "metadata": {},
   "outputs": [
    {
     "data": {
      "text/plain": [
       "401"
      ]
     },
     "execution_count": 21,
     "metadata": {},
     "output_type": "execute_result"
    }
   ],
   "source": [
    "np.argmin(losses)"
   ]
  },
  {
   "cell_type": "code",
   "execution_count": 23,
   "id": "9b26d0db-f690-46ba-8089-9ac937286ea9",
   "metadata": {},
   "outputs": [
    {
     "data": {
      "text/plain": [
       "157.02510723708323"
      ]
     },
     "execution_count": 23,
     "metadata": {},
     "output_type": "execute_result"
    }
   ],
   "source": [
    "losses[401]"
   ]
  },
  {
   "cell_type": "code",
   "execution_count": 24,
   "id": "8f565a5f-6457-4367-a763-5808210b9848",
   "metadata": {},
   "outputs": [
    {
     "name": "stdout",
     "output_type": "stream",
     "text": [
      "Mean absolute error: 1.298797070980072\n",
      "Pearson correlation: 0.9792437278412396\n",
      "Spearman correlation: 0.9813035674252262\n"
     ]
    }
   ],
   "source": [
    "# ConvCNP\n",
    "\n",
    "convcnp_path = \"/home/av555/iclr/exps_no_distance_scaling/convGNP_kvv_value_all/epoch_401\"\n",
    "concnp_model = convGNPKvv()\n",
    "\n",
    "concnp_model, convcnp_epoch, convcnp_loss = load_model(convcnp_path, concnp_model)\n",
    "convcnp_preds, convcnp_targets = eval_model(concnp_model, val_loader)\n",
    "get_val_stats_bs(convcnp_preds, convcnp_targets)"
   ]
  },
  {
   "cell_type": "markdown",
   "id": "a7d4dee8-db46-4c92-baed-055d13e0909a",
   "metadata": {},
   "source": [
    "## convNP"
   ]
  },
  {
   "cell_type": "code",
   "execution_count": 12,
   "id": "5e4f7a74-c9db-4494-9b72-3ea220b2dd28",
   "metadata": {
    "tags": []
   },
   "outputs": [
    {
     "ename": "FileNotFoundError",
     "evalue": "[Errno 2] No such file or directory: '/home/av555/iclr/exps_convNP/convNP_value_all/losses.npy'",
     "output_type": "error",
     "traceback": [
      "\u001b[0;31m---------------------------------------------------------------------------\u001b[0m",
      "\u001b[0;31mFileNotFoundError\u001b[0m                         Traceback (most recent call last)",
      "\u001b[0;32m<ipython-input-12-e37b7e58883b>\u001b[0m in \u001b[0;36m<module>\u001b[0;34m\u001b[0m\n\u001b[1;32m      1\u001b[0m \u001b[0mexp_path\u001b[0m \u001b[0;34m=\u001b[0m \u001b[0;34m\"/home/av555/iclr/exps_convNP/convNP_value_all/\"\u001b[0m\u001b[0;34m\u001b[0m\u001b[0;34m\u001b[0m\u001b[0m\n\u001b[0;32m----> 2\u001b[0;31m \u001b[0mlosses\u001b[0m \u001b[0;34m=\u001b[0m \u001b[0mnp\u001b[0m\u001b[0;34m.\u001b[0m\u001b[0mload\u001b[0m\u001b[0;34m(\u001b[0m\u001b[0mexp_path\u001b[0m\u001b[0;34m+\u001b[0m\u001b[0;34m\"losses.npy\"\u001b[0m\u001b[0;34m)\u001b[0m\u001b[0;34m\u001b[0m\u001b[0;34m\u001b[0m\u001b[0m\n\u001b[0m",
      "\u001b[0;32m~/iclr_exps/lib64/python3.6/site-packages/numpy/lib/npyio.py\u001b[0m in \u001b[0;36mload\u001b[0;34m(file, mmap_mode, allow_pickle, fix_imports, encoding)\u001b[0m\n\u001b[1;32m    414\u001b[0m             \u001b[0mown_fid\u001b[0m \u001b[0;34m=\u001b[0m \u001b[0;32mFalse\u001b[0m\u001b[0;34m\u001b[0m\u001b[0;34m\u001b[0m\u001b[0m\n\u001b[1;32m    415\u001b[0m         \u001b[0;32melse\u001b[0m\u001b[0;34m:\u001b[0m\u001b[0;34m\u001b[0m\u001b[0;34m\u001b[0m\u001b[0m\n\u001b[0;32m--> 416\u001b[0;31m             \u001b[0mfid\u001b[0m \u001b[0;34m=\u001b[0m \u001b[0mstack\u001b[0m\u001b[0;34m.\u001b[0m\u001b[0menter_context\u001b[0m\u001b[0;34m(\u001b[0m\u001b[0mopen\u001b[0m\u001b[0;34m(\u001b[0m\u001b[0mos_fspath\u001b[0m\u001b[0;34m(\u001b[0m\u001b[0mfile\u001b[0m\u001b[0;34m)\u001b[0m\u001b[0;34m,\u001b[0m \u001b[0;34m\"rb\"\u001b[0m\u001b[0;34m)\u001b[0m\u001b[0;34m)\u001b[0m\u001b[0;34m\u001b[0m\u001b[0;34m\u001b[0m\u001b[0m\n\u001b[0m\u001b[1;32m    417\u001b[0m             \u001b[0mown_fid\u001b[0m \u001b[0;34m=\u001b[0m \u001b[0;32mTrue\u001b[0m\u001b[0;34m\u001b[0m\u001b[0;34m\u001b[0m\u001b[0m\n\u001b[1;32m    418\u001b[0m \u001b[0;34m\u001b[0m\u001b[0m\n",
      "\u001b[0;31mFileNotFoundError\u001b[0m: [Errno 2] No such file or directory: '/home/av555/iclr/exps_convNP/convNP_value_all/losses.npy'"
     ]
    }
   ],
   "source": [
    "exp_path = \"/home/av555/iclr/exps_convNP/convNP_value_all/\"\n",
    "losses = np.load(exp_path+\"losses.npy\")"
   ]
  },
  {
   "cell_type": "code",
   "execution_count": 13,
   "id": "4bf09613-8ea9-4d31-8446-0477c702e9f2",
   "metadata": {},
   "outputs": [
    {
     "name": "stdout",
     "output_type": "stream",
     "text": [
      "epoch_0   epoch_13  epoch_21  epoch_3\tepoch_41  epoch_7\n",
      "epoch_1   epoch_18  epoch_22  epoch_37\tepoch_5   epoch_89\n",
      "epoch_12  epoch_2   epoch_25  epoch_4\tepoch_6\n"
     ]
    }
   ],
   "source": [
    "!ls /home/av555/iclr/exps_convNP/convNP_value_all"
   ]
  },
  {
   "cell_type": "code",
   "execution_count": 15,
   "id": "9cd0e76f-0bda-4f1b-b387-28dfd0860dbd",
   "metadata": {},
   "outputs": [],
   "source": [
    "# ConvCNP\n",
    "\n",
    "convcnp_path = \"/home/av555/iclr/exps_convNP/convNP_value_all/epoch_89\"\n",
    "concnp_model = convNP(\n",
    "    ls = 0.02,\n",
    "    n_samples=24,\n",
    "    n_latent_vars=32)\n",
    "\n",
    "concnp_model, convcnp_epoch, convcnp_loss = load_model(convcnp_path, concnp_model)"
   ]
  },
  {
   "cell_type": "code",
   "execution_count": 16,
   "id": "b775920b-c9be-4b37-9ef1-7ec0df33e6af",
   "metadata": {},
   "outputs": [
    {
     "name": "stderr",
     "output_type": "stream",
     "text": [
      "/home/av555/iclr/loaders.py:190: UserWarning: The given NumPy array is not writeable, and PyTorch does not support non-writeable tensors. This means you can write to the underlying (supposedly non-writeable) NumPy array using the tensor. You may want to copy the array to protect its data or make it writeable before converting it to a tensor. This type of warning will be suppressed for the rest of this program. (Triggered internally at  ../torch/csrc/utils/tensor_numpy.cpp:180.)\n",
      "  y_context = torch.from_numpy(self.y_context[index,...]).float()\n"
     ]
    }
   ],
   "source": [
    "convcnp_preds, convcnp_targets = eval_model(concnp_model, val_loader)\n"
   ]
  },
  {
   "cell_type": "code",
   "execution_count": 17,
   "id": "003a8aa1-96aa-471a-8668-79ddd8c9bfff",
   "metadata": {},
   "outputs": [],
   "source": [
    "def get_val_stats_bs_convNP(predictions, targets): \n",
    "\n",
    "        maes = np.zeros(predictions.shape[2])\n",
    "        spearmans = np.zeros(predictions.shape[2])\n",
    "        pearsons = np.zeros(predictions.shape[2])\n",
    "\n",
    "        for st in range(predictions.shape[2]):\n",
    "            # Get station\n",
    "            true_mean = targets[:, st]\n",
    "            pred_mean = predictions[:,:, st,0]\n",
    "\n",
    "            # Remove nans\n",
    "            pred_mean = pred_mean[:,~np.isnan(true_mean)]\n",
    "            true_mean = true_mean[~np.isnan(true_mean)]\n",
    "\n",
    "            try:\n",
    "                maes[st] = np.mean(np.abs(true_mean - pred_mean))\n",
    "            except:\n",
    "                maes[st] = np.nan\n",
    "                continue\n",
    "        print(\"Mean absolute error: {}\".format(np.nanmedian(maes)))\n",
    "        "
   ]
  },
  {
   "cell_type": "code",
   "execution_count": 18,
   "id": "9dbcb936-ea6b-4b45-8b35-12ff6fab3533",
   "metadata": {},
   "outputs": [
    {
     "name": "stdout",
     "output_type": "stream",
     "text": [
      "Mean absolute error: 280.46897888183594\n"
     ]
    }
   ],
   "source": [
    "get_val_stats_bs_convNP(convcnp_preds, convcnp_targets)"
   ]
  },
  {
   "cell_type": "code",
   "execution_count": null,
   "id": "c44a5716-f69d-4784-ae6c-252313077376",
   "metadata": {},
   "outputs": [],
   "source": []
  }
 ],
 "metadata": {
  "kernelspec": {
   "display_name": "iclr_exps",
   "language": "python",
   "name": "iclr_exps"
  },
  "language_info": {
   "codemirror_mode": {
    "name": "ipython",
    "version": 3
   },
   "file_extension": ".py",
   "mimetype": "text/x-python",
   "name": "python",
   "nbconvert_exporter": "python",
   "pygments_lexer": "ipython3",
   "version": "3.6.8"
  }
 },
 "nbformat": 4,
 "nbformat_minor": 5
}
