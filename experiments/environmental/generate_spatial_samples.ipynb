{
 "cells": [
  {
   "cell_type": "code",
   "execution_count": 6,
   "id": "5fb59e33-cee4-4603-b466-c7a3dbfddc75",
   "metadata": {},
   "outputs": [],
   "source": [
    "import sys\n",
    "sys.path.append('/home/av555/iclr/')"
   ]
  },
  {
   "cell_type": "code",
   "execution_count": 7,
   "id": "717580a1-b946-47b0-a4f0-251086645a93",
   "metadata": {},
   "outputs": [],
   "source": [
    "from architectures import *\n",
    "from trainer import *\n",
    "from loaders import *\n",
    "from models import *\n",
    "from utils import *"
   ]
  },
  {
   "cell_type": "code",
   "execution_count": 8,
   "id": "aaeffe9b-5b8a-4f09-87a8-32c17256fc16",
   "metadata": {},
   "outputs": [],
   "source": [
    "import numpy as np\n",
    "from matplotlib import pyplot as plt\n",
    "import torch\n",
    "from matplotlib import pyplot as plt"
   ]
  },
  {
   "cell_type": "code",
   "execution_count": 9,
   "id": "de662d02-98a4-44bc-be3d-8edaffebab7c",
   "metadata": {},
   "outputs": [
    {
     "ename": "ModuleNotFoundError",
     "evalue": "No module named 'xarray'",
     "output_type": "error",
     "traceback": [
      "\u001b[0;31m---------------------------------------------------------------------------\u001b[0m",
      "\u001b[0;31mModuleNotFoundError\u001b[0m                       Traceback (most recent call last)",
      "\u001b[0;32m<ipython-input-9-14832945714e>\u001b[0m in \u001b[0;36m<module>\u001b[0;34m\u001b[0m\n\u001b[1;32m      1\u001b[0m \u001b[0;32mimport\u001b[0m \u001b[0mcmocean\u001b[0m\u001b[0;34m\u001b[0m\u001b[0;34m\u001b[0m\u001b[0m\n\u001b[1;32m      2\u001b[0m \u001b[0;32mimport\u001b[0m \u001b[0mcmocean\u001b[0m\u001b[0;34m.\u001b[0m\u001b[0mcm\u001b[0m \u001b[0;32mas\u001b[0m \u001b[0mcmo\u001b[0m\u001b[0;34m\u001b[0m\u001b[0;34m\u001b[0m\u001b[0m\n\u001b[0;32m----> 3\u001b[0;31m \u001b[0;32mimport\u001b[0m \u001b[0mxarray\u001b[0m \u001b[0;32mas\u001b[0m \u001b[0mxr\u001b[0m\u001b[0;34m\u001b[0m\u001b[0;34m\u001b[0m\u001b[0m\n\u001b[0m",
      "\u001b[0;31mModuleNotFoundError\u001b[0m: No module named 'xarray'"
     ]
    }
   ],
   "source": [
    "import cmocean\n",
    "import cmocean.cm as cmo\n",
    "import xarray as xr"
   ]
  },
  {
   "cell_type": "code",
   "execution_count": null,
   "id": "08652655-6f68-4fb5-adce-9b933c71bb53",
   "metadata": {},
   "outputs": [],
   "source": [
    "!pip3 install cmocean"
   ]
  },
  {
   "cell_type": "markdown",
   "id": "74f07024-28a7-4fc0-a2f7-12ab56a3395b",
   "metadata": {},
   "source": [
    "## Utils"
   ]
  },
  {
   "cell_type": "code",
   "execution_count": null,
   "id": "6f1161aa-fde3-45bc-94df-e0ed4493c88a",
   "metadata": {},
   "outputs": [],
   "source": []
  },
  {
   "cell_type": "code",
   "execution_count": 4,
   "id": "be643cca-ac08-450b-8997-51f5ea8e6640",
   "metadata": {},
   "outputs": [],
   "source": [
    "def load_model(path, model):\n",
    "\n",
    "    checkpoint = torch.load(path, map_location=torch.device('cpu'))\n",
    "    model.load_state_dict(checkpoint['model_state_dict'])\n",
    "    epoch = checkpoint['epoch']\n",
    "    loss = checkpoint['loss']\n",
    "\n",
    "    model.eval()\n",
    "    return model, epoch, loss\n"
   ]
  },
  {
   "cell_type": "code",
   "execution_count": 5,
   "id": "14fddab2-e955-4939-94e8-15cd942366c7",
   "metadata": {},
   "outputs": [],
   "source": [
    "def eval_model(model, val_loader):\n",
    "    preds = []\n",
    "    targets = []\n",
    "\n",
    "    with torch.no_grad():\n",
    "        for task in val_loader:\n",
    "            task[\"dists\"] = task[\"dists\"][0,...]\n",
    "            out = model(task)\n",
    "            preds.append(out)\n",
    "            targets.append(task[\"y_target\"])\n",
    "\n",
    "    #concat full arrays\n",
    "    preds = torch.cat(preds, dim = 0)\n",
    "    targets = torch.cat(targets, dim = 0)\n",
    "\n",
    "    #To cpu\n",
    "    preds = preds.cpu().numpy()\n",
    "    targets = targets.cpu().numpy()\n",
    "\n",
    "    return preds, targets"
   ]
  },
  {
   "cell_type": "code",
   "execution_count": 6,
   "id": "e3c36f7a-cf47-44eb-8117-cd0472cf4989",
   "metadata": {},
   "outputs": [],
   "source": [
    "def get_val_stats_bs(predictions, targets):\n",
    "        \n",
    "\n",
    "        maes = np.zeros(predictions.shape[1])\n",
    "        spearmans = np.zeros(predictions.shape[1])\n",
    "        pearsons = np.zeros(predictions.shape[1])\n",
    "\n",
    "        for st in range(predictions.shape[1]):\n",
    "            # Get station\n",
    "            true_mean = targets[:, st]\n",
    "            pred_mean = predictions[:, st,0]\n",
    "            # Remove nans\n",
    "            pred_mean = pred_mean[~np.isnan(true_mean)]\n",
    "            true_mean = true_mean[~np.isnan(true_mean)]\n",
    "\n",
    "            try:\n",
    "                maes[st] = np.mean(np.abs(true_mean - pred_mean))\n",
    "                pearsons[st] = scipy.stats.pearsonr(pred_mean, true_mean)[0]\n",
    "                spearmans[st] = scipy.stats.spearmanr(pred_mean, true_mean).correlation\n",
    "            except:\n",
    "                maes[st] = np.nan\n",
    "                pearsons[st] = np.nan\n",
    "                spearmans[st] = np.nan\n",
    "                continue\n",
    "        print(\"Mean absolute error: {}\".format(np.nanmedian(maes)))\n",
    "        print(\"Pearson correlation: {}\".format(np.nanmedian(pearsons)))\n",
    "        print(\"Spearman correlation: {}\".format(np.nanmedian(spearmans)))"
   ]
  },
  {
   "cell_type": "code",
   "execution_count": 7,
   "id": "103747ba-9e43-4dfe-9801-ce4b632b5737",
   "metadata": {},
   "outputs": [],
   "source": [
    "use_cpu = True\n",
    "device = torch.device('cpu') if use_cpu else torch.device('cuda')\n"
   ]
  },
  {
   "cell_type": "markdown",
   "id": "79f12afe-3a60-4379-bcf5-b2d3980c29f5",
   "metadata": {},
   "source": [
    "## Data loader"
   ]
  },
  {
   "cell_type": "code",
   "execution_count": 23,
   "id": "5b847b36-a6a1-41a2-8f0e-d4537f20c551",
   "metadata": {},
   "outputs": [],
   "source": [
    "class UKHighResLoader(Dataset):\n",
    "  \n",
    "  def __init__(self, \n",
    "               data_dir, \n",
    "               device):\n",
    "\n",
    "        super().__init__()\n",
    "\n",
    "        self.DATA_DIR = data_dir\n",
    "        self.device=device\n",
    "\n",
    "        self.x_context = np.load(\n",
    "            self.DATA_DIR+\"context/x_context_coarse_final.npy\")\n",
    "        self.y_context = np.load(\n",
    "            self.DATA_DIR+\"context/y_context_coarse_final.npy\", mmap_mode=\"r\")[:8766,...]\n",
    "        \n",
    "        self.x_target = np.load(\n",
    "            self.DATA_DIR+\"spatial_samples/target_uk.npy\")\n",
    "        self.elev = np.load(\n",
    "            self.DATA_DIR+\"spatial_samples/elev_uk.npy\")\n",
    "\n",
    "        # Calculate dists and scale\n",
    "        self.dists = get_dists(self.x_target, \n",
    "                                self.x_context[...,0], \n",
    "                                self.x_context[...,1])\n",
    "        #x_scaler = MinMaxScaler().fit(self.dists.reshape(-1,1))\n",
    "        #self.dists = x_scaler.transform(self.dists.reshape(-1,1)).reshape(self.dists.shape)\n",
    "\n",
    "  def __len__(self):\n",
    "        'Denotes the total number of samples'\n",
    "        return self.y_context.shape[0]\n",
    "\n",
    "  def __getitem__(self, index):\n",
    "        'Generates one sample of data'\n",
    "        y_context = torch.from_numpy(self.y_context[index,...]).float()\n",
    "        dists = torch.from_numpy(self.dists).float()\n",
    "        elev = torch.from_numpy(self.elev).float()\n",
    "        x_target = torch.from_numpy(self.x_target).float()\n",
    "\n",
    "        return {\"y_context\":y_context.to(self.device),  \n",
    "                \"x_target\":x_target.to(self.device),\n",
    "                \"dists\":dists.to(self.device),\n",
    "                \"elev\":elev.to(self.device)}"
   ]
  },
  {
   "cell_type": "markdown",
   "id": "011b4883-68b5-4abc-90f8-658cd6557381",
   "metadata": {},
   "source": [
    "## Load model and plot"
   ]
  },
  {
   "cell_type": "code",
   "execution_count": 38,
   "id": "5ebbd003-f701-47af-b0b0-9b5c2d3d2cc1",
   "metadata": {},
   "outputs": [],
   "source": [
    "use_cpu = True\n",
    "device = torch.device('cpu') if use_cpu else torch.device('cuda')"
   ]
  },
  {
   "cell_type": "code",
   "execution_count": 39,
   "id": "c9b5b9d9-1466-4f6f-8da0-680621ae6ce1",
   "metadata": {},
   "outputs": [],
   "source": [
    "# data\n",
    "val_ds = UKHighResLoader(\"/home/av555/iclr/data/\", device=device)\n",
    "val_loader = DataLoader(\n",
    "    val_ds, batch_size = 16, shuffle = False)"
   ]
  },
  {
   "cell_type": "code",
   "execution_count": 40,
   "id": "137ba1ce-4266-4891-8f35-1f6806693348",
   "metadata": {},
   "outputs": [],
   "source": [
    "# ConvCNP\n",
    "\n",
    "convcnp_path = \"/home/av555/iclr/exps/convCNP_value_all/epoch_459\"\n",
    "concnp_model = convCNP(\n",
    "    in_channels=25)\n",
    "\n",
    "concnp_model, convcnp_epoch, convcnp_loss = load_model(convcnp_path, concnp_model)"
   ]
  },
  {
   "cell_type": "code",
   "execution_count": 41,
   "id": "b22cd69a-d9e2-4663-acd2-e37f2c2fe6f9",
   "metadata": {},
   "outputs": [],
   "source": [
    "for i in val_loader:\n",
    "    test = i\n",
    "    break"
   ]
  },
  {
   "cell_type": "code",
   "execution_count": 42,
   "id": "dbb14197-d69f-4c22-b540-2fd633ad3f02",
   "metadata": {},
   "outputs": [
    {
     "name": "stdout",
     "output_type": "stream",
     "text": [
      "y_context\n",
      "torch.Size([16, 25, 32, 19])\n",
      "x_target\n",
      "torch.Size([16, 2838, 2])\n",
      "dists\n",
      "torch.Size([16, 2838, 32, 19])\n",
      "elev\n",
      "torch.Size([16, 2838, 3])\n"
     ]
    }
   ],
   "source": [
    "for key in test.keys():\n",
    "    print(key)\n",
    "    print(test[key].shape)"
   ]
  },
  {
   "cell_type": "code",
   "execution_count": 3,
   "id": "0bb39932-085d-422e-9fad-3b836066775a",
   "metadata": {},
   "outputs": [
    {
     "ename": "NameError",
     "evalue": "name 'test' is not defined",
     "output_type": "error",
     "traceback": [
      "\u001b[0;31m---------------------------------------------------------------------------\u001b[0m",
      "\u001b[0;31mNameError\u001b[0m                                 Traceback (most recent call last)",
      "\u001b[0;32m<ipython-input-3-a3d6f3c0537b>\u001b[0m in \u001b[0;36m<module>\u001b[0;34m\u001b[0m\n\u001b[0;32m----> 1\u001b[0;31m \u001b[0mtest\u001b[0m\u001b[0;34m[\u001b[0m\u001b[0;34m\"dists\"\u001b[0m\u001b[0;34m]\u001b[0m \u001b[0;34m=\u001b[0m \u001b[0mtest\u001b[0m\u001b[0;34m[\u001b[0m\u001b[0;34m\"dists\"\u001b[0m\u001b[0;34m]\u001b[0m\u001b[0;34m[\u001b[0m\u001b[0;36m0\u001b[0m\u001b[0;34m,\u001b[0m\u001b[0;34m...\u001b[0m\u001b[0;34m]\u001b[0m\u001b[0;34m\u001b[0m\u001b[0;34m\u001b[0m\u001b[0m\n\u001b[0m\u001b[1;32m      2\u001b[0m \u001b[0mout\u001b[0m \u001b[0;34m=\u001b[0m \u001b[0mconcnp_model\u001b[0m\u001b[0;34m(\u001b[0m\u001b[0mtest\u001b[0m\u001b[0;34m)\u001b[0m\u001b[0;34m\u001b[0m\u001b[0;34m\u001b[0m\u001b[0m\n",
      "\u001b[0;31mNameError\u001b[0m: name 'test' is not defined"
     ]
    }
   ],
   "source": [
    "test[\"dists\"] = test[\"dists\"][0,...]\n",
    "out = concnp_model(test)"
   ]
  },
  {
   "cell_type": "code",
   "execution_count": 4,
   "id": "5a5d372c-5dc2-47ac-821c-ee8f3a87af17",
   "metadata": {},
   "outputs": [
    {
     "ename": "NameError",
     "evalue": "name 'val_ds' is not defined",
     "output_type": "error",
     "traceback": [
      "\u001b[0;31m---------------------------------------------------------------------------\u001b[0m",
      "\u001b[0;31mNameError\u001b[0m                                 Traceback (most recent call last)",
      "\u001b[0;32m<ipython-input-4-6ad212a0ac32>\u001b[0m in \u001b[0;36m<module>\u001b[0;34m\u001b[0m\n\u001b[0;32m----> 1\u001b[0;31m \u001b[0mx\u001b[0m \u001b[0;34m=\u001b[0m \u001b[0mval_ds\u001b[0m\u001b[0;34m.\u001b[0m\u001b[0mx_target\u001b[0m\u001b[0;34m[\u001b[0m\u001b[0;34m...\u001b[0m\u001b[0;34m,\u001b[0m\u001b[0;36m0\u001b[0m\u001b[0;34m]\u001b[0m\u001b[0;34m.\u001b[0m\u001b[0mreshape\u001b[0m\u001b[0;34m(\u001b[0m\u001b[0;36m66\u001b[0m\u001b[0;34m,\u001b[0m\u001b[0;36m43\u001b[0m\u001b[0;34m)\u001b[0m\u001b[0;34m\u001b[0m\u001b[0;34m\u001b[0m\u001b[0m\n\u001b[0m\u001b[1;32m      2\u001b[0m \u001b[0my\u001b[0m \u001b[0;34m=\u001b[0m \u001b[0mval_ds\u001b[0m\u001b[0;34m.\u001b[0m\u001b[0mx_target\u001b[0m\u001b[0;34m[\u001b[0m\u001b[0;34m...\u001b[0m\u001b[0;34m,\u001b[0m\u001b[0;36m1\u001b[0m\u001b[0;34m]\u001b[0m\u001b[0;34m.\u001b[0m\u001b[0mreshape\u001b[0m\u001b[0;34m(\u001b[0m\u001b[0;36m66\u001b[0m\u001b[0;34m,\u001b[0m\u001b[0;36m43\u001b[0m\u001b[0;34m)\u001b[0m\u001b[0;34m\u001b[0m\u001b[0;34m\u001b[0m\u001b[0m\n\u001b[1;32m      3\u001b[0m \u001b[0mz\u001b[0m \u001b[0;34m=\u001b[0m \u001b[0mout\u001b[0m\u001b[0;34m[\u001b[0m\u001b[0;36m0\u001b[0m\u001b[0;34m,\u001b[0m\u001b[0;34m:\u001b[0m\u001b[0;34m,\u001b[0m\u001b[0;36m0\u001b[0m\u001b[0;34m]\u001b[0m\u001b[0;34m.\u001b[0m\u001b[0mdetach\u001b[0m\u001b[0;34m(\u001b[0m\u001b[0;34m)\u001b[0m\u001b[0;34m.\u001b[0m\u001b[0mnumpy\u001b[0m\u001b[0;34m(\u001b[0m\u001b[0;34m)\u001b[0m\u001b[0;34m.\u001b[0m\u001b[0mreshape\u001b[0m\u001b[0;34m(\u001b[0m\u001b[0;36m66\u001b[0m\u001b[0;34m,\u001b[0m\u001b[0;36m43\u001b[0m\u001b[0;34m)\u001b[0m\u001b[0;34m\u001b[0m\u001b[0;34m\u001b[0m\u001b[0m\n",
      "\u001b[0;31mNameError\u001b[0m: name 'val_ds' is not defined"
     ]
    }
   ],
   "source": [
    "x = val_ds.x_target[...,0].reshape(66,43)\n",
    "y = val_ds.x_target[...,1].reshape(66,43)\n",
    "z = out[0,:,0].detach().numpy().reshape(66,43)"
   ]
  },
  {
   "cell_type": "code",
   "execution_count": 5,
   "id": "6b3de5bd-8435-481e-b098-83111773e752",
   "metadata": {},
   "outputs": [
    {
     "ename": "NameError",
     "evalue": "name 'x' is not defined",
     "output_type": "error",
     "traceback": [
      "\u001b[0;31m---------------------------------------------------------------------------\u001b[0m",
      "\u001b[0;31mNameError\u001b[0m                                 Traceback (most recent call last)",
      "\u001b[0;32m<ipython-input-5-32833eefb917>\u001b[0m in \u001b[0;36m<module>\u001b[0;34m\u001b[0m\n\u001b[0;32m----> 1\u001b[0;31m \u001b[0mp\u001b[0m \u001b[0;34m=\u001b[0m \u001b[0mplt\u001b[0m\u001b[0;34m.\u001b[0m\u001b[0mpcolormesh\u001b[0m\u001b[0;34m(\u001b[0m\u001b[0mx\u001b[0m\u001b[0;34m,\u001b[0m \u001b[0my\u001b[0m\u001b[0;34m,\u001b[0m \u001b[0mz\u001b[0m\u001b[0;34m,\u001b[0m \u001b[0mcmap\u001b[0m\u001b[0;34m=\u001b[0m\u001b[0;34m\"seismic\"\u001b[0m\u001b[0;34m,\u001b[0m \u001b[0mvmin\u001b[0m\u001b[0;34m=\u001b[0m\u001b[0;34m-\u001b[0m\u001b[0;36m25\u001b[0m\u001b[0;34m,\u001b[0m \u001b[0mvmax\u001b[0m\u001b[0;34m=\u001b[0m\u001b[0;36m25\u001b[0m\u001b[0;34m)\u001b[0m \u001b[0;31m#, transform=rotated_pole)\u001b[0m\u001b[0;34m\u001b[0m\u001b[0;34m\u001b[0m\u001b[0m\n\u001b[0m\u001b[1;32m      2\u001b[0m \u001b[0mc\u001b[0m \u001b[0;34m=\u001b[0m \u001b[0mplt\u001b[0m\u001b[0;34m.\u001b[0m\u001b[0mcolorbar\u001b[0m\u001b[0;34m(\u001b[0m\u001b[0mp\u001b[0m\u001b[0;34m,\u001b[0m \u001b[0morientation\u001b[0m\u001b[0;34m=\u001b[0m\u001b[0;34m\"horizontal\"\u001b[0m\u001b[0;34m,\u001b[0m \u001b[0mpad\u001b[0m\u001b[0;34m=\u001b[0m\u001b[0;36m0.01\u001b[0m\u001b[0;34m,\u001b[0m \u001b[0mshrink\u001b[0m\u001b[0;34m=\u001b[0m\u001b[0;36m0.8\u001b[0m\u001b[0;34m)\u001b[0m\u001b[0;34m\u001b[0m\u001b[0;34m\u001b[0m\u001b[0m\n",
      "\u001b[0;31mNameError\u001b[0m: name 'x' is not defined"
     ]
    }
   ],
   "source": [
    "p = plt.pcolormesh(x, y, z, cmap=\"seismic\", vmin=-25, vmax=25) #, transform=rotated_pole)\n",
    "c = plt.colorbar(p, orientation=\"horizontal\", pad=0.01, shrink=0.8)"
   ]
  },
  {
   "cell_type": "code",
   "execution_count": null,
   "id": "7e8947fe-e195-45e0-9498-4d1cc5428288",
   "metadata": {},
   "outputs": [],
   "source": []
  }
 ],
 "metadata": {
  "kernelspec": {
   "display_name": "iclr_exps",
   "language": "python",
   "name": "iclr_exps"
  },
  "language_info": {
   "codemirror_mode": {
    "name": "ipython",
    "version": 3
   },
   "file_extension": ".py",
   "mimetype": "text/x-python",
   "name": "python",
   "nbconvert_exporter": "python",
   "pygments_lexer": "ipython3",
   "version": "3.6.8"
  }
 },
 "nbformat": 4,
 "nbformat_minor": 5
}
