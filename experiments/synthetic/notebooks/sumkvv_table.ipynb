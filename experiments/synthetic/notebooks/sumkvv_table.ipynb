{
 "metadata": {
  "language_info": {
   "codemirror_mode": {
    "name": "ipython",
    "version": 3
   },
   "file_extension": ".py",
   "mimetype": "text/x-python",
   "name": "python",
   "nbconvert_exporter": "python",
   "pygments_lexer": "ipython3",
   "version": "3.9.4"
  },
  "orig_nbformat": 2,
  "kernelspec": {
   "name": "python394jvsc74a57bd007e09e51603faf9d273069e0231412342890f16960bab31fd58c6b476b0dadcb",
   "display_name": "Python 3.9.4 64-bit ('kernelcnp': conda)"
  }
 },
 "nbformat": 4,
 "nbformat_minor": 2,
 "cells": [
  {
   "cell_type": "code",
   "execution_count": 1,
   "metadata": {},
   "outputs": [],
   "source": [
    "import warnings\n",
    "warnings.filterwarnings('ignore')"
   ]
  },
  {
   "cell_type": "code",
   "execution_count": 2,
   "metadata": {},
   "outputs": [],
   "source": [
    "import pandas as pd\n",
    "import numpy as np\n",
    "from cnp.experiment import WorkingDirectory, generate_root\n",
    "import os\n",
    "import matplotlib.pyplot as plt\n",
    "import matplotlib\n",
    "\n",
    "os.chdir('/home/jamesrequeima/code/kernelcnp/experiments/synthetic/results/weakly-periodic/models/convGNP/sum-kvv-homo/seed-0/dim-1')"
   ]
  },
  {
   "cell_type": "code",
   "execution_count": 6,
   "metadata": {},
   "outputs": [
    {
     "output_type": "stream",
     "name": "stderr",
     "text": [
      "/home/jamesrequeima/miniconda3/envs/kernelcnp/lib/python3.9/site-packages/ipykernel/ipkernel.py:283: DeprecationWarning: `should_run_async` will not call `transform_cell` automatically in the future. Please pass the result to `transformed_cell` argument and any exception that happen during thetransform in `preprocessing_exc_tuple` in IPython 7.17 and above.\n  and should_run_async(code)\n"
     ]
    }
   ],
   "source": [
    "basis = [\"2\", '8', \"64\", \"128\", \"512\", \"4096\"]\n",
    "colours = [\"tab:blue\", \"tab:orange\", \"tab:purple\", \"tab:olive\", \"tab:red\", \"tab:green\"]\n",
    "markers = [\"o\", \"x\", \"s\", \"v\", \"D\", \"*\"]\n",
    "sums = [\"1\", \"2\", \"8\", \"16\", \"64\"]\n"
   ]
  },
  {
   "cell_type": "code",
   "execution_count": 9,
   "metadata": {},
   "outputs": [
    {
     "output_type": "stream",
     "name": "stderr",
     "text": [
      "/home/jamesrequeima/miniconda3/envs/kernelcnp/lib/python3.9/site-packages/ipykernel/ipkernel.py:283: DeprecationWarning: `should_run_async` will not call `transform_cell` automatically in the future. Please pass the result to `transformed_cell` argument and any exception that happen during thetransform in `preprocessing_exc_tuple` in IPython 7.17 and above.\n  and should_run_async(code)\n"
     ]
    }
   ],
   "source": [
    "experiments = []\n",
    "row_labels = []\n",
    "column_labels = []\n",
    "for m, colour in zip(basis, colours):\n",
    "    for c, marker in zip(sums, markers):          \n",
    "        experiment_name = os.path.join(f'basis-{m}', \n",
    "                                        f'sum-elements-{c}')\n",
    "\n",
    "        wd = WorkingDirectory(root=experiment_name, print_root=False)\n",
    "        experiments.append((m, c, colour, marker, wd.root))\n",
    "                \n",
    "row_labels.append(\"Oracle-GP\")\n",
    "                \n",
    "for m in basis:\n",
    "    for c in sums:\n",
    "        row_labels.append(f'basis-{m}-sum-{c}')\n",
    "        \n",
    "\n",
    "d = \"weakly-periodic\"\n",
    "column_labels.append(f'{d}')\n",
    "column_labels.append(f'{d}-error')\n",
    "column_labels.append(f'{d}-iterations')\n",
    "column_labels.append(f'{d}-num-params')\n",
    "\n",
    "column_labels.append(\"marker\")\n",
    "column_labels.append(\"colour\")\n",
    "\n",
    "\n",
    "# Create an empty dataframe\n",
    "df = pd.DataFrame(index=row_labels, columns=column_labels)"
   ]
  },
  {
   "cell_type": "code",
   "execution_count": 10,
   "metadata": {},
   "outputs": [
    {
     "output_type": "stream",
     "name": "stderr",
     "text": [
      "/home/jamesrequeima/miniconda3/envs/kernelcnp/lib/python3.9/site-packages/ipykernel/ipkernel.py:283: DeprecationWarning: `should_run_async` will not call `transform_cell` automatically in the future. Please pass the result to `transformed_cell` argument and any exception that happen during thetransform in `preprocessing_exc_tuple` in IPython 7.17 and above.\n  and should_run_async(code)\n"
     ]
    },
    {
     "output_type": "execute_result",
     "data": {
      "text/plain": [
       "                  weakly-periodic weakly-periodic-error  \\\n",
       "Oracle-GP                     NaN                   NaN   \n",
       "basis-2-sum-1                 NaN                   NaN   \n",
       "basis-2-sum-2                 NaN                   NaN   \n",
       "basis-2-sum-8                 NaN                   NaN   \n",
       "basis-2-sum-16                NaN                   NaN   \n",
       "basis-2-sum-64                NaN                   NaN   \n",
       "basis-8-sum-1                 NaN                   NaN   \n",
       "basis-8-sum-2                 NaN                   NaN   \n",
       "basis-8-sum-8                 NaN                   NaN   \n",
       "basis-8-sum-16                NaN                   NaN   \n",
       "basis-8-sum-64                NaN                   NaN   \n",
       "basis-64-sum-1                NaN                   NaN   \n",
       "basis-64-sum-2                NaN                   NaN   \n",
       "basis-64-sum-8                NaN                   NaN   \n",
       "basis-64-sum-16               NaN                   NaN   \n",
       "basis-64-sum-64               NaN                   NaN   \n",
       "basis-128-sum-1               NaN                   NaN   \n",
       "basis-128-sum-2               NaN                   NaN   \n",
       "basis-128-sum-8               NaN                   NaN   \n",
       "basis-128-sum-16              NaN                   NaN   \n",
       "basis-128-sum-64              NaN                   NaN   \n",
       "basis-512-sum-1               NaN                   NaN   \n",
       "basis-512-sum-2               NaN                   NaN   \n",
       "basis-512-sum-8               NaN                   NaN   \n",
       "basis-512-sum-16              NaN                   NaN   \n",
       "basis-512-sum-64              NaN                   NaN   \n",
       "basis-4096-sum-1              NaN                   NaN   \n",
       "basis-4096-sum-2              NaN                   NaN   \n",
       "basis-4096-sum-8              NaN                   NaN   \n",
       "basis-4096-sum-16             NaN                   NaN   \n",
       "basis-4096-sum-64             NaN                   NaN   \n",
       "\n",
       "                  weakly-periodic-iterations weakly-periodic-num-params  \\\n",
       "Oracle-GP                                NaN                        NaN   \n",
       "basis-2-sum-1                            NaN                        NaN   \n",
       "basis-2-sum-2                            NaN                        NaN   \n",
       "basis-2-sum-8                            NaN                        NaN   \n",
       "basis-2-sum-16                           NaN                        NaN   \n",
       "basis-2-sum-64                           NaN                        NaN   \n",
       "basis-8-sum-1                            NaN                        NaN   \n",
       "basis-8-sum-2                            NaN                        NaN   \n",
       "basis-8-sum-8                            NaN                        NaN   \n",
       "basis-8-sum-16                           NaN                        NaN   \n",
       "basis-8-sum-64                           NaN                        NaN   \n",
       "basis-64-sum-1                           NaN                        NaN   \n",
       "basis-64-sum-2                           NaN                        NaN   \n",
       "basis-64-sum-8                           NaN                        NaN   \n",
       "basis-64-sum-16                          NaN                        NaN   \n",
       "basis-64-sum-64                          NaN                        NaN   \n",
       "basis-128-sum-1                          NaN                        NaN   \n",
       "basis-128-sum-2                          NaN                        NaN   \n",
       "basis-128-sum-8                          NaN                        NaN   \n",
       "basis-128-sum-16                         NaN                        NaN   \n",
       "basis-128-sum-64                         NaN                        NaN   \n",
       "basis-512-sum-1                          NaN                        NaN   \n",
       "basis-512-sum-2                          NaN                        NaN   \n",
       "basis-512-sum-8                          NaN                        NaN   \n",
       "basis-512-sum-16                         NaN                        NaN   \n",
       "basis-512-sum-64                         NaN                        NaN   \n",
       "basis-4096-sum-1                         NaN                        NaN   \n",
       "basis-4096-sum-2                         NaN                        NaN   \n",
       "basis-4096-sum-8                         NaN                        NaN   \n",
       "basis-4096-sum-16                        NaN                        NaN   \n",
       "basis-4096-sum-64                        NaN                        NaN   \n",
       "\n",
       "                  marker colour  \n",
       "Oracle-GP            NaN    NaN  \n",
       "basis-2-sum-1        NaN    NaN  \n",
       "basis-2-sum-2        NaN    NaN  \n",
       "basis-2-sum-8        NaN    NaN  \n",
       "basis-2-sum-16       NaN    NaN  \n",
       "basis-2-sum-64       NaN    NaN  \n",
       "basis-8-sum-1        NaN    NaN  \n",
       "basis-8-sum-2        NaN    NaN  \n",
       "basis-8-sum-8        NaN    NaN  \n",
       "basis-8-sum-16       NaN    NaN  \n",
       "basis-8-sum-64       NaN    NaN  \n",
       "basis-64-sum-1       NaN    NaN  \n",
       "basis-64-sum-2       NaN    NaN  \n",
       "basis-64-sum-8       NaN    NaN  \n",
       "basis-64-sum-16      NaN    NaN  \n",
       "basis-64-sum-64      NaN    NaN  \n",
       "basis-128-sum-1      NaN    NaN  \n",
       "basis-128-sum-2      NaN    NaN  \n",
       "basis-128-sum-8      NaN    NaN  \n",
       "basis-128-sum-16     NaN    NaN  \n",
       "basis-128-sum-64     NaN    NaN  \n",
       "basis-512-sum-1      NaN    NaN  \n",
       "basis-512-sum-2      NaN    NaN  \n",
       "basis-512-sum-8      NaN    NaN  \n",
       "basis-512-sum-16     NaN    NaN  \n",
       "basis-512-sum-64     NaN    NaN  \n",
       "basis-4096-sum-1     NaN    NaN  \n",
       "basis-4096-sum-2     NaN    NaN  \n",
       "basis-4096-sum-8     NaN    NaN  \n",
       "basis-4096-sum-16    NaN    NaN  \n",
       "basis-4096-sum-64    NaN    NaN  "
      ],
      "text/html": "<div>\n<style scoped>\n    .dataframe tbody tr th:only-of-type {\n        vertical-align: middle;\n    }\n\n    .dataframe tbody tr th {\n        vertical-align: top;\n    }\n\n    .dataframe thead th {\n        text-align: right;\n    }\n</style>\n<table border=\"1\" class=\"dataframe\">\n  <thead>\n    <tr style=\"text-align: right;\">\n      <th></th>\n      <th>weakly-periodic</th>\n      <th>weakly-periodic-error</th>\n      <th>weakly-periodic-iterations</th>\n      <th>weakly-periodic-num-params</th>\n      <th>marker</th>\n      <th>colour</th>\n    </tr>\n  </thead>\n  <tbody>\n    <tr>\n      <th>Oracle-GP</th>\n      <td>NaN</td>\n      <td>NaN</td>\n      <td>NaN</td>\n      <td>NaN</td>\n      <td>NaN</td>\n      <td>NaN</td>\n    </tr>\n    <tr>\n      <th>basis-2-sum-1</th>\n      <td>NaN</td>\n      <td>NaN</td>\n      <td>NaN</td>\n      <td>NaN</td>\n      <td>NaN</td>\n      <td>NaN</td>\n    </tr>\n    <tr>\n      <th>basis-2-sum-2</th>\n      <td>NaN</td>\n      <td>NaN</td>\n      <td>NaN</td>\n      <td>NaN</td>\n      <td>NaN</td>\n      <td>NaN</td>\n    </tr>\n    <tr>\n      <th>basis-2-sum-8</th>\n      <td>NaN</td>\n      <td>NaN</td>\n      <td>NaN</td>\n      <td>NaN</td>\n      <td>NaN</td>\n      <td>NaN</td>\n    </tr>\n    <tr>\n      <th>basis-2-sum-16</th>\n      <td>NaN</td>\n      <td>NaN</td>\n      <td>NaN</td>\n      <td>NaN</td>\n      <td>NaN</td>\n      <td>NaN</td>\n    </tr>\n    <tr>\n      <th>basis-2-sum-64</th>\n      <td>NaN</td>\n      <td>NaN</td>\n      <td>NaN</td>\n      <td>NaN</td>\n      <td>NaN</td>\n      <td>NaN</td>\n    </tr>\n    <tr>\n      <th>basis-8-sum-1</th>\n      <td>NaN</td>\n      <td>NaN</td>\n      <td>NaN</td>\n      <td>NaN</td>\n      <td>NaN</td>\n      <td>NaN</td>\n    </tr>\n    <tr>\n      <th>basis-8-sum-2</th>\n      <td>NaN</td>\n      <td>NaN</td>\n      <td>NaN</td>\n      <td>NaN</td>\n      <td>NaN</td>\n      <td>NaN</td>\n    </tr>\n    <tr>\n      <th>basis-8-sum-8</th>\n      <td>NaN</td>\n      <td>NaN</td>\n      <td>NaN</td>\n      <td>NaN</td>\n      <td>NaN</td>\n      <td>NaN</td>\n    </tr>\n    <tr>\n      <th>basis-8-sum-16</th>\n      <td>NaN</td>\n      <td>NaN</td>\n      <td>NaN</td>\n      <td>NaN</td>\n      <td>NaN</td>\n      <td>NaN</td>\n    </tr>\n    <tr>\n      <th>basis-8-sum-64</th>\n      <td>NaN</td>\n      <td>NaN</td>\n      <td>NaN</td>\n      <td>NaN</td>\n      <td>NaN</td>\n      <td>NaN</td>\n    </tr>\n    <tr>\n      <th>basis-64-sum-1</th>\n      <td>NaN</td>\n      <td>NaN</td>\n      <td>NaN</td>\n      <td>NaN</td>\n      <td>NaN</td>\n      <td>NaN</td>\n    </tr>\n    <tr>\n      <th>basis-64-sum-2</th>\n      <td>NaN</td>\n      <td>NaN</td>\n      <td>NaN</td>\n      <td>NaN</td>\n      <td>NaN</td>\n      <td>NaN</td>\n    </tr>\n    <tr>\n      <th>basis-64-sum-8</th>\n      <td>NaN</td>\n      <td>NaN</td>\n      <td>NaN</td>\n      <td>NaN</td>\n      <td>NaN</td>\n      <td>NaN</td>\n    </tr>\n    <tr>\n      <th>basis-64-sum-16</th>\n      <td>NaN</td>\n      <td>NaN</td>\n      <td>NaN</td>\n      <td>NaN</td>\n      <td>NaN</td>\n      <td>NaN</td>\n    </tr>\n    <tr>\n      <th>basis-64-sum-64</th>\n      <td>NaN</td>\n      <td>NaN</td>\n      <td>NaN</td>\n      <td>NaN</td>\n      <td>NaN</td>\n      <td>NaN</td>\n    </tr>\n    <tr>\n      <th>basis-128-sum-1</th>\n      <td>NaN</td>\n      <td>NaN</td>\n      <td>NaN</td>\n      <td>NaN</td>\n      <td>NaN</td>\n      <td>NaN</td>\n    </tr>\n    <tr>\n      <th>basis-128-sum-2</th>\n      <td>NaN</td>\n      <td>NaN</td>\n      <td>NaN</td>\n      <td>NaN</td>\n      <td>NaN</td>\n      <td>NaN</td>\n    </tr>\n    <tr>\n      <th>basis-128-sum-8</th>\n      <td>NaN</td>\n      <td>NaN</td>\n      <td>NaN</td>\n      <td>NaN</td>\n      <td>NaN</td>\n      <td>NaN</td>\n    </tr>\n    <tr>\n      <th>basis-128-sum-16</th>\n      <td>NaN</td>\n      <td>NaN</td>\n      <td>NaN</td>\n      <td>NaN</td>\n      <td>NaN</td>\n      <td>NaN</td>\n    </tr>\n    <tr>\n      <th>basis-128-sum-64</th>\n      <td>NaN</td>\n      <td>NaN</td>\n      <td>NaN</td>\n      <td>NaN</td>\n      <td>NaN</td>\n      <td>NaN</td>\n    </tr>\n    <tr>\n      <th>basis-512-sum-1</th>\n      <td>NaN</td>\n      <td>NaN</td>\n      <td>NaN</td>\n      <td>NaN</td>\n      <td>NaN</td>\n      <td>NaN</td>\n    </tr>\n    <tr>\n      <th>basis-512-sum-2</th>\n      <td>NaN</td>\n      <td>NaN</td>\n      <td>NaN</td>\n      <td>NaN</td>\n      <td>NaN</td>\n      <td>NaN</td>\n    </tr>\n    <tr>\n      <th>basis-512-sum-8</th>\n      <td>NaN</td>\n      <td>NaN</td>\n      <td>NaN</td>\n      <td>NaN</td>\n      <td>NaN</td>\n      <td>NaN</td>\n    </tr>\n    <tr>\n      <th>basis-512-sum-16</th>\n      <td>NaN</td>\n      <td>NaN</td>\n      <td>NaN</td>\n      <td>NaN</td>\n      <td>NaN</td>\n      <td>NaN</td>\n    </tr>\n    <tr>\n      <th>basis-512-sum-64</th>\n      <td>NaN</td>\n      <td>NaN</td>\n      <td>NaN</td>\n      <td>NaN</td>\n      <td>NaN</td>\n      <td>NaN</td>\n    </tr>\n    <tr>\n      <th>basis-4096-sum-1</th>\n      <td>NaN</td>\n      <td>NaN</td>\n      <td>NaN</td>\n      <td>NaN</td>\n      <td>NaN</td>\n      <td>NaN</td>\n    </tr>\n    <tr>\n      <th>basis-4096-sum-2</th>\n      <td>NaN</td>\n      <td>NaN</td>\n      <td>NaN</td>\n      <td>NaN</td>\n      <td>NaN</td>\n      <td>NaN</td>\n    </tr>\n    <tr>\n      <th>basis-4096-sum-8</th>\n      <td>NaN</td>\n      <td>NaN</td>\n      <td>NaN</td>\n      <td>NaN</td>\n      <td>NaN</td>\n      <td>NaN</td>\n    </tr>\n    <tr>\n      <th>basis-4096-sum-16</th>\n      <td>NaN</td>\n      <td>NaN</td>\n      <td>NaN</td>\n      <td>NaN</td>\n      <td>NaN</td>\n      <td>NaN</td>\n    </tr>\n    <tr>\n      <th>basis-4096-sum-64</th>\n      <td>NaN</td>\n      <td>NaN</td>\n      <td>NaN</td>\n      <td>NaN</td>\n      <td>NaN</td>\n      <td>NaN</td>\n    </tr>\n  </tbody>\n</table>\n</div>"
     },
     "metadata": {},
     "execution_count": 10
    }
   ],
   "source": [
    "df"
   ]
  },
  {
   "cell_type": "code",
   "execution_count": null,
   "metadata": {},
   "outputs": [],
   "source": [
    "mean = -np.loadtxt(wd.file('test_log_likelihood.txt', \n",
    "                        exists=True))\n",
    "error = np.loadtxt(wd.file('test_log_likelihood_standard_error.txt',\n",
    "                        exists=True))/np.sqrt(2048)\n",
    "df.at[\"Oracle-GP\", f'{d}'] = mean\n",
    "df.at[\"Oracle-GP\", f'{d}-error'] = error"
   ]
  }
 ]
}