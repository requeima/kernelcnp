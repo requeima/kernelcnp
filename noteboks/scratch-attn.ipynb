{
 "cells": [
  {
   "cell_type": "code",
   "execution_count": 1,
   "id": "2cebf3b2-3f2f-4b62-aaa7-8207b25fe0ed",
   "metadata": {},
   "outputs": [],
   "source": [
    "import torch\n",
    "\n",
    "from cnp.aggregation import MultiHeadAttention\n",
    "from cnp.cnp import StandardGNP\n",
    "from cnp.cov import InnerProdCov, AddHomoNoise"
   ]
  },
  {
   "cell_type": "code",
   "execution_count": 2,
   "id": "18205a89-6c5b-4d1e-9eee-fae726bfea57",
   "metadata": {},
   "outputs": [],
   "source": [
    "key_input_dim = 16\n",
    "key_embedding_dim = 17\n",
    "value_input_dim = 4\n",
    "value_embedding_dim = 18\n",
    "output_embedding_dim = 7\n",
    "num_heads = 3 \n",
    "\n",
    "\n",
    "multi_head_attn = MultiHeadAttention(key_input_dim,\n",
    "                                     key_embedding_dim,\n",
    "                                     value_input_dim,\n",
    "                                     value_embedding_dim,\n",
    "                                     output_embedding_dim,\n",
    "                                     num_heads)"
   ]
  },
  {
   "cell_type": "code",
   "execution_count": 3,
   "id": "d3a0c577-567c-4e60-b3f3-239846468172",
   "metadata": {},
   "outputs": [
    {
     "data": {
      "text/plain": [
       "torch.Size([10, 6, 7])"
      ]
     },
     "execution_count": 3,
     "metadata": {},
     "output_type": "execute_result"
    }
   ],
   "source": [
    "B = 10\n",
    "C = 13\n",
    "T = 6\n",
    "\n",
    "keys = torch.randn(size=(B, C, key_input_dim))\n",
    "values = torch.randn(size=(B, C, value_input_dim))\n",
    "queries = torch.randn(size=(B, T, key_input_dim))\n",
    "\n",
    "multi_head_attn(keys, queries, values).shape"
   ]
  },
  {
   "cell_type": "code",
   "execution_count": 4,
   "id": "bfb9b40d-9b04-43ac-96f5-efbb047c9211",
   "metadata": {},
   "outputs": [
    {
     "ename": "TypeError",
     "evalue": "unsupported operand type(s) for +: 'int' and 'list'",
     "output_type": "error",
     "traceback": [
      "\u001b[0;31m---------------------------------------------------------------------------\u001b[0m",
      "\u001b[0;31mTypeError\u001b[0m                                 Traceback (most recent call last)",
      "\u001b[0;32m<ipython-input-4-4e6666ba4874>\u001b[0m in \u001b[0;36m<module>\u001b[0;34m\u001b[0m\n\u001b[1;32m      8\u001b[0m standard_gnp = StandardGNP(input_dim=input_dim,\n\u001b[1;32m      9\u001b[0m                            \u001b[0mcovariance\u001b[0m\u001b[0;34m=\u001b[0m\u001b[0mcovariance\u001b[0m\u001b[0;34m,\u001b[0m\u001b[0;34m\u001b[0m\u001b[0;34m\u001b[0m\u001b[0m\n\u001b[0;32m---> 10\u001b[0;31m                            add_noise=add_noise)\n\u001b[0m",
      "\u001b[0;32m~/repos/kernelcnp/kernelcnp/cnp/cnp.py\u001b[0m in \u001b[0;36m__init__\u001b[0;34m(self, input_dim, covariance, add_noise)\u001b[0m\n\u001b[1;32m    106\u001b[0m         decoder = StandardDecoder(input_dim=input_dim + latent_dim,\n\u001b[1;32m    107\u001b[0m                                   \u001b[0mlatent_dim\u001b[0m\u001b[0;34m=\u001b[0m\u001b[0mlatent_dim\u001b[0m\u001b[0;34m,\u001b[0m\u001b[0;34m\u001b[0m\u001b[0;34m\u001b[0m\u001b[0m\n\u001b[0;32m--> 108\u001b[0;31m                                   output_dim=decoder_output_dim)\n\u001b[0m\u001b[1;32m    109\u001b[0m \u001b[0;34m\u001b[0m\u001b[0m\n\u001b[1;32m    110\u001b[0m         super().__init__(encoder=encoder,\n",
      "\u001b[0;32m~/repos/kernelcnp/kernelcnp/cnp/decoders.py\u001b[0m in \u001b[0;36m__init__\u001b[0;34m(self, input_dim, latent_dim, output_dim)\u001b[0m\n\u001b[1;32m     35\u001b[0m         \u001b[0mnonlinearity\u001b[0m \u001b[0;34m=\u001b[0m \u001b[0;34m'Tanh'\u001b[0m\u001b[0;34m\u001b[0m\u001b[0;34m\u001b[0m\u001b[0m\n\u001b[1;32m     36\u001b[0m \u001b[0;34m\u001b[0m\u001b[0m\n\u001b[0;32m---> 37\u001b[0;31m         self.post_pooling_fn = FullyConnectedNetwork(input_dim=input_dim + hidden_dims,\n\u001b[0m\u001b[1;32m     38\u001b[0m                                                      \u001b[0moutput_dim\u001b[0m\u001b[0;34m=\u001b[0m\u001b[0mself\u001b[0m\u001b[0;34m.\u001b[0m\u001b[0moutput_dim\u001b[0m\u001b[0;34m,\u001b[0m\u001b[0;34m\u001b[0m\u001b[0;34m\u001b[0m\u001b[0m\n\u001b[1;32m     39\u001b[0m                                                      \u001b[0mhidden_dims\u001b[0m\u001b[0;34m=\u001b[0m\u001b[0mhidden_dims\u001b[0m\u001b[0;34m,\u001b[0m\u001b[0;34m\u001b[0m\u001b[0;34m\u001b[0m\u001b[0m\n",
      "\u001b[0;31mTypeError\u001b[0m: unsupported operand type(s) for +: 'int' and 'list'"
     ]
    }
   ],
   "source": [
    "input_dim = 2\n",
    "latent_dim = 128\n",
    "num_basis_dim = 512\n",
    "\n",
    "covariance = InnerProdCov(num_basis_dim=num_basis_dim)\n",
    "add_noise = AddHomoNoise()\n",
    "\n",
    "standard_gnp = StandardGNP(input_dim=input_dim,\n",
    "                           covariance=covariance,\n",
    "                           add_noise=add_noise)"
   ]
  },
  {
   "cell_type": "code",
   "execution_count": null,
   "id": "a94e6248-e84c-483f-b994-5ea70c2053fb",
   "metadata": {},
   "outputs": [],
   "source": []
  }
 ],
 "metadata": {
  "kernelspec": {
   "display_name": "Python 3",
   "language": "python",
   "name": "python3"
  },
  "language_info": {
   "codemirror_mode": {
    "name": "ipython",
    "version": 3
   },
   "file_extension": ".py",
   "mimetype": "text/x-python",
   "name": "python",
   "nbconvert_exporter": "python",
   "pygments_lexer": "ipython3",
   "version": "3.6.9"
  }
 },
 "nbformat": 4,
 "nbformat_minor": 5
}
