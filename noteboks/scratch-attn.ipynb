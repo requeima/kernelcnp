{
 "cells": [
  {
   "cell_type": "code",
   "execution_count": 1,
   "id": "2cebf3b2-3f2f-4b62-aaa7-8207b25fe0ed",
   "metadata": {},
   "outputs": [],
   "source": [
    "import torch\n",
    "\n",
    "from cnp.aggregation import MultiHeadAttention\n",
    "from cnp.cnp import StandardGNP, StandardAGNP\n",
    "from cnp.cov import InnerProdCov, AddHomoNoise"
   ]
  },
  {
   "cell_type": "code",
   "execution_count": 2,
   "id": "18205a89-6c5b-4d1e-9eee-fae726bfea57",
   "metadata": {},
   "outputs": [],
   "source": [
    "key_input_dim = 16\n",
    "key_embedding_dim = 17\n",
    "value_input_dim = 4\n",
    "value_embedding_dim = 18\n",
    "output_embedding_dim = 7\n",
    "num_heads = 3 \n",
    "\n",
    "\n",
    "multi_head_attn = MultiHeadAttention(key_input_dim,\n",
    "                                     key_embedding_dim,\n",
    "                                     value_input_dim,\n",
    "                                     value_embedding_dim,\n",
    "                                     output_embedding_dim,\n",
    "                                     num_heads)"
   ]
  },
  {
   "cell_type": "code",
   "execution_count": 3,
   "id": "d3a0c577-567c-4e60-b3f3-239846468172",
   "metadata": {},
   "outputs": [
    {
     "name": "stdout",
     "output_type": "stream",
     "text": [
      "torch.Size([10, 13, 16]) Linear(in_features=16, out_features=51, bias=False)\n"
     ]
    },
    {
     "data": {
      "text/plain": [
       "torch.Size([10, 6, 7])"
      ]
     },
     "execution_count": 3,
     "metadata": {},
     "output_type": "execute_result"
    }
   ],
   "source": [
    "B = 10\n",
    "C = 13\n",
    "T = 6\n",
    "\n",
    "keys = torch.randn(size=(B, C, key_input_dim))\n",
    "values = torch.randn(size=(B, C, value_input_dim))\n",
    "queries = torch.randn(size=(B, T, key_input_dim))\n",
    "\n",
    "multi_head_attn(keys, queries, values).shape"
   ]
  },
  {
   "cell_type": "code",
   "execution_count": 4,
   "id": "bfb9b40d-9b04-43ac-96f5-efbb047c9211",
   "metadata": {},
   "outputs": [],
   "source": [
    "input_dim = 2\n",
    "latent_dim = 128\n",
    "num_basis_dim = 512\n",
    "\n",
    "covariance = InnerProdCov(num_basis_dim=num_basis_dim)\n",
    "add_noise = AddHomoNoise()\n",
    "\n",
    "standard_gnp = StandardGNP(input_dim=input_dim,\n",
    "                           covariance=covariance,\n",
    "                           add_noise=add_noise)"
   ]
  },
  {
   "cell_type": "code",
   "execution_count": 5,
   "id": "a94e6248-e84c-483f-b994-5ea70c2053fb",
   "metadata": {},
   "outputs": [
    {
     "name": "stdout",
     "output_type": "stream",
     "text": [
      "torch.Size([10, 13, 128])\n"
     ]
    },
    {
     "data": {
      "text/plain": [
       "torch.Size([10, 6, 1])"
      ]
     },
     "execution_count": 5,
     "metadata": {},
     "output_type": "execute_result"
    }
   ],
   "source": [
    "x_context = torch.randn(size=(B, C, input_dim))\n",
    "y_context = torch.randn(size=(B, C, 1))\n",
    "x_target = torch.randn(size=(B, T, input_dim))\n",
    "\n",
    "standard_gnp(x_context, y_context, x_target)[0].shape"
   ]
  },
  {
   "cell_type": "code",
   "execution_count": 6,
   "id": "9265f328-f5f5-4d0e-98b0-988a12e54fa4",
   "metadata": {},
   "outputs": [],
   "source": [
    "input_dim = 2\n",
    "latent_dim = 128\n",
    "num_basis_dim = 512\n",
    "\n",
    "covariance = InnerProdCov(num_basis_dim=num_basis_dim)\n",
    "add_noise = AddHomoNoise()\n",
    "\n",
    "standard_agnp = StandardAGNP(input_dim=input_dim,\n",
    "                             covariance=covariance,\n",
    "                             add_noise=add_noise)"
   ]
  },
  {
   "cell_type": "code",
   "execution_count": 8,
   "id": "8e670295-7e2e-4260-9988-ca7dae904454",
   "metadata": {},
   "outputs": [
    {
     "name": "stdout",
     "output_type": "stream",
     "text": [
      "torch.Size([10, 13, 128])\n",
      "torch.Size([10, 13, 2]) Linear(in_features=2, out_features=1024, bias=False)\n"
     ]
    },
    {
     "data": {
      "text/plain": [
       "torch.Size([10, 6, 1])"
      ]
     },
     "execution_count": 8,
     "metadata": {},
     "output_type": "execute_result"
    }
   ],
   "source": [
    "x_context = torch.randn(size=(B, C, input_dim))\n",
    "y_context = torch.randn(size=(B, C, 1))\n",
    "x_target = torch.randn(size=(B, T, input_dim))\n",
    "\n",
    "standard_agnp(x_context, y_context, x_target)[0].shape"
   ]
  },
  {
   "cell_type": "code",
   "execution_count": null,
   "id": "18287f57-8f17-4d99-bdfa-2b3ffd7d51f7",
   "metadata": {},
   "outputs": [],
   "source": []
  },
  {
   "cell_type": "code",
   "execution_count": null,
   "id": "0d301eeb-834b-4c76-9dfb-009d48df6883",
   "metadata": {},
   "outputs": [],
   "source": []
  }
 ],
 "metadata": {
  "kernelspec": {
   "display_name": "Python 3",
   "language": "python",
   "name": "python3"
  },
  "language_info": {
   "codemirror_mode": {
    "name": "ipython",
    "version": 3
   },
   "file_extension": ".py",
   "mimetype": "text/x-python",
   "name": "python",
   "nbconvert_exporter": "python",
   "pygments_lexer": "ipython3",
   "version": "3.6.9"
  }
 },
 "nbformat": 4,
 "nbformat_minor": 5
}
