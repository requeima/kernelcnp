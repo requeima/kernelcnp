{
 "cells": [
  {
   "cell_type": "code",
   "execution_count": 1,
   "id": "2cebf3b2-3f2f-4b62-aaa7-8207b25fe0ed",
   "metadata": {},
   "outputs": [
    {
     "ename": "IndentationError",
     "evalue": "unexpected indent (encoders.py, line 166)",
     "output_type": "error",
     "traceback": [
      "Traceback \u001b[0;36m(most recent call last)\u001b[0m:\n",
      "  File \u001b[1;32m\"/home/stratis/repos/kernelcnp/venv-gnp/lib/python3.6/site-packages/IPython/core/interactiveshell.py\"\u001b[0m, line \u001b[1;32m3343\u001b[0m, in \u001b[1;35mrun_code\u001b[0m\n    exec(code_obj, self.user_global_ns, self.user_ns)\n",
      "  File \u001b[1;32m\"<ipython-input-1-e3e6d1a9f2aa>\"\u001b[0m, line \u001b[1;32m3\u001b[0m, in \u001b[1;35m<module>\u001b[0m\n    from cnp.aggregation import MultiHeadAttention\n",
      "  File \u001b[1;32m\"/home/stratis/repos/kernelcnp/kernelcnp/cnp/__init__.py\"\u001b[0m, line \u001b[1;32m3\u001b[0m, in \u001b[1;35m<module>\u001b[0m\n    from .cnp import *\n",
      "\u001b[0;36m  File \u001b[0;32m\"/home/stratis/repos/kernelcnp/kernelcnp/cnp/cnp.py\"\u001b[0;36m, line \u001b[0;32m7\u001b[0;36m, in \u001b[0;35m<module>\u001b[0;36m\u001b[0m\n\u001b[0;31m    from cnp.encoders import (\u001b[0m\n",
      "\u001b[0;36m  File \u001b[0;32m\"/home/stratis/repos/kernelcnp/kernelcnp/cnp/encoders.py\"\u001b[0;36m, line \u001b[0;32m166\u001b[0m\n\u001b[0;31m    f'three dimensions. Found {len(x_context.shape)} '\u001b[0m\n\u001b[0m    ^\u001b[0m\n\u001b[0;31mIndentationError\u001b[0m\u001b[0;31m:\u001b[0m unexpected indent\n"
     ]
    }
   ],
   "source": [
    "import torch\n",
    "\n",
    "from cnp.aggregation import MultiHeadAttention\n",
    "from cnp.cnp import StandardGNP\n",
    "from cnp.cov import InnerProdCov, AddHomoNoise"
   ]
  },
  {
   "cell_type": "code",
   "execution_count": null,
   "id": "18205a89-6c5b-4d1e-9eee-fae726bfea57",
   "metadata": {},
   "outputs": [],
   "source": [
    "key_input_dim = 16\n",
    "key_embedding_dim = 17\n",
    "value_input_dim = 4\n",
    "value_embedding_dim = 18\n",
    "output_embedding_dim = 7\n",
    "num_heads = 3 \n",
    "\n",
    "\n",
    "multi_head_attn = MultiHeadAttention(key_input_dim,\n",
    "                                     key_embedding_dim,\n",
    "                                     value_input_dim,\n",
    "                                     value_embedding_dim,\n",
    "                                     output_embedding_dim,\n",
    "                                     num_heads)"
   ]
  },
  {
   "cell_type": "code",
   "execution_count": null,
   "id": "d3a0c577-567c-4e60-b3f3-239846468172",
   "metadata": {},
   "outputs": [],
   "source": [
    "B = 10\n",
    "C = 13\n",
    "T = 6\n",
    "\n",
    "keys = torch.randn(size=(B, C, key_input_dim))\n",
    "values = torch.randn(size=(B, C, value_input_dim))\n",
    "queries = torch.randn(size=(B, T, key_input_dim))\n",
    "\n",
    "multi_head_attn(keys, queries, values).shape"
   ]
  },
  {
   "cell_type": "code",
   "execution_count": null,
   "id": "bfb9b40d-9b04-43ac-96f5-efbb047c9211",
   "metadata": {},
   "outputs": [],
   "source": [
    "input_dim = 2\n",
    "latent_dim = 128\n",
    "num_basis_dim = 512\n",
    "\n",
    "covariance = InnerProdCov(num_basis_dim=num_basis_dim)\n",
    "add_noise = AddHomoNoise()\n",
    "\n",
    "standard_gnp = StandardGNP(input_dim=input_dim,\n",
    "                           covariance=covariance,\n",
    "                           add_noise=add_noise)"
   ]
  },
  {
   "cell_type": "code",
   "execution_count": null,
   "id": "a94e6248-e84c-483f-b994-5ea70c2053fb",
   "metadata": {},
   "outputs": [],
   "source": []
  }
 ],
 "metadata": {
  "kernelspec": {
   "display_name": "Python 3",
   "language": "python",
   "name": "python3"
  },
  "language_info": {
   "codemirror_mode": {
    "name": "ipython",
    "version": 3
   },
   "file_extension": ".py",
   "mimetype": "text/x-python",
   "name": "python",
   "nbconvert_exporter": "python",
   "pygments_lexer": "ipython3",
   "version": "3.6.9"
  }
 },
 "nbformat": 4,
 "nbformat_minor": 5
}
