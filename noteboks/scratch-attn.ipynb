{
 "cells": [
  {
   "cell_type": "code",
   "execution_count": 1,
   "id": "2cebf3b2-3f2f-4b62-aaa7-8207b25fe0ed",
   "metadata": {},
   "outputs": [],
   "source": [
    "import torch\n",
    "\n",
    "from cnp.aggregation import MultiHeadAttention"
   ]
  },
  {
   "cell_type": "code",
   "execution_count": 2,
   "id": "18205a89-6c5b-4d1e-9eee-fae726bfea57",
   "metadata": {},
   "outputs": [],
   "source": [
    "key_input_dim = 16\n",
    "key_embedding_dim = 17\n",
    "value_input_dim = 4\n",
    "value_embedding_dim = 18\n",
    "output_embedding_dim = 7\n",
    "num_heads = 3 \n",
    "\n",
    "\n",
    "multi_head_attn = MultiHeadAttention(key_input_dim,\n",
    "                                     key_embedding_dim,\n",
    "                                     value_input_dim,\n",
    "                                     value_embedding_dim,\n",
    "                                     output_embedding_dim,\n",
    "                                     num_heads)"
   ]
  },
  {
   "cell_type": "code",
   "execution_count": 4,
   "id": "d3a0c577-567c-4e60-b3f3-239846468172",
   "metadata": {},
   "outputs": [
    {
     "data": {
      "text/plain": [
       "torch.Size([10, 6, 7])"
      ]
     },
     "execution_count": 4,
     "metadata": {},
     "output_type": "execute_result"
    }
   ],
   "source": [
    "B = 10\n",
    "C = 13\n",
    "T = 6\n",
    "\n",
    "keys = torch.randn(size=(B, C, key_input_dim))\n",
    "values = torch.randn(size=(B, C, value_input_dim))\n",
    "queries = torch.randn(size=(B, T, key_input_dim))\n",
    "\n",
    "multi_head_attn(keys, queries, values).shape"
   ]
  },
  {
   "cell_type": "code",
   "execution_count": null,
   "id": "bfb9b40d-9b04-43ac-96f5-efbb047c9211",
   "metadata": {},
   "outputs": [],
   "source": []
  },
  {
   "cell_type": "code",
   "execution_count": null,
   "id": "a94e6248-e84c-483f-b994-5ea70c2053fb",
   "metadata": {},
   "outputs": [],
   "source": []
  }
 ],
 "metadata": {
  "kernelspec": {
   "display_name": "Python 3",
   "language": "python",
   "name": "python3"
  },
  "language_info": {
   "codemirror_mode": {
    "name": "ipython",
    "version": 3
   },
   "file_extension": ".py",
   "mimetype": "text/x-python",
   "name": "python",
   "nbconvert_exporter": "python",
   "pygments_lexer": "ipython3",
   "version": "3.6.9"
  }
 },
 "nbformat": 4,
 "nbformat_minor": 5
}
