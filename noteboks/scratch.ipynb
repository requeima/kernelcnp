{
 "cells": [
  {
   "cell_type": "code",
   "execution_count": 1,
   "id": "2cebf3b2-3f2f-4b62-aaa7-8207b25fe0ed",
   "metadata": {},
   "outputs": [],
   "source": [
    "from cnp.lnp import StandardConvNP\n",
    "from cnp.cov import AddHomoNoise\n",
    "\n",
    "import torch"
   ]
  },
  {
   "cell_type": "code",
   "execution_count": 12,
   "id": "f7b77496-cb32-4f01-ac67-44306c500f9a",
   "metadata": {},
   "outputs": [],
   "source": [
    "input_dim = 1\n",
    "add_noise = AddHomoNoise()\n",
    "num_samples = 10\n",
    "\n",
    "convnp = StandardConvNP(input_dim=input_dim,\n",
    "                        add_noise=add_noise,\n",
    "                        num_samples=num_samples)"
   ]
  },
  {
   "cell_type": "code",
   "execution_count": 3,
   "id": "d381371c-b5de-4949-8146-b12965f1dd85",
   "metadata": {},
   "outputs": [
    {
     "name": "stdout",
     "output_type": "stream",
     "text": [
      "CPU times: user 5.88 s, sys: 47.3 ms, total: 5.93 s\n",
      "Wall time: 1.22 s\n"
     ]
    },
    {
     "data": {
      "text/plain": [
       "tensor(50.3686, grad_fn=<DivBackward0>)"
      ]
     },
     "execution_count": 3,
     "metadata": {},
     "output_type": "execute_result"
    }
   ],
   "source": [
    "%time anp.loss(x_context, y_context, x_target, y_target)"
   ]
  },
  {
   "cell_type": "code",
   "execution_count": 4,
   "id": "b85c33db-5ee6-4c51-8bfa-78b896af8b4f",
   "metadata": {},
   "outputs": [
    {
     "name": "stdout",
     "output_type": "stream",
     "text": [
      "CPU times: user 3.52 s, sys: 39.3 ms, total: 3.56 s\n",
      "Wall time: 601 ms\n"
     ]
    },
    {
     "data": {
      "text/plain": [
       "tensor(51.8036, grad_fn=<NegBackward>)"
      ]
     },
     "execution_count": 4,
     "metadata": {},
     "output_type": "execute_result"
    }
   ],
   "source": [
    "%time anp._loss(x_context, y_context, x_target, y_target)"
   ]
  },
  {
   "cell_type": "code",
   "execution_count": null,
   "id": "18205a89-6c5b-4d1e-9eee-fae726bfea57",
   "metadata": {},
   "outputs": [],
   "source": []
  }
 ],
 "metadata": {
  "kernelspec": {
   "display_name": "Python 3",
   "language": "python",
   "name": "python3"
  },
  "language_info": {
   "codemirror_mode": {
    "name": "ipython",
    "version": 3
   },
   "file_extension": ".py",
   "mimetype": "text/x-python",
   "name": "python",
   "nbconvert_exporter": "python",
   "pygments_lexer": "ipython3",
   "version": "3.6.9"
  }
 },
 "nbformat": 4,
 "nbformat_minor": 5
}
