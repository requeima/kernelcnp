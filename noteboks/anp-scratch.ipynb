{
 "cells": [
  {
   "cell_type": "code",
   "execution_count": 1,
   "id": "8148dd36-bfa1-45f2-89a2-cc12bc3347c8",
   "metadata": {},
   "outputs": [],
   "source": [
    "import torch\n",
    "from cnp.lnp import StandardANP, StandardConvNP\n",
    "from cnp.cov import AddHomoNoise\n",
    "\n",
    "from torch import nn"
   ]
  },
  {
   "cell_type": "code",
   "execution_count": 2,
   "id": "ae9d3546-f83b-4aca-8887-c5ff9455d9b4",
   "metadata": {},
   "outputs": [],
   "source": [
    "x_context = torch.ones(size=(10, 5, 1))\n",
    "x_target = torch.ones(size=(10, 8, 1))\n",
    "y_context = torch.ones(size=(10, 5, 1))\n",
    "y_target = torch.ones(size=(10, 8, 1))"
   ]
  },
  {
   "cell_type": "code",
   "execution_count": 3,
   "id": "993ec1f6-b71a-4327-affe-825804e63bba",
   "metadata": {},
   "outputs": [],
   "source": [
    "input_dim = 1\n",
    "add_noise = AddHomoNoise()\n",
    "\n",
    "anp = StandardANP(input_dim=input_dim, add_noise=add_noise)"
   ]
  },
  {
   "cell_type": "code",
   "execution_count": 4,
   "id": "f2893872-0ec7-436f-a033-d1201c0f4c65",
   "metadata": {},
   "outputs": [
    {
     "data": {
      "text/plain": [
       "torch.Size([100, 10, 8, 8])"
      ]
     },
     "execution_count": 4,
     "metadata": {},
     "output_type": "execute_result"
    }
   ],
   "source": [
    "result = anp(x_context=x_context, y_context=y_context, x_target=x_target, num_samples=100)\n",
    "result[1].shape"
   ]
  },
  {
   "cell_type": "code",
   "execution_count": 5,
   "id": "6088edf3-0991-462e-8650-98e475d94384",
   "metadata": {},
   "outputs": [
    {
     "name": "stdout",
     "output_type": "stream",
     "text": [
      "tensor(1.9936, grad_fn=<NegBackward>)\n",
      "tensor(2.8058, grad_fn=<NegBackward>)\n",
      "tensor(9.4487, grad_fn=<NegBackward>)\n",
      "tensor(1.4681, grad_fn=<NegBackward>)\n",
      "tensor(1.3578, grad_fn=<NegBackward>)\n",
      "tensor(1.2560, grad_fn=<NegBackward>)\n",
      "tensor(1.2578, grad_fn=<NegBackward>)\n",
      "tensor(1.2086, grad_fn=<NegBackward>)\n",
      "tensor(1.2224, grad_fn=<NegBackward>)\n",
      "tensor(1.1623, grad_fn=<NegBackward>)\n"
     ]
    }
   ],
   "source": [
    "optim = torch.optim.Adam(lr=1e-2, params=anp.parameters())\n",
    "\n",
    "\n",
    "for i in range(10):\n",
    "    \n",
    "    optim.zero_grad()\n",
    "    \n",
    "    loss = anp.loss(x_context, y_context, x_target, y_target, num_samples=10)\n",
    "    \n",
    "    print(loss)\n",
    "    \n",
    "    loss.backward()\n",
    "    optim.step()"
   ]
  },
  {
   "cell_type": "code",
   "execution_count": 6,
   "id": "d8ea2645-4cd6-4ede-a8a6-328927869958",
   "metadata": {},
   "outputs": [],
   "source": [
    "x_context = torch.randn(size=(10, 5, 1))\n",
    "x_target = torch.randn(size=(10, 8, 1))\n",
    "\n",
    "y_context = torch.randn(size=(10, 5, 1))\n",
    "y_target = torch.randn(size=(10, 8, 1))"
   ]
  },
  {
   "cell_type": "code",
   "execution_count": 7,
   "id": "1a9a1319-5feb-43e3-a20f-74bd398b802d",
   "metadata": {},
   "outputs": [],
   "source": [
    "convnp = StandardConvNP(input_dim=1, add_noise=AddHomoNoise())\n",
    "mean, cov = convnp(x_context, y_context, x_target, num_samples=3)"
   ]
  },
  {
   "cell_type": "code",
   "execution_count": 8,
   "id": "8c6c2f81-091e-4f63-a3d8-58c2e93faa49",
   "metadata": {},
   "outputs": [
    {
     "data": {
      "text/plain": [
       "tensor(1.4983, grad_fn=<NegBackward>)"
      ]
     },
     "execution_count": 8,
     "metadata": {},
     "output_type": "execute_result"
    }
   ],
   "source": [
    "convnp.loss(x_context, y_context, x_target, y_target, num_samples=3)"
   ]
  },
  {
   "cell_type": "code",
   "execution_count": 11,
   "id": "53956d67-2055-4303-aa4f-aa97d31728be",
   "metadata": {},
   "outputs": [
    {
     "name": "stdout",
     "output_type": "stream",
     "text": [
      "tensor(0.0701, grad_fn=<NegBackward>)\n",
      "tensor(2.2800, grad_fn=<NegBackward>)\n",
      "tensor(0.8282, grad_fn=<NegBackward>)\n",
      "tensor(0.5975, grad_fn=<NegBackward>)\n",
      "tensor(0.3288, grad_fn=<NegBackward>)\n",
      "tensor(0.6422, grad_fn=<NegBackward>)\n",
      "tensor(0.6168, grad_fn=<NegBackward>)\n",
      "tensor(0.4304, grad_fn=<NegBackward>)\n",
      "tensor(0.4439, grad_fn=<NegBackward>)\n",
      "tensor(0.3436, grad_fn=<NegBackward>)\n"
     ]
    }
   ],
   "source": [
    "optim = torch.optim.Adam(lr=1e-2, params=convnp.parameters())\n",
    "\n",
    "for i in range(10):\n",
    "    \n",
    "    optim.zero_grad()\n",
    "    \n",
    "    loss = convnp.loss(x_context, y_context, x_target, y_target, num_samples=10)\n",
    "    \n",
    "    loss.backward()\n",
    "    optim.step()"
   ]
  },
  {
   "cell_type": "code",
   "execution_count": null,
   "id": "597dd573-5152-48c0-8fad-973d2bc66e73",
   "metadata": {},
   "outputs": [],
   "source": []
  }
 ],
 "metadata": {
  "kernelspec": {
   "display_name": "Python 3",
   "language": "python",
   "name": "python3"
  },
  "language_info": {
   "codemirror_mode": {
    "name": "ipython",
    "version": 3
   },
   "file_extension": ".py",
   "mimetype": "text/x-python",
   "name": "python",
   "nbconvert_exporter": "python",
   "pygments_lexer": "ipython3",
   "version": "3.6.9"
  }
 },
 "nbformat": 4,
 "nbformat_minor": 5
}
