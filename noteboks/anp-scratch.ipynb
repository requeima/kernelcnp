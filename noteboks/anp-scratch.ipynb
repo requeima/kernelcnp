{
 "cells": [
  {
   "cell_type": "code",
   "execution_count": 7,
   "id": "8148dd36-bfa1-45f2-89a2-cc12bc3347c8",
   "metadata": {},
   "outputs": [],
   "source": [
    "import torch\n",
    "from cnp.encoders import StandardANPEncoder\n",
    "from cnp.lnp import StandardANP\n",
    "from cnp.cov import AddHomoNoise\n",
    "\n",
    "from torch import nn"
   ]
  },
  {
   "cell_type": "code",
   "execution_count": null,
   "id": "ae9d3546-f83b-4aca-8887-c5ff9455d9b4",
   "metadata": {},
   "outputs": [],
   "source": [
    "x_context = torch.ones(size=(10, 5, 1))\n",
    "x_target = torch.ones(size=(10, 8, 1))\n",
    "y_context = torch.ones(size=(10, 5, 1))\n",
    "y_target = torch.ones(size=(10, 8, 1))\n",
    "\n",
    "encoder = StandardANPEncoder(input_dim=2, latent_dim=128)\n",
    "encoder(x_context, y_context, x_target).sample().shape"
   ]
  },
  {
   "cell_type": "code",
   "execution_count": null,
   "id": "993ec1f6-b71a-4327-affe-825804e63bba",
   "metadata": {},
   "outputs": [],
   "source": [
    "input_dim = 1\n",
    "add_noise = AddHomoNoise()\n",
    "\n",
    "anp = StandardANP(input_dim=input_dim, add_noise=add_noise)"
   ]
  },
  {
   "cell_type": "code",
   "execution_count": null,
   "id": "f2893872-0ec7-436f-a033-d1201c0f4c65",
   "metadata": {},
   "outputs": [],
   "source": [
    "result = anp(x_context=x_context, y_context=y_context, x_target=x_target, num_samples=100)\n",
    "result[1].shape"
   ]
  },
  {
   "cell_type": "code",
   "execution_count": null,
   "id": "6088edf3-0991-462e-8650-98e475d94384",
   "metadata": {},
   "outputs": [],
   "source": [
    "optim = torch.optim.Adam(lr=1e-2, params=anp.parameters())\n",
    "\n",
    "\n",
    "for i in range(1000):\n",
    "    \n",
    "    optim.zero_grad()\n",
    "    \n",
    "    loss = anp.loss(x_context, y_context, x_target, y_target, num_samples=10)\n",
    "    \n",
    "    loss.backward()\n",
    "    optim.step()"
   ]
  },
  {
   "cell_type": "code",
   "execution_count": 58,
   "id": "010b9bf3-5a56-45b2-8d44-2aa4d6ec4b22",
   "metadata": {},
   "outputs": [],
   "source": [
    "class HalfUNet(nn.Module):\n",
    "\n",
    "    def __init__(self,\n",
    "                 input_dim,\n",
    "                 in_channels,\n",
    "                 out_channels):\n",
    "        \n",
    "        super().__init__()\n",
    "        \n",
    "        conv = getattr(nn, f'Conv{input_dim}d')\n",
    "        convt = getattr(nn, f'ConvTranspose{input_dim}d')\n",
    "        \n",
    "        self.activation = nn.ReLU()\n",
    "        self.in_channels = in_channels\n",
    "        self.out_channels = out_channels\n",
    "        self.num_halving_layers = 6\n",
    "\n",
    "        self.l1 = conv(in_channels=self.in_channels,\n",
    "                       out_channels=self.in_channels,\n",
    "                       kernel_size=5,\n",
    "                       stride=2,\n",
    "                       padding=2)\n",
    "        \n",
    "        self.l2 = conv(in_channels=self.in_channels,\n",
    "                       out_channels=2*self.in_channels,\n",
    "                       kernel_size=5,\n",
    "                       stride=2,\n",
    "                       padding=2)\n",
    "        \n",
    "        self.l3 = conv(in_channels=2*self.in_channels,\n",
    "                       out_channels=2*self.in_channels,\n",
    "                       kernel_size=5,\n",
    "                       stride=2,\n",
    "                       padding=2)\n",
    "\n",
    "#         for layer in [self.l1, self.l2, self.l3]:\n",
    "#             init_layer_weights(layer)\n",
    "            \n",
    "        self.l4 = convt(in_channels=2*self.in_channels,\n",
    "                        out_channels=2*self.in_channels,\n",
    "                        kernel_size=5,\n",
    "                        stride=2,\n",
    "                        padding=2,\n",
    "                        output_padding=1)\n",
    "        \n",
    "        self.l5 = convt(in_channels=4*self.in_channels,\n",
    "                        out_channels=self.in_channels,\n",
    "                        kernel_size=5,\n",
    "                        stride=2,\n",
    "                        padding=2,\n",
    "                        output_padding=1)\n",
    "        \n",
    "        self.l6 = convt(in_channels=2*self.in_channels,\n",
    "                        out_channels=self.in_channels,\n",
    "                        kernel_size=5,\n",
    "                        stride=2,\n",
    "                        padding=2,\n",
    "                        output_padding=1)\n",
    "\n",
    "\n",
    "        self.last_layer_multiplier = conv(in_channels=2*self.in_channels,\n",
    "                                          out_channels=self.out_channels,\n",
    "                                          kernel_size=1,\n",
    "                                          stride=1,\n",
    "                                          padding=0)\n",
    "            \n",
    "\n",
    "    def forward(self, x):\n",
    "        \"\"\"Forward pass through the convolutional structure.\n",
    "\n",
    "        Args:\n",
    "            x (tensor): Inputs of shape `(batch, n_in, in_channels)`.\n",
    "\n",
    "        Returns:\n",
    "            tensor: Outputs of shape `(batch, n_out, out_channels)`.\n",
    "        \"\"\"\n",
    "        \n",
    "        h1 = self.activation(self.l1(x))\n",
    "        h2 = self.activation(self.l2(h1))\n",
    "        h3 = self.activation(self.l3(h2))\n",
    "        h4 = self.activation(self.l4(h3))\n",
    "\n",
    "        h4 = torch.cat([h4, h2], dim=1)\n",
    "        h5 = self.activation(self.l5(h4))\n",
    "\n",
    "        h5 = torch.cat([h5, h1], dim=1)\n",
    "        h6 = self.activation(self.l6(h5))\n",
    "        h6 = torch.cat([x, h6], dim=1)\n",
    "\n",
    "        return self.last_layer_multiplier(h6)"
   ]
  },
  {
   "cell_type": "code",
   "execution_count": 60,
   "id": "25b23c7c-9c85-4b23-a15b-c90e5297b4f3",
   "metadata": {},
   "outputs": [
    {
     "data": {
      "text/plain": [
       "torch.Size([100, 2, 128])"
      ]
     },
     "execution_count": 60,
     "metadata": {},
     "output_type": "execute_result"
    }
   ],
   "source": [
    "half_unet = HalfUNet(input_dim=1,\n",
    "                     in_channels=8,\n",
    "                     out_channels=2)\n",
    "\n",
    "zeros = torch.zeros(size=(100, 8, 128))\n",
    "\n",
    "half_unet(zeros).shape"
   ]
  },
  {
   "cell_type": "code",
   "execution_count": null,
   "id": "1064b835-1fe7-495d-b610-cf65ee62b9d4",
   "metadata": {},
   "outputs": [],
   "source": []
  }
 ],
 "metadata": {
  "kernelspec": {
   "display_name": "Python 3",
   "language": "python",
   "name": "python3"
  },
  "language_info": {
   "codemirror_mode": {
    "name": "ipython",
    "version": 3
   },
   "file_extension": ".py",
   "mimetype": "text/x-python",
   "name": "python",
   "nbconvert_exporter": "python",
   "pygments_lexer": "ipython3",
   "version": "3.6.9"
  }
 },
 "nbformat": 4,
 "nbformat_minor": 5
}
