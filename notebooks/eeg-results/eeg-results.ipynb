{
 "cells": [
  {
   "cell_type": "code",
   "execution_count": 1,
   "id": "dbc92769-4aec-4dca-bf5a-884d00ed0b4b",
   "metadata": {},
   "outputs": [],
   "source": [
    "# Imports\n",
    "import numpy as np\n",
    "import torch\n",
    "import matplotlib.pyplot as plt\n",
    "\n",
    "from cnp.data import EEGGenerator\n",
    "\n",
    "from cnp.cnp import StandardEEGConvGNP\n",
    "from cnp.cov import (\n",
    "    MultiOutputMeanFieldGaussianLayer,\n",
    "    MultiOutputInnerprodGaussianLayer,\n",
    "    MultiOutputKvvGaussianLayer\n",
    ")\n",
    "\n",
    "from cnp.experiment import WorkingDirectory\n",
    "from shutil import copyfile\n",
    "\n",
    "\n",
    "def to_numpy(tensor):\n",
    "    return tensor.detach().cpu().numpy()"
   ]
  },
  {
   "cell_type": "code",
   "execution_count": 2,
   "id": "d727f90f-79a3-44ea-89c6-e0e6626bd2a2",
   "metadata": {},
   "outputs": [],
   "source": [
    "# model_dir = '/scratches/cblgpu07/em626/kernelcnp/kernelcnp/experiments/eeg/results/1000-8-6-3-50-0/'\n",
    "\n",
    "# copyfile(f'{model_dir}/convGNP/meanfield/hetero/model_best.pth.tar', 'models/convgnp-meanfield')\n",
    "# copyfile(f'{model_dir}/convGNP/innerprod/hetero/model_best.pth.tar', 'models/convgnp-innerprod')\n",
    "# copyfile(f'{model_dir}/convGNP/kvv/hetero/model_best.pth.tar', 'models/convgnp-kvv')"
   ]
  },
  {
   "cell_type": "code",
   "execution_count": 3,
   "id": "ffbd182e-eaa6-46b0-b540-d02bf8467a1c",
   "metadata": {},
   "outputs": [
    {
     "name": "stdout",
     "output_type": "stream",
     "text": [
      "Root: /scratches/cblgpu07/em626/kernelcnp/kernelcnp/notebooks/eeg-results/models\n"
     ]
    }
   ],
   "source": [
    "args_num_basis_dim = 64\n",
    "args_noise_type = 'hetero'\n",
    "args_jitter = 1e-4\n",
    "args_num_outputs = 6\n",
    "\n",
    "device = torch.device('cuda:1')\n",
    "\n",
    "working_directory = WorkingDirectory('/scratches/cblgpu07/em626/kernelcnp/kernelcnp/notebooks/eeg-results/models')"
   ]
  },
  {
   "cell_type": "code",
   "execution_count": 4,
   "id": "72c0b557-7ef7-4676-b430-1d7ee5c476e8",
   "metadata": {},
   "outputs": [],
   "source": [
    "def load_model(model_name, device, working_directory):\n",
    "    \n",
    "    if 'convgnp' in model_name:\n",
    "        \n",
    "        output_layer = None\n",
    "\n",
    "        if 'meanfield' in model_name:\n",
    "            output_layer = MultiOutputMeanFieldGaussianLayer(num_outputs=6)\n",
    "\n",
    "        elif 'innerprod' in model_name:\n",
    "            output_layer = MultiOutputInnerprodGaussianLayer(num_outputs=args_num_outputs,\n",
    "                                                             num_embedding=args_num_basis_dim,\n",
    "                                                             noise_type=args_noise_type,\n",
    "                                                             jitter=args_jitter)\n",
    "\n",
    "        elif 'kvv' in model_name:\n",
    "            output_layer = MultiOutputKvvGaussianLayer(num_outputs=args_num_outputs,\n",
    "                                                       num_embedding=args_num_basis_dim,\n",
    "                                                       noise_type=args_noise_type,\n",
    "                                                       jitter=args_jitter)\n",
    "\n",
    "        model = StandardEEGConvGNP(num_channels=args_num_outputs,\n",
    "                                   output_layer=output_layer)\n",
    "        \n",
    "    elif 'convnp' in model_name:\n",
    "        model = StandardPredPreyConvNP(input_dim=1, num_samples=16)\n",
    "\n",
    "    # Load model to appropriate device\n",
    "    model = model.to(device)\n",
    "\n",
    "    # Load model from saved state\n",
    "    load_dict = torch.load(working_directory.file(f'{model_name}', exists=True), map_location=torch.device('cpu'))\n",
    "    model.load_state_dict(load_dict['state_dict'])\n",
    "    \n",
    "    return model"
   ]
  },
  {
   "cell_type": "code",
   "execution_count": 5,
   "id": "a54d282a-56d2-45f9-b665-8425e73616b6",
   "metadata": {},
   "outputs": [
    {
     "name": "stdout",
     "output_type": "stream",
     "text": [
      "             F3     F4      F5      F6     FZ     F1     F2\n",
      "time                                                       \n",
      "0.000000  3.927  2.421   7.284   4.486  1.383  1.811  1.902\n",
      "0.003906  4.415  4.862   7.284   5.951  2.848  2.299  3.367\n",
      "0.007812  4.903  6.327   8.260   7.904  3.825  3.276  4.344\n",
      "0.011719  6.368  6.327   9.237   9.369  4.313  4.252  4.832\n",
      "0.015625  7.345  5.351  10.213  11.322  4.313  4.740  4.344\n",
      "...         ...    ...     ...     ...    ...    ...    ...\n",
      "0.980469 -0.468 -0.997   6.795 -11.627 -5.941 -3.560 -8.352\n",
      "0.984375  0.997 -0.509   8.260 -10.651 -4.476 -2.096 -7.375\n",
      "0.988281  2.462  1.444  10.213  -6.744 -3.988 -0.631 -5.422\n",
      "0.992188  2.950  4.862  12.166  -1.373 -2.523 -0.142 -3.469\n",
      "0.996094  3.438  7.304  13.631   2.533 -2.035  0.346 -2.981\n",
      "\n",
      "[256 rows x 7 columns]\n"
     ]
    },
    {
     "ename": "Exception",
     "evalue": "",
     "output_type": "error",
     "traceback": [
      "\u001b[0;31m---------------------------------------------------------------------------\u001b[0m",
      "\u001b[0;31mException\u001b[0m                                 Traceback (most recent call last)",
      "\u001b[0;32m<ipython-input-5-5f42b6112932>\u001b[0m in \u001b[0;36m<module>\u001b[0;34m\u001b[0m\n\u001b[1;32m      5\u001b[0m                           \u001b[0mbatch_size\u001b[0m\u001b[0;34m=\u001b[0m\u001b[0;36m1\u001b[0m\u001b[0;34m,\u001b[0m\u001b[0;34m\u001b[0m\u001b[0;34m\u001b[0m\u001b[0m\n\u001b[1;32m      6\u001b[0m                           \u001b[0mbatches_per_epoch\u001b[0m\u001b[0;34m=\u001b[0m\u001b[0;36m1\u001b[0m\u001b[0;34m,\u001b[0m\u001b[0;34m\u001b[0m\u001b[0;34m\u001b[0m\u001b[0m\n\u001b[0;32m----> 7\u001b[0;31m                           target_length=50)\n\u001b[0m",
      "\u001b[0;32m/scratches/cblgpu07/em626/kernelcnp/kernelcnp/cnp/data.py\u001b[0m in \u001b[0;36m__init__\u001b[0;34m(self, split, batch_size, batches_per_epoch, num_total_channels, num_target_channels, target_length, device)\u001b[0m\n\u001b[1;32m    743\u001b[0m                 \u001b[0mtrial\u001b[0m \u001b[0;34m=\u001b[0m \u001b[0mtrial\u001b[0m\u001b[0;34m.\u001b[0m\u001b[0mloc\u001b[0m\u001b[0;34m[\u001b[0m\u001b[0;34m:\u001b[0m\u001b[0;34m,\u001b[0m \u001b[0;34m[\u001b[0m\u001b[0;34m'F3'\u001b[0m\u001b[0;34m,\u001b[0m \u001b[0;34m'F4'\u001b[0m\u001b[0;34m,\u001b[0m \u001b[0;34m'F5'\u001b[0m\u001b[0;34m,\u001b[0m \u001b[0;34m'F6'\u001b[0m\u001b[0;34m,\u001b[0m \u001b[0;34m'FZ'\u001b[0m\u001b[0;34m,\u001b[0m \u001b[0;34m'F1'\u001b[0m\u001b[0;34m,\u001b[0m \u001b[0;34m'F2'\u001b[0m\u001b[0;34m]\u001b[0m\u001b[0;34m]\u001b[0m\u001b[0;34m\u001b[0m\u001b[0;34m\u001b[0m\u001b[0m\n\u001b[1;32m    744\u001b[0m                 \u001b[0mprint\u001b[0m\u001b[0;34m(\u001b[0m\u001b[0mtrial\u001b[0m\u001b[0;34m)\u001b[0m\u001b[0;34m\u001b[0m\u001b[0;34m\u001b[0m\u001b[0m\n\u001b[0;32m--> 745\u001b[0;31m                 \u001b[0;32mraise\u001b[0m \u001b[0mException\u001b[0m\u001b[0;34m\u001b[0m\u001b[0;34m\u001b[0m\u001b[0m\n\u001b[0m\u001b[1;32m    746\u001b[0m \u001b[0;34m\u001b[0m\u001b[0m\n\u001b[1;32m    747\u001b[0m                 \u001b[0;31m# Keep only the first channels\u001b[0m\u001b[0;34m\u001b[0m\u001b[0;34m\u001b[0m\u001b[0;34m\u001b[0m\u001b[0m\n",
      "\u001b[0;31mException\u001b[0m: "
     ]
    }
   ],
   "source": [
    "# Load data\n",
    "train_data = EEGGenerator(split='train',\n",
    "                          num_total_channels=6,\n",
    "                          num_target_channels=3,\n",
    "                          batch_size=1,\n",
    "                          batches_per_epoch=1,\n",
    "                          target_length=50)"
   ]
  },
  {
   "cell_type": "code",
   "execution_count": null,
   "id": "18a1934b-5a36-4bf6-80bd-0a9c3d51f236",
   "metadata": {},
   "outputs": [],
   "source": [
    "model_infos = [\n",
    "    ('ConvGNP (meanfield)', StandardEEGConvGNP, MultiOutputMeanFieldGaussianLayer, 'convgnp-meanfield'),\n",
    "    ('ConvGNP (linear)', StandardEEGConvGNP, MultiOutputInnerprodGaussianLayer, 'convgnp-innerprod'),\n",
    "    ('ConvGNP (kvv)', StandardEEGConvGNP, MultiOutputKvvGaussianLayer, 'convgnp-kvv')\n",
    "]\n",
    "\n",
    "for model_info in model_infos[:3]:\n",
    "    \n",
    "    model = load_model(model_name=model_info[-1],\n",
    "                       device=device,\n",
    "                       working_directory=working_directory)\n",
    "    \n",
    "    data = list(train_data)[0]\n",
    "    ones = torch.ones_like(data['m_target']).to(device)\n",
    "    \n",
    "    samples, samples_masked = model.sample(x_context=data['x_context'].to(device),\n",
    "                                           y_context=data['y_context'].to(device),\n",
    "                                           m_context=data['m_context'].to(device),\n",
    "                                           x_target=data['x_target'].to(device),\n",
    "                                           m_target=data['m_target'].to(device),\n",
    "                                           num_samples=100,\n",
    "                                           noiseless=False,\n",
    "                                           double=True)\n",
    "    \n",
    "    samples = to_numpy(samples)\n",
    "    samples_masked = to_numpy(samples_masked)\n",
    "    \n",
    "    x_ctx = to_numpy(data['x_context'])\n",
    "    y_ctx = to_numpy(data['y_context'])\n",
    "    x_trg = to_numpy(data['x_target'])\n",
    "    y_trg = to_numpy(data['y_target'])\n",
    "    \n",
    "    print(x_trg.shape, samples_masked.shape)\n",
    "    \n",
    "    for i in range(6):\n",
    "        if torch.any(data['m_target'][0, i, :] == 1, dim=0):\n",
    "            plt.plot(x_ctx[0, :, 0], y_ctx[0, i, :])\n",
    "            plt.plot(x_trg[0, :, 0], np.mean(samples[:, 0, i, :].T, axis=-1), color='k', alpha=1)\n",
    "            plt.plot(x_trg[0, :, 0], y_trg[0, i, :])\n",
    "            plt.show()\n",
    "        else:\n",
    "            continue"
   ]
  },
  {
   "cell_type": "code",
   "execution_count": null,
   "id": "86c373d6-f1ac-44ec-ab40-6eab4b229e1a",
   "metadata": {},
   "outputs": [],
   "source": [
    "x_ctx[0, :, 0].shape, y_ctx[0, :, 0].shape"
   ]
  },
  {
   "cell_type": "code",
   "execution_count": null,
   "id": "8e995efc-dcc6-4835-a059-76888f8ac349",
   "metadata": {},
   "outputs": [],
   "source": [
    "y_ctx[0, :, :].shape"
   ]
  },
  {
   "cell_type": "code",
   "execution_count": null,
   "id": "0e235b98-3000-438f-adc8-2462e95a346e",
   "metadata": {},
   "outputs": [],
   "source": []
  }
 ],
 "metadata": {
  "kernelspec": {
   "display_name": "venv-kernelcnp",
   "language": "python",
   "name": "venv-kernelcnp"
  },
  "language_info": {
   "codemirror_mode": {
    "name": "ipython",
    "version": 3
   },
   "file_extension": ".py",
   "mimetype": "text/x-python",
   "name": "python",
   "nbconvert_exporter": "python",
   "pygments_lexer": "ipython3",
   "version": "3.6.9"
  }
 },
 "nbformat": 4,
 "nbformat_minor": 5
}
