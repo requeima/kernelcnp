{
 "cells": [
  {
   "cell_type": "code",
   "execution_count": 19,
   "id": "73454e34-59ca-4de4-8199-1ed37fc49d45",
   "metadata": {},
   "outputs": [],
   "source": [
    "import torch\n",
    "import stheno\n",
    "import numpy as np\n",
    "import matplotlib.pyplot as plt\n",
    "\n",
    "from cnp.experiment import WorkingDirectory\n",
    "\n",
    "import os\n",
    "import pickle\n",
    "\n",
    "root = '/scratches/cblgpu07/em626/kernelcnp/kernelcnp/experiments/synthetic'"
   ]
  },
  {
   "cell_type": "code",
   "execution_count": 20,
   "id": "5c2dfbb4-f28f-4748-b327-7419a86479d1",
   "metadata": {},
   "outputs": [
    {
     "name": "stdout",
     "output_type": "stream",
     "text": [
      "Root: /scratches/cblgpu07/em626/kernelcnp/kernelcnp/experiments/synthetic/toy-data/eq-2-8-50-100-100-0\n"
     ]
    }
   ],
   "source": [
    "# Directory where data are stored\n",
    "data_name = 'eq-2-8-50-100-100-0'\n",
    "\n",
    "# Path to data\n",
    "data_dir = os.path.join(root, 'toy-data', data_name)\n",
    "data_directory = WorkingDirectory(root=data_dir)\n",
    "\n",
    "# Load data\n",
    "file = open(data_directory.file('valid-data.pkl'), 'rb')\n",
    "data = pickle.load(file)\n",
    "file.close()"
   ]
  },
  {
   "cell_type": "code",
   "execution_count": 37,
   "id": "7940ec3d-e069-45cb-8e13-6a9e761c920f",
   "metadata": {},
   "outputs": [],
   "source": [
    "# Generate data\n",
    "def generate_dataset(data_type, num_context, num_total, noise=5e-2):\n",
    "    \n",
    "    # Set up covariance\n",
    "    if data_type == 'eq':\n",
    "        cov = stheno.EQ().stretch(1.)\n",
    "\n",
    "    elif data_type == 'matern':\n",
    "        cov = stheno.Matern52().stretch(1.)\n",
    "\n",
    "    elif data_type == 'noisy-mixture-slow':\n",
    "        cov = stheno.EQ().stretch(1.) + stheno.EQ().stretch(0.5)\n",
    "\n",
    "    elif data_type == 'weakly-periodic-slow':\n",
    "        cov = stheno.EQ().stretch(1.) * stheno.EQ().periodic(period=0.5)\n",
    "        \n",
    "    cov = cov + noise ** 2 * stheno.Delta()\n",
    "    \n",
    "    # Choose line to constrain along and choose inputs\n",
    "    x0 = -2.\n",
    "    x1 = 2.\n",
    "    y0 = 4. * np.random.rand() - 2.\n",
    "    y1 = 4. * np.random.rand() - 2.\n",
    "    \n",
    "    x = np.linspace(x0, x1, num_total)\n",
    "    y = np.linspace(y0, y1, num_total)\n",
    "    \n",
    "    x = np.stack([x, y], axis=-1)\n",
    "    \n",
    "    # Sample data\n",
    "    gp = stheno.GP(cov)\n",
    "    sample = np.squeeze(gp(x).sample())\n",
    "    \n",
    "    idx = np.random.choice(np.arange(num_total), size=(num_context,))\n",
    "    \n",
    "    x_context = x[idx, :]\n",
    "    y_context = sample[idx]\n",
    "    x_target = np.delete(x, idx)\n",
    "    y_target = np.delete(sample, idx)\n",
    "    \n",
    "    return x_context, x_target, y_context, y_target"
   ]
  },
  {
   "cell_type": "code",
   "execution_count": 41,
   "id": "c4747550-546a-480d-90cc-8d1121533e59",
   "metadata": {},
   "outputs": [],
   "source": [
    "data_type = 'eq'\n",
    "num_context = 3\n",
    "num_total = 500\n",
    "\n",
    "x_context, x_target, y_context, y_target = generate_dataset(data_type=data_type,\n",
    "                                                            num_context=num_context,\n",
    "                                                            num_total=num_total)"
   ]
  },
  {
   "cell_type": "code",
   "execution_count": 39,
   "id": "97b16391-aa08-4f1e-a1e1-e69713f0c7e3",
   "metadata": {},
   "outputs": [],
   "source": [
    "# List models \n",
    "\n",
    "# Select input range\n",
    "\n",
    "# For loop over models\n",
    "#   Load model\n",
    "#   Plot 1D marginals or samples\n",
    "#   Save"
   ]
  },
  {
   "cell_type": "code",
   "execution_count": null,
   "id": "b14555dd-a11c-435c-b25a-8d703f0c0a74",
   "metadata": {},
   "outputs": [],
   "source": []
  }
 ],
 "metadata": {
  "kernelspec": {
   "display_name": "venv-kernelcnp",
   "language": "python",
   "name": "venv-kernelcnp"
  },
  "language_info": {
   "codemirror_mode": {
    "name": "ipython",
    "version": 3
   },
   "file_extension": ".py",
   "mimetype": "text/x-python",
   "name": "python",
   "nbconvert_exporter": "python",
   "pygments_lexer": "ipython3",
   "version": "3.6.9"
  }
 },
 "nbformat": 4,
 "nbformat_minor": 5
}
