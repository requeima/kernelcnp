{
 "cells": [
  {
   "cell_type": "code",
   "execution_count": 11,
   "id": "73454e34-59ca-4de4-8199-1ed37fc49d45",
   "metadata": {},
   "outputs": [],
   "source": [
    "import torch\n",
    "import numpy as np\n",
    "import matplotlib.pyplot as plt\n",
    "\n",
    "from cnp.experiment import WorkingDirectory\n",
    "\n",
    "import os\n",
    "import pickle\n",
    "\n",
    "root = '/scratches/cblgpu07/em626/kernelcnp/kernelcnp/experiments/synthetic'"
   ]
  },
  {
   "cell_type": "code",
   "execution_count": 13,
   "id": "5c2dfbb4-f28f-4748-b327-7419a86479d1",
   "metadata": {},
   "outputs": [
    {
     "name": "stdout",
     "output_type": "stream",
     "text": [
      "Root: /scratches/cblgpu07/em626/kernelcnp/kernelcnp/experiments/synthetic/toy-data/eq-2-8-50-100-100-0\n"
     ]
    }
   ],
   "source": [
    "# Directory where data are stored\n",
    "data_name = 'eq-2-8-50-100-100-0'\n",
    "\n",
    "# Path to data\n",
    "data_dir = os.path.join(root, 'toy-data', data_name)\n",
    "data_directory = WorkingDirectory(root=data_dir)\n",
    "\n",
    "# Load data\n",
    "file = open(data_directory.file('valid-data.pkl'), 'rb')\n",
    "data = pickle.load(file)\n",
    "file.close()"
   ]
  },
  {
   "cell_type": "code",
   "execution_count": null,
   "id": "7940ec3d-e069-45cb-8e13-6a9e761c920f",
   "metadata": {},
   "outputs": [],
   "source": [
    "# Generate data\n",
    "def generate_dataset(data_type, num_context, num_target, noise=5e-2):\n",
    "    \n",
    "    # Set up covariance\n",
    "    if data_type == 'eq':\n",
    "        cov = EQ().stretch(1.)\n",
    "\n",
    "    elif data_type == 'matern':\n",
    "        cov = Matern52().stretch(1.)\n",
    "\n",
    "    elif data_type == 'noisy-mixture-slow':\n",
    "        cov = EQ().stretch(1.) + EQ().stretch(0.5)\n",
    "\n",
    "    elif data_type == 'weakly-periodic-slow':\n",
    "        cov = EQ().stretch(1.) * EQ().periodic(period=0.5)\n",
    "    \n",
    "    # Choose line to constrain along and choose inputs\n",
    "    x0 = -2.\n",
    "    x1 = 2.\n",
    "    y0 = 4. * np.random.rand() - 2.\n",
    "    y1 = 4. * np.random.rand() - 2.\n",
    "    \n",
    "    x = torch.linspace(x0, x1, 100)\n",
    "    y = torch.linspace(y0, y1, 100)\n",
    "    \n",
    "    x_context = torch.stack([x, y], axis=-1)\n",
    "    \n",
    "    # Sample data\n",
    "    "
   ]
  },
  {
   "cell_type": "code",
   "execution_count": null,
   "id": "97b16391-aa08-4f1e-a1e1-e69713f0c7e3",
   "metadata": {},
   "outputs": [],
   "source": [
    "# List models \n",
    "\n",
    "# Select input range\n",
    "\n",
    "# For loop over models\n",
    "#   Load model\n",
    "#   Plot 1D marginals or samples\n",
    "#   Save"
   ]
  }
 ],
 "metadata": {
  "kernelspec": {
   "display_name": "venv-kernelcnp",
   "language": "python",
   "name": "venv-kernelcnp"
  },
  "language_info": {
   "codemirror_mode": {
    "name": "ipython",
    "version": 3
   },
   "file_extension": ".py",
   "mimetype": "text/x-python",
   "name": "python",
   "nbconvert_exporter": "python",
   "pygments_lexer": "ipython3",
   "version": "3.6.9"
  }
 },
 "nbformat": 4,
 "nbformat_minor": 5
}
