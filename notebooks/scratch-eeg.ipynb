{
 "cells": [
  {
   "cell_type": "code",
   "execution_count": 1,
   "id": "3bd6bf77-91e9-4014-a716-baac0875ce8f",
   "metadata": {},
   "outputs": [],
   "source": [
    "from cnp.data import EEGGenerator"
   ]
  },
  {
   "cell_type": "code",
   "execution_count": null,
   "id": "9d4425eb-d43e-4047-98f5-b8b02e623b48",
   "metadata": {},
   "outputs": [
    {
     "name": "stdout",
     "output_type": "stream",
     "text": [
      "Downloading file:\n",
      "    Source:     https://kdd.ics.uci.edu/databases/eeg/eeg_full.tar\n",
      "    Target:     /scratches/cblgpu07/em626/kernelcnp/venv-kernelcnp/lib/python3.6/site-packages/data/eeg/eeg_full.tar\n",
      "Generating file:\n",
      "    Source:     /scratches/cblgpu07/em626/kernelcnp/venv-kernelcnp/lib/python3.6/site-packages/data/eeg/eeg_full.tar\n",
      "    Target:     /scratches/cblgpu07/em626/kernelcnp/venv-kernelcnp/lib/python3.6/site-packages/data/eeg/full\n",
      "    mkdir full\n",
      "    tar xf eeg_full.tar -C full\n",
      "    ls full | grep gz$ | xargs -I {} tar xzf full/{} -C full\n"
     ]
    }
   ],
   "source": [
    "EEGGenerator(split='train')"
   ]
  },
  {
   "cell_type": "code",
   "execution_count": null,
   "id": "f35ef914-92a7-4189-85d0-a286d4ff0dbf",
   "metadata": {},
   "outputs": [],
   "source": [
    "EEGGenerator(split='valid')"
   ]
  },
  {
   "cell_type": "code",
   "execution_count": null,
   "id": "6fef4a16-dd66-412d-9fe5-0e73efdb09bb",
   "metadata": {},
   "outputs": [],
   "source": [
    "EEGGenerator(split='test')"
   ]
  },
  {
   "cell_type": "code",
   "execution_count": null,
   "id": "5d66a230-d9a1-40a8-bfa2-25246939ea40",
   "metadata": {},
   "outputs": [],
   "source": []
  }
 ],
 "metadata": {
  "kernelspec": {
   "display_name": "venv-kernelcnp",
   "language": "python",
   "name": "venv-kernelcnp"
  },
  "language_info": {
   "codemirror_mode": {
    "name": "ipython",
    "version": 3
   },
   "file_extension": ".py",
   "mimetype": "text/x-python",
   "name": "python",
   "nbconvert_exporter": "python",
   "pygments_lexer": "ipython3",
   "version": "3.6.9"
  }
 },
 "nbformat": 4,
 "nbformat_minor": 5
}
