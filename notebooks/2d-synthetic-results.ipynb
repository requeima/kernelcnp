{
 "cells": [
  {
   "cell_type": "code",
   "execution_count": null,
   "id": "3da07f50-bd04-4987-bc91-30bcfec82271",
   "metadata": {},
   "outputs": [],
   "source": []
  },
  {
   "cell_type": "code",
   "execution_count": 32,
   "id": "02f1f751-4d0e-4d57-aafb-a9fa7bcdc7b9",
   "metadata": {},
   "outputs": [],
   "source": [
    "dataset_suffix = '2-200-8-50-100-100-0'\n",
    "\n",
    "datasets = ['eq',\n",
    "            'matern',\n",
    "            'noisy-mixture-slow',\n",
    "            'weakly-periodic-slow']\n",
    "\n",
    "datasets = [f'{dataset}-{dataset_suffix}' for dataset in datasets]\n",
    "\n",
    "root = '../experiments/synthetic/results'"
   ]
  },
  {
   "cell_type": "code",
   "execution_count": 37,
   "id": "76a6ff10-cb2c-4710-bfbb-f635e880b2bf",
   "metadata": {},
   "outputs": [],
   "source": [
    "def get_log_likelihood(root, dataset, model, cov):\n",
    "    \n",
    "    filename = f'{root}/{dataset}/models/{model}/{cov}/homo/identity/seed-0/dim-2/test_log_likelihood.txt'\n",
    "    \n",
    "    file = open(filename, 'r')\n",
    "    nll = file.read()[:-2]\n",
    "    \n",
    "    return -float(nll)"
   ]
  },
  {
   "cell_type": "code",
   "execution_count": 38,
   "id": "5470a93e-df85-4698-9ab7-f5bfad170cd4",
   "metadata": {},
   "outputs": [
    {
     "name": "stdout",
     "output_type": "stream",
     "text": [
      "args_file.txt\t    num_params.txt\n",
      "checkpoint.pth.tar  test_log_likelihood_standard_error.txt\n",
      "data_location.txt   test_log_likelihood.txt\n",
      "last_epoch.txt\t    test_time.txt\n",
      "log\t\t    train_time.txt\n",
      "model_best.pth.tar\n"
     ]
    }
   ],
   "source": [
    "!ls ../experiments/synthetic/results/eq-2-200-8-50-100-100-0/models/convGNP/meanfield/homo/identity/seed-0/dim-2"
   ]
  },
  {
   "cell_type": "code",
   "execution_count": 39,
   "id": "44e95e53-828d-488f-ac38-bd8e79b11ac3",
   "metadata": {},
   "outputs": [
    {
     "name": "stdout",
     "output_type": "stream",
     "text": [
      "70.66135517550813"
     ]
    }
   ],
   "source": [
    "!cat ../experiments/synthetic/results/eq-2-200-8-50-100-100-0/models/convGNP/meanfield/homo/identity/seed-0/dim-2/test_log_likelihood.txt"
   ]
  },
  {
   "cell_type": "code",
   "execution_count": 40,
   "id": "54133736-d2ea-40eb-bd24-7f584591eb79",
   "metadata": {},
   "outputs": [
    {
     "name": "stdout",
     "output_type": "stream",
     "text": [
      "-2.03784376745557\n"
     ]
    }
   ],
   "source": [
    "get_log_likelihoods(root=root, dataset=datasets[0], model='convGNP', cov='innerprod')"
   ]
  },
  {
   "cell_type": "code",
   "execution_count": null,
   "id": "f87e0f68-936f-4df9-a2be-11f3233e8ad7",
   "metadata": {},
   "outputs": [],
   "source": [
    "log_likelihoods = "
   ]
  }
 ],
 "metadata": {
  "kernelspec": {
   "display_name": "venv-kernelcnp",
   "language": "python",
   "name": "venv-kernelcnp"
  },
  "language_info": {
   "codemirror_mode": {
    "name": "ipython",
    "version": 3
   },
   "file_extension": ".py",
   "mimetype": "text/x-python",
   "name": "python",
   "nbconvert_exporter": "python",
   "pygments_lexer": "ipython3",
   "version": "3.6.9"
  }
 },
 "nbformat": 4,
 "nbformat_minor": 5
}
