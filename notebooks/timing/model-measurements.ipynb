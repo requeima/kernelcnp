{
 "cells": [
  {
   "cell_type": "code",
   "execution_count": 1,
   "id": "4f115b09-d0b0-4bab-9765-6b901c1bdc59",
   "metadata": {},
   "outputs": [],
   "source": [
    "import torch\n",
    "import matplotlib.pyplot as plt\n",
    "\n",
    "from cnp.cov import (\n",
    "    MeanFieldGaussianLayer,\n",
    "    InnerprodGaussianLayer,\n",
    "    KvvGaussianLayer\n",
    ")\n",
    "\n",
    "from cnp.cnp import (\n",
    "    StandardGNP,\n",
    "    StandardAGNP,\n",
    "    StandardConvGNP,\n",
    "    FullConvGNP\n",
    ")\n",
    "\n",
    "def warn(*args, **kwargs):\n",
    "    pass\n",
    "\n",
    "import warnings\n",
    "warnings.warn = warn"
   ]
  },
  {
   "cell_type": "code",
   "execution_count": 2,
   "id": "48c7f8cc-8cc8-494d-bb18-b102c6a2bf73",
   "metadata": {},
   "outputs": [],
   "source": [
    "def measure_model_forward(model_name):\n",
    "\n",
    "    args_cov_type = 'kvv'\n",
    "    args_model = model_name\n",
    "    args_x_dim = 1\n",
    "    args_num_basis_dim = 512\n",
    "    args_noise_type = 'hetero'\n",
    "    device = 'cuda:0'\n",
    "\n",
    "    # =============================================================================\n",
    "    # Create model\n",
    "    # =============================================================================\n",
    "\n",
    "    cov_types = {\n",
    "        'meanfield' : MeanFieldGaussianLayer,\n",
    "        'innerprod' : InnerprodGaussianLayer,\n",
    "        'kvv'       : KvvGaussianLayer\n",
    "    }\n",
    "\n",
    "    if args_cov_type == 'meanfield':\n",
    "        output_layer = MeanFieldGaussianLayer()\n",
    "\n",
    "    else:\n",
    "        output_layer = cov_types[args_cov_type](num_embedding=args_num_basis_dim,\n",
    "                                                noise_type=args_noise_type)\n",
    "\n",
    "    # Create model architecture\n",
    "    if args_model == 'GNP':\n",
    "        model = StandardGNP(input_dim=args_x_dim, output_layer=output_layer)\n",
    "\n",
    "    elif args_model == 'AGNP':\n",
    "        model = StandardAGNP(input_dim=args_x_dim, output_layer=output_layer)\n",
    "\n",
    "    elif args_model == 'convGNP':\n",
    "        model = StandardConvGNP(input_dim=args_x_dim, output_layer=output_layer)\n",
    "\n",
    "    elif args_model == 'FullConvGNP':\n",
    "        model = FullConvGNP()\n",
    "\n",
    "    elif args_model == 'ANP':\n",
    "        model = StandardANP(input_dim=args_x_dim,\n",
    "                            num_samples=args_np_loss_samples)\n",
    "\n",
    "    elif args_model == 'convNP':\n",
    "        model = StandardConvNP(input_dim=args_x_dim,\n",
    "                               num_samples=args_np_loss_samples)\n",
    "\n",
    "    else:\n",
    "        raise ValueError(f'Unknown model {args_model}.')\n",
    "\n",
    "    assert torch.cuda.memory_allocated() == 0\n",
    "\n",
    "    # Load model to appropriate device\n",
    "    model = model.to(device)\n",
    "    \n",
    "    N = 50\n",
    "    M = 100\n",
    "    D = 1\n",
    "    u = 8.\n",
    "\n",
    "    torch.manual_seed(0)\n",
    "\n",
    "    x_context = torch.linspace(-u, u, N)[None, :, None].to(device)\n",
    "    y_context = torch.rand(size=(1, N, 1)).to(device)\n",
    "    x_target = torch.linspace(-u, u, M)[None, :, None].to(device)\n",
    "    \n",
    "    model.forward(x_context, y_context, x_target)\n",
    "    print(f'{model_name} Memory: ', torch.cuda.memory_allocated())\n",
    "\n",
    "    %timeit _ = model.forward(x_context, y_context, x_target)"
   ]
  },
  {
   "cell_type": "code",
   "execution_count": 3,
   "id": "456f96b1-5acc-473b-86a1-40f22dba73bf",
   "metadata": {},
   "outputs": [
    {
     "name": "stdout",
     "output_type": "stream",
     "text": [
      "FullConvGNP Memory:  1227776\n",
      "4.59 ms ± 5.05 µs per loop (mean ± std. dev. of 7 runs, 100 loops each)\n"
     ]
    }
   ],
   "source": [
    "measure_model_forward('FullConvGNP')"
   ]
  },
  {
   "cell_type": "code",
   "execution_count": 4,
   "id": "11192fee-a281-4c3e-b492-c11e3de90af3",
   "metadata": {},
   "outputs": [],
   "source": [
    "# Using a seed of 0\n",
    "# GNP         584 µs ± 740 ns   , 476160  Bytes\n",
    "# AGNP        1.62 ms ± 1.68 µs , 2971136 Bytes\n",
    "# ConvGNP     1.74 ms ± 1.19 µs , 231424  Bytes\n",
    "# FullConvGNP 4.59 ms ± 5.05 µs , 1227776 Bytes"
   ]
  },
  {
   "cell_type": "code",
   "execution_count": 5,
   "id": "05df7d11-b1e2-4a5d-872a-493f0e92311f",
   "metadata": {},
   "outputs": [
    {
     "name": "stdout",
     "output_type": "stream",
     "text": [
      "Mon Nov 22 19:17:09 2021       \n",
      "+-----------------------------------------------------------------------------+\n",
      "| NVIDIA-SMI 495.29.05    Driver Version: 495.29.05    CUDA Version: 11.5     |\n",
      "|-------------------------------+----------------------+----------------------+\n",
      "| GPU  Name        Persistence-M| Bus-Id        Disp.A | Volatile Uncorr. ECC |\n",
      "| Fan  Temp  Perf  Pwr:Usage/Cap|         Memory-Usage | GPU-Util  Compute M. |\n",
      "|                               |                      |               MIG M. |\n",
      "|===============================+======================+======================|\n",
      "|   0  NVIDIA GeForce ...  On   | 00000000:17:00.0 Off |                  N/A |\n",
      "| 22%   30C    P8    10W / 250W |   1328MiB / 11019MiB |      0%      Default |\n",
      "|                               |                      |                  N/A |\n",
      "+-------------------------------+----------------------+----------------------+\n",
      "|   1  NVIDIA GeForce ...  On   | 00000000:B3:00.0 Off |                  N/A |\n",
      "| 22%   29C    P8    21W / 250W |      3MiB / 11019MiB |      0%      Default |\n",
      "|                               |                      |                  N/A |\n",
      "+-------------------------------+----------------------+----------------------+\n",
      "                                                                               \n",
      "+-----------------------------------------------------------------------------+\n",
      "| Processes:                                                                  |\n",
      "|  GPU   GI   CI        PID   Type   Process name                  GPU Memory |\n",
      "|        ID   ID                                                   Usage      |\n",
      "|=============================================================================|\n",
      "|    0   N/A  N/A     28381      C   ...venv-kernelcnp/bin/python     1325MiB |\n",
      "+-----------------------------------------------------------------------------+\n"
     ]
    }
   ],
   "source": [
    "!nvidia-smi"
   ]
  },
  {
   "cell_type": "code",
   "execution_count": null,
   "id": "8efcb968-cc61-40af-a3da-195cf56b0c73",
   "metadata": {},
   "outputs": [],
   "source": []
  }
 ],
 "metadata": {
  "kernelspec": {
   "display_name": "venv-kernelcnp",
   "language": "python",
   "name": "venv-kernelcnp"
  },
  "language_info": {
   "codemirror_mode": {
    "name": "ipython",
    "version": 3
   },
   "file_extension": ".py",
   "mimetype": "text/x-python",
   "name": "python",
   "nbconvert_exporter": "python",
   "pygments_lexer": "ipython3",
   "version": "3.6.9"
  }
 },
 "nbformat": 4,
 "nbformat_minor": 5
}
