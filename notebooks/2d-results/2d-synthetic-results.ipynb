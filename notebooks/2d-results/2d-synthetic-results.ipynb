{
 "cells": [
  {
   "cell_type": "code",
   "execution_count": 1,
   "id": "3da07f50-bd04-4987-bc91-30bcfec82271",
   "metadata": {},
   "outputs": [],
   "source": [
    "from itertools import product\n",
    "\n",
    "import numpy as np\n",
    "import matplotlib.pyplot as plt\n",
    "\n",
    "import pickle\n",
    "\n",
    "import matplotlib\n",
    "\n",
    "# matplotlib.rcParams['text.usetex'] = True\n",
    "\n",
    "# plt.rc('text', usetex=True)\n",
    "# plt.rc('font', family='serif')"
   ]
  },
  {
   "cell_type": "code",
   "execution_count": 2,
   "id": "02f1f751-4d0e-4d57-aafb-a9fa7bcdc7b9",
   "metadata": {},
   "outputs": [],
   "source": [
    "dataset_suffix = '2-200-8-50-100-100-0'\n",
    "\n",
    "datasets = ['eq',\n",
    "            'matern',\n",
    "            'noisy-mixture-slow',\n",
    "            'weakly-periodic-slow']\n",
    "\n",
    "datasets = [f'{dataset}-{dataset_suffix}' for dataset in datasets]\n",
    "\n",
    "root = '../../experiments/synthetic/results'"
   ]
  },
  {
   "cell_type": "code",
   "execution_count": 3,
   "id": "1ce61e07-9592-4ee5-9f44-a96a8c598900",
   "metadata": {},
   "outputs": [],
   "source": [
    "models = [\n",
    "    ['convGNP', 'meanfield'],\n",
    "    ['convGNP', 'innerprod'],\n",
    "    ['convGNP', 'kvv'],\n",
    "    ['convNP', 'meanfield']\n",
    "]\n",
    "\n",
    "model_names = [\n",
    "    'convgnp-meanfield',\n",
    "    'convgnp-innerprod',\n",
    "    'convgnp-kvv',\n",
    "    'convnp-meanfield'\n",
    "]\n",
    "\n",
    "data_names = [ 'eq', 'mat', 'nm', 'wp']"
   ]
  },
  {
   "cell_type": "code",
   "execution_count": 4,
   "id": "76a6ff10-cb2c-4710-bfbb-f635e880b2bf",
   "metadata": {},
   "outputs": [],
   "source": [
    "def get_model_log_likelihood(root, dataset, model, cov):\n",
    "    \n",
    "    filename = f'{root}/{dataset}/models/{model}/{cov}/homo/identity/seed-0/dim-2/test_log_likelihood.txt'\n",
    "    \n",
    "    file = open(filename, 'r')\n",
    "    nll = file.read()[:-2]\n",
    "    \n",
    "    return -float(nll)\n",
    "\n",
    "\n",
    "def get_oracle_log_likelihood(root, dataset):\n",
    "    \n",
    "    filename = f'{root}/{dataset}/models/oracle/seed-0/dim-2/test_nll_mean.txt'\n",
    "    \n",
    "    file = open(filename, 'r')\n",
    "    ll = file.read()[:-2]\n",
    "    \n",
    "    filename = f'{root}/{dataset}/models/oracle/seed-0/dim-2/test_diag_nll_mean.txt'\n",
    "    \n",
    "    file = open(filename, 'r')\n",
    "    ll_diag = file.read()[:-2]\n",
    "    \n",
    "    return float(ll), float(ll_diag)"
   ]
  },
  {
   "cell_type": "code",
   "execution_count": 5,
   "id": "c92cb98c-4fc3-4ce5-ad49-ea75dc146e3f",
   "metadata": {},
   "outputs": [],
   "source": [
    "markers = ['^', '^', '^', 'X']\n",
    "colors = ['tab:red', 'tab:green', 'tab:blue', 'tab:purple']\n",
    "legend_labels = ['ConvGNP (meanfield)', 'ConvGNP (linear)', 'ConvGNP (kvv)', 'ConvNP']\n",
    "data_types = ['EQ', 'Matern', 'Noisy Mixture', 'Weakly Periodic']"
   ]
  },
  {
   "cell_type": "code",
   "execution_count": 6,
   "id": "eac0fdb1-86ae-4943-a5cc-9353671e0c3b",
   "metadata": {},
   "outputs": [],
   "source": [
    "results = {}\n",
    "\n",
    "for data_name, dataset in zip(data_names, datasets):\n",
    "    \n",
    "    _results = {}\n",
    "    \n",
    "    for model_name, (model, cov) in zip(model_names, models):\n",
    "        \n",
    "        loglik = get_model_log_likelihood(root=root,\n",
    "                                          dataset=dataset,\n",
    "                                          model=model,\n",
    "                                          cov=cov)\n",
    "        \n",
    "        _results[model_name] = loglik\n",
    "        \n",
    "    loglik, loglik_diag = get_oracle_log_likelihood(root=root,\n",
    "                                                    dataset=dataset)\n",
    "    _results['oracle'] = loglik\n",
    "    _results['oracle-diag'] = loglik_diag\n",
    "    \n",
    "    results[data_name] = _results\n",
    "\n",
    "with open('2d-results.pkl', 'wb') as file:\n",
    "    pickle.dump(results, file)"
   ]
  },
  {
   "cell_type": "code",
   "execution_count": 7,
   "id": "2183b4d0-6038-4336-9c5d-1284067b08be",
   "metadata": {},
   "outputs": [
    {
     "name": "stdout",
     "output_type": "stream",
     "text": [
      "{'eq': {'convgnp-meanfield': 0.302009691854432, 'convgnp-innerprod': 0.33180940451644, 'convgnp-kvv': 1.01892188372778, 'convnp-meanfield': 0.52046838289684, 'oracle': 1.1311805898361, 'oracle-diag': 0.39559263047045}, 'mat': {'convgnp-meanfield': -0.214830137724817, 'convgnp-innerprod': -0.176774469021207, 'convgnp-kvv': 0.469952724174766, 'convnp-meanfield': -0.067596730507533, 'oracle': 0.55456364002559, 'oracle-diag': -0.1757482244698}, 'nm': {'convgnp-meanfield': -0.74505748799338, 'convgnp-innerprod': -0.79471449310213, 'convgnp-kvv': 0.118659637749615, 'convnp-meanfield': -0.60136309655433, 'oracle': 0.297727842694501, 'oracle-diag': -0.68659764920263}, 'wp': {'convgnp-meanfield': -1.2745620878197, 'convgnp-innerprod': -1.24805741350938, 'convgnp-kvv': -1.11577138603893, 'convnp-meanfield': -1.24325053545287, 'oracle': -1.00910562064627, 'oracle-diag': -1.241907909823}}\n"
     ]
    }
   ],
   "source": [
    "results = None\n",
    "with open('2d-results.pkl', 'rb') as file:\n",
    "    results = pickle.load(file)\n",
    "    \n",
    "print(results)"
   ]
  },
  {
   "cell_type": "code",
   "execution_count": 8,
   "id": "cbb032f6-c0c1-481b-a699-2e38b65d7cc1",
   "metadata": {},
   "outputs": [],
   "source": [
    "yticks = [\n",
    "    np.linspace(0.2, 1.0, 5),\n",
    "    np.linspace(-0.2, 0.6, 5),\n",
    "    np.linspace(0.2, -0.8, 6),\n",
    "    np.linspace(-1.3, -1., 7)\n",
    "]\n",
    "\n",
    "ylim = [\n",
    "    (0.1, 1.2),\n",
    "    (-0.3, 0.61),\n",
    "    (-0.85, 0.37),\n",
    "    (-1.31, -0.985)\n",
    "]"
   ]
  },
  {
   "cell_type": "code",
   "execution_count": 9,
   "id": "51d4c79d-fb68-426c-b000-9efc5b116bf0",
   "metadata": {},
   "outputs": [
    {
     "data": {
      "image/png": "[encoded data removed]",
      "text/plain": [
       "<Figure size 1008x360 with 4 Axes>"
      ]
     },
     "metadata": {
      "needs_background": "light"
     },
     "output_type": "display_data"
    }
   ],
   "source": [
    "fig = plt.figure(figsize=(14, 5))\n",
    "\n",
    "for i, (data_name, dataset, _yticks, _ylim) in enumerate(zip(data_names, datasets, yticks, ylim)):\n",
    "    \n",
    "    plt.subplot(1, 4, i+1)\n",
    "    \n",
    "#     print('===========================================')\n",
    "    for j, (model_name, (model, cov), (marker, color)) in enumerate(zip(model_names, models, zip(markers, colors))):\n",
    "        \n",
    "#         loglik = get_model_log_likelihood(root=root,\n",
    "#                                           dataset=dataset,\n",
    "#                                           model=model,\n",
    "#                                           cov=cov)\n",
    "        loglik = results[data_name][model_name]\n",
    "        \n",
    "#         print(loglik)\n",
    "        \n",
    "        plt.scatter(j,\n",
    "                    loglik,\n",
    "                    marker=marker,\n",
    "                    c=color,\n",
    "                    zorder=2,\n",
    "                    s=100,\n",
    "                    linewidth=0.6,\n",
    "                    edgecolor='k',\n",
    "                    label=legend_labels[j])\n",
    "        \n",
    "#     loglik, loglik_diag = get_oracle_log_likelihood(root=root,\n",
    "#                                                     dataset=dataset)\n",
    "    loglik = results[data_name]['oracle']\n",
    "    loglik_diag = results[data_name]['oracle-diag']\n",
    "    \n",
    "    plt.title(f'{data_types[i]}', fontsize=24)\n",
    "    plt.plot([-0.5, 3.5], [loglik, loglik], '--', color='black', zorder=1, label='GP Oracle')\n",
    "    plt.plot([-0.5, 3.5], [loglik_diag, loglik_diag], '--', color='red', zorder=1, label='GP Oracle (diag.)')\n",
    "    plt.xticks([])\n",
    "    plt.yticks(_yticks, fontsize=14)\n",
    "    plt.xlim([-0.5, 3.5])\n",
    "    plt.ylim(_ylim)\n",
    "    \n",
    "    if i == 0:\n",
    "        plt.ylabel('Log. Likelihood', fontsize=24)\n",
    "\n",
    "#     print(\"*\", loglik)\n",
    "    \n",
    "    handles, labels = plt.gca().get_legend_handles_labels()\n",
    "\n",
    "# fig.legend(handles[:2], labels[:2])\n",
    "fig.legend(handles[:2], labels[:2], loc='lower left', ncol=1, fontsize=15, bbox_to_anchor=(0.065, 0.015, 0.10, 0.10))\n",
    "fig.legend(handles[2:], labels[2:], loc='center', ncol=4, fontsize=15, bbox_to_anchor=(0.4, 0.0, 0.5, 0.19), handletextpad=0.01, columnspacing=2.0)\n",
    "    \n",
    "plt.tight_layout()\n",
    "fig.subplots_adjust(bottom=0.22)\n",
    "plt.savefig('2d-results.pdf')\n",
    "plt.show()"
   ]
  },
  {
   "cell_type": "code",
   "execution_count": null,
   "id": "a57f5330-b168-40ca-9dd2-f6af8bb30b0a",
   "metadata": {},
   "outputs": [],
   "source": []
  }
 ],
 "metadata": {
  "kernelspec": {
   "display_name": "venv-kernelcnp",
   "language": "python",
   "name": "venv-kernelcnp"
  },
  "language_info": {
   "codemirror_mode": {
    "name": "ipython",
    "version": 3
   },
   "file_extension": ".py",
   "mimetype": "text/x-python",
   "name": "python",
   "nbconvert_exporter": "python",
   "pygments_lexer": "ipython3",
   "version": "3.6.9"
  }
 },
 "nbformat": 4,
 "nbformat_minor": 5
}
