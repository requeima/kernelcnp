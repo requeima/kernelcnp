{
 "cells": [
  {
   "cell_type": "code",
   "execution_count": 14,
   "metadata": {},
   "outputs": [],
   "source": [
    "from cnp.data import PredatorPreyGenerator\n",
    "import argparse\n",
    "import torch\n",
    "\n",
    "import matplotlib.pyplot as plt"
   ]
  },
  {
   "cell_type": "code",
   "execution_count": 21,
   "metadata": {},
   "outputs": [],
   "source": [
    "device = torch.device('cpu')\n",
    "\n",
    "gen =  PredatorPreyGenerator(iterations_per_epoch=200,\n",
    "                             batch_size=8,\n",
    "                             x_context_ranges=[0, 100],\n",
    "                             max_num_context=50,\n",
    "                             min_num_target=100,\n",
    "                             max_num_target=100,\n",
    "                             device=device,\n",
    "                             x_target_ranges=None)"
   ]
  },
  {
   "cell_type": "code",
   "execution_count": null,
   "metadata": {},
   "outputs": [],
   "source": [
    "%time train_data = [[batch for batch in gen] for epoch in range(1)]"
   ]
  },
  {
   "cell_type": "code",
   "execution_count": 22,
   "metadata": {},
   "outputs": [
    {
     "name": "stdout",
     "output_type": "stream",
     "text": [
      "20\n",
      "CPU times: user 226 ms, sys: 206 ms, total: 432 ms\n",
      "Wall time: 32.2 s\n"
     ]
    }
   ],
   "source": [
    "%time epoch = gen.pregen_epoch()"
   ]
  },
  {
   "cell_type": "code",
   "execution_count": 23,
   "metadata": {},
   "outputs": [
    {
     "data": {
      "text/plain": [
       "200"
      ]
     },
     "execution_count": 23,
     "metadata": {},
     "output_type": "execute_result"
    }
   ],
   "source": [
    "len(epoch)"
   ]
  },
  {
   "cell_type": "code",
   "execution_count": null,
   "metadata": {},
   "outputs": [],
   "source": [
    "task = train_data[0][0]\n",
    "\n",
    "idx = 3\n",
    "\n",
    "plt.scatter(task['x'][idx, :], task['y'][idx, 0, :])\n",
    "plt.scatter(task['x'][idx, :], task['y'][idx, 1, :])\n",
    "plt.show()"
   ]
  },
  {
   "cell_type": "code",
   "execution_count": null,
   "metadata": {},
   "outputs": [],
   "source": []
  }
 ],
 "metadata": {
  "interpreter": {
   "hash": "84a07bdb023fdd18d0daf9a29df1f16722197dac9fa5b868e75f733994f84516"
  },
  "kernelspec": {
   "display_name": "Python 3",
   "language": "python",
   "name": "python3"
  },
  "language_info": {
   "codemirror_mode": {
    "name": "ipython",
    "version": 3
   },
   "file_extension": ".py",
   "mimetype": "text/x-python",
   "name": "python",
   "nbconvert_exporter": "python",
   "pygments_lexer": "ipython3",
   "version": "3.6.9"
  }
 },
 "nbformat": 4,
 "nbformat_minor": 4
}
