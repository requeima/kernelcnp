{
 "cells": [
  {
   "cell_type": "code",
   "execution_count": 1,
   "metadata": {},
   "outputs": [],
   "source": [
    "from cnp.data import PredatorPreyGenerator\n",
    "import argparse\n",
    "import torch\n",
    "\n",
    "import matplotlib.pyplot as plt"
   ]
  },
  {
   "cell_type": "code",
   "execution_count": 17,
   "metadata": {},
   "outputs": [],
   "source": [
    "device = torch.device('cpu')\n",
    "\n",
    "gen =  PredatorPreyGenerator(iterations_per_epoch=1024,\n",
    "                             batch_size=16,\n",
    "                             x_context_ranges=[0, 100],\n",
    "                             max_num_context=50,\n",
    "                             min_num_target=100,\n",
    "                             max_num_target=100,\n",
    "                             device=device,\n",
    "                             x_target_ranges=None)"
   ]
  },
  {
   "cell_type": "code",
   "execution_count": 11,
   "metadata": {},
   "outputs": [
    {
     "name": "stdout",
     "output_type": "stream",
     "text": [
      "CPU times: user 36.9 s, sys: 0 ns, total: 36.9 s\n",
      "Wall time: 36.9 s\n"
     ]
    }
   ],
   "source": [
    "# %time train_data = [[batch for batch in gen] for epoch in range(1)]"
   ]
  },
  {
   "cell_type": "code",
   "execution_count": null,
   "metadata": {},
   "outputs": [],
   "source": [
    "%time epoch = gen.pregen_epoch()"
   ]
  },
  {
   "cell_type": "code",
   "execution_count": null,
   "metadata": {},
   "outputs": [],
   "source": [
    "len(epoch)"
   ]
  },
  {
   "cell_type": "code",
   "execution_count": null,
   "metadata": {},
   "outputs": [],
   "source": [
    "task = train_data[0][0]\n",
    "\n",
    "for idx in range(8):\n",
    "\n",
    "    plt.scatter(task['x'][idx, :], task['y'][idx, 0, :])\n",
    "    plt.scatter(task['x'][idx, :], task['y'][idx, 1, :])\n",
    "    plt.show()"
   ]
  }
 ],
 "metadata": {
  "interpreter": {
   "hash": "84a07bdb023fdd18d0daf9a29df1f16722197dac9fa5b868e75f733994f84516"
  },
  "kernelspec": {
   "display_name": "Python 3",
   "language": "python",
   "name": "python3"
  },
  "language_info": {
   "codemirror_mode": {
    "name": "ipython",
    "version": 3
   },
   "file_extension": ".py",
   "mimetype": "text/x-python",
   "name": "python",
   "nbconvert_exporter": "python",
   "pygments_lexer": "ipython3",
   "version": "3.6.9"
  }
 },
 "nbformat": 4,
 "nbformat_minor": 4
}
