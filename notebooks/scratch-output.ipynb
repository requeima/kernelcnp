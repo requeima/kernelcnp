{
 "cells": [
  {
   "cell_type": "code",
   "execution_count": 1,
   "id": "1099185b-d846-4943-bfc0-ef3cf2cab972",
   "metadata": {},
   "outputs": [],
   "source": [
    "import torch\n",
    "from torch.distributions import Normal, MultivariateNormal\n",
    "from torch.distributions.lowrank_multivariate_normal import LowRankMultivariateNormal\n",
    "\n",
    "from cnp.output import (\n",
    "    OutputLayer,\n",
    "    MeanFieldGaussianLayer,\n",
    "    InnerprodGaussianLayer,\n",
    "    KvvGaussianLayer,\n",
    "    LogLogitCopulaLayer\n",
    ")\n",
    "\n",
    "from cnp.utils import Gamma\n",
    "\n",
    "import matplotlib.pyplot as plt"
   ]
  },
  {
   "cell_type": "markdown",
   "id": "26782015-7030-4b9f-9196-6458db8972c6",
   "metadata": {},
   "source": [
    "# Mean field layer"
   ]
  },
  {
   "cell_type": "code",
   "execution_count": 2,
   "id": "01211635-d104-4e9f-ab29-269e5f800ea3",
   "metadata": {},
   "outputs": [],
   "source": [
    "mfg_layer = MeanFieldGaussianLayer()"
   ]
  },
  {
   "cell_type": "code",
   "execution_count": 3,
   "id": "e30e8d08-e62a-48d0-a712-28201f7e6913",
   "metadata": {},
   "outputs": [
    {
     "data": {
      "text/plain": [
       "(tensor([[0.5875, 0.7263, 0.9583, 0.8231, 0.4557, 0.9288, 0.4297]]),\n",
       " tensor([[[0.9917, 0.0000, 0.0000, 0.0000, 0.0000, 0.0000, 0.0000],\n",
       "          [0.0000, 1.1557, 0.0000, 0.0000, 0.0000, 0.0000, 0.0000],\n",
       "          [0.0000, 0.0000, 0.7999, 0.0000, 0.0000, 0.0000, 0.0000],\n",
       "          [0.0000, 0.0000, 0.0000, 0.7084, 0.0000, 0.0000, 0.0000],\n",
       "          [0.0000, 0.0000, 0.0000, 0.0000, 0.9658, 0.0000, 0.0000],\n",
       "          [0.0000, 0.0000, 0.0000, 0.0000, 0.0000, 1.2717, 0.0000],\n",
       "          [0.0000, 0.0000, 0.0000, 0.0000, 0.0000, 0.0000, 1.1280]]]),\n",
       " tensor([[[1.6848, 0.0000, 0.0000, 0.0000, 0.0000, 0.0000, 0.0000],\n",
       "          [0.0000, 1.8489, 0.0000, 0.0000, 0.0000, 0.0000, 0.0000],\n",
       "          [0.0000, 0.0000, 1.4931, 0.0000, 0.0000, 0.0000, 0.0000],\n",
       "          [0.0000, 0.0000, 0.0000, 1.4015, 0.0000, 0.0000, 0.0000],\n",
       "          [0.0000, 0.0000, 0.0000, 0.0000, 1.6589, 0.0000, 0.0000],\n",
       "          [0.0000, 0.0000, 0.0000, 0.0000, 0.0000, 1.9649, 0.0000],\n",
       "          [0.0000, 0.0000, 0.0000, 0.0000, 0.0000, 0.0000, 1.8211]]],\n",
       "        grad_fn=<AddBackward0>))"
      ]
     },
     "execution_count": 3,
     "metadata": {},
     "output_type": "execute_result"
    }
   ],
   "source": [
    "B = 1\n",
    "T = 7\n",
    "C = 2\n",
    "\n",
    "tensor = torch.rand(B, T, C)\n",
    "\n",
    "mfg_layer.mean_and_cov(tensor)"
   ]
  },
  {
   "cell_type": "code",
   "execution_count": 4,
   "id": "5c622a7f-af8a-4ea1-ab70-a3e1bb7efa6b",
   "metadata": {},
   "outputs": [
    {
     "data": {
      "text/plain": [
       "tensor([-8.3784, -8.8281], grad_fn=<SubBackward0>)"
      ]
     },
     "execution_count": 4,
     "metadata": {},
     "output_type": "execute_result"
    }
   ],
   "source": [
    "B = 2\n",
    "T = 7\n",
    "C = 2\n",
    "\n",
    "tensor = torch.rand(B, T, C)\n",
    "y_target = torch.rand(B, T)\n",
    "\n",
    "mfg_layer.loglik(tensor, y_target)"
   ]
  },
  {
   "cell_type": "code",
   "execution_count": 5,
   "id": "a4ad6152-9284-4736-8fd2-bcce8789bef0",
   "metadata": {},
   "outputs": [
    {
     "name": "stdout",
     "output_type": "stream",
     "text": [
      "torch.Size([3, 1, 7])\n",
      "torch.Size([3, 1, 7])\n"
     ]
    }
   ],
   "source": [
    "B = 1\n",
    "T = 7\n",
    "C = 2\n",
    "num_samples = 3\n",
    "\n",
    "tensor = torch.rand(B, T, C)\n",
    "\n",
    "print(mfg_layer.sample(tensor, num_samples=num_samples, noiseless=False).shape)\n",
    "print(mfg_layer.sample(tensor, num_samples=num_samples, noiseless=True).shape)"
   ]
  },
  {
   "cell_type": "markdown",
   "id": "089fafd7-09cd-48f5-a91a-996766ee1410",
   "metadata": {},
   "source": [
    "# Innerprod layer"
   ]
  },
  {
   "cell_type": "code",
   "execution_count": 6,
   "id": "2609f7e5-dd49-4508-b2a9-d3b7a7413315",
   "metadata": {},
   "outputs": [],
   "source": [
    "num_embedding = 100\n",
    "noise_type = \"hetero\"\n",
    "\n",
    "innerprod_layer = InnerprodGaussianLayer(num_embedding=num_embedding,\n",
    "                                         noise_type=noise_type)"
   ]
  },
  {
   "cell_type": "code",
   "execution_count": 7,
   "id": "ab1c7fd6-f269-4217-b95a-d0963dd1b23f",
   "metadata": {},
   "outputs": [
    {
     "data": {
      "text/plain": [
       "(tensor([[0.7931, 0.0346, 0.4723, 0.3376, 0.8013, 0.8170, 0.3348]]),\n",
       " tensor([[[0.3837, 0.2686, 0.2560, 0.2737, 0.2745, 0.2739, 0.2740],\n",
       "          [0.2686, 0.3228, 0.2381, 0.2431, 0.2549, 0.2289, 0.2323],\n",
       "          [0.2560, 0.2381, 0.3015, 0.2152, 0.2440, 0.2126, 0.2238],\n",
       "          [0.2737, 0.2431, 0.2152, 0.3170, 0.2596, 0.2158, 0.2507],\n",
       "          [0.2745, 0.2549, 0.2440, 0.2596, 0.3364, 0.2242, 0.2670],\n",
       "          [0.2739, 0.2289, 0.2126, 0.2158, 0.2242, 0.2971, 0.2202],\n",
       "          [0.2740, 0.2323, 0.2238, 0.2507, 0.2670, 0.2202, 0.3186]]]),\n",
       " tensor([[[1.5363, 0.2686, 0.2560, 0.2737, 0.2745, 0.2739, 0.2740],\n",
       "          [0.2686, 1.2353, 0.2381, 0.2431, 0.2549, 0.2289, 0.2323],\n",
       "          [0.2560, 0.2381, 1.4506, 0.2152, 0.2440, 0.2126, 0.2238],\n",
       "          [0.2737, 0.2431, 0.2152, 1.0543, 0.2596, 0.2158, 0.2507],\n",
       "          [0.2745, 0.2549, 0.2440, 0.2596, 1.3626, 0.2242, 0.2670],\n",
       "          [0.2739, 0.2289, 0.2126, 0.2158, 0.2242, 1.1418, 0.2202],\n",
       "          [0.2740, 0.2323, 0.2238, 0.2507, 0.2670, 0.2202, 1.2013]]]))"
      ]
     },
     "execution_count": 7,
     "metadata": {},
     "output_type": "execute_result"
    }
   ],
   "source": [
    "B = 1\n",
    "T = 7\n",
    "C = num_embedding + 1 + int(noise_type == \"hetero\")\n",
    "\n",
    "tensor = torch.rand(B, T, C)\n",
    "\n",
    "innerprod_layer.mean_and_cov(tensor)"
   ]
  },
  {
   "cell_type": "code",
   "execution_count": 8,
   "id": "ff8188f2-a69c-4fe6-9cb2-52cd3093afef",
   "metadata": {},
   "outputs": [
    {
     "name": "stdout",
     "output_type": "stream",
     "text": [
      "CPU times: user 64.4 ms, sys: 38.1 ms, total: 102 ms\n",
      "Wall time: 45.1 ms\n"
     ]
    }
   ],
   "source": [
    "B = 3\n",
    "T = 10000\n",
    "C = num_embedding + 1 + int(noise_type == \"hetero\")\n",
    "\n",
    "tensor = torch.rand(B, T, C)\n",
    "y_target = torch.rand(B, T)\n",
    "\n",
    "%time _ = innerprod_layer.loglik(tensor, y_target)"
   ]
  },
  {
   "cell_type": "code",
   "execution_count": 9,
   "id": "3fb860a3-27ac-42e9-8a51-d2af08c1bc18",
   "metadata": {},
   "outputs": [
    {
     "name": "stdout",
     "output_type": "stream",
     "text": [
      "CPU times: user 58.1 ms, sys: 6.01 ms, total: 64.1 ms\n",
      "Wall time: 32.9 ms\n"
     ]
    }
   ],
   "source": [
    "B = 3\n",
    "T = 10000\n",
    "C = num_embedding + 1 + int(noise_type == \"hetero\")\n",
    "num_samples = 5\n",
    "\n",
    "tensor = torch.rand(B, T, C)\n",
    "y_target = torch.rand(B, T)\n",
    "\n",
    "%time _ = innerprod_layer.loglik(tensor, y_target)"
   ]
  },
  {
   "cell_type": "markdown",
   "id": "58475b1d-a770-44cc-a51f-9e399277db28",
   "metadata": {},
   "source": [
    "# Kvv layer"
   ]
  },
  {
   "cell_type": "code",
   "execution_count": 10,
   "id": "256c76a0-5b2d-46ce-91c0-4d4ec4af2ffe",
   "metadata": {},
   "outputs": [],
   "source": [
    "num_embedding = 10\n",
    "noise_type = \"homo\"\n",
    "\n",
    "kvv_layer = KvvGaussianLayer(num_embedding=num_embedding,\n",
    "                             noise_type=noise_type)"
   ]
  },
  {
   "cell_type": "code",
   "execution_count": 11,
   "id": "d5e965f6-94a8-4f7b-b742-175f093c5a4b",
   "metadata": {},
   "outputs": [
    {
     "data": {
      "text/plain": [
       "(tensor([[0.8463, 0.9892, 0.0661, 0.2439, 0.9806, 0.7202, 0.9284]]),\n",
       " tensor([[[0.4450, 0.1331, 0.4540, 0.1174, 0.2443, 0.0151, 0.3355],\n",
       "          [0.1331, 0.0759, 0.1738, 0.0355, 0.0660, 0.0052, 0.1046],\n",
       "          [0.4540, 0.1738, 0.7134, 0.1534, 0.2382, 0.0141, 0.2928],\n",
       "          [0.1174, 0.0355, 0.1534, 0.0464, 0.0816, 0.0031, 0.0720],\n",
       "          [0.2443, 0.0660, 0.2382, 0.0816, 0.2347, 0.0070, 0.1405],\n",
       "          [0.0151, 0.0052, 0.0141, 0.0031, 0.0070, 0.0012, 0.0184],\n",
       "          [0.3355, 0.1046, 0.2928, 0.0720, 0.1405, 0.0184, 0.7018]]]),\n",
       " tensor([[[1.1381, 0.1331, 0.4540, 0.1174, 0.2443, 0.0151, 0.3355],\n",
       "          [0.1331, 0.7690, 0.1738, 0.0355, 0.0660, 0.0052, 0.1046],\n",
       "          [0.4540, 0.1738, 1.4066, 0.1534, 0.2382, 0.0141, 0.2928],\n",
       "          [0.1174, 0.0355, 0.1534, 0.7396, 0.0816, 0.0031, 0.0720],\n",
       "          [0.2443, 0.0660, 0.2382, 0.0816, 0.9278, 0.0070, 0.1405],\n",
       "          [0.0151, 0.0052, 0.0141, 0.0031, 0.0070, 0.6943, 0.0184],\n",
       "          [0.3355, 0.1046, 0.2928, 0.0720, 0.1405, 0.0184, 1.3949]]],\n",
       "        grad_fn=<AddBackward0>))"
      ]
     },
     "execution_count": 11,
     "metadata": {},
     "output_type": "execute_result"
    }
   ],
   "source": [
    "B = 1\n",
    "T = 7\n",
    "C = 12\n",
    "\n",
    "tensor = torch.rand(B, T, C)\n",
    "\n",
    "kvv_layer.mean_and_cov(tensor)"
   ]
  },
  {
   "cell_type": "code",
   "execution_count": 12,
   "id": "445739a3-e5df-449d-a9dd-3beef1dd1c19",
   "metadata": {},
   "outputs": [
    {
     "data": {
      "text/plain": [
       "tensor([-6.4964, -7.0346, -6.7227], grad_fn=<SubBackward0>)"
      ]
     },
     "execution_count": 12,
     "metadata": {},
     "output_type": "execute_result"
    }
   ],
   "source": [
    "B = 3\n",
    "T = 7\n",
    "C = 12\n",
    "\n",
    "tensor = torch.rand(B, T, C)\n",
    "y_target = torch.rand(B, T)\n",
    "\n",
    "kvv_layer.loglik(tensor, y_target)"
   ]
  },
  {
   "cell_type": "code",
   "execution_count": 13,
   "id": "7effa941-25ad-4bef-ac25-b497661a2aa7",
   "metadata": {},
   "outputs": [
    {
     "name": "stdout",
     "output_type": "stream",
     "text": [
      "torch.Size([5, 3, 7])\n",
      "torch.Size([5, 3, 7])\n"
     ]
    }
   ],
   "source": [
    "B = 3\n",
    "T = 7\n",
    "C = 12\n",
    "num_samples = 5\n",
    "\n",
    "tensor = torch.rand(B, T, C)\n",
    "y_target = torch.rand(B, T)\n",
    "\n",
    "print(kvv_layer.sample(tensor, num_samples=num_samples, noiseless=False).shape)\n",
    "print(kvv_layer.sample(tensor, num_samples=num_samples, noiseless=True).shape)"
   ]
  },
  {
   "cell_type": "markdown",
   "id": "16521d2c-0468-45bc-8a09-37c6537897b8",
   "metadata": {},
   "source": [
    "# Log-logit copula layer"
   ]
  },
  {
   "cell_type": "code",
   "execution_count": 14,
   "id": "28a366c2-d890-4daa-8560-c07ee5d322cc",
   "metadata": {},
   "outputs": [],
   "source": [
    "num_embedding = 100\n",
    "noise_type = \"homo\"\n",
    "\n",
    "gaussian_layer = KvvGaussianLayer(num_embedding=num_embedding,\n",
    "                                  noise_type=noise_type)\n",
    "\n",
    "copula_layer = LogLogitCopulaLayer(gaussian_layer=gaussian_layer)"
   ]
  },
  {
   "cell_type": "code",
   "execution_count": 15,
   "id": "18830d3e-a121-4eb1-b3ff-a9efe0ce77a0",
   "metadata": {},
   "outputs": [
    {
     "data": {
      "text/plain": [
       "tensor([-17.4313,  -8.6087, -14.2195], grad_fn=<AddBackward0>)"
      ]
     },
     "execution_count": 15,
     "metadata": {},
     "output_type": "execute_result"
    }
   ],
   "source": [
    "B = 3\n",
    "T = 7\n",
    "C = 104\n",
    "\n",
    "tensor = torch.rand(B, T, C)\n",
    "y_target = torch.rand(B, T)\n",
    "\n",
    "copula_layer.loglik(tensor, y_target)"
   ]
  },
  {
   "cell_type": "code",
   "execution_count": 16,
   "id": "a2cde6af-d5bb-44bf-b12c-fc6003cdd4ae",
   "metadata": {},
   "outputs": [
    {
     "data": {
      "image/png": "[encoded data removed]",
      "text/plain": [
       "<Figure size 432x288 with 1 Axes>"
      ]
     },
     "metadata": {
      "needs_background": "light"
     },
     "output_type": "display_data"
    }
   ],
   "source": [
    "x = torch.linspace(1e-9, 100., 100)\n",
    "a = 1.*torch.ones_like(x)\n",
    "b = 1.*torch.ones_like(x)\n",
    "\n",
    "pdf = copula_layer.pdf(x, a, b).numpy()\n",
    "\n",
    "plt.plot(x, pdf)\n",
    "plt.show()"
   ]
  },
  {
   "cell_type": "code",
   "execution_count": 17,
   "id": "6647b84c-7492-4373-864b-0328d4413f1a",
   "metadata": {},
   "outputs": [
    {
     "data": {
      "image/png": "[encoded data removed]",
      "text/plain": [
       "<Figure size 432x288 with 1 Axes>"
      ]
     },
     "metadata": {
      "needs_background": "light"
     },
     "output_type": "display_data"
    }
   ],
   "source": [
    "x = torch.linspace(1e-9, 100., 100)\n",
    "a = 1.*torch.ones_like(x)\n",
    "b = 1.*torch.ones_like(x)\n",
    "\n",
    "cdf = copula_layer.cdf(x, a, b).numpy()\n",
    "\n",
    "plt.plot(x, cdf)\n",
    "plt.show()"
   ]
  },
  {
   "cell_type": "code",
   "execution_count": 18,
   "id": "6fe5371a-66b5-4de9-8072-cd9f26d2973f",
   "metadata": {},
   "outputs": [
    {
     "data": {
      "image/png": "[encoded data removed]",
      "text/plain": [
       "<Figure size 432x288 with 1 Axes>"
      ]
     },
     "metadata": {
      "needs_background": "light"
     },
     "output_type": "display_data"
    }
   ],
   "source": [
    "x = torch.rand(1000)\n",
    "a = 1.*torch.ones_like(x)\n",
    "b = 1.*torch.ones_like(x)\n",
    "\n",
    "plt.hist(copula_layer.icdf(x, a, b).numpy(), bins=5000)\n",
    "plt.xlim([0, 10])\n",
    "plt.show()"
   ]
  },
  {
   "cell_type": "code",
   "execution_count": 19,
   "id": "cb045394-c642-442e-9e58-b26230d0954f",
   "metadata": {},
   "outputs": [
    {
     "data": {
      "image/png": "[encoded data removed]",
      "text/plain": [
       "<Figure size 432x288 with 1 Axes>"
      ]
     },
     "metadata": {
      "needs_background": "light"
     },
     "output_type": "display_data"
    },
    {
     "data": {
      "image/png": "[encoded data removed]",
      "text/plain": [
       "<Figure size 432x288 with 1 Axes>"
      ]
     },
     "metadata": {
      "needs_background": "light"
     },
     "output_type": "display_data"
    }
   ],
   "source": [
    "x = torch.randn(100)\n",
    "a = 1.*torch.ones_like(x)\n",
    "b = 6.*torch.ones_like(x)\n",
    "\n",
    "y = copula_layer.marginal_transformation(x, a, b)\n",
    "\n",
    "plt.hist(y.numpy())\n",
    "plt.show()\n",
    "\n",
    "x_ = copula_layer.inverse_marginal_transformation(y, a, b).numpy()\n",
    "\n",
    "plt.plot(x, x_)\n",
    "plt.show()"
   ]
  },
  {
   "cell_type": "code",
   "execution_count": 22,
   "id": "4a5f19b0-509b-430c-9d6a-0432c2485d96",
   "metadata": {},
   "outputs": [
    {
     "data": {
      "image/png": "[encoded data removed]",
      "text/plain": [
       "<Figure size 432x288 with 1 Axes>"
      ]
     },
     "metadata": {
      "needs_background": "light"
     },
     "output_type": "display_data"
    }
   ],
   "source": [
    "x = torch.linspace(-5., 5., 1000)\n",
    "a = 1.*torch.ones_like(x)\n",
    "b = 6.*torch.ones_like(x)\n",
    "\n",
    "y = copula_layer.marginal_transformation(x, a, b)\n",
    "\n",
    "plt.plot(x, y)\n",
    "plt.show()"
   ]
  },
  {
   "cell_type": "code",
   "execution_count": null,
   "id": "aa5208d4-dbf9-41de-99f2-309a2b949d87",
   "metadata": {},
   "outputs": [],
   "source": []
  }
 ],
 "metadata": {
  "kernelspec": {
   "display_name": "venv-gnp",
   "language": "python",
   "name": "venv-gnp"
  },
  "language_info": {
   "codemirror_mode": {
    "name": "ipython",
    "version": 3
   },
   "file_extension": ".py",
   "mimetype": "text/x-python",
   "name": "python",
   "nbconvert_exporter": "python",
   "pygments_lexer": "ipython3",
   "version": "3.7.3"
  }
 },
 "nbformat": 4,
 "nbformat_minor": 5
}
