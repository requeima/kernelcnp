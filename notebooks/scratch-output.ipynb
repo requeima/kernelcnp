{
 "cells": [
  {
   "cell_type": "code",
   "execution_count": 1,
   "id": "1099185b-d846-4943-bfc0-ef3cf2cab972",
   "metadata": {},
   "outputs": [],
   "source": [
    "import torch\n",
    "\n",
    "from cnp.output import MeanFieldGaussianLayer"
   ]
  },
  {
   "cell_type": "code",
   "execution_count": 2,
   "id": "01211635-d104-4e9f-ab29-269e5f800ea3",
   "metadata": {},
   "outputs": [],
   "source": [
    "mfg_layer = MeanFieldGaussianLayer()"
   ]
  },
  {
   "cell_type": "code",
   "execution_count": 3,
   "id": "e30e8d08-e62a-48d0-a712-28201f7e6913",
   "metadata": {},
   "outputs": [
    {
     "data": {
      "text/plain": [
       "(tensor([[0.0819, 0.0120, 0.3108, 0.7026, 0.9424, 0.0059, 0.1319]]),\n",
       " tensor([[[1.2708, 0.0000, 0.0000, 0.0000, 0.0000, 0.0000, 0.0000],\n",
       "          [0.0000, 0.7033, 0.0000, 0.0000, 0.0000, 0.0000, 0.0000],\n",
       "          [0.0000, 0.0000, 1.2926, 0.0000, 0.0000, 0.0000, 0.0000],\n",
       "          [0.0000, 0.0000, 0.0000, 0.7612, 0.0000, 0.0000, 0.0000],\n",
       "          [0.0000, 0.0000, 0.0000, 0.0000, 0.8764, 0.0000, 0.0000],\n",
       "          [0.0000, 0.0000, 0.0000, 0.0000, 0.0000, 0.7337, 0.0000],\n",
       "          [0.0000, 0.0000, 0.0000, 0.0000, 0.0000, 0.0000, 1.0648]]]),\n",
       " tensor([[[1.9640, 0.0000, 0.0000, 0.0000, 0.0000, 0.0000, 0.0000],\n",
       "          [0.0000, 1.3964, 0.0000, 0.0000, 0.0000, 0.0000, 0.0000],\n",
       "          [0.0000, 0.0000, 1.9857, 0.0000, 0.0000, 0.0000, 0.0000],\n",
       "          [0.0000, 0.0000, 0.0000, 1.4544, 0.0000, 0.0000, 0.0000],\n",
       "          [0.0000, 0.0000, 0.0000, 0.0000, 1.5695, 0.0000, 0.0000],\n",
       "          [0.0000, 0.0000, 0.0000, 0.0000, 0.0000, 1.4268, 0.0000],\n",
       "          [0.0000, 0.0000, 0.0000, 0.0000, 0.0000, 0.0000, 1.7580]]],\n",
       "        grad_fn=<AddBackward0>))"
      ]
     },
     "execution_count": 3,
     "metadata": {},
     "output_type": "execute_result"
    }
   ],
   "source": [
    "B = 1\n",
    "T = 7\n",
    "C = 2\n",
    "\n",
    "tensor = torch.rand(B, T, C)\n",
    "\n",
    "mfg_layer.mean_and_cov(tensor)"
   ]
  },
  {
   "cell_type": "code",
   "execution_count": 4,
   "id": "5c622a7f-af8a-4ea1-ab70-a3e1bb7efa6b",
   "metadata": {},
   "outputs": [
    {
     "data": {
      "text/plain": [
       "tensor(-8.5482, grad_fn=<MeanBackward0>)"
      ]
     },
     "execution_count": 4,
     "metadata": {},
     "output_type": "execute_result"
    }
   ],
   "source": [
    "B = 1\n",
    "T = 7\n",
    "C = 2\n",
    "\n",
    "tensor = torch.rand(B, T, C)\n",
    "y_target = torch.rand(B, T, 1)\n",
    "\n",
    "mfg_layer.loglik(tensor, y_target)"
   ]
  },
  {
   "cell_type": "code",
   "execution_count": 6,
   "id": "a4ad6152-9284-4736-8fd2-bcce8789bef0",
   "metadata": {},
   "outputs": [
    {
     "data": {
      "text/plain": [
       "torch.Size([3, 1, 7])"
      ]
     },
     "execution_count": 6,
     "metadata": {},
     "output_type": "execute_result"
    }
   ],
   "source": [
    "B = 1\n",
    "T = 7\n",
    "C = 2\n",
    "num_samples = 3\n",
    "\n",
    "tensor = torch.rand(B, T, C)\n",
    "y_target = torch.rand(B, T, 1)\n",
    "\n",
    "mfg_layer.sample(tensor, num_samples=num_samples).shape"
   ]
  },
  {
   "cell_type": "code",
   "execution_count": null,
   "id": "256c76a0-5b2d-46ce-91c0-4d4ec4af2ffe",
   "metadata": {},
   "outputs": [],
   "source": []
  }
 ],
 "metadata": {
  "kernelspec": {
   "display_name": "venv-gnp",
   "language": "python",
   "name": "venv-gnp"
  },
  "language_info": {
   "codemirror_mode": {
    "name": "ipython",
    "version": 3
   },
   "file_extension": ".py",
   "mimetype": "text/x-python",
   "name": "python",
   "nbconvert_exporter": "python",
   "pygments_lexer": "ipython3",
   "version": "3.7.3"
  }
 },
 "nbformat": 4,
 "nbformat_minor": 5
}
