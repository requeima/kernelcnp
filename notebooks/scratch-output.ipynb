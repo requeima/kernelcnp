{
 "cells": [
  {
   "cell_type": "code",
   "execution_count": 1,
   "id": "1099185b-d846-4943-bfc0-ef3cf2cab972",
   "metadata": {},
   "outputs": [],
   "source": [
    "import torch\n",
    "from torch.distributions import Normal, MultivariateNormal\n",
    "from torch.distributions.lowrank_multivariate_normal import LowRankMultivariateNormal\n",
    "\n",
    "from cnp.cnp import (\n",
    "    StandardGNP,\n",
    "    StandardAGNP,\n",
    "    StandardConvGNP\n",
    ")\n",
    "\n",
    "from cnp.cov import (\n",
    "    OutputLayer,\n",
    "    MeanFieldGaussianLayer,\n",
    "    InnerprodGaussianLayer,\n",
    "    KvvGaussianLayer,\n",
    "    LogLogitCopulaLayer\n",
    ")\n",
    "\n",
    "import matplotlib.pyplot as plt"
   ]
  },
  {
   "cell_type": "markdown",
   "id": "26782015-7030-4b9f-9196-6458db8972c6",
   "metadata": {},
   "source": [
    "# Mean field layer"
   ]
  },
  {
   "cell_type": "code",
   "execution_count": 2,
   "id": "01211635-d104-4e9f-ab29-269e5f800ea3",
   "metadata": {},
   "outputs": [],
   "source": [
    "mfg_layer = MeanFieldGaussianLayer()"
   ]
  },
  {
   "cell_type": "code",
   "execution_count": 3,
   "id": "e30e8d08-e62a-48d0-a712-28201f7e6913",
   "metadata": {},
   "outputs": [
    {
     "data": {
      "text/plain": [
       "(tensor([[0.3813, 0.2499, 0.2827, 0.7640, 0.4892, 0.7288, 0.7960]]),\n",
       " tensor([[[1.0549, 0.0000, 0.0000, 0.0000, 0.0000, 0.0000, 0.0000],\n",
       "          [0.0000, 0.9752, 0.0000, 0.0000, 0.0000, 0.0000, 0.0000],\n",
       "          [0.0000, 0.0000, 0.7222, 0.0000, 0.0000, 0.0000, 0.0000],\n",
       "          [0.0000, 0.0000, 0.0000, 1.0473, 0.0000, 0.0000, 0.0000],\n",
       "          [0.0000, 0.0000, 0.0000, 0.0000, 1.0391, 0.0000, 0.0000],\n",
       "          [0.0000, 0.0000, 0.0000, 0.0000, 0.0000, 1.0362, 0.0000],\n",
       "          [0.0000, 0.0000, 0.0000, 0.0000, 0.0000, 0.0000, 0.9455]]]),\n",
       " tensor([[[1.7480, 0.0000, 0.0000, 0.0000, 0.0000, 0.0000, 0.0000],\n",
       "          [0.0000, 1.6683, 0.0000, 0.0000, 0.0000, 0.0000, 0.0000],\n",
       "          [0.0000, 0.0000, 1.4154, 0.0000, 0.0000, 0.0000, 0.0000],\n",
       "          [0.0000, 0.0000, 0.0000, 1.7405, 0.0000, 0.0000, 0.0000],\n",
       "          [0.0000, 0.0000, 0.0000, 0.0000, 1.7322, 0.0000, 0.0000],\n",
       "          [0.0000, 0.0000, 0.0000, 0.0000, 0.0000, 1.7293, 0.0000],\n",
       "          [0.0000, 0.0000, 0.0000, 0.0000, 0.0000, 0.0000, 1.6386]]],\n",
       "        grad_fn=<AddBackward0>))"
      ]
     },
     "execution_count": 3,
     "metadata": {},
     "output_type": "execute_result"
    }
   ],
   "source": [
    "B = 1\n",
    "T = 7\n",
    "C = 2\n",
    "\n",
    "tensor = torch.rand(B, T, C)\n",
    "\n",
    "mfg_layer.mean_and_cov(tensor)"
   ]
  },
  {
   "cell_type": "code",
   "execution_count": 4,
   "id": "5c622a7f-af8a-4ea1-ab70-a3e1bb7efa6b",
   "metadata": {},
   "outputs": [
    {
     "data": {
      "text/plain": [
       "tensor([-8.5364, -8.5429], grad_fn=<SubBackward0>)"
      ]
     },
     "execution_count": 4,
     "metadata": {},
     "output_type": "execute_result"
    }
   ],
   "source": [
    "B = 2\n",
    "T = 7\n",
    "C = 2\n",
    "\n",
    "tensor = torch.rand(B, T, C)\n",
    "y_target = torch.rand(B, T)\n",
    "\n",
    "mfg_layer.loglik(tensor, y_target)"
   ]
  },
  {
   "cell_type": "code",
   "execution_count": 5,
   "id": "a4ad6152-9284-4736-8fd2-bcce8789bef0",
   "metadata": {},
   "outputs": [
    {
     "name": "stdout",
     "output_type": "stream",
     "text": [
      "torch.Size([3, 1, 7])\n",
      "torch.Size([3, 1, 7])\n"
     ]
    }
   ],
   "source": [
    "B = 1\n",
    "T = 7\n",
    "C = 2\n",
    "num_samples = 3\n",
    "\n",
    "tensor = torch.rand(B, T, C)\n",
    "\n",
    "print(mfg_layer.sample(tensor, num_samples=num_samples, noiseless=False).shape)\n",
    "print(mfg_layer.sample(tensor, num_samples=num_samples, noiseless=True).shape)"
   ]
  },
  {
   "cell_type": "markdown",
   "id": "089fafd7-09cd-48f5-a91a-996766ee1410",
   "metadata": {},
   "source": [
    "# Innerprod layer"
   ]
  },
  {
   "cell_type": "code",
   "execution_count": 6,
   "id": "2609f7e5-dd49-4508-b2a9-d3b7a7413315",
   "metadata": {},
   "outputs": [],
   "source": [
    "num_embedding = 100\n",
    "noise_type = \"hetero\"\n",
    "\n",
    "innerprod_layer = InnerprodGaussianLayer(num_embedding=num_embedding,\n",
    "                                         noise_type=noise_type)"
   ]
  },
  {
   "cell_type": "code",
   "execution_count": 7,
   "id": "ab1c7fd6-f269-4217-b95a-d0963dd1b23f",
   "metadata": {},
   "outputs": [
    {
     "data": {
      "text/plain": [
       "(tensor([[0.5142, 0.3714, 0.5734, 0.6595, 0.7321, 0.7927, 0.5328]]),\n",
       " tensor([[[0.3459, 0.2769, 0.2770, 0.2636, 0.2584, 0.2823, 0.2359],\n",
       "          [0.2769, 0.3500, 0.2726, 0.2666, 0.2420, 0.2803, 0.2270],\n",
       "          [0.2770, 0.2726, 0.3758, 0.2667, 0.2427, 0.2702, 0.2344],\n",
       "          [0.2636, 0.2666, 0.2667, 0.3246, 0.2396, 0.2647, 0.2223],\n",
       "          [0.2584, 0.2420, 0.2427, 0.2396, 0.3077, 0.2357, 0.2015],\n",
       "          [0.2823, 0.2803, 0.2702, 0.2647, 0.2357, 0.3588, 0.2383],\n",
       "          [0.2359, 0.2270, 0.2344, 0.2223, 0.2015, 0.2383, 0.2788]]]),\n",
       " tensor([[[1.1351, 0.2769, 0.2770, 0.2636, 0.2584, 0.2823, 0.2359],\n",
       "          [0.2769, 1.1155, 0.2726, 0.2666, 0.2420, 0.2803, 0.2270],\n",
       "          [0.2770, 0.2726, 1.3118, 0.2667, 0.2427, 0.2702, 0.2344],\n",
       "          [0.2636, 0.2666, 0.2667, 1.2163, 0.2396, 0.2647, 0.2223],\n",
       "          [0.2584, 0.2420, 0.2427, 0.2396, 1.0851, 0.2357, 0.2015],\n",
       "          [0.2823, 0.2803, 0.2702, 0.2647, 0.2357, 1.2756, 0.2383],\n",
       "          [0.2359, 0.2270, 0.2344, 0.2223, 0.2015, 0.2383, 1.5164]]]))"
      ]
     },
     "execution_count": 7,
     "metadata": {},
     "output_type": "execute_result"
    }
   ],
   "source": [
    "B = 1\n",
    "T = 7\n",
    "C = num_embedding + 1 + int(noise_type == \"hetero\")\n",
    "\n",
    "tensor = torch.rand(B, T, C)\n",
    "\n",
    "innerprod_layer.mean_and_cov(tensor)"
   ]
  },
  {
   "cell_type": "code",
   "execution_count": 8,
   "id": "ff8188f2-a69c-4fe6-9cb2-52cd3093afef",
   "metadata": {},
   "outputs": [
    {
     "name": "stdout",
     "output_type": "stream",
     "text": [
      "CPU times: user 63.7 ms, sys: 33.3 ms, total: 96.9 ms\n",
      "Wall time: 65.4 ms\n"
     ]
    }
   ],
   "source": [
    "B = 3\n",
    "T = 10000\n",
    "C = num_embedding + 1 + int(noise_type == \"hetero\")\n",
    "\n",
    "tensor = torch.rand(B, T, C)\n",
    "y_target = torch.rand(B, T)\n",
    "\n",
    "%time _ = innerprod_layer.loglik(tensor, y_target)"
   ]
  },
  {
   "cell_type": "code",
   "execution_count": 9,
   "id": "3fb860a3-27ac-42e9-8a51-d2af08c1bc18",
   "metadata": {},
   "outputs": [
    {
     "name": "stdout",
     "output_type": "stream",
     "text": [
      "CPU times: user 55.5 ms, sys: 5.82 ms, total: 61.3 ms\n",
      "Wall time: 31.3 ms\n"
     ]
    }
   ],
   "source": [
    "B = 3\n",
    "T = 10000\n",
    "C = num_embedding + 1 + int(noise_type == \"hetero\")\n",
    "num_samples = 5\n",
    "\n",
    "tensor = torch.rand(B, T, C)\n",
    "y_target = torch.rand(B, T)\n",
    "\n",
    "%time _ = innerprod_layer.loglik(tensor, y_target)"
   ]
  },
  {
   "cell_type": "markdown",
   "id": "58475b1d-a770-44cc-a51f-9e399277db28",
   "metadata": {},
   "source": [
    "# Kvv layer"
   ]
  },
  {
   "cell_type": "code",
   "execution_count": 10,
   "id": "256c76a0-5b2d-46ce-91c0-4d4ec4af2ffe",
   "metadata": {},
   "outputs": [],
   "source": [
    "num_embedding = 10\n",
    "noise_type = \"homo\"\n",
    "\n",
    "kvv_layer = KvvGaussianLayer(num_embedding=num_embedding,\n",
    "                             noise_type=noise_type)"
   ]
  },
  {
   "cell_type": "code",
   "execution_count": 11,
   "id": "d5e965f6-94a8-4f7b-b742-175f093c5a4b",
   "metadata": {},
   "outputs": [
    {
     "data": {
      "text/plain": [
       "(tensor([[0.1491, 0.9274, 0.3124, 0.3281, 0.5407, 0.6042, 0.3796]]),\n",
       " tensor([[[0.0245, 0.0963, 0.0383, 0.0511, 0.0342, 0.0621, 0.0722],\n",
       "          [0.0963, 0.9636, 0.2060, 0.2887, 0.1493, 0.5970, 0.4700],\n",
       "          [0.0383, 0.2060, 0.3435, 0.1150, 0.0579, 0.3239, 0.1498],\n",
       "          [0.0511, 0.2887, 0.1150, 0.2458, 0.0922, 0.2099, 0.1882],\n",
       "          [0.0342, 0.1493, 0.0579, 0.0922, 0.1147, 0.1137, 0.2189],\n",
       "          [0.0621, 0.5970, 0.3239, 0.2099, 0.1137, 0.6710, 0.3847],\n",
       "          [0.0722, 0.4700, 0.1498, 0.1882, 0.2189, 0.3847, 0.8155]]]),\n",
       " tensor([[[0.7176, 0.0963, 0.0383, 0.0511, 0.0342, 0.0621, 0.0722],\n",
       "          [0.0963, 1.6568, 0.2060, 0.2887, 0.1493, 0.5970, 0.4700],\n",
       "          [0.0383, 0.2060, 1.0367, 0.1150, 0.0579, 0.3239, 0.1498],\n",
       "          [0.0511, 0.2887, 0.1150, 0.9389, 0.0922, 0.2099, 0.1882],\n",
       "          [0.0342, 0.1493, 0.0579, 0.0922, 0.8078, 0.1137, 0.2189],\n",
       "          [0.0621, 0.5970, 0.3239, 0.2099, 0.1137, 1.3642, 0.3847],\n",
       "          [0.0722, 0.4700, 0.1498, 0.1882, 0.2189, 0.3847, 1.5086]]],\n",
       "        grad_fn=<AddBackward0>))"
      ]
     },
     "execution_count": 11,
     "metadata": {},
     "output_type": "execute_result"
    }
   ],
   "source": [
    "B = 1\n",
    "T = 7\n",
    "C = 12\n",
    "\n",
    "tensor = torch.rand(B, T, C)\n",
    "\n",
    "kvv_layer.mean_and_cov(tensor)"
   ]
  },
  {
   "cell_type": "code",
   "execution_count": 12,
   "id": "445739a3-e5df-449d-a9dd-3beef1dd1c19",
   "metadata": {},
   "outputs": [
    {
     "data": {
      "text/plain": [
       "tensor([-7.3594, -6.9951, -7.3774], grad_fn=<SubBackward0>)"
      ]
     },
     "execution_count": 12,
     "metadata": {},
     "output_type": "execute_result"
    }
   ],
   "source": [
    "B = 3\n",
    "T = 7\n",
    "C = 12\n",
    "\n",
    "tensor = torch.rand(B, T, C)\n",
    "y_target = torch.rand(B, T)\n",
    "\n",
    "kvv_layer.loglik(tensor, y_target)"
   ]
  },
  {
   "cell_type": "code",
   "execution_count": 13,
   "id": "7effa941-25ad-4bef-ac25-b497661a2aa7",
   "metadata": {},
   "outputs": [
    {
     "name": "stdout",
     "output_type": "stream",
     "text": [
      "torch.Size([5, 3, 7])\n",
      "torch.Size([5, 3, 7])\n"
     ]
    }
   ],
   "source": [
    "B = 3\n",
    "T = 7\n",
    "C = 12\n",
    "num_samples = 5\n",
    "\n",
    "tensor = torch.rand(B, T, C)\n",
    "y_target = torch.rand(B, T)\n",
    "\n",
    "print(kvv_layer.sample(tensor, num_samples=num_samples, noiseless=False).shape)\n",
    "print(kvv_layer.sample(tensor, num_samples=num_samples, noiseless=True).shape)"
   ]
  },
  {
   "cell_type": "markdown",
   "id": "16521d2c-0468-45bc-8a09-37c6537897b8",
   "metadata": {},
   "source": [
    "# Log-logit copula layer"
   ]
  },
  {
   "cell_type": "code",
   "execution_count": 14,
   "id": "28a366c2-d890-4daa-8560-c07ee5d322cc",
   "metadata": {},
   "outputs": [],
   "source": [
    "num_embedding = 100\n",
    "noise_type = \"homo\"\n",
    "\n",
    "gaussian_layer = KvvGaussianLayer(num_embedding=num_embedding,\n",
    "                                  noise_type=noise_type)\n",
    "\n",
    "copula_layer = LogLogitCopulaLayer(gaussian_layer=gaussian_layer)"
   ]
  },
  {
   "cell_type": "code",
   "execution_count": 15,
   "id": "18830d3e-a121-4eb1-b3ff-a9efe0ce77a0",
   "metadata": {},
   "outputs": [
    {
     "data": {
      "text/plain": [
       "tensor([ -2.3402,  -7.4003, -11.9648], grad_fn=<AddBackward0>)"
      ]
     },
     "execution_count": 15,
     "metadata": {},
     "output_type": "execute_result"
    }
   ],
   "source": [
    "B = 3\n",
    "T = 7\n",
    "C = 104\n",
    "\n",
    "tensor = torch.rand(B, T, C)\n",
    "y_target = torch.rand(B, T)\n",
    "\n",
    "copula_layer.loglik(tensor, y_target)"
   ]
  },
  {
   "cell_type": "code",
   "execution_count": 16,
   "id": "a2cde6af-d5bb-44bf-b12c-fc6003cdd4ae",
   "metadata": {},
   "outputs": [
    {
     "data": {
      "image/png": "[encoded data removed]",
      "text/plain": [
       "<Figure size 432x288 with 1 Axes>"
      ]
     },
     "metadata": {
      "needs_background": "light"
     },
     "output_type": "display_data"
    }
   ],
   "source": [
    "x = torch.linspace(1e-9, 100., 100)\n",
    "a = 1.*torch.ones_like(x)\n",
    "b = 1.*torch.ones_like(x)\n",
    "\n",
    "pdf = copula_layer.pdf(x, a, b).numpy()\n",
    "\n",
    "plt.plot(x, pdf)\n",
    "plt.show()"
   ]
  },
  {
   "cell_type": "code",
   "execution_count": 17,
   "id": "6647b84c-7492-4373-864b-0328d4413f1a",
   "metadata": {},
   "outputs": [
    {
     "data": {
      "image/png": "[encoded data removed]",
      "text/plain": [
       "<Figure size 432x288 with 1 Axes>"
      ]
     },
     "metadata": {
      "needs_background": "light"
     },
     "output_type": "display_data"
    }
   ],
   "source": [
    "x = torch.linspace(1e-9, 100., 100)\n",
    "a = 1.*torch.ones_like(x)\n",
    "b = 1.*torch.ones_like(x)\n",
    "\n",
    "cdf = copula_layer.cdf(x, a, b).numpy()\n",
    "\n",
    "plt.plot(x, cdf)\n",
    "plt.show()"
   ]
  },
  {
   "cell_type": "code",
   "execution_count": 18,
   "id": "6fe5371a-66b5-4de9-8072-cd9f26d2973f",
   "metadata": {},
   "outputs": [
    {
     "data": {
      "image/png": "[encoded data removed]",
      "text/plain": [
       "<Figure size 432x288 with 1 Axes>"
      ]
     },
     "metadata": {
      "needs_background": "light"
     },
     "output_type": "display_data"
    }
   ],
   "source": [
    "x = torch.rand(1000)\n",
    "a = 1.*torch.ones_like(x)\n",
    "b = 1.*torch.ones_like(x)\n",
    "\n",
    "plt.hist(copula_layer.icdf(x, a, b).numpy(), bins=5000)\n",
    "plt.xlim([0, 10])\n",
    "plt.show()"
   ]
  },
  {
   "cell_type": "code",
   "execution_count": 19,
   "id": "cb045394-c642-442e-9e58-b26230d0954f",
   "metadata": {},
   "outputs": [
    {
     "name": "stdout",
     "output_type": "stream",
     "text": [
      "torch.Size([100]) torch.Size([100]) torch.Size([100])\n"
     ]
    },
    {
     "data": {
      "image/png": "[encoded data removed]",
      "text/plain": [
       "<Figure size 432x288 with 1 Axes>"
      ]
     },
     "metadata": {
      "needs_background": "light"
     },
     "output_type": "display_data"
    },
    {
     "data": {
      "image/png": "[encoded data removed]",
      "text/plain": [
       "<Figure size 432x288 with 1 Axes>"
      ]
     },
     "metadata": {
      "needs_background": "light"
     },
     "output_type": "display_data"
    }
   ],
   "source": [
    "x = torch.randn(100)\n",
    "a = 1.*torch.ones_like(x)\n",
    "b = 6.*torch.ones_like(x)\n",
    "\n",
    "y = copula_layer.marginal_transformation(x, a, b)\n",
    "\n",
    "plt.hist(y.numpy())\n",
    "plt.show()\n",
    "\n",
    "x_ = copula_layer.inverse_marginal_transformation(y, a, b).numpy()\n",
    "\n",
    "plt.plot(x, x_)\n",
    "plt.show()"
   ]
  },
  {
   "cell_type": "code",
   "execution_count": 20,
   "id": "4a5f19b0-509b-430c-9d6a-0432c2485d96",
   "metadata": {},
   "outputs": [
    {
     "name": "stdout",
     "output_type": "stream",
     "text": [
      "torch.Size([1000]) torch.Size([1000]) torch.Size([1000])\n"
     ]
    },
    {
     "data": {
      "image/png": "[encoded data removed]",
      "text/plain": [
       "<Figure size 432x288 with 1 Axes>"
      ]
     },
     "metadata": {
      "needs_background": "light"
     },
     "output_type": "display_data"
    }
   ],
   "source": [
    "x = torch.linspace(-5., 5., 1000)\n",
    "a = 1.*torch.ones_like(x)\n",
    "b = 6.*torch.ones_like(x)\n",
    "\n",
    "y = copula_layer.marginal_transformation(x, a, b)\n",
    "\n",
    "plt.plot(x, y)\n",
    "plt.show()"
   ]
  },
  {
   "cell_type": "code",
   "execution_count": 21,
   "id": "d87af7d6-07ad-4513-9e19-646cadc0816d",
   "metadata": {},
   "outputs": [],
   "source": [
    "# =============================================================================\n",
    "# Log-logit copula output layer\n",
    "# =============================================================================\n",
    "\n",
    "class LogLogitCopulaLayer(OutputLayer):\n",
    "    \n",
    "    \n",
    "    def __init__(self, gaussian_layer):\n",
    "        \n",
    "        super().__init__()\n",
    "        \n",
    "        # Initialise Gaussian layer\n",
    "        self.gaussian_layer = gaussian_layer\n",
    "        \n",
    "        # Number of features equal to number of Gaussian layer features plus\n",
    "        # two additional features for the Gamma - rate and concentration\n",
    "        self.num_features = self.gaussian_layer.num_features + 2\n",
    "\n",
    "    \n",
    "    def loglik(self, tensor, y_target):\n",
    "        \"\"\"\n",
    "        Arguments:\n",
    "            tensor   : torch.tensor, (B, T, C)\n",
    "            y_target : torch.tensor, (B, T)\n",
    "            \n",
    "        Returns:\n",
    "            tensor : torch.tensor, (B, T)\n",
    "        \"\"\"\n",
    "        \n",
    "        # Unpack parameters and apply inverse transformation\n",
    "        tensor, a, b = self.unpack_parameters(tensor=tensor)\n",
    "        v_target = self.inverse_marginal_transformation(x=y_target,\n",
    "                                                        a=a,\n",
    "                                                        b=b)\n",
    "        \n",
    "        # Log-likelihood of transformed variables under Gaussian\n",
    "        loglik = self.gaussian_layer.loglik(tensor=tensor, y_target=v_target)\n",
    "        \n",
    "        # Compute change-of-variables contribution (Jacobian is diagonal)\n",
    "        grad = self.inverse_marginal_transformation(x=y_target,\n",
    "                                                    a=a,\n",
    "                                                    b=b,\n",
    "                                                    grad=True)\n",
    "        jacobian_term = torch.sum(torch.log(torch.abs(grad)), dim=-1)\n",
    "        \n",
    "        # Ensure shapes are compatible\n",
    "        assert loglik.shape == jacobian_term.shape\n",
    "        \n",
    "        return loglik + jacobian_term\n",
    "\n",
    "    \n",
    "    def sample(self, tensor, num_samples, noiseless):\n",
    "        \"\"\"\n",
    "        Arguments:\n",
    "            tensor      : torch.tensor, (B, T, C)\n",
    "            num_samples : int, number of samples to draw\n",
    "            noiseless   : bool, whether to include the noise term\n",
    "            \n",
    "        Returns:\n",
    "            tensor : torch.tensor, (B, T)\n",
    "        \"\"\"\n",
    "        \n",
    "        # Unpack parameters and apply inverse transformation\n",
    "        tensor, a, b = self.unpack_parameters(tensor=tensor)\n",
    "        \n",
    "        # Draw samples from Gaussian and apply marginal transformation\n",
    "        v_samples = self.gaussian_layer.sample(tensor=tensor,\n",
    "                                               num_samples=num_samples,\n",
    "                                               noiseless=noiseless)\n",
    "        \n",
    "        # Repeat a and b, (num_samples, B, T)\n",
    "        a = a[None, :, :].repeat(num_samples, 1, 1)\n",
    "        b = b[None, :, :].repeat(num_samples, 1, 1)\n",
    "        \n",
    "        # Apply marginal transformation\n",
    "        samples = self.marginal_transformation(v_samples, a=a, b=b)\n",
    "        \n",
    "        return samples\n",
    "        \n",
    "        \n",
    "    def unpack_parameters(self, tensor):\n",
    "        \"\"\"\n",
    "        Arguments:\n",
    "            tensor : torch.tensor, (B, T, C)\n",
    "            \n",
    "        Returns:\n",
    "            tensor : torch.tensor, (B, T, C-2)\n",
    "            a      : torch.tensor, (B, T)\n",
    "            b      : torch.tensor, (B, T)\n",
    "        \"\"\"\n",
    "        \n",
    "        # Check tensor has correct number of features\n",
    "        assert (len(tensor.shape) == 3) and \\\n",
    "               (tensor.shape[-1] == self.num_features)\n",
    "        \n",
    "        # Get rate and concentration from tensor\n",
    "        a = torch.nn.Softplus()(tensor[:, :, 0]) + 1e-3\n",
    "        b = torch.nn.Softplus()(tensor[:, :, 1]) + 1e-3\n",
    "        \n",
    "        # Slice out rate and concentration\n",
    "        tensor = tensor[:, :, 2:]\n",
    "        \n",
    "        return tensor, a, b\n",
    "    \n",
    "    \n",
    "    def pdf(self, x, a, b):\n",
    "        \"\"\"\n",
    "        Probability distribution function of the log-logistic distribution.\n",
    "        \n",
    "            PDF(x) = (b/a) * (x/a)^(b-1) / (1 + (x/a)^b)^2\n",
    "        \n",
    "        Arguments:\n",
    "            x : torch.tensor, (B, T)\n",
    "            a : torch.tensor, (B, T)\n",
    "            b : torch.tensor, (B, T)\n",
    "            \n",
    "        Returns:\n",
    "            tensor : torch.tensor, (B, T)\n",
    "        \"\"\"\n",
    "        \n",
    "        # Check shapes are compatible, all x values are positive\n",
    "        assert x.shape == a.shape == b.shape\n",
    "        assert torch.all(x > 0.)\n",
    "        \n",
    "        return (b/a) * (x/a)**(b-1) / (1+(x/a)**b)**2\n",
    "    \n",
    "    \n",
    "    def cdf(self, x, a, b):\n",
    "        \"\"\"\n",
    "        Cumulative distribution function of the log-logistic distribution.\n",
    "        \n",
    "            CDF(x) = 1 / (1 + (x/a)^-b)\n",
    "        \n",
    "        Arguments:\n",
    "            x : torch.tensor, (B, T)\n",
    "            a : torch.tensor, (B, T)\n",
    "            b : torch.tensor, (B, T)\n",
    "            \n",
    "        Returns:\n",
    "            tensor : torch.tensor, (B, T)\n",
    "        \"\"\"\n",
    "        \n",
    "        # Check shapes are compatible, all x values are positive\n",
    "        assert x.shape == a.shape == b.shape\n",
    "        assert torch.all(x > 0.)\n",
    "        \n",
    "        x = x.double()\n",
    "        a = a.double()\n",
    "        b = b.double()\n",
    "        \n",
    "        cdf = 1 / (1+(x/a)**-b)\n",
    "        cdf = cdf.float()\n",
    "        \n",
    "        return cdf\n",
    "    \n",
    "    \n",
    "    def icdf(self, x, a, b):\n",
    "        \"\"\"\n",
    "        Inverse cumulative distribution function of the log-logistic\n",
    "        distribution.\n",
    "        \n",
    "            CDF^-1(x) = a * (x^-1 - 1)^(-1/b)\n",
    "        \n",
    "        Arguments:\n",
    "            x : torch.tensor, (B, T)\n",
    "            a : torch.tensor, (B, T)\n",
    "            b : torch.tensor, (B, T)\n",
    "            \n",
    "        Returns:\n",
    "            tensor : torch.tensor, (B, T)\n",
    "        \"\"\"\n",
    "        \n",
    "        # Check shapes are compatible, all x values are positive\n",
    "        assert x.shape == a.shape == b.shape\n",
    "        assert torch.all(x > 0.)\n",
    "        \n",
    "        x = x.double()\n",
    "        a = a.double()\n",
    "        b = b.double()\n",
    "        \n",
    "        icdf = a * (x**-1 - 1) ** (-1/b)\n",
    "        icdf = icdf.float()\n",
    "        \n",
    "        return icdf\n",
    "    \n",
    "    \n",
    "    def marginal_transformation(self, x, a, b):\n",
    "        \"\"\"\n",
    "        Arguments:\n",
    "            x : torch.tensor, (B, T)\n",
    "            a : torch.tensor, (B, T)\n",
    "            b : torch.tensor, (B, T)\n",
    "            \n",
    "        Returns:\n",
    "            tensor : torch.tensor, (B, T)\n",
    "        \"\"\"\n",
    "        \n",
    "        # Check shapes are compatible, all x values are positive\n",
    "        assert x.shape == a.shape == b.shape\n",
    "        \n",
    "        zeros = torch.zeros(size=x.shape).double()\n",
    "        ones = torch.ones(size=x.shape).double()\n",
    "        \n",
    "        gaussian = Normal(loc=zeros, scale=ones)\n",
    "        \n",
    "        x = gaussian.cdf(x)\n",
    "        x = self.icdf(x, a, b)\n",
    "        \n",
    "        return x\n",
    "        \n",
    "        \n",
    "    def inverse_marginal_transformation(self, x, a, b, grad=False):\n",
    "        \"\"\"\n",
    "        Arguments:\n",
    "            x : torch.tensor, (B, T)\n",
    "            a : torch.tensor, (B, T)\n",
    "            b : torch.tensor, (B, T)\n",
    "            \n",
    "        Returns:\n",
    "            x : torch.tensor, (B, T)\n",
    "        \"\"\"\n",
    "        \n",
    "        # Check shapes are compatible, all x values are positive\n",
    "        assert x.shape == a.shape == b.shape\n",
    "        assert torch.all(x > 0.)\n",
    "        \n",
    "        zeros = torch.zeros(size=x.shape).double()\n",
    "        ones = torch.ones(size=x.shape).double()\n",
    "        \n",
    "        gaussian = Normal(loc=zeros, scale=ones)\n",
    "        \n",
    "        if grad:\n",
    "            x = self.pdf(x, a, b) / gaussian.icdf(self.cdf(x, a, b))\n",
    "            x = x.float()\n",
    "        \n",
    "        else:\n",
    "            x = self.cdf(x, a, b)\n",
    "            x = gaussian.icdf(x)\n",
    "            x = x.float()\n",
    "        \n",
    "        return x"
   ]
  },
  {
   "cell_type": "markdown",
   "id": "d80f4fd0-1325-4925-b4cf-aa557fe579c4",
   "metadata": {},
   "source": [
    "# Check GNP models"
   ]
  },
  {
   "cell_type": "code",
   "execution_count": 22,
   "id": "8873619f-428d-43da-b134-2171fdc98f46",
   "metadata": {},
   "outputs": [
    {
     "name": "stdout",
     "output_type": "stream",
     "text": [
      "133\n"
     ]
    }
   ],
   "source": [
    "input_dim = 1\n",
    "num_embedding = 128\n",
    "noise_type = \"hetero\"\n",
    "\n",
    "output_layer = KvvGaussianLayer(num_embedding=num_embedding,\n",
    "                                noise_type=noise_type)\n",
    "\n",
    "output_layer = LogLogitCopulaLayer(output_layer)\n",
    "\n",
    "print(output_layer.num_features)\n",
    "\n",
    "standard_gnp = StandardConvGNP(input_dim, output_layer)\n",
    "\n",
    "B = 3\n",
    "C = 6\n",
    "T = 7\n",
    "D = 1\n",
    "\n",
    "x_ctx = torch.rand(B, C, D)\n",
    "y_ctx = torch.rand(B, C, 1)\n",
    "x_trg = torch.rand(B, T, D)\n",
    "y_trg = torch.rand(B, T, 1)"
   ]
  },
  {
   "cell_type": "code",
   "execution_count": 23,
   "id": "4b3dc2a8-cea6-48aa-b041-d2f83943d52b",
   "metadata": {},
   "outputs": [
    {
     "name": "stdout",
     "output_type": "stream",
     "text": [
      "tensor(-1.5019, grad_fn=<NegBackward>)\n",
      "torch.Size([10, 3, 7])\n"
     ]
    }
   ],
   "source": [
    "print(standard_gnp.loss(x_ctx, y_ctx, x_trg, y_trg))\n",
    "print(standard_gnp.sample(x_ctx, y_ctx, x_trg, num_samples=10, noiseless=False).shape)"
   ]
  },
  {
   "cell_type": "code",
   "execution_count": null,
   "id": "2147caf2-85b4-42c8-8552-b447aa96e666",
   "metadata": {},
   "outputs": [],
   "source": []
  }
 ],
 "metadata": {
  "kernelspec": {
   "display_name": "venv-gnp",
   "language": "python",
   "name": "venv-gnp"
  },
  "language_info": {
   "codemirror_mode": {
    "name": "ipython",
    "version": 3
   },
   "file_extension": ".py",
   "mimetype": "text/x-python",
   "name": "python",
   "nbconvert_exporter": "python",
   "pygments_lexer": "ipython3",
   "version": "3.7.3"
  }
 },
 "nbformat": 4,
 "nbformat_minor": 5
}
