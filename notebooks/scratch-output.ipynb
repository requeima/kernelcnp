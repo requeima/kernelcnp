{
 "cells": [
  {
   "cell_type": "code",
   "execution_count": 27,
   "id": "1099185b-d846-4943-bfc0-ef3cf2cab972",
   "metadata": {},
   "outputs": [],
   "source": [
    "import torch\n",
    "from torch.distributions import Normal, MultivariateNormal\n",
    "from torch.distributions.lowrank_multivariate_normal import LowRankMultivariateNormal\n",
    "\n",
    "from cnp.output import (\n",
    "    OutputLayer,\n",
    "    MeanFieldGaussianLayer,\n",
    "    InnerprodGaussianLayer,\n",
    "    KvvGaussianLayer,\n",
    "    LogLogitCopulaLayer\n",
    ")\n",
    "\n",
    "from cnp.utils import Gamma\n",
    "\n",
    "import matplotlib.pyplot as plt"
   ]
  },
  {
   "cell_type": "markdown",
   "id": "26782015-7030-4b9f-9196-6458db8972c6",
   "metadata": {},
   "source": [
    "# Mean field layer"
   ]
  },
  {
   "cell_type": "code",
   "execution_count": 2,
   "id": "01211635-d104-4e9f-ab29-269e5f800ea3",
   "metadata": {},
   "outputs": [],
   "source": [
    "mfg_layer = MeanFieldGaussianLayer()"
   ]
  },
  {
   "cell_type": "code",
   "execution_count": 3,
   "id": "e30e8d08-e62a-48d0-a712-28201f7e6913",
   "metadata": {},
   "outputs": [
    {
     "data": {
      "text/plain": [
       "(tensor([[0.9907, 0.2055, 0.3128, 0.5486, 0.7850, 0.4126, 0.9014]]),\n",
       " tensor([[[0.8355, 0.0000, 0.0000, 0.0000, 0.0000, 0.0000, 0.0000],\n",
       "          [0.0000, 1.0203, 0.0000, 0.0000, 0.0000, 0.0000, 0.0000],\n",
       "          [0.0000, 0.0000, 1.2857, 0.0000, 0.0000, 0.0000, 0.0000],\n",
       "          [0.0000, 0.0000, 0.0000, 0.8214, 0.0000, 0.0000, 0.0000],\n",
       "          [0.0000, 0.0000, 0.0000, 0.0000, 1.1164, 0.0000, 0.0000],\n",
       "          [0.0000, 0.0000, 0.0000, 0.0000, 0.0000, 1.0794, 0.0000],\n",
       "          [0.0000, 0.0000, 0.0000, 0.0000, 0.0000, 0.0000, 0.7060]]]),\n",
       " tensor([[[1.5287, 0.0000, 0.0000, 0.0000, 0.0000, 0.0000, 0.0000],\n",
       "          [0.0000, 1.7135, 0.0000, 0.0000, 0.0000, 0.0000, 0.0000],\n",
       "          [0.0000, 0.0000, 1.9788, 0.0000, 0.0000, 0.0000, 0.0000],\n",
       "          [0.0000, 0.0000, 0.0000, 1.5145, 0.0000, 0.0000, 0.0000],\n",
       "          [0.0000, 0.0000, 0.0000, 0.0000, 1.8096, 0.0000, 0.0000],\n",
       "          [0.0000, 0.0000, 0.0000, 0.0000, 0.0000, 1.7725, 0.0000],\n",
       "          [0.0000, 0.0000, 0.0000, 0.0000, 0.0000, 0.0000, 1.3991]]],\n",
       "        grad_fn=<AddBackward0>))"
      ]
     },
     "execution_count": 3,
     "metadata": {},
     "output_type": "execute_result"
    }
   ],
   "source": [
    "B = 1\n",
    "T = 7\n",
    "C = 2\n",
    "\n",
    "tensor = torch.rand(B, T, C)\n",
    "\n",
    "mfg_layer.mean_and_cov(tensor)"
   ]
  },
  {
   "cell_type": "code",
   "execution_count": 4,
   "id": "5c622a7f-af8a-4ea1-ab70-a3e1bb7efa6b",
   "metadata": {},
   "outputs": [
    {
     "data": {
      "text/plain": [
       "tensor([-8.3734, -8.4363], grad_fn=<SubBackward0>)"
      ]
     },
     "execution_count": 4,
     "metadata": {},
     "output_type": "execute_result"
    }
   ],
   "source": [
    "B = 2\n",
    "T = 7\n",
    "C = 2\n",
    "\n",
    "tensor = torch.rand(B, T, C)\n",
    "y_target = torch.rand(B, T)\n",
    "\n",
    "mfg_layer.loglik(tensor, y_target)"
   ]
  },
  {
   "cell_type": "code",
   "execution_count": 5,
   "id": "a4ad6152-9284-4736-8fd2-bcce8789bef0",
   "metadata": {},
   "outputs": [
    {
     "name": "stdout",
     "output_type": "stream",
     "text": [
      "torch.Size([3, 1, 7])\n",
      "torch.Size([3, 1, 7])\n"
     ]
    }
   ],
   "source": [
    "B = 1\n",
    "T = 7\n",
    "C = 2\n",
    "num_samples = 3\n",
    "\n",
    "tensor = torch.rand(B, T, C)\n",
    "\n",
    "print(mfg_layer.sample(tensor, num_samples=num_samples, noiseless=False).shape)\n",
    "print(mfg_layer.sample(tensor, num_samples=num_samples, noiseless=True).shape)"
   ]
  },
  {
   "cell_type": "markdown",
   "id": "089fafd7-09cd-48f5-a91a-996766ee1410",
   "metadata": {},
   "source": [
    "# Innerprod layer"
   ]
  },
  {
   "cell_type": "code",
   "execution_count": 6,
   "id": "2609f7e5-dd49-4508-b2a9-d3b7a7413315",
   "metadata": {},
   "outputs": [],
   "source": [
    "num_embedding = 100\n",
    "noise_type = \"hetero\"\n",
    "\n",
    "innerprod_layer = InnerprodGaussianLayer(num_embedding=num_embedding,\n",
    "                                         noise_type=noise_type)"
   ]
  },
  {
   "cell_type": "code",
   "execution_count": 7,
   "id": "ab1c7fd6-f269-4217-b95a-d0963dd1b23f",
   "metadata": {},
   "outputs": [
    {
     "data": {
      "text/plain": [
       "(tensor([[0.6851, 0.7002, 0.8675, 0.6562, 0.0454, 0.9180, 0.2623]]),\n",
       " tensor([[[0.3061, 0.2401, 0.2434, 0.2654, 0.2246, 0.2500, 0.2134],\n",
       "          [0.2401, 0.3540, 0.2587, 0.2613, 0.2372, 0.2421, 0.2405],\n",
       "          [0.2434, 0.2587, 0.3342, 0.2755, 0.2488, 0.2414, 0.2443],\n",
       "          [0.2654, 0.2613, 0.2755, 0.3613, 0.2376, 0.2634, 0.2596],\n",
       "          [0.2246, 0.2372, 0.2488, 0.2376, 0.3094, 0.2187, 0.2206],\n",
       "          [0.2500, 0.2421, 0.2414, 0.2634, 0.2187, 0.3216, 0.2211],\n",
       "          [0.2134, 0.2405, 0.2443, 0.2596, 0.2206, 0.2211, 0.3028]]]),\n",
       " tensor([[[1.4425, 0.2401, 0.2434, 0.2654, 0.2246, 0.2500, 0.2134],\n",
       "          [0.2401, 1.1134, 0.2587, 0.2613, 0.2372, 0.2421, 0.2405],\n",
       "          [0.2434, 0.2587, 1.4233, 0.2755, 0.2488, 0.2414, 0.2443],\n",
       "          [0.2654, 0.2613, 0.2755, 1.4179, 0.2376, 0.2634, 0.2596],\n",
       "          [0.2246, 0.2372, 0.2488, 0.2376, 1.2361, 0.2187, 0.2206],\n",
       "          [0.2500, 0.2421, 0.2414, 0.2634, 0.2187, 1.2799, 0.2211],\n",
       "          [0.2134, 0.2405, 0.2443, 0.2596, 0.2206, 0.2211, 1.3611]]]))"
      ]
     },
     "execution_count": 7,
     "metadata": {},
     "output_type": "execute_result"
    }
   ],
   "source": [
    "B = 1\n",
    "T = 7\n",
    "C = num_embedding + 1 + int(noise_type == \"hetero\")\n",
    "\n",
    "tensor = torch.rand(B, T, C)\n",
    "\n",
    "innerprod_layer.mean_and_cov(tensor)"
   ]
  },
  {
   "cell_type": "code",
   "execution_count": 8,
   "id": "ff8188f2-a69c-4fe6-9cb2-52cd3093afef",
   "metadata": {},
   "outputs": [
    {
     "name": "stdout",
     "output_type": "stream",
     "text": [
      "CPU times: user 66.3 ms, sys: 30.4 ms, total: 96.6 ms\n",
      "Wall time: 53.4 ms\n"
     ]
    }
   ],
   "source": [
    "B = 3\n",
    "T = 10000\n",
    "C = num_embedding + 1 + int(noise_type == \"hetero\")\n",
    "\n",
    "tensor = torch.rand(B, T, C)\n",
    "y_target = torch.rand(B, T)\n",
    "\n",
    "%time _ = innerprod_layer.loglik(tensor, y_target)"
   ]
  },
  {
   "cell_type": "code",
   "execution_count": 9,
   "id": "3fb860a3-27ac-42e9-8a51-d2af08c1bc18",
   "metadata": {},
   "outputs": [
    {
     "name": "stdout",
     "output_type": "stream",
     "text": [
      "CPU times: user 49.9 ms, sys: 6.3 ms, total: 56.2 ms\n",
      "Wall time: 30.6 ms\n"
     ]
    }
   ],
   "source": [
    "B = 3\n",
    "T = 10000\n",
    "C = num_embedding + 1 + int(noise_type == \"hetero\")\n",
    "num_samples = 5\n",
    "\n",
    "tensor = torch.rand(B, T, C)\n",
    "y_target = torch.rand(B, T)\n",
    "\n",
    "%time _ = innerprod_layer.loglik(tensor, y_target)"
   ]
  },
  {
   "cell_type": "markdown",
   "id": "58475b1d-a770-44cc-a51f-9e399277db28",
   "metadata": {},
   "source": [
    "# Kvv layer"
   ]
  },
  {
   "cell_type": "code",
   "execution_count": 10,
   "id": "256c76a0-5b2d-46ce-91c0-4d4ec4af2ffe",
   "metadata": {},
   "outputs": [],
   "source": [
    "num_embedding = 10\n",
    "noise_type = \"homo\"\n",
    "\n",
    "kvv_layer = KvvGaussianLayer(num_embedding=num_embedding,\n",
    "                             noise_type=noise_type)"
   ]
  },
  {
   "cell_type": "code",
   "execution_count": 11,
   "id": "d5e965f6-94a8-4f7b-b742-175f093c5a4b",
   "metadata": {},
   "outputs": [
    {
     "data": {
      "text/plain": [
       "(tensor([[0.4459, 0.3718, 0.9153, 0.1374, 0.4257, 0.5128, 0.9051]]),\n",
       " tensor([[[0.0795, 0.0178, 0.0295, 0.1719, 0.0618, 0.0767, 0.0487],\n",
       "          [0.0178, 0.0310, 0.0196, 0.0623, 0.0268, 0.0432, 0.0185],\n",
       "          [0.0295, 0.0196, 0.0422, 0.1352, 0.0274, 0.0444, 0.0286],\n",
       "          [0.1719, 0.0623, 0.1352, 0.7060, 0.1056, 0.2274, 0.1754],\n",
       "          [0.0618, 0.0268, 0.0274, 0.1056, 0.1331, 0.0604, 0.0332],\n",
       "          [0.0767, 0.0432, 0.0444, 0.2274, 0.0604, 0.2310, 0.0642],\n",
       "          [0.0487, 0.0185, 0.0286, 0.1754, 0.0332, 0.0642, 0.0564]]]),\n",
       " tensor([[[0.7726, 0.0178, 0.0295, 0.1719, 0.0618, 0.0767, 0.0487],\n",
       "          [0.0178, 0.7242, 0.0196, 0.0623, 0.0268, 0.0432, 0.0185],\n",
       "          [0.0295, 0.0196, 0.7353, 0.1352, 0.0274, 0.0444, 0.0286],\n",
       "          [0.1719, 0.0623, 0.1352, 1.3992, 0.1056, 0.2274, 0.1754],\n",
       "          [0.0618, 0.0268, 0.0274, 0.1056, 0.8263, 0.0604, 0.0332],\n",
       "          [0.0767, 0.0432, 0.0444, 0.2274, 0.0604, 0.9241, 0.0642],\n",
       "          [0.0487, 0.0185, 0.0286, 0.1754, 0.0332, 0.0642, 0.7495]]],\n",
       "        grad_fn=<AddBackward0>))"
      ]
     },
     "execution_count": 11,
     "metadata": {},
     "output_type": "execute_result"
    }
   ],
   "source": [
    "B = 1\n",
    "T = 7\n",
    "C = 12\n",
    "\n",
    "tensor = torch.rand(B, T, C)\n",
    "\n",
    "kvv_layer.mean_and_cov(tensor)"
   ]
  },
  {
   "cell_type": "code",
   "execution_count": 12,
   "id": "445739a3-e5df-449d-a9dd-3beef1dd1c19",
   "metadata": {},
   "outputs": [
    {
     "data": {
      "text/plain": [
       "tensor([-7.2864, -6.2461, -7.3889], grad_fn=<SubBackward0>)"
      ]
     },
     "execution_count": 12,
     "metadata": {},
     "output_type": "execute_result"
    }
   ],
   "source": [
    "B = 3\n",
    "T = 7\n",
    "C = 12\n",
    "\n",
    "tensor = torch.rand(B, T, C)\n",
    "y_target = torch.rand(B, T)\n",
    "\n",
    "kvv_layer.loglik(tensor, y_target)"
   ]
  },
  {
   "cell_type": "code",
   "execution_count": 13,
   "id": "7effa941-25ad-4bef-ac25-b497661a2aa7",
   "metadata": {},
   "outputs": [
    {
     "name": "stdout",
     "output_type": "stream",
     "text": [
      "torch.Size([5, 3, 7])\n",
      "torch.Size([5, 3, 7])\n"
     ]
    }
   ],
   "source": [
    "B = 3\n",
    "T = 7\n",
    "C = 12\n",
    "num_samples = 5\n",
    "\n",
    "tensor = torch.rand(B, T, C)\n",
    "y_target = torch.rand(B, T)\n",
    "\n",
    "print(kvv_layer.sample(tensor, num_samples=num_samples, noiseless=False).shape)\n",
    "print(kvv_layer.sample(tensor, num_samples=num_samples, noiseless=True).shape)"
   ]
  },
  {
   "cell_type": "markdown",
   "id": "16521d2c-0468-45bc-8a09-37c6537897b8",
   "metadata": {},
   "source": [
    "# Log-logit copula layer"
   ]
  },
  {
   "cell_type": "code",
   "execution_count": 164,
   "id": "106e4401-27d4-4b54-8104-b1ff971975db",
   "metadata": {},
   "outputs": [],
   "source": [
    "# =============================================================================\n",
    "# Log-logit copula output layer\n",
    "# =============================================================================\n",
    "\n",
    "class LogLogitCopulaLayer(OutputLayer):\n",
    "    \n",
    "    \n",
    "    def __init__(self, gaussian_layer):\n",
    "        \n",
    "        super().__init__()\n",
    "        \n",
    "        # Initialise Gaussian layer\n",
    "        self.gaussian_layer = gaussian_layer\n",
    "        \n",
    "        # Number of features equal to number of Gaussian layer features plus\n",
    "        # two additional features for the Gamma - rate and concentration\n",
    "        self.num_features = self.gaussian_layer.num_features + 2\n",
    "\n",
    "    \n",
    "    def loglik(self, tensor, y_target):\n",
    "        \"\"\"\n",
    "        Arguments:\n",
    "            tensor   : torch.tensor, (B, T, C)\n",
    "            y_target : torch.tensor, (B, T)\n",
    "            \n",
    "        Returns:\n",
    "            tensor : torch.tensor, (B, T)\n",
    "        \"\"\"\n",
    "        \n",
    "        # Unpack parameters and apply inverse transformation\n",
    "        tensor, a, b = self.unpack_parameters(tensor=tensor)\n",
    "        v_target = self.inverse_marginal_transformation(x=y_target,\n",
    "                                                        a=a,\n",
    "                                                        b=b)\n",
    "        \n",
    "        # Log-likelihood of transformed variables under Gaussian\n",
    "        loglik = self.gaussian_layer.loglik(tensor=tensor, y_target=v_target)\n",
    "        \n",
    "        # Compute change-of-variables contribution (Jacobian is diagonal)\n",
    "        grad = self.inverse_marginal_transformation(x=y_target,\n",
    "                                                    a=a,\n",
    "                                                    b=b,\n",
    "                                                    grad=True)\n",
    "        jacobian_term = torch.sum(torch.log(torch.abs(grad)), dim=-1)\n",
    "        \n",
    "        # Ensure shapes are compatible\n",
    "        assert loglik.shape == jacobian_term.shape\n",
    "        \n",
    "        return loglik + jacobian_term\n",
    "\n",
    "    \n",
    "    def sample(self, tensor, num_samples, noiseless):\n",
    "        \"\"\"\n",
    "        Arguments:\n",
    "            tensor      : torch.tensor, (B, T, C)\n",
    "            num_samples : int, number of samples to draw\n",
    "            noiseless   : bool, whether to include the noise term\n",
    "            \n",
    "        Returns:\n",
    "            tensor : torch.tensor, (B, T)\n",
    "        \"\"\"\n",
    "        \n",
    "        # Unpack parameters and apply inverse transformation\n",
    "        tensor, a, b = self.unpack_parameters(tensor=tensor)\n",
    "        \n",
    "        # Draw samples from Gaussian and apply marginal transformation\n",
    "        v_samples = self.gaussian_layer.sample(tensor=tensor,\n",
    "                                               num_samples=num_samples)\n",
    "        \n",
    "        samples = self.marginal_transformation(v_samples, a=a, b=b)\n",
    "        \n",
    "        return samples\n",
    "        \n",
    "        \n",
    "    def unpack_parameters(self, tensor):\n",
    "        \"\"\"\n",
    "        Arguments:\n",
    "            tensor : torch.tensor, (B, T, C)\n",
    "            \n",
    "        Returns:\n",
    "            tensor : torch.tensor, (B, T, C-2)\n",
    "            a      : torch.tensor, (B, T)\n",
    "            b      : torch.tensor, (B, T)\n",
    "        \"\"\"\n",
    "        \n",
    "        # Check tensor has correct number of features\n",
    "        assert (len(tensor.shape) == 3) and \\\n",
    "               (tensor.shape[-1] == self.num_features)\n",
    "        \n",
    "        # Get rate and concentration from tensor\n",
    "        a = torch.nn.Softplus()(tensor[:, :, 0]) + 1e-3\n",
    "        b = torch.nn.Softplus()(tensor[:, :, 1]) + 1e-3\n",
    "        \n",
    "        # Slice out rate and concentration\n",
    "        tensor = tensor[:, :, 2:]\n",
    "        \n",
    "        return tensor, a, b\n",
    "    \n",
    "    \n",
    "    def pdf(self, x, a, b):\n",
    "        \"\"\"\n",
    "        Probability distribution function of the log-logistic distribution.\n",
    "        \n",
    "            PDF(x) = (b/a) * (x/a)^(b-1) / (1 + (x/a)^b)^2\n",
    "        \n",
    "        Arguments:\n",
    "            x : torch.tensor, (B, T)\n",
    "            a : torch.tensor, (B, T)\n",
    "            b : torch.tensor, (B, T)\n",
    "            \n",
    "        Returns:\n",
    "            tensor : torch.tensor, (B, T)\n",
    "        \"\"\"\n",
    "        \n",
    "        # Check shapes are compatible, all x values are positive\n",
    "        assert x.shape == a.shape == b.shape\n",
    "        assert torch.all(x > 0.)\n",
    "        \n",
    "        return (b/a) * (x/a)**(b-1) / (1+(x/a)**b)**2\n",
    "    \n",
    "    \n",
    "    def cdf(self, x, a, b):\n",
    "        \"\"\"\n",
    "        Cumulative distribution function of the log-logistic distribution.\n",
    "        \n",
    "            CDF(x) = 1 / (1 + (x/a)^-b)\n",
    "        \n",
    "        Arguments:\n",
    "            x : torch.tensor, (B, T)\n",
    "            a : torch.tensor, (B, T)\n",
    "            b : torch.tensor, (B, T)\n",
    "            \n",
    "        Returns:\n",
    "            tensor : torch.tensor, (B, T)\n",
    "        \"\"\"\n",
    "        \n",
    "        # Check shapes are compatible, all x values are positive\n",
    "        assert x.shape == a.shape == b.shape\n",
    "        assert torch.all(x > 0.)\n",
    "        \n",
    "        return 1 / (1+(x/a)**-b)\n",
    "    \n",
    "    \n",
    "    def icdf(self, x, a, b):\n",
    "        \"\"\"\n",
    "        Inverse cumulative distribution function of the log-logistic\n",
    "        distribution.\n",
    "        \n",
    "            CDF^-1(x) = a * (x^-1 - 1)^(-1/b)\n",
    "        \n",
    "        Arguments:\n",
    "            x : torch.tensor, (B, T)\n",
    "            a : torch.tensor, (B, T)\n",
    "            b : torch.tensor, (B, T)\n",
    "            \n",
    "        Returns:\n",
    "            tensor : torch.tensor, (B, T)\n",
    "        \"\"\"\n",
    "        \n",
    "        # Check shapes are compatible, all x values are positive\n",
    "        assert x.shape == a.shape == b.shape\n",
    "        assert torch.all(x > 0.)\n",
    "        \n",
    "        return a * (x**-1 - 1) ** (-1/b)\n",
    "    \n",
    "    \n",
    "    def marginal_transformation(self, x, a, b):\n",
    "        \"\"\"\n",
    "        Arguments:\n",
    "            x : torch.tensor, (B, T)\n",
    "            a : torch.tensor, (B, T)\n",
    "            b : torch.tensor, (B, T)\n",
    "            \n",
    "        Returns:\n",
    "            tensor : torch.tensor, (B, T)\n",
    "        \"\"\"\n",
    "        \n",
    "        # Check shapes are compatible, all x values are positive\n",
    "        assert x.shape == a.shape == b.shape\n",
    "        \n",
    "        zeros = torch.zeros(size=x.shape)\n",
    "        ones = torch.ones(size=x.shape)\n",
    "        \n",
    "        gaussian = Normal(loc=zeros, scale=ones)\n",
    "        \n",
    "        x = gaussian.cdf(x)\n",
    "        x = self.icdf(x, a, b)\n",
    "        \n",
    "        return x\n",
    "        \n",
    "        \n",
    "    def inverse_marginal_transformation(self, x, a, b, grad=False):\n",
    "        \"\"\"\n",
    "        Arguments:\n",
    "            x : torch.tensor, (B, T)\n",
    "            a : torch.tensor, (B, T)\n",
    "            b : torch.tensor, (B, T)\n",
    "            \n",
    "        Returns:\n",
    "            x : torch.tensor, (B, T)\n",
    "        \"\"\"\n",
    "        \n",
    "        # Check shapes are compatible, all x values are positive\n",
    "        assert x.shape == a.shape == b.shape\n",
    "        assert torch.all(x > 0.)\n",
    "        \n",
    "        zeros = torch.zeros(size=x.shape)\n",
    "        ones = torch.ones(size=x.shape)\n",
    "        \n",
    "        gaussian = Normal(loc=zeros, scale=ones)\n",
    "        \n",
    "        if grad:\n",
    "            x = self.pdf(x, a, b) * gaussian.icdf(self.cdf(x, a, b))\n",
    "        \n",
    "        else:\n",
    "            x = self.cdf(x, a, b)\n",
    "            x = gaussian.icdf(x)\n",
    "        \n",
    "        return x"
   ]
  },
  {
   "cell_type": "code",
   "execution_count": 165,
   "id": "28a366c2-d890-4daa-8560-c07ee5d322cc",
   "metadata": {},
   "outputs": [],
   "source": [
    "num_embedding = 100\n",
    "noise_type = \"homo\"\n",
    "\n",
    "gaussian_layer = KvvGaussianLayer(num_embedding=num_embedding,\n",
    "                                  noise_type=noise_type)\n",
    "\n",
    "copula_layer = LogLogitCopulaLayer(gaussian_layer=gaussian_layer)"
   ]
  },
  {
   "cell_type": "code",
   "execution_count": 166,
   "id": "18830d3e-a121-4eb1-b3ff-a9efe0ce77a0",
   "metadata": {},
   "outputs": [
    {
     "data": {
      "text/plain": [
       "tensor([-27.5357, -29.3460, -25.3311], grad_fn=<AddBackward0>)"
      ]
     },
     "execution_count": 166,
     "metadata": {},
     "output_type": "execute_result"
    }
   ],
   "source": [
    "B = 3\n",
    "T = 7\n",
    "C = 104\n",
    "\n",
    "tensor = torch.rand(B, T, C)\n",
    "y_target = torch.rand(B, T)\n",
    "\n",
    "copula_layer.loglik(tensor, y_target)"
   ]
  },
  {
   "cell_type": "code",
   "execution_count": 167,
   "id": "a2cde6af-d5bb-44bf-b12c-fc6003cdd4ae",
   "metadata": {},
   "outputs": [
    {
     "data": {
      "image/png": "[encoded data removed]",
      "text/plain": [
       "<Figure size 432x288 with 1 Axes>"
      ]
     },
     "metadata": {
      "needs_background": "light"
     },
     "output_type": "display_data"
    }
   ],
   "source": [
    "x = torch.linspace(1e-9, 100., 100)\n",
    "a = 1.*torch.ones_like(x)\n",
    "b = 1.*torch.ones_like(x)\n",
    "\n",
    "pdf = copula_layer.pdf(x, a, b).numpy()\n",
    "\n",
    "plt.plot(x, pdf)\n",
    "plt.show()"
   ]
  },
  {
   "cell_type": "code",
   "execution_count": 168,
   "id": "6fe5371a-66b5-4de9-8072-cd9f26d2973f",
   "metadata": {},
   "outputs": [
    {
     "data": {
      "image/png": "[encoded data removed]",
      "text/plain": [
       "<Figure size 432x288 with 1 Axes>"
      ]
     },
     "metadata": {
      "needs_background": "light"
     },
     "output_type": "display_data"
    }
   ],
   "source": [
    "x = torch.rand(1000)\n",
    "a = 1.*torch.ones_like(x)\n",
    "b = 1.*torch.ones_like(x)\n",
    "\n",
    "plt.hist(copula_layer.icdf(x, a, b).numpy(), bins=5000)\n",
    "plt.xlim([0, 10])\n",
    "plt.show()"
   ]
  },
  {
   "cell_type": "code",
   "execution_count": 174,
   "id": "cb045394-c642-442e-9e58-b26230d0954f",
   "metadata": {},
   "outputs": [
    {
     "data": {
      "image/png": "[encoded data removed]",
      "text/plain": [
       "<Figure size 432x288 with 1 Axes>"
      ]
     },
     "metadata": {
      "needs_background": "light"
     },
     "output_type": "display_data"
    },
    {
     "data": {
      "image/png": "[encoded data removed]",
      "text/plain": [
       "<Figure size 432x288 with 1 Axes>"
      ]
     },
     "metadata": {
      "needs_background": "light"
     },
     "output_type": "display_data"
    }
   ],
   "source": [
    "x = torch.randn(100)\n",
    "a = 1.*torch.ones_like(x)\n",
    "b = 6.*torch.ones_like(x)\n",
    "\n",
    "y = copula_layer.marginal_transformation(x, a, b)\n",
    "\n",
    "plt.hist(y.numpy())\n",
    "plt.show()\n",
    "\n",
    "x_ = copula_layer.inverse_marginal_transformation(y, a, b).numpy()\n",
    "\n",
    "plt.plot(x, x_)\n",
    "plt.show()"
   ]
  },
  {
   "cell_type": "code",
   "execution_count": null,
   "id": "4a5f19b0-509b-430c-9d6a-0432c2485d96",
   "metadata": {},
   "outputs": [],
   "source": []
  }
 ],
 "metadata": {
  "kernelspec": {
   "display_name": "venv-gnp",
   "language": "python",
   "name": "venv-gnp"
  },
  "language_info": {
   "codemirror_mode": {
    "name": "ipython",
    "version": 3
   },
   "file_extension": ".py",
   "mimetype": "text/x-python",
   "name": "python",
   "nbconvert_exporter": "python",
   "pygments_lexer": "ipython3",
   "version": "3.7.3"
  }
 },
 "nbformat": 4,
 "nbformat_minor": 5
}
