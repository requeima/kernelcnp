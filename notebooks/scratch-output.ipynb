{
 "cells": [
  {
   "cell_type": "code",
   "execution_count": 1,
   "id": "1099185b-d846-4943-bfc0-ef3cf2cab972",
   "metadata": {},
   "outputs": [],
   "source": [
    "import torch\n",
    "from torch.distributions import MultivariateNormal\n",
    "from torch.distributions.lowrank_multivariate_normal import LowRankMultivariateNormal\n",
    "\n",
    "from cnp.output import MeanFieldGaussianLayer, InnerprodGaussianLayer, KvvGaussianLayer\n",
    "from cnp.utils import Gamma\n",
    "\n",
    "import matplotlib.pyplot as plt"
   ]
  },
  {
   "cell_type": "markdown",
   "id": "26782015-7030-4b9f-9196-6458db8972c6",
   "metadata": {},
   "source": [
    "# Mean field layer"
   ]
  },
  {
   "cell_type": "code",
   "execution_count": 2,
   "id": "01211635-d104-4e9f-ab29-269e5f800ea3",
   "metadata": {},
   "outputs": [],
   "source": [
    "mfg_layer = MeanFieldGaussianLayer()"
   ]
  },
  {
   "cell_type": "code",
   "execution_count": 3,
   "id": "e30e8d08-e62a-48d0-a712-28201f7e6913",
   "metadata": {},
   "outputs": [
    {
     "data": {
      "text/plain": [
       "(tensor([[0.2061, 0.6669, 0.6223, 0.6853, 0.3618, 0.2198, 0.1493]]),\n",
       " tensor([[[1.2321, 0.0000, 0.0000, 0.0000, 0.0000, 0.0000, 0.0000],\n",
       "          [0.0000, 0.9011, 0.0000, 0.0000, 0.0000, 0.0000, 0.0000],\n",
       "          [0.0000, 0.0000, 0.7264, 0.0000, 0.0000, 0.0000, 0.0000],\n",
       "          [0.0000, 0.0000, 0.0000, 1.1013, 0.0000, 0.0000, 0.0000],\n",
       "          [0.0000, 0.0000, 0.0000, 0.0000, 0.7697, 0.0000, 0.0000],\n",
       "          [0.0000, 0.0000, 0.0000, 0.0000, 0.0000, 0.9445, 0.0000],\n",
       "          [0.0000, 0.0000, 0.0000, 0.0000, 0.0000, 0.0000, 0.9628]]]),\n",
       " tensor([[[1.9253, 0.0000, 0.0000, 0.0000, 0.0000, 0.0000, 0.0000],\n",
       "          [0.0000, 1.5943, 0.0000, 0.0000, 0.0000, 0.0000, 0.0000],\n",
       "          [0.0000, 0.0000, 1.4196, 0.0000, 0.0000, 0.0000, 0.0000],\n",
       "          [0.0000, 0.0000, 0.0000, 1.7944, 0.0000, 0.0000, 0.0000],\n",
       "          [0.0000, 0.0000, 0.0000, 0.0000, 1.4629, 0.0000, 0.0000],\n",
       "          [0.0000, 0.0000, 0.0000, 0.0000, 0.0000, 1.6376, 0.0000],\n",
       "          [0.0000, 0.0000, 0.0000, 0.0000, 0.0000, 0.0000, 1.6559]]],\n",
       "        grad_fn=<AddBackward0>))"
      ]
     },
     "execution_count": 3,
     "metadata": {},
     "output_type": "execute_result"
    }
   ],
   "source": [
    "B = 1\n",
    "T = 7\n",
    "C = 2\n",
    "\n",
    "tensor = torch.rand(B, T, C)\n",
    "\n",
    "mfg_layer.mean_and_cov(tensor)"
   ]
  },
  {
   "cell_type": "code",
   "execution_count": 4,
   "id": "5c622a7f-af8a-4ea1-ab70-a3e1bb7efa6b",
   "metadata": {},
   "outputs": [
    {
     "data": {
      "text/plain": [
       "tensor(-8.6861, grad_fn=<MeanBackward0>)"
      ]
     },
     "execution_count": 4,
     "metadata": {},
     "output_type": "execute_result"
    }
   ],
   "source": [
    "B = 2\n",
    "T = 7\n",
    "C = 2\n",
    "\n",
    "tensor = torch.rand(B, T, C)\n",
    "y_target = torch.rand(B, T)\n",
    "\n",
    "mfg_layer.loglik(tensor, y_target)"
   ]
  },
  {
   "cell_type": "code",
   "execution_count": 5,
   "id": "a4ad6152-9284-4736-8fd2-bcce8789bef0",
   "metadata": {},
   "outputs": [
    {
     "data": {
      "text/plain": [
       "torch.Size([3, 1, 7])"
      ]
     },
     "execution_count": 5,
     "metadata": {},
     "output_type": "execute_result"
    }
   ],
   "source": [
    "B = 1\n",
    "T = 7\n",
    "C = 2\n",
    "num_samples = 3\n",
    "\n",
    "tensor = torch.rand(B, T, C)\n",
    "\n",
    "mfg_layer.sample(tensor, num_samples=num_samples).shape"
   ]
  },
  {
   "cell_type": "markdown",
   "id": "089fafd7-09cd-48f5-a91a-996766ee1410",
   "metadata": {},
   "source": [
    "# Innerprod layer"
   ]
  },
  {
   "cell_type": "code",
   "execution_count": 6,
   "id": "2609f7e5-dd49-4508-b2a9-d3b7a7413315",
   "metadata": {},
   "outputs": [],
   "source": [
    "num_embedding = 100\n",
    "noise_type = \"hetero\"\n",
    "\n",
    "innerprod_layer = InnerprodGaussianLayer(num_embedding=num_embedding,\n",
    "                                         noise_type=noise_type)"
   ]
  },
  {
   "cell_type": "code",
   "execution_count": 7,
   "id": "ab1c7fd6-f269-4217-b95a-d0963dd1b23f",
   "metadata": {},
   "outputs": [
    {
     "data": {
      "text/plain": [
       "(tensor([[0.6879, 0.3994, 0.7339, 0.6243, 0.1091, 0.2113, 0.3607]]),\n",
       " tensor([[[0.3334, 0.2073, 0.2486, 0.2582, 0.2713, 0.2457, 0.2721],\n",
       "          [0.2073, 0.2442, 0.2115, 0.2089, 0.2223, 0.2088, 0.2309],\n",
       "          [0.2486, 0.2115, 0.3269, 0.2445, 0.2751, 0.2292, 0.2538],\n",
       "          [0.2582, 0.2089, 0.2445, 0.3346, 0.2730, 0.2434, 0.2701],\n",
       "          [0.2713, 0.2223, 0.2751, 0.2730, 0.3732, 0.2661, 0.2756],\n",
       "          [0.2457, 0.2088, 0.2292, 0.2434, 0.2661, 0.3023, 0.2510],\n",
       "          [0.2721, 0.2309, 0.2538, 0.2701, 0.2756, 0.2510, 0.3591]]]),\n",
       " tensor([[[1.1523, 0.2073, 0.2486, 0.2582, 0.2713, 0.2457, 0.2721],\n",
       "          [0.2073, 1.3352, 0.2115, 0.2089, 0.2223, 0.2088, 0.2309],\n",
       "          [0.2486, 0.2115, 1.1770, 0.2445, 0.2751, 0.2292, 0.2538],\n",
       "          [0.2582, 0.2089, 0.2445, 1.1028, 0.2730, 0.2434, 0.2701],\n",
       "          [0.2713, 0.2223, 0.2751, 0.2730, 1.1409, 0.2661, 0.2756],\n",
       "          [0.2457, 0.2088, 0.2292, 0.2434, 0.2661, 1.0281, 0.2510],\n",
       "          [0.2721, 0.2309, 0.2538, 0.2701, 0.2756, 0.2510, 1.4232]]]))"
      ]
     },
     "execution_count": 7,
     "metadata": {},
     "output_type": "execute_result"
    }
   ],
   "source": [
    "B = 1\n",
    "T = 7\n",
    "C = num_embedding + 1 + int(noise_type == \"hetero\")\n",
    "\n",
    "tensor = torch.rand(B, T, C)\n",
    "\n",
    "innerprod_layer.mean_and_cov(tensor)"
   ]
  },
  {
   "cell_type": "code",
   "execution_count": 8,
   "id": "ff8188f2-a69c-4fe6-9cb2-52cd3093afef",
   "metadata": {},
   "outputs": [
    {
     "name": "stdout",
     "output_type": "stream",
     "text": [
      "CPU times: user 70.4 ms, sys: 36.9 ms, total: 107 ms\n",
      "Wall time: 52.9 ms\n"
     ]
    }
   ],
   "source": [
    "B = 3\n",
    "T = 10000\n",
    "C = num_embedding + 1 + int(noise_type == \"hetero\")\n",
    "\n",
    "tensor = torch.rand(B, T, C)\n",
    "y_target = torch.rand(B, T)\n",
    "\n",
    "%time _ = innerprod_layer.loglik(tensor, y_target)"
   ]
  },
  {
   "cell_type": "code",
   "execution_count": 9,
   "id": "3fb860a3-27ac-42e9-8a51-d2af08c1bc18",
   "metadata": {},
   "outputs": [
    {
     "name": "stdout",
     "output_type": "stream",
     "text": [
      "CPU times: user 60.7 ms, sys: 8.58 ms, total: 69.3 ms\n",
      "Wall time: 43.1 ms\n"
     ]
    }
   ],
   "source": [
    "B = 3\n",
    "T = 10000\n",
    "C = num_embedding + 1 + int(noise_type == \"hetero\")\n",
    "num_samples = 5\n",
    "\n",
    "tensor = torch.rand(B, T, C)\n",
    "y_target = torch.rand(B, T)\n",
    "\n",
    "%time _ = innerprod_layer.loglik(tensor, y_target)"
   ]
  },
  {
   "cell_type": "markdown",
   "id": "58475b1d-a770-44cc-a51f-9e399277db28",
   "metadata": {},
   "source": [
    "# Kvv layer"
   ]
  },
  {
   "cell_type": "code",
   "execution_count": 10,
   "id": "256c76a0-5b2d-46ce-91c0-4d4ec4af2ffe",
   "metadata": {},
   "outputs": [],
   "source": [
    "num_embedding = 10\n",
    "noise_type = \"homo\"\n",
    "\n",
    "kvv_layer = KvvGaussianLayer(num_embedding=num_embedding,\n",
    "                             noise_type=noise_type)"
   ]
  },
  {
   "cell_type": "code",
   "execution_count": 11,
   "id": "d5e965f6-94a8-4f7b-b742-175f093c5a4b",
   "metadata": {},
   "outputs": [
    {
     "data": {
      "text/plain": [
       "(tensor([[0.4410, 0.7584, 0.5710, 0.0774, 0.6414, 0.7342, 0.3879]]),\n",
       " tensor([[[0.6693, 0.1476, 0.1149, 0.0953, 0.1111, 0.1153, 0.3803],\n",
       "          [0.1476, 0.2319, 0.0650, 0.0464, 0.0730, 0.1086, 0.1158],\n",
       "          [0.1149, 0.0650, 0.1245, 0.0428, 0.0674, 0.0389, 0.1440],\n",
       "          [0.0953, 0.0464, 0.0428, 0.0390, 0.0495, 0.0237, 0.0877],\n",
       "          [0.1111, 0.0730, 0.0674, 0.0495, 0.0915, 0.0405, 0.0913],\n",
       "          [0.1153, 0.1086, 0.0389, 0.0237, 0.0405, 0.1127, 0.0586],\n",
       "          [0.3803, 0.1158, 0.1440, 0.0877, 0.0913, 0.0586, 0.4498]]]),\n",
       " tensor([[[1.3624, 0.1476, 0.1149, 0.0953, 0.1111, 0.1153, 0.3803],\n",
       "          [0.1476, 0.9250, 0.0650, 0.0464, 0.0730, 0.1086, 0.1158],\n",
       "          [0.1149, 0.0650, 0.8177, 0.0428, 0.0674, 0.0389, 0.1440],\n",
       "          [0.0953, 0.0464, 0.0428, 0.7321, 0.0495, 0.0237, 0.0877],\n",
       "          [0.1111, 0.0730, 0.0674, 0.0495, 0.7846, 0.0405, 0.0913],\n",
       "          [0.1153, 0.1086, 0.0389, 0.0237, 0.0405, 0.8058, 0.0586],\n",
       "          [0.3803, 0.1158, 0.1440, 0.0877, 0.0913, 0.0586, 1.1430]]],\n",
       "        grad_fn=<AddBackward0>))"
      ]
     },
     "execution_count": 11,
     "metadata": {},
     "output_type": "execute_result"
    }
   ],
   "source": [
    "B = 1\n",
    "T = 7\n",
    "C = 12\n",
    "\n",
    "tensor = torch.rand(B, T, C)\n",
    "\n",
    "kvv_layer.mean_and_cov(tensor)"
   ]
  },
  {
   "cell_type": "code",
   "execution_count": 12,
   "id": "445739a3-e5df-449d-a9dd-3beef1dd1c19",
   "metadata": {},
   "outputs": [
    {
     "data": {
      "text/plain": [
       "tensor(-6.8717, grad_fn=<MeanBackward0>)"
      ]
     },
     "execution_count": 12,
     "metadata": {},
     "output_type": "execute_result"
    }
   ],
   "source": [
    "B = 3\n",
    "T = 7\n",
    "C = 12\n",
    "\n",
    "tensor = torch.rand(B, T, C)\n",
    "y_target = torch.rand(B, T)\n",
    "\n",
    "kvv_layer.loglik(tensor, y_target)"
   ]
  },
  {
   "cell_type": "code",
   "execution_count": 13,
   "id": "7effa941-25ad-4bef-ac25-b497661a2aa7",
   "metadata": {},
   "outputs": [
    {
     "data": {
      "text/plain": [
       "torch.Size([5, 3, 7])"
      ]
     },
     "execution_count": 13,
     "metadata": {},
     "output_type": "execute_result"
    }
   ],
   "source": [
    "B = 3\n",
    "T = 7\n",
    "C = 12\n",
    "num_samples = 5\n",
    "\n",
    "tensor = torch.rand(B, T, C)\n",
    "y_target = torch.rand(B, T)\n",
    "\n",
    "kvv_layer.sample(tensor, num_samples=num_samples).shape"
   ]
  }
 ],
 "metadata": {
  "kernelspec": {
   "display_name": "venv-gnp",
   "language": "python",
   "name": "venv-gnp"
  },
  "language_info": {
   "codemirror_mode": {
    "name": "ipython",
    "version": 3
   },
   "file_extension": ".py",
   "mimetype": "text/x-python",
   "name": "python",
   "nbconvert_exporter": "python",
   "pygments_lexer": "ipython3",
   "version": "3.7.3"
  }
 },
 "nbformat": 4,
 "nbformat_minor": 5
}
