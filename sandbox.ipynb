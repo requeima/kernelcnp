{
 "metadata": {
  "language_info": {
   "codemirror_mode": {
    "name": "ipython",
    "version": 3
   },
   "file_extension": ".py",
   "mimetype": "text/x-python",
   "name": "python",
   "nbconvert_exporter": "python",
   "pygments_lexer": "ipython3",
   "version": "3.8.8"
  },
  "orig_nbformat": 2,
  "kernelspec": {
   "name": "python388jvsc74a57bd0a53e911efac6fae06a5277fa5fc23ac677064e9318cdd8f9fb7d3481871fe85a",
   "display_name": "Python 3.8.8 64-bit ('kernelcnp': conda)"
  }
 },
 "nbformat": 4,
 "nbformat_minor": 2,
 "cells": [
  {
   "cell_type": "code",
   "execution_count": 3,
   "metadata": {},
   "outputs": [],
   "source": [
    "import torch\n",
    "from torch import nn\n"
   ]
  },
  {
   "cell_type": "code",
   "execution_count": 48,
   "metadata": {},
   "outputs": [],
   "source": [
    "x = torch.tensor([1, 2, 3])\n",
    "y = torch.tensor([4,5])\n",
    "z= torch.tensor([6])"
   ]
  },
  {
   "cell_type": "code",
   "execution_count": 54,
   "metadata": {},
   "outputs": [
    {
     "output_type": "execute_result",
     "data": {
      "text/plain": [
       "torch.Size([3, 1])"
      ]
     },
     "metadata": {},
     "execution_count": 54
    }
   ],
   "source": [
    "torch.stack(torch.meshgrid([x]), dim=-1).shape"
   ]
  },
  {
   "cell_type": "code",
   "execution_count": 27,
   "metadata": {},
   "outputs": [],
   "source": [
    "def build_nD_grid(x_context, x_target, points_per_unit, grid_multiplier, num_dims):\n",
    "    n_out = x_target.shape[1]\n",
    "\n",
    "    x_mins = []\n",
    "    x_maxs = []\n",
    "    num_points = []\n",
    "    x_grids = []\n",
    "    for i in range(num_dims):\n",
    "        d = i + 2 \n",
    "        # Determine the grid on which to evaluate functional representation.\n",
    "        x_min = min(torch.min(x_context[d]).cpu().numpy(),\n",
    "                    torch.min(x_target[d]).cpu().numpy(), -2.) - 0.1\n",
    "        x_max = max(torch.max(x_context[d]).cpu().numpy(),\n",
    "                    torch.max(x_target[d]).cpu().numpy(), 2.) + 0.1\n",
    "        n = int(to_multiple(points_per_unit * (x_max - x_min),\n",
    "                                    grid_multiplier))\n",
    "        # update the lists\n",
    "        x_mins.append(x_min)\n",
    "        x_maxs.append(x_max)\n",
    "        num_points.append(n)\n",
    "        \n",
    "        # compute the x_grid\n",
    "        x_grids.append(torch.linspace(x_min, x_max, num_points).to(x_context.device))\n",
    "\n",
    "    x_grid = torch.cartesian_prod(*x_grids)\n",
    "    x_grid = x_grid[None, :, :].repeat(x_context.shape[0], 1, 1)\n",
    "    \n",
    "    \n",
    "    return x_grid, num_points"
   ]
  },
  {
   "cell_type": "code",
   "execution_count": 33,
   "metadata": {},
   "outputs": [],
   "source": [
    "c = torch.tensor([[1., 2.],\n",
    "                [-1, 1],\n",
    "                [0,1]])"
   ]
  },
  {
   "cell_type": "code",
   "execution_count": 34,
   "metadata": {},
   "outputs": [
    {
     "output_type": "execute_result",
     "data": {
      "text/plain": [
       "torch.Size([3, 2])"
      ]
     },
     "metadata": {},
     "execution_count": 34
    }
   ],
   "source": [
    "c.shape"
   ]
  },
  {
   "cell_type": "code",
   "execution_count": 37,
   "metadata": {},
   "outputs": [
    {
     "output_type": "execute_result",
     "data": {
      "text/plain": [
       "tensor([2.2361, 1.4142, 1.0000])"
      ]
     },
     "metadata": {},
     "execution_count": 37
    }
   ],
   "source": [
    "torch.linalg.norm(c, dim = 1)"
   ]
  },
  {
   "cell_type": "code",
   "execution_count": 39,
   "metadata": {},
   "outputs": [],
   "source": [
    "a = torch.rand(2,3,4,5)"
   ]
  },
  {
   "cell_type": "code",
   "execution_count": 40,
   "metadata": {},
   "outputs": [
    {
     "output_type": "execute_result",
     "data": {
      "text/plain": [
       "torch.Size([2, 3, 4, 5])"
      ]
     },
     "metadata": {},
     "execution_count": 40
    }
   ],
   "source": [
    "a.shape"
   ]
  },
  {
   "cell_type": "code",
   "execution_count": 43,
   "metadata": {},
   "outputs": [
    {
     "output_type": "execute_result",
     "data": {
      "text/plain": [
       "torch.Size([2, 3, 4])"
      ]
     },
     "metadata": {},
     "execution_count": 43
    }
   ],
   "source": [
    "torch.linalg.norm(a, dim=-1).shape"
   ]
  },
  {
   "cell_type": "code",
   "execution_count": 47,
   "metadata": {},
   "outputs": [
    {
     "output_type": "execute_result",
     "data": {
      "text/plain": [
       "tensor([[1, 2],\n",
       "        [3, 4]])"
      ]
     },
     "metadata": {},
     "execution_count": 47
    }
   ],
   "source": [
    "b = torch.tensor([1,2,3,4])\n",
    "b_dims = [2,2]\n",
    "b.view(*b_dims)"
   ]
  },
  {
   "cell_type": "code",
   "execution_count": 3,
   "metadata": {},
   "outputs": [],
   "source": [
    "x = torch.randn(2, 3, 5)"
   ]
  },
  {
   "cell_type": "code",
   "execution_count": 5,
   "metadata": {},
   "outputs": [
    {
     "output_type": "execute_result",
     "data": {
      "text/plain": [
       "torch.Size([5, 2, 3])"
      ]
     },
     "metadata": {},
     "execution_count": 5
    }
   ],
   "source": [
    "order = [2,0,1]\n",
    "x.permute(order).shape"
   ]
  },
  {
   "cell_type": "code",
   "execution_count": 6,
   "metadata": {},
   "outputs": [
    {
     "output_type": "execute_result",
     "data": {
      "text/plain": [
       "torch.Size([2, 3, 5])"
      ]
     },
     "metadata": {},
     "execution_count": 6
    }
   ],
   "source": [
    "x.shape"
   ]
  },
  {
   "cell_type": "code",
   "execution_count": 17,
   "metadata": {},
   "outputs": [],
   "source": [
    "class DepthwiseSeparableConv(nn.Module):\n",
    "    def __init__(self, in_channels, out_channels, kernel_size, num_dims):\n",
    "        if num_dims == 1:\n",
    "            convf = nn.Conv1d\n",
    "        elif num_dims == 2:\n",
    "            convf = nn.Conv2d\n",
    "        elif num_dims == 3:\n",
    "            convf = nn.Conv3d\n",
    "        else:\n",
    "            raise ValueError('Number of dimensions > 3 not supported')\n",
    "\n",
    "        assert kernel_size % 2 == 1\n",
    "        kernel_size = [kernel_size] * num_dims\n",
    "        padding = [k // 2 for k in kernel_size]\n",
    "\n",
    "        super(DepthwiseSeparableConv, self).__init__()\n",
    "        self.depthwise = convf(in_channels, \n",
    "                               in_channels, \n",
    "                               kernel_size=kernel_size, \n",
    "                               padding=padding, \n",
    "                               groups=in_channels)\n",
    "\n",
    "        self.pointwise = convf(in_channels, out_channels, kernel_size=1)\n",
    "\n",
    "    def forward(self, x):\n",
    "        out = self.depthwise(x)\n",
    "        out = self.pointwise(out)\n",
    "        return out"
   ]
  },
  {
   "cell_type": "code",
   "execution_count": 21,
   "metadata": {},
   "outputs": [],
   "source": [
    "conv_layer_1d = DepthwiseSeparableConv(3, 5, 5, 1)\n",
    "conv_layer_2d = DepthwiseSeparableConv(3, 5, 5, 2)\n",
    "conv_layer_3d = DepthwiseSeparableConv(3, 5, 5, 3)\n"
   ]
  },
  {
   "cell_type": "code",
   "execution_count": 24,
   "metadata": {},
   "outputs": [],
   "source": [
    "x = torch.randn(100, 3, 64, 64, 32)"
   ]
  },
  {
   "cell_type": "code",
   "execution_count": 26,
   "metadata": {},
   "outputs": [
    {
     "output_type": "execute_result",
     "data": {
      "text/plain": [
       "torch.Size([100, 5, 64, 64, 32])"
      ]
     },
     "metadata": {},
     "execution_count": 26
    }
   ],
   "source": [
    "conv_layer_3d(x).shape"
   ]
  },
  {
   "cell_type": "code",
   "execution_count": 38,
   "metadata": {},
   "outputs": [],
   "source": [
    "class StandardDepthwiseSeparableCNN(nn.Module):\n",
    "    def __init__(self, in_channels, out_channels, num_dims):\n",
    "        # Default parameters\n",
    "        latent_channels = 32\n",
    "        kernel_size = 5\n",
    "        num_layers = 12\n",
    "        super().__init__()\n",
    "        \n",
    "        layers = [DepthwiseSeparableConv(in_channels, latent_channels, kernel_size, num_dims), nn.ReLU()]\n",
    "        for i in range(num_layers - 2):\n",
    "            layers.append(DepthwiseSeparableConv(latent_channels, latent_channels, kernel_size, num_dims))\n",
    "            layers.append(nn.ReLU()) \n",
    "        layers.append(DepthwiseSeparableConv(latent_channels, out_channels, kernel_size, num_dims))\n",
    "\n",
    "        self.conv_net = nn.Sequential(*layers)\n",
    "        # init_sequential_weights(self.conv_net)\n",
    "\n",
    "    def forward(self, x):\n",
    "        return self.conv_net(x)"
   ]
  },
  {
   "cell_type": "code",
   "execution_count": 42,
   "metadata": {},
   "outputs": [],
   "source": [
    "conv_net_1d = StandardDepthwiseSeparableCNN(3, 5, 1)\n",
    "conv_net_2d = StandardDepthwiseSeparableCNN(3, 5, 2)\n",
    "conv_net_3d = StandardDepthwiseSeparableCNN(3, 5, 3)"
   ]
  },
  {
   "cell_type": "code",
   "execution_count": 43,
   "metadata": {},
   "outputs": [],
   "source": [
    "x = torch.randn(100, 3, 64)"
   ]
  },
  {
   "cell_type": "code",
   "execution_count": 44,
   "metadata": {},
   "outputs": [
    {
     "output_type": "execute_result",
     "data": {
      "text/plain": [
       "torch.Size([100, 5, 64])"
      ]
     },
     "metadata": {},
     "execution_count": 44
    }
   ],
   "source": [
    "conv_net_1d(x).shape"
   ]
  },
  {
   "cell_type": "code",
   "execution_count": 46,
   "metadata": {},
   "outputs": [
    {
     "output_type": "execute_result",
     "data": {
      "text/plain": [
       "torch.Size([100, 5, 64, 32])"
      ]
     },
     "metadata": {},
     "execution_count": 46
    }
   ],
   "source": [
    "x = torch.randn(100, 3, 64, 32)\n",
    "conv_net_2d(x).shape"
   ]
  },
  {
   "cell_type": "code",
   "execution_count": 47,
   "metadata": {},
   "outputs": [
    {
     "output_type": "execute_result",
     "data": {
      "text/plain": [
       "torch.Size([100, 5, 64, 32, 8])"
      ]
     },
     "metadata": {},
     "execution_count": 47
    }
   ],
   "source": [
    "x = torch.randn(100, 3, 64, 32, 8)\n",
    "conv_net_3d(x).shape"
   ]
  },
  {
   "cell_type": "code",
   "execution_count": 60,
   "metadata": {},
   "outputs": [],
   "source": [
    "x_context = torch.randn(100, 2, 3)\n",
    "a, b, c = x_context.shape\n",
    "x_context = x_context.view(a, b, *([1] * c), c)\n"
   ]
  },
  {
   "cell_type": "code",
   "execution_count": 58,
   "metadata": {},
   "outputs": [
    {
     "output_type": "error",
     "ename": "SyntaxError",
     "evalue": "invalid syntax (<ipython-input-58-162e408123ff>, line 1)",
     "traceback": [
      "\u001b[0;36m  File \u001b[0;32m\"<ipython-input-58-162e408123ff>\"\u001b[0;36m, line \u001b[0;32m1\u001b[0m\n\u001b[0;31m    [:, :, (None,) * x_context.shape[-1], :]\u001b[0m\n\u001b[0m     ^\u001b[0m\n\u001b[0;31mSyntaxError\u001b[0m\u001b[0;31m:\u001b[0m invalid syntax\n"
     ]
    }
   ],
   "source": [
    "[:, :, (None,) * x_context.shape[-1], :]"
   ]
  },
  {
   "cell_type": "code",
   "execution_count": 61,
   "metadata": {},
   "outputs": [
    {
     "output_type": "execute_result",
     "data": {
      "text/plain": [
       "torch.Size([100, 2, 1, 1, 1, 3])"
      ]
     },
     "metadata": {},
     "execution_count": 61
    }
   ],
   "source": [
    "x_context.shape"
   ]
  },
  {
   "cell_type": "code",
   "execution_count": 62,
   "metadata": {},
   "outputs": [],
   "source": [
    "nn_f = nn.Linear(4, 5)"
   ]
  },
  {
   "cell_type": "code",
   "execution_count": 63,
   "metadata": {},
   "outputs": [],
   "source": [
    "x = torch.randn(100, 3, 64, 32, 4)\n"
   ]
  },
  {
   "cell_type": "code",
   "execution_count": 65,
   "metadata": {},
   "outputs": [
    {
     "output_type": "execute_result",
     "data": {
      "text/plain": [
       "torch.Size([100, 3, 64, 32, 5])"
      ]
     },
     "metadata": {},
     "execution_count": 65
    }
   ],
   "source": [
    "nn_f(x).shape"
   ]
  },
  {
   "cell_type": "code",
   "execution_count": 70,
   "metadata": {},
   "outputs": [],
   "source": [
    "def move_channel_idx(x, to_last, num_dims):\n",
    "    if to_last:\n",
    "        perm_idx = [0] + [i + 2 for i in range(num_dims)] + [1]\n",
    "    else:\n",
    "        perm_idx = [0, num_dims + 1] + [i + 1 for i in range(num_dims)]\n",
    "    \n",
    "    return x.permute(perm_idx)"
   ]
  },
  {
   "cell_type": "code",
   "execution_count": 73,
   "metadata": {},
   "outputs": [
    {
     "output_type": "stream",
     "name": "stdout",
     "text": [
      "[0, 2, 3, 4, 1]\n[0, 4, 1, 2, 3]\n"
     ]
    },
    {
     "output_type": "execute_result",
     "data": {
      "text/plain": [
       "torch.Size([100, 3, 32, 32, 32])"
      ]
     },
     "metadata": {},
     "execution_count": 73
    }
   ],
   "source": [
    "x = torch.randn(100, 3, 32, 32, 32)\n",
    "y = move_channel_idx(x, True, 3)\n",
    "move_channel_idx(y, False, 3).shape"
   ]
  },
  {
   "cell_type": "code",
   "execution_count": null,
   "metadata": {},
   "outputs": [],
   "source": []
  }
 ]
}