{
 "metadata": {
  "language_info": {
   "codemirror_mode": {
    "name": "ipython",
    "version": 3
   },
   "file_extension": ".py",
   "mimetype": "text/x-python",
   "name": "python",
   "nbconvert_exporter": "python",
   "pygments_lexer": "ipython3",
   "version": "3.8.8"
  },
  "orig_nbformat": 2,
  "kernelspec": {
   "name": "python388jvsc74a57bd0a53e911efac6fae06a5277fa5fc23ac677064e9318cdd8f9fb7d3481871fe85a",
   "display_name": "Python 3.8.8 64-bit ('kernelcnp': conda)"
  }
 },
 "nbformat": 4,
 "nbformat_minor": 2,
 "cells": [
  {
   "cell_type": "code",
   "execution_count": 2,
   "metadata": {},
   "outputs": [],
   "source": [
    "import torch\n"
   ]
  },
  {
   "cell_type": "code",
   "execution_count": 7,
   "metadata": {},
   "outputs": [],
   "source": [
    "x = torch.tensor([1, 2, 3])\n",
    "y = torch.tensor([4,5])\n",
    "z= torch.tensor([6])"
   ]
  },
  {
   "cell_type": "code",
   "execution_count": 27,
   "metadata": {},
   "outputs": [],
   "source": [
    "def build_nD_grid(x_context, x_target, points_per_unit, grid_multiplier, num_dims):\n",
    "    n_out = x_target.shape[1]\n",
    "\n",
    "    x_mins = []\n",
    "    x_maxs = []\n",
    "    num_points = []\n",
    "    x_grids = []\n",
    "    for i in range(num_dims):\n",
    "        d = i + 2 \n",
    "        # Determine the grid on which to evaluate functional representation.\n",
    "        x_min = min(torch.min(x_context[d]).cpu().numpy(),\n",
    "                    torch.min(x_target[d]).cpu().numpy(), -2.) - 0.1\n",
    "        x_max = max(torch.max(x_context[d]).cpu().numpy(),\n",
    "                    torch.max(x_target[d]).cpu().numpy(), 2.) + 0.1\n",
    "        n = int(to_multiple(points_per_unit * (x_max - x_min),\n",
    "                                    grid_multiplier))\n",
    "        # update the lists\n",
    "        x_mins.append(x_min)\n",
    "        x_maxs.append(x_max)\n",
    "        num_points.append(n)\n",
    "        \n",
    "        # compute the x_grid\n",
    "        x_grids.append(torch.linspace(x_min, x_max, num_points).to(x_context.device))\n",
    "\n",
    "    x_grid = torch.cartesian_prod(*x_grids)\n",
    "    x_grid = x_grid[None, :, :].repeat(x_context.shape[0], 1, 1)\n",
    "    \n",
    "    \n",
    "    return x_grid, num_points"
   ]
  },
  {
   "cell_type": "code",
   "execution_count": 33,
   "metadata": {},
   "outputs": [],
   "source": [
    "c = torch.tensor([[1., 2.],\n",
    "                [-1, 1],\n",
    "                [0,1]])"
   ]
  },
  {
   "cell_type": "code",
   "execution_count": 34,
   "metadata": {},
   "outputs": [
    {
     "output_type": "execute_result",
     "data": {
      "text/plain": [
       "torch.Size([3, 2])"
      ]
     },
     "metadata": {},
     "execution_count": 34
    }
   ],
   "source": [
    "c.shape"
   ]
  },
  {
   "cell_type": "code",
   "execution_count": 37,
   "metadata": {},
   "outputs": [
    {
     "output_type": "execute_result",
     "data": {
      "text/plain": [
       "tensor([2.2361, 1.4142, 1.0000])"
      ]
     },
     "metadata": {},
     "execution_count": 37
    }
   ],
   "source": [
    "torch.linalg.norm(c, dim = 1)"
   ]
  },
  {
   "cell_type": "code",
   "execution_count": 39,
   "metadata": {},
   "outputs": [],
   "source": [
    "a = torch.rand(2,3,4,5)"
   ]
  },
  {
   "cell_type": "code",
   "execution_count": 40,
   "metadata": {},
   "outputs": [
    {
     "output_type": "execute_result",
     "data": {
      "text/plain": [
       "torch.Size([2, 3, 4, 5])"
      ]
     },
     "metadata": {},
     "execution_count": 40
    }
   ],
   "source": [
    "a.shape"
   ]
  },
  {
   "cell_type": "code",
   "execution_count": 43,
   "metadata": {},
   "outputs": [
    {
     "output_type": "execute_result",
     "data": {
      "text/plain": [
       "torch.Size([2, 3, 4])"
      ]
     },
     "metadata": {},
     "execution_count": 43
    }
   ],
   "source": [
    "torch.linalg.norm(a, dim=-1).shape"
   ]
  },
  {
   "cell_type": "code",
   "execution_count": 47,
   "metadata": {},
   "outputs": [
    {
     "output_type": "execute_result",
     "data": {
      "text/plain": [
       "tensor([[1, 2],\n",
       "        [3, 4]])"
      ]
     },
     "metadata": {},
     "execution_count": 47
    }
   ],
   "source": [
    "b = torch.tensor([1,2,3,4])\n",
    "b_dims = [2,2]\n",
    "b.view(*b_dims)"
   ]
  },
  {
   "cell_type": "code",
   "execution_count": 3,
   "metadata": {},
   "outputs": [],
   "source": [
    "x = torch.randn(2, 3, 5)"
   ]
  },
  {
   "cell_type": "code",
   "execution_count": 5,
   "metadata": {},
   "outputs": [
    {
     "output_type": "execute_result",
     "data": {
      "text/plain": [
       "torch.Size([5, 2, 3])"
      ]
     },
     "metadata": {},
     "execution_count": 5
    }
   ],
   "source": [
    "order = [2,0,1]\n",
    "x.permute(order).shape"
   ]
  },
  {
   "cell_type": "code",
   "execution_count": 6,
   "metadata": {},
   "outputs": [
    {
     "output_type": "execute_result",
     "data": {
      "text/plain": [
       "torch.Size([2, 3, 5])"
      ]
     },
     "metadata": {},
     "execution_count": 6
    }
   ],
   "source": [
    "x.shape"
   ]
  },
  {
   "cell_type": "code",
   "execution_count": null,
   "metadata": {},
   "outputs": [],
   "source": []
  }
 ]
}