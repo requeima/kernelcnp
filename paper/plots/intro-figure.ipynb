{
 "cells": [
  {
   "cell_type": "code",
   "execution_count": null,
   "id": "e9aecf0f",
   "metadata": {},
   "outputs": [],
   "source": [
    "import numpy as np\n",
    "import matplotlib.pyplot as plt\n",
    "import torch\n",
    "\n",
    "from cnp.data import GPGenerator\n",
    "\n",
    "from cnp.cnp import StandardConvGNP, StandardFullyConnectedTEGNP\n",
    "from cnp.cov import InnerProdCov, MeanFieldCov, AddNoNoise, AddHomoNoise\n",
    "\n",
    "import stheno\n",
    "\n",
    "import matplotlib\n",
    "matplotlib.rcParams['text.usetex'] = True"
   ]
  },
  {
   "cell_type": "code",
   "execution_count": null,
   "id": "a69e0225",
   "metadata": {},
   "outputs": [],
   "source": [
    "plot_grid_res = 100\n",
    "num_samples = 50\n",
    "xmin = -5\n",
    "xmax = 5\n",
    "ymin = -5\n",
    "ymax = 5\n",
    "num_basis_dim = 512"
   ]
  },
  {
   "cell_type": "code",
   "execution_count": null,
   "id": "06494056",
   "metadata": {},
   "outputs": [],
   "source": [
    "kernel = stheno.EQ().stretch(1.)\n",
    "std_noise = 1e-1\n",
    "\n",
    "gen_params = {\n",
    "    'batch_size'                : 1,\n",
    "    'x_range'                   : [-3, 3],\n",
    "    'max_num_context'           : 4,\n",
    "    'max_num_target'            : 10,\n",
    "    'include_context_in_target' : False,\n",
    "    'device'                    : 'cpu'\n",
    "}\n",
    "\n",
    "gen = GPGenerator(iterations_per_epoch=1,\n",
    "                  kernel=kernel,\n",
    "                  std_noise=std_noise,\n",
    "                  **gen_params)\n",
    "\n",
    "seed = 3"
   ]
  },
  {
   "cell_type": "markdown",
   "id": "e9f21170",
   "metadata": {},
   "source": [
    "# Mean field ConvGNP"
   ]
  },
  {
   "cell_type": "code",
   "execution_count": null,
   "id": "5c2004ae",
   "metadata": {},
   "outputs": [],
   "source": [
    "mean_field_cov = MeanFieldCov(num_basis_dim=1)\n",
    "add_no_noise = AddNoNoise()\n",
    "\n",
    "mean_field_conv_gnp_path = '../../_experiments/eq/convGNP/meanfield/21-04-06_02-25-26_1/checkpoint.pth.tar'\n",
    "\n",
    "model = StandardConvGNP(covariance=mean_field_cov,\n",
    "                        add_noise=add_no_noise)\n",
    "model.load_state_dict(torch.load(mean_field_conv_gnp_path)['state_dict'])"
   ]
  },
  {
   "cell_type": "code",
   "execution_count": 29,
   "id": "cd2a47fd",
   "metadata": {},
   "outputs": [],
   "source": [
    "!cp ../../_experiments/eq/convGNP/meanfield/21-04-06_02-25-26_1/checkpoint.pth.tar ./models/meanfield-convGNP"
   ]
  },
  {
   "cell_type": "code",
   "execution_count": null,
   "id": "5f1da5fc",
   "metadata": {},
   "outputs": [],
   "source": [
    "np.random.seed(seed)\n",
    "torch.manual_seed(seed)\n",
    "\n",
    "data = list(gen)[0]\n",
    "\n",
    "x_context = data['x_context']\n",
    "x_target = data['x_target']\n",
    "y_context = data['y_context']\n",
    "y_target = data['y_target']\n",
    "\n",
    "x_plot = torch.linspace(xmin, xmax, plot_grid_res)[None, :, None]\n",
    "x_plot = x_plot.repeat(x_context.shape[0], 1, 1)\n",
    "\n",
    "model_output = model(x_context, y_context, x_plot)\n",
    "mean, cov, cov_plus_noise = [v.detach().numpy() for v in model_output]\n",
    "\n",
    "std_dev = np.diag(cov[0]) ** 0.5\n",
    "\n",
    "plt.scatter(x_context[0, :, 0],\n",
    "            y_context[0, :, 0],\n",
    "            marker='+',\n",
    "            color='black',\n",
    "            s=100,\n",
    "            label='Context')\n",
    "\n",
    "# plt.scatter(x_target[0, :, 0], y_target[0, :, 0], marker='+', color='red')\n",
    "plt.fill_between(x_plot[0, :, 0],\n",
    "                 mean[0, :, 0] - 2 * std_dev,\n",
    "                 mean[0, :, 0] + 2 * std_dev,\n",
    "                 color='blue',\n",
    "                 alpha=0.2)\n",
    "\n",
    "plt.plot(x_plot[0, :, 0],\n",
    "         mean[0, :, 0],\n",
    "         color='blue',\n",
    "         alpha=0.3)\n",
    "\n",
    "# plt.title('ConvCNP', fontsize=25)\n",
    "plt.legend()\n",
    "plt.xlim([xmin, xmax])\n",
    "plt.ylim([ymin, ymax])\n",
    "plt.show()"
   ]
  },
  {
   "cell_type": "markdown",
   "id": "932c3b78",
   "metadata": {},
   "source": [
    "# Inner product convGNP"
   ]
  },
  {
   "cell_type": "code",
   "execution_count": null,
   "id": "76869775",
   "metadata": {},
   "outputs": [],
   "source": [
    "inner_prod_cov = InnerProdCov(num_basis_dim=num_basis_dim)\n",
    "add_homo_noise = AddHomoNoise()\n",
    "\n",
    "innerprod_conv_gnp_path = '../../_experiments/eq/convGNP/innerprod-homo/21-04-06_01-29-37_1/checkpoint.pth.tar'\n",
    "\n",
    "model = StandardConvGNP(covariance=inner_prod_cov,\n",
    "                        add_noise=add_homo_noise)\n",
    "\n",
    "model.load_state_dict(torch.load(innerprod_conv_gnp_path)['state_dict'])"
   ]
  },
  {
   "cell_type": "code",
   "execution_count": 24,
   "id": "f7f5bb9d",
   "metadata": {},
   "outputs": [],
   "source": [
    "!cp ../../_experiments/eq/convGNP/innerprod-homo/21-04-06_01-29-37_1/checkpoint.pth.tar ./models/innerprod-convGNP"
   ]
  },
  {
   "cell_type": "code",
   "execution_count": null,
   "id": "10f3a9de",
   "metadata": {},
   "outputs": [],
   "source": [
    "np.random.seed(seed)\n",
    "torch.manual_seed(seed)\n",
    "\n",
    "data = list(gen)[0]\n",
    "\n",
    "x_context = data['x_context']\n",
    "x_target = data['x_target']\n",
    "y_context = data['y_context']\n",
    "y_target = data['y_target']\n",
    "\n",
    "x_plot = torch.linspace(xmin, xmax, plot_grid_res)[None, :, None]\n",
    "x_plot_rep = x_plot[:, :, 0].repeat(num_samples, 1)\n",
    "x_plot = x_plot.repeat(x_context.shape[0], 1, 1)\n",
    "\n",
    "model_output = model(x_context, y_context, x_plot)\n",
    "mean, cov, cov_plus_noise = [v.detach().numpy() for v in model_output]\n",
    "\n",
    "chol = np.linalg.cholesky(cov[0] + 1e-4 * np.eye(cov[0].shape[0]))\n",
    "\n",
    "samples = np.random.normal(size=(chol.shape[0], num_samples))\n",
    "samples = mean[:, :, 0] + (chol @ samples).T\n",
    "\n",
    "plt.scatter(x_context[0, :, 0],\n",
    "            y_context[0, :, 0],\n",
    "            marker='+',\n",
    "            color='black',\n",
    "            s=100,\n",
    "            label='Context')\n",
    "\n",
    "# plt.plot(x_plot[0, :, 0],\n",
    "#          mean[0, :, 0],\n",
    "#          color='blue',\n",
    "#          alpha=0.3)\n",
    "\n",
    "plt.plot(x_plot_rep.T,\n",
    "         samples.T,\n",
    "         color='blue',\n",
    "         alpha=0.1,\n",
    "         zorder=1)\n",
    "\n",
    "# plt.title('ConvGNP', fontsize=25)\n",
    "plt.xlim([xmin, xmax])\n",
    "plt.ylim([ymin, ymax])\n",
    "plt.show()"
   ]
  },
  {
   "cell_type": "markdown",
   "id": "c0a8c438",
   "metadata": {},
   "source": [
    "# Innerprod TEGNP"
   ]
  },
  {
   "cell_type": "code",
   "execution_count": null,
   "id": "17ac994d",
   "metadata": {},
   "outputs": [],
   "source": [
    "inner_prod_cov = InnerProdCov(num_basis_dim=num_basis_dim)\n",
    "add_homo_noise = AddHomoNoise()\n",
    "\n",
    "innerprod_conv_gnp_path = '../../_experiments/eq/TEGNP/innerprod-homo/21-04-06_02-30-59_1/checkpoint.pth.tar'\n",
    "\n",
    "model = StandardFullyConnectedTEGNP(covariance=inner_prod_cov,\n",
    "                                    add_noise=add_homo_noise)\n",
    "\n",
    "model.load_state_dict(torch.load(innerprod_conv_gnp_path)['state_dict'])"
   ]
  },
  {
   "cell_type": "code",
   "execution_count": 28,
   "id": "30068e3a",
   "metadata": {},
   "outputs": [],
   "source": [
    "!cp ../../_experiments/eq/TEGNP/innerprod-homo/21-04-06_02-30-59_1/checkpoint.pth.tar ./models/innerprod-TEGNP"
   ]
  },
  {
   "cell_type": "code",
   "execution_count": null,
   "id": "0a61b209",
   "metadata": {},
   "outputs": [],
   "source": [
    "np.random.seed(seed)\n",
    "torch.manual_seed(seed)\n",
    "\n",
    "data = list(gen)[0]\n",
    "\n",
    "x_context = data['x_context']\n",
    "x_target = data['x_target']\n",
    "y_context = data['y_context']\n",
    "y_target = data['y_target']\n",
    "\n",
    "x_plot = torch.linspace(xmin, xmax, plot_grid_res)[None, :, None]\n",
    "x_plot_rep = x_plot[:, :, 0].repeat(num_samples, 1)\n",
    "x_plot = x_plot.repeat(x_context.shape[0], 1, 1)\n",
    "\n",
    "model_output = model(x_context, y_context, x_plot)\n",
    "mean, cov, cov_plus_noise = [v.detach().numpy() for v in model_output]\n",
    "\n",
    "chol = np.linalg.cholesky(cov[0] + 1e-4 * np.eye(cov[0].shape[0]))\n",
    "\n",
    "samples = np.random.normal(size=(chol.shape[0], num_samples))\n",
    "samples = mean[:, :, 0] + (chol @ samples).T\n",
    "\n",
    "plt.scatter(x_context[0, :, 0],\n",
    "            y_context[0, :, 0],\n",
    "            marker='+',\n",
    "            color='black',\n",
    "            s=100,\n",
    "            label='Context',\n",
    "            zorder=2)\n",
    "\n",
    "plt.plot(x_plot_rep.T,\n",
    "         samples.T,\n",
    "         color='green',\n",
    "         alpha=0.1,\n",
    "         zorder=1)\n",
    "\n",
    "# plt.title('TEGNP', fontsize=25)\n",
    "plt.xlim([xmin, xmax])\n",
    "plt.ylim([ymin, ymax])\n",
    "plt.show()"
   ]
  }
 ],
 "metadata": {
  "kernelspec": {
   "display_name": "venv-gnp",
   "language": "python",
   "name": "venv-gnp"
  },
  "language_info": {
   "codemirror_mode": {
    "name": "ipython",
    "version": 3
   },
   "file_extension": ".py",
   "mimetype": "text/x-python",
   "name": "python",
   "nbconvert_exporter": "python",
   "pygments_lexer": "ipython3",
   "version": "3.6.9"
  }
 },
 "nbformat": 4,
 "nbformat_minor": 5
}
