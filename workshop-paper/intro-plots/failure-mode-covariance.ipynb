{
 "cells": [
  {
   "cell_type": "code",
   "execution_count": 232,
   "id": "looking-performance",
   "metadata": {},
   "outputs": [
    {
     "name": "stderr",
     "output_type": "stream",
     "text": [
      "/Users/stratis/repos/kernelcnp/venv-gnp/lib/python3.7/site-packages/ipykernel/ipkernel.py:283: DeprecationWarning: `should_run_async` will not call `transform_cell` automatically in the future. Please pass the result to `transformed_cell` argument and any exception that happen during thetransform in `preprocessing_exc_tuple` in IPython 7.17 and above.\n",
      "  and should_run_async(code)\n"
     ]
    }
   ],
   "source": [
    "import numpy as np\n",
    "import matplotlib.pyplot as plt\n",
    "import torch\n",
    "from scipy.stats import norm\n",
    "\n",
    "from cnp.data import GPGenerator\n",
    "\n",
    "from cnp.cnp import StandardConvGNP\n",
    "from cnp.cov import InnerProdCov, MeanFieldCov, AddNoNoise, AddHomoNoise\n",
    "\n",
    "import stheno\n",
    "\n",
    "import matplotlib\n",
    "matplotlib.rcParams['text.usetex'] = True"
   ]
  },
  {
   "cell_type": "code",
   "execution_count": 2,
   "id": "structural-financing",
   "metadata": {},
   "outputs": [
    {
     "name": "stderr",
     "output_type": "stream",
     "text": [
      "/Users/stratis/repos/kernelcnp/venv-gnp/lib/python3.7/site-packages/ipykernel/ipkernel.py:283: DeprecationWarning: `should_run_async` will not call `transform_cell` automatically in the future. Please pass the result to `transformed_cell` argument and any exception that happen during thetransform in `preprocessing_exc_tuple` in IPython 7.17 and above.\n",
      "  and should_run_async(code)\n"
     ]
    }
   ],
   "source": [
    "plot_grid_res = 100\n",
    "num_samples = 50\n",
    "xmin = -4.5\n",
    "xmax = 4.5\n",
    "ymin = -5\n",
    "ymax = 5\n",
    "num_basis_dim = 512"
   ]
  },
  {
   "cell_type": "code",
   "execution_count": 78,
   "id": "computational-platform",
   "metadata": {},
   "outputs": [
    {
     "name": "stderr",
     "output_type": "stream",
     "text": [
      "/Users/stratis/repos/kernelcnp/venv-gnp/lib/python3.7/site-packages/ipykernel/ipkernel.py:283: DeprecationWarning: `should_run_async` will not call `transform_cell` automatically in the future. Please pass the result to `transformed_cell` argument and any exception that happen during thetransform in `preprocessing_exc_tuple` in IPython 7.17 and above.\n",
      "  and should_run_async(code)\n"
     ]
    }
   ],
   "source": [
    "kernel = stheno.EQ().stretch(1.)\n",
    "std_noise = 1e-1\n",
    "\n",
    "gen_params = {\n",
    "    'batch_size'                : 1,\n",
    "    'x_context_ranges'          : [[-3., 3.]],\n",
    "    'max_num_context'           : 3,\n",
    "    'min_num_target'            : 3,\n",
    "    'max_num_target'            : 10,\n",
    "    'device'                    : 'cpu'\n",
    "}\n",
    "\n",
    "gen = GPGenerator(iterations_per_epoch=1,\n",
    "                  kernel=kernel,\n",
    "                  std_noise=std_noise,\n",
    "                  **gen_params)\n",
    "\n",
    "seed = 5"
   ]
  },
  {
   "cell_type": "markdown",
   "id": "partial-acceptance",
   "metadata": {},
   "source": [
    "# Mean field ConvGNP"
   ]
  },
  {
   "cell_type": "code",
   "execution_count": 179,
   "id": "efeb0a33-93ee-42e3-84fc-1f9c48cc1dc4",
   "metadata": {},
   "outputs": [
    {
     "name": "stderr",
     "output_type": "stream",
     "text": [
      "/Users/stratis/repos/kernelcnp/venv-gnp/lib/python3.7/site-packages/ipykernel/ipkernel.py:283: DeprecationWarning: `should_run_async` will not call `transform_cell` automatically in the future. Please pass the result to `transformed_cell` argument and any exception that happen during thetransform in `preprocessing_exc_tuple` in IPython 7.17 and above.\n",
      "  and should_run_async(code)\n"
     ]
    }
   ],
   "source": [
    "def pdf(x_grid, mean, cov):\n",
    "    \n",
    "    diff = x_grid - mean[None, None, :]\n",
    "    \n",
    "    i = diff.shape[0]\n",
    "    j = diff.shape[1]\n",
    "    \n",
    "    diff_ = np.reshape(diff, (-1, 2)).T\n",
    "    quad = np.linalg.solve(cov, diff_)\n",
    "    quad = np.reshape(quad.T, (i, j, 2))\n",
    "    quad = - np.einsum('ijk, ijk -> ij', diff, quad)\n",
    "    \n",
    "    return quad"
   ]
  },
  {
   "cell_type": "code",
   "execution_count": 321,
   "id": "de37a2e5-ec03-4630-a35d-a7cc68adb347",
   "metadata": {},
   "outputs": [
    {
     "name": "stderr",
     "output_type": "stream",
     "text": [
      "/Users/stratis/repos/kernelcnp/venv-gnp/lib/python3.7/site-packages/ipykernel/ipkernel.py:283: DeprecationWarning: `should_run_async` will not call `transform_cell` automatically in the future. Please pass the result to `transformed_cell` argument and any exception that happen during thetransform in `preprocessing_exc_tuple` in IPython 7.17 and above.\n",
      "  and should_run_async(code)\n"
     ]
    }
   ],
   "source": [
    "xpt = np.array([0., 0.5])\n",
    "ypt = np.array([-1.0, -1.0])"
   ]
  },
  {
   "cell_type": "code",
   "execution_count": 332,
   "id": "afraid-management",
   "metadata": {},
   "outputs": [
    {
     "name": "stderr",
     "output_type": "stream",
     "text": [
      "/Users/stratis/repos/kernelcnp/venv-gnp/lib/python3.7/site-packages/ipykernel/ipkernel.py:283: DeprecationWarning: `should_run_async` will not call `transform_cell` automatically in the future. Please pass the result to `transformed_cell` argument and any exception that happen during thetransform in `preprocessing_exc_tuple` in IPython 7.17 and above.\n",
      "  and should_run_async(code)\n"
     ]
    }
   ],
   "source": [
    "inner_prod_cov = InnerProdCov(num_basis_dim=num_basis_dim)\n",
    "add_homo_noise = AddHomoNoise()\n",
    "\n",
    "innerprod_conv_gnp_path = './models/innerprod-convGNP'\n",
    "\n",
    "model = StandardConvGNP(input_dim=1,\n",
    "                        covariance=inner_prod_cov,\n",
    "                        add_noise=add_homo_noise,\n",
    "                        num_noise_channels=0)\n",
    "\n",
    "model.load_state_dict(torch.load(innerprod_conv_gnp_path, map_location=torch.device('cpu'))['state_dict'])\n",
    "\n",
    "\n",
    "np.random.seed(seed)\n",
    "torch.manual_seed(seed)\n",
    "\n",
    "data = list(gen)[0]\n",
    "\n",
    "x_context = data['x_context']\n",
    "x_target = data['x_target']\n",
    "y_context = data['y_context']\n",
    "y_target = data['y_target']\n",
    "\n",
    "x_plot = torch.linspace(xmin, xmax, plot_grid_res)[None, :, None]\n",
    "x_plot_rep = x_plot[:, :, 0].repeat(num_samples, 1)\n",
    "x_plot = x_plot.repeat(x_context.shape[0], 1, 1)\n",
    "\n",
    "model_output = model(x_context, y_context, x_plot)\n",
    "mean, cov, cov_plus_noise = [v.detach().numpy() for v in model_output]"
   ]
  },
  {
   "cell_type": "code",
   "execution_count": 333,
   "id": "b0703115-7cc5-4eea-8465-fcdf31749945",
   "metadata": {},
   "outputs": [
    {
     "name": "stderr",
     "output_type": "stream",
     "text": [
      "/Users/stratis/repos/kernelcnp/venv-gnp/lib/python3.7/site-packages/ipykernel/ipkernel.py:283: DeprecationWarning: `should_run_async` will not call `transform_cell` automatically in the future. Please pass the result to `transformed_cell` argument and any exception that happen during thetransform in `preprocessing_exc_tuple` in IPython 7.17 and above.\n",
      "  and should_run_async(code)\n"
     ]
    },
    {
     "data": {
      "image/png": "[encoded data removed]",
      "text/plain": [
       "<Figure size 864x216 with 3 Axes>"
      ]
     },
     "metadata": {
      "needs_background": "light"
     },
     "output_type": "display_data"
    }
   ],
   "source": [
    "x_pred = np.array([[[0.], [0.5]]])\n",
    "x_pred = torch.tensor(x_pred).float()\n",
    "x_pdf = np.linspace(-5., 4., 100)\n",
    "\n",
    "model_output = model(x_context, y_context, x_pred)\n",
    "mean_pred, cov_pred, _ = [v.detach().numpy() for v in model_output]\n",
    "cov_pred[0, 0, 1] = 0.\n",
    "cov_pred[0, 1, 0] = 0.\n",
    "\n",
    "x_pred = x_pred.numpy()\n",
    "\n",
    "std_dev = np.diag(cov[idx]) ** 0.5\n",
    "\n",
    "f, (ax0, ax1, ax2) = plt.subplots(1, 3, gridspec_kw={'width_ratios': [2, 1, 1]}, figsize=(12, 3.))\n",
    "\n",
    "x1_grid = np.linspace(-3.5, 3., 30)\n",
    "x2_grid = np.linspace(-3.5, 3.5, 30)\n",
    "x_grid = np.stack(np.meshgrid(x1_grid, x2_grid), axis=-1)\n",
    "p = pdf(x_grid, mean_pred[0, :, 0], cov_pred[0, :, :])\n",
    "    \n",
    "#==============================================================================\n",
    "# First plot\n",
    "#==============================================================================\n",
    "\n",
    "ax0.scatter(x_context[idx, :, 0],\n",
    "            y_context[idx, :, 0],\n",
    "            marker='+',\n",
    "            color='black',\n",
    "            s=100,\n",
    "            label='Context')\n",
    "\n",
    "ax0.scatter(xpt,\n",
    "            ypt,\n",
    "            marker='+',\n",
    "            color='red',\n",
    "            s=100,\n",
    "            zorder=5)\n",
    "\n",
    "ax0.fill_between(x_plot[idx, :, 0],\n",
    "                 mean[idx, :, 0] - 2 * std_dev,\n",
    "                 mean[idx, :, 0] + 2 * std_dev,\n",
    "                 color='green',\n",
    "                 alpha=0.2)\n",
    "\n",
    "ax0.plot(x_plot[idx, :, 0],\n",
    "         mean[idx, :, 0],\n",
    "         color='green',\n",
    "         alpha=0.3)\n",
    "\n",
    "ax0.set_xlim([xmin, xmax])\n",
    "ax0.set_ylim([ymin, ymax])\n",
    "ax0.set_xticks(np.linspace(-4, 4, 3))\n",
    "ax0.set_yticks(np.linspace(-4, 4, 3))\n",
    "ax0.set_xlabel('$x$', fontsize=30)\n",
    "ax0.set_ylabel('$y$', fontsize=30)\n",
    "for t in ax0.xaxis.get_major_ticks():\n",
    "    t.label.set_fontsize(26)\n",
    "for t in ax0.yaxis.get_major_ticks():\n",
    "    t.label.set_fontsize(26)\n",
    "    \n",
    "ax0.plot([x_pred[0, 0, 0], x_pred[0, 0, 0]], [-5., 5], '--', color='black')\n",
    "ax0.plot([x_pred[0, 1, 0], x_pred[0, 1, 0]], [-5., 5], '--', color='black')\n",
    "    \n",
    "#==============================================================================\n",
    "# Second plot\n",
    "#==============================================================================\n",
    "\n",
    "ax1.contourf(x1_grid, x2_grid, p, levels=-np.arange(4, -0.1, -1)**2, cmap='Greens', alpha=0.9)\n",
    "ax1.scatter(ypt[:1],\n",
    "            ypt[1:],\n",
    "            marker='+',\n",
    "            color='red',\n",
    "            s=100,\n",
    "            zorder=5)\n",
    "\n",
    "ax1.set_xticks(np.linspace(-2, 2, 3))\n",
    "ax1.set_yticks(np.linspace(-2, 2, 3))\n",
    "ax1.set_xlabel('$y_1$', fontsize=30)\n",
    "ax1.set_ylabel('$y_2$', fontsize=30)\n",
    "\n",
    "for t in ax1.xaxis.get_major_ticks():\n",
    "    t.label.set_fontsize(26)\n",
    "for t in ax1.yaxis.get_major_ticks():\n",
    "    t.label.set_fontsize(26)\n",
    "    \n",
    "#==============================================================================\n",
    "# Third plot\n",
    "#==============================================================================\n",
    "\n",
    "sum_mean = np.sum(mean_pred[0, :, 0])\n",
    "sum_var = cov_pred[0, 0, 0] + cov_pred[0, 1, 1] + 2 * cov_pred[0, 0, 1]\n",
    "sum_std = sum_var ** 0.5\n",
    "\n",
    "normal = norm(loc=sum_mean, scale=sum_std)\n",
    "norm_pdf = normal.pdf(x_pdf)\n",
    "\n",
    "ax2.plot(x_pdf, norm_pdf, color='k')\n",
    "\n",
    "ax2.set_xticks(np.linspace(-3, 3, 3))\n",
    "ax2.set_yticks([])\n",
    "ax2.set_xlim([-5, 4])\n",
    "ax2.set_ylim([0, 0.5])\n",
    "ax2.set_xlabel('$y_1 + y_2$', fontsize=30)\n",
    "ax2.set_ylabel('density', fontsize=28)\n",
    "\n",
    "ax2.plot([ypt.sum(), ypt.sum()], [-0.1, 2], '--', color='red')\n",
    "\n",
    "for t in ax2.xaxis.get_major_ticks():\n",
    "    t.label.set_fontsize(26)\n",
    "    \n",
    "plt.tight_layout()\n",
    "plt.savefig('./plots/meanfield-covdemo.pdf')\n",
    "plt.show()"
   ]
  },
  {
   "cell_type": "code",
   "execution_count": 334,
   "id": "f72a3d06-6e7e-40bf-bdf4-d83fab4effea",
   "metadata": {},
   "outputs": [
    {
     "name": "stderr",
     "output_type": "stream",
     "text": [
      "/Users/stratis/repos/kernelcnp/venv-gnp/lib/python3.7/site-packages/ipykernel/ipkernel.py:283: DeprecationWarning: `should_run_async` will not call `transform_cell` automatically in the future. Please pass the result to `transformed_cell` argument and any exception that happen during thetransform in `preprocessing_exc_tuple` in IPython 7.17 and above.\n",
      "  and should_run_async(code)\n"
     ]
    }
   ],
   "source": [
    "inner_prod_cov = InnerProdCov(num_basis_dim=num_basis_dim)\n",
    "add_homo_noise = AddHomoNoise()\n",
    "\n",
    "innerprod_conv_gnp_path = './models/innerprod-convGNP'\n",
    "\n",
    "model = StandardConvGNP(input_dim=1,\n",
    "                        covariance=inner_prod_cov,\n",
    "                        add_noise=add_homo_noise,\n",
    "                        num_noise_channels=0)\n",
    "\n",
    "model.load_state_dict(torch.load(innerprod_conv_gnp_path, map_location=torch.device('cpu'))['state_dict'])\n",
    "\n",
    "\n",
    "np.random.seed(seed)\n",
    "torch.manual_seed(seed)\n",
    "\n",
    "data = list(gen)[0]\n",
    "\n",
    "x_context = data['x_context']\n",
    "x_target = data['x_target']\n",
    "y_context = data['y_context']\n",
    "y_target = data['y_target']\n",
    "\n",
    "x_plot = torch.linspace(xmin, xmax, plot_grid_res)[None, :, None]\n",
    "x_plot_rep = x_plot[:, :, 0].repeat(num_samples, 1)\n",
    "x_plot = x_plot.repeat(x_context.shape[0], 1, 1)\n",
    "\n",
    "model_output = model(x_context, y_context, x_plot)\n",
    "mean, cov, cov_plus_noise = [v.detach().numpy() for v in model_output]"
   ]
  },
  {
   "cell_type": "code",
   "execution_count": 335,
   "id": "3a630ef3-ce2c-4ab9-aa2d-b09147617b4c",
   "metadata": {},
   "outputs": [
    {
     "name": "stderr",
     "output_type": "stream",
     "text": [
      "/Users/stratis/repos/kernelcnp/venv-gnp/lib/python3.7/site-packages/ipykernel/ipkernel.py:283: DeprecationWarning: `should_run_async` will not call `transform_cell` automatically in the future. Please pass the result to `transformed_cell` argument and any exception that happen during thetransform in `preprocessing_exc_tuple` in IPython 7.17 and above.\n",
      "  and should_run_async(code)\n"
     ]
    },
    {
     "data": {
      "image/png": "[encoded data removed]",
      "text/plain": [
       "<Figure size 864x216 with 3 Axes>"
      ]
     },
     "metadata": {
      "needs_background": "light"
     },
     "output_type": "display_data"
    }
   ],
   "source": [
    "x_pred = np.array([[[0.], [0.5]]])\n",
    "x_pred = torch.tensor(x_pred).float()\n",
    "x_pdf = np.linspace(-5., 4., 100)\n",
    "\n",
    "model_output = model(x_context, y_context, x_pred)\n",
    "mean_pred, cov_pred, _ = [v.detach().numpy() for v in model_output]\n",
    "\n",
    "x_pred = x_pred.numpy()\n",
    "\n",
    "std_dev = np.diag(cov[idx]) ** 0.5\n",
    "\n",
    "f, (ax0, ax1, ax2) = plt.subplots(1, 3, gridspec_kw={'width_ratios': [2, 1, 1]}, figsize=(12, 3.))\n",
    "\n",
    "x1_grid = np.linspace(-3.5, 3., 30)\n",
    "x2_grid = np.linspace(-3.5, 3.5, 30)\n",
    "x_grid = np.stack(np.meshgrid(x1_grid, x2_grid), axis=-1)\n",
    "p = pdf(x_grid, mean_pred[0, :, 0], cov_pred[0, :, :])\n",
    "    \n",
    "#==============================================================================\n",
    "# First plot\n",
    "#==============================================================================\n",
    "\n",
    "ax0.scatter(x_context[idx, :, 0],\n",
    "            y_context[idx, :, 0],\n",
    "            marker='+',\n",
    "            color='black',\n",
    "            s=100,\n",
    "            label='Context')\n",
    "\n",
    "ax0.scatter(xpt,\n",
    "            ypt,\n",
    "            marker='+',\n",
    "            color='red',\n",
    "            s=100,\n",
    "            zorder=5)\n",
    "\n",
    "ax0.fill_between(x_plot[idx, :, 0],\n",
    "                 mean[idx, :, 0] - 2 * std_dev,\n",
    "                 mean[idx, :, 0] + 2 * std_dev,\n",
    "                 color='green',\n",
    "                 alpha=0.2)\n",
    "\n",
    "ax0.plot(x_plot[idx, :, 0],\n",
    "         mean[idx, :, 0],\n",
    "         color='green',\n",
    "         alpha=0.3)\n",
    "\n",
    "ax0.set_xlim([xmin, xmax])\n",
    "ax0.set_ylim([ymin, ymax])\n",
    "ax0.set_xticks(np.linspace(-4, 4, 3))\n",
    "ax0.set_yticks(np.linspace(-4, 4, 3))\n",
    "ax0.set_xlabel('$x$', fontsize=30)\n",
    "ax0.set_ylabel('$y$', fontsize=30)\n",
    "for t in ax0.xaxis.get_major_ticks():\n",
    "    t.label.set_fontsize(26)\n",
    "for t in ax0.yaxis.get_major_ticks():\n",
    "    t.label.set_fontsize(26)\n",
    "    \n",
    "ax0.plot([x_pred[0, 0, 0], x_pred[0, 0, 0]], [-5., 5], '--', color='black')\n",
    "ax0.plot([x_pred[0, 1, 0], x_pred[0, 1, 0]], [-5., 5], '--', color='black')\n",
    "    \n",
    "#==============================================================================\n",
    "# Second plot\n",
    "#==============================================================================\n",
    "\n",
    "ax1.contourf(x1_grid, x2_grid, p, levels=-np.arange(4, -0.1, -1)**2, cmap='Greens', alpha=0.9)\n",
    "ax1.scatter(ypt[:1],\n",
    "            ypt[1:],\n",
    "            marker='+',\n",
    "            color='red',\n",
    "            s=100,\n",
    "            zorder=5)\n",
    "\n",
    "ax1.set_xticks(np.linspace(-2, 2, 3))\n",
    "ax1.set_yticks(np.linspace(-2, 2, 3))\n",
    "ax1.set_xlabel('$y_1$', fontsize=30)\n",
    "ax1.set_ylabel('$y_2$', fontsize=30)\n",
    "\n",
    "for t in ax1.xaxis.get_major_ticks():\n",
    "    t.label.set_fontsize(26)\n",
    "for t in ax1.yaxis.get_major_ticks():\n",
    "    t.label.set_fontsize(26)\n",
    "    \n",
    "#==============================================================================\n",
    "# Third plot\n",
    "#==============================================================================\n",
    "\n",
    "sum_mean = np.sum(mean_pred[0, :, 0])\n",
    "sum_var = cov_pred[0, 0, 0] + cov_pred[0, 1, 1] + 2 * cov_pred[0, 0, 1]\n",
    "sum_std = sum_var ** 0.5\n",
    "\n",
    "normal = norm(loc=sum_mean, scale=sum_std)\n",
    "norm_pdf = normal.pdf(x_pdf)\n",
    "\n",
    "ax2.plot(x_pdf, norm_pdf, color='k')\n",
    "\n",
    "ax2.set_xticks(np.linspace(-3, 3, 3))\n",
    "ax2.set_yticks([])\n",
    "ax2.set_xlim([-5, 4])\n",
    "ax2.set_ylim([0, 0.5])\n",
    "ax2.set_xlabel('$y_1 + y_2$', fontsize=30)\n",
    "ax2.set_ylabel('density', fontsize=28)\n",
    "\n",
    "ax2.plot([ypt.sum(), ypt.sum()], [-0.1, 2], '--', color='red')\n",
    "\n",
    "for t in ax2.xaxis.get_major_ticks():\n",
    "    t.label.set_fontsize(26)\n",
    "    \n",
    "plt.tight_layout()\n",
    "plt.savefig('./plots/innerprod-covdemo.pdf')\n",
    "plt.show()"
   ]
  },
  {
   "cell_type": "code",
   "execution_count": null,
   "id": "898e577c-a924-46cc-ae9d-73cb54c646fd",
   "metadata": {},
   "outputs": [],
   "source": []
  }
 ],
 "metadata": {
  "kernelspec": {
   "display_name": "venv-gnp",
   "language": "python",
   "name": "venv-gnp"
  },
  "language_info": {
   "codemirror_mode": {
    "name": "ipython",
    "version": 3
   },
   "file_extension": ".py",
   "mimetype": "text/x-python",
   "name": "python",
   "nbconvert_exporter": "python",
   "pygments_lexer": "ipython3",
   "version": "3.7.3"
  }
 },
 "nbformat": 4,
 "nbformat_minor": 5
}
