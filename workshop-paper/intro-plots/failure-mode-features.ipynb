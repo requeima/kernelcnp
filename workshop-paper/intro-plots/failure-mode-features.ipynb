{
 "cells": [
  {
   "cell_type": "code",
   "execution_count": 1,
   "id": "looking-performance",
   "metadata": {},
   "outputs": [],
   "source": [
    "import numpy as np\n",
    "import matplotlib.pyplot as plt\n",
    "import torch\n",
    "from scipy.stats import norm\n",
    "\n",
    "from cnp.data import GPGenerator\n",
    "\n",
    "from cnp.cnp import StandardConvGNP\n",
    "from cnp.cov import InnerProdCov, MeanFieldCov, AddNoNoise, AddHomoNoise\n",
    "\n",
    "import stheno\n",
    "\n",
    "import matplotlib\n",
    "matplotlib.rcParams['text.usetex'] = True"
   ]
  },
  {
   "cell_type": "code",
   "execution_count": 2,
   "id": "structural-financing",
   "metadata": {},
   "outputs": [
    {
     "name": "stderr",
     "output_type": "stream",
     "text": [
      "/Users/stratis/repos/kernelcnp/venv-gnp/lib/python3.7/site-packages/ipykernel/ipkernel.py:283: DeprecationWarning: `should_run_async` will not call `transform_cell` automatically in the future. Please pass the result to `transformed_cell` argument and any exception that happen during thetransform in `preprocessing_exc_tuple` in IPython 7.17 and above.\n",
      "  and should_run_async(code)\n"
     ]
    }
   ],
   "source": [
    "plot_grid_res = 100\n",
    "num_samples = 50\n",
    "xmin = -4.5\n",
    "xmax = 4.5\n",
    "ymin = -5\n",
    "ymax = 5\n",
    "num_basis_dim = 512"
   ]
  },
  {
   "cell_type": "code",
   "execution_count": 3,
   "id": "computational-platform",
   "metadata": {},
   "outputs": [
    {
     "name": "stderr",
     "output_type": "stream",
     "text": [
      "/Users/stratis/repos/kernelcnp/venv-gnp/lib/python3.7/site-packages/ipykernel/ipkernel.py:283: DeprecationWarning: `should_run_async` will not call `transform_cell` automatically in the future. Please pass the result to `transformed_cell` argument and any exception that happen during thetransform in `preprocessing_exc_tuple` in IPython 7.17 and above.\n",
      "  and should_run_async(code)\n"
     ]
    }
   ],
   "source": [
    "kernel = stheno.EQ().stretch(1.)\n",
    "std_noise = 1e-1\n",
    "\n",
    "gen_params = {\n",
    "    'batch_size'                : 1,\n",
    "    'x_context_ranges'          : [[-3., 3.]],\n",
    "    'max_num_context'           : 3,\n",
    "    'min_num_target'            : 3,\n",
    "    'max_num_target'            : 10,\n",
    "    'device'                    : 'cpu'\n",
    "}\n",
    "\n",
    "gen = GPGenerator(iterations_per_epoch=1,\n",
    "                  kernel=kernel,\n",
    "                  std_noise=std_noise,\n",
    "                  **gen_params)\n",
    "\n",
    "seed = 5"
   ]
  },
  {
   "cell_type": "markdown",
   "id": "partial-acceptance",
   "metadata": {},
   "source": [
    "# Mean field ConvGNP"
   ]
  },
  {
   "cell_type": "code",
   "execution_count": 7,
   "id": "afraid-management",
   "metadata": {},
   "outputs": [
    {
     "name": "stderr",
     "output_type": "stream",
     "text": [
      "/Users/stratis/repos/kernelcnp/venv-gnp/lib/python3.7/site-packages/ipykernel/ipkernel.py:283: DeprecationWarning: `should_run_async` will not call `transform_cell` automatically in the future. Please pass the result to `transformed_cell` argument and any exception that happen during thetransform in `preprocessing_exc_tuple` in IPython 7.17 and above.\n",
      "  and should_run_async(code)\n"
     ]
    }
   ],
   "source": [
    "inner_prod_cov = InnerProdCov(num_basis_dim=num_basis_dim)\n",
    "add_homo_noise = AddHomoNoise()\n",
    "\n",
    "innerprod_conv_gnp_path = './models/innerprod-convGNP'\n",
    "\n",
    "model = StandardConvGNP(input_dim=1,\n",
    "                        covariance=inner_prod_cov,\n",
    "                        add_noise=add_homo_noise,\n",
    "                        num_noise_channels=0)\n",
    "\n",
    "model.load_state_dict(torch.load(innerprod_conv_gnp_path, map_location=torch.device('cpu'))['state_dict'])\n",
    "\n",
    "np.random.seed(seed)\n",
    "torch.manual_seed(seed)\n",
    "\n",
    "data = list(gen)[0]\n",
    "\n",
    "x_context = data['x_context']\n",
    "x_target = data['x_target']\n",
    "y_context = data['y_context']\n",
    "y_target = data['y_target']\n",
    "\n",
    "x_plot = torch.linspace(xmin, xmax, plot_grid_res)[None, :, None]\n",
    "x_plot_rep = x_plot[:, :, 0].repeat(num_samples, 1)\n",
    "x_plot = x_plot.repeat(x_context.shape[0], 1, 1)\n",
    "\n",
    "model_output = model(x_context, y_context, x_plot)\n",
    "mean, cov, cov_plus_noise = [v.detach().numpy() for v in model_output]"
   ]
  },
  {
   "cell_type": "code",
   "execution_count": 24,
   "id": "b0703115-7cc5-4eea-8465-fcdf31749945",
   "metadata": {},
   "outputs": [
    {
     "name": "stderr",
     "output_type": "stream",
     "text": [
      "/Users/stratis/repos/kernelcnp/venv-gnp/lib/python3.7/site-packages/ipykernel/ipkernel.py:283: DeprecationWarning: `should_run_async` will not call `transform_cell` automatically in the future. Please pass the result to `transformed_cell` argument and any exception that happen during thetransform in `preprocessing_exc_tuple` in IPython 7.17 and above.\n",
      "  and should_run_async(code)\n"
     ]
    },
    {
     "data": {
      "image/png": "[encoded data removed]",
      "text/plain": [
       "<Figure size 576x216 with 1 Axes>"
      ]
     },
     "metadata": {
      "needs_background": "light"
     },
     "output_type": "display_data"
    }
   ],
   "source": [
    "num_samples = 1000\n",
    "plot_samples = 20\n",
    "\n",
    "x_pred = np.array([[[0.], [0.5]]])\n",
    "x_pred = torch.tensor(np.linspace(-16., 16., 100)).float()[None, :, None]\n",
    "\n",
    "model_output = model(x_context, y_context, x_pred)\n",
    "mean_pred, cov_pred, _ = [v.detach().numpy() for v in model_output]\n",
    "\n",
    "x_pred = x_pred.numpy()\n",
    "\n",
    "std_dev = np.diag(cov[0]) ** 0.5\n",
    "\n",
    "np.random.seed(2)\n",
    "\n",
    "cov_corr = cov_pred[0, :, :]\n",
    "chol_corr = np.linalg.cholesky(cov_corr + 1e-5 * np.eye(cov_corr.shape[0]))\n",
    "noise = np.random.randn(cov_corr.shape[0], num_samples)\n",
    "samples_corr = mean_pred[0, :, :] + chol_corr @ noise\n",
    "\n",
    "samples_corr = mean_pred[0, :, :] + chol_corr @ noise\n",
    "\n",
    "f, ax0 = plt.subplots(1, 1, gridspec_kw={'width_ratios': [1]}, figsize=(8., 3.))\n",
    "    \n",
    "#==============================================================================\n",
    "# First plot\n",
    "#==============================================================================\n",
    "\n",
    "ax0.scatter(x_context[0, :, 0],\n",
    "            y_context[0, :, 0],\n",
    "            marker='+',\n",
    "            color='black',\n",
    "            s=100,\n",
    "            zorder=2)\n",
    "\n",
    "ax0.plot(x_pred[0, :, 0],\n",
    "         samples_corr[:, -plot_samples:],\n",
    "         color='green',\n",
    "         alpha=0.3,\n",
    "         zorder=1)\n",
    "\n",
    "ax0.set_xlim([xmin, xmax])\n",
    "ax0.set_ylim([ymin, ymax])\n",
    "ax0.set_xticks(np.linspace(-8., 8., 3))\n",
    "ax0.set_yticks(np.linspace(-4., 4., 3))\n",
    "ax0.set_xlabel('$x$', fontsize=30)\n",
    "ax0.set_ylabel('$y$', fontsize=30)\n",
    "for t in ax0.xaxis.get_major_ticks():\n",
    "    t.label.set_fontsize(26)\n",
    "for t in ax0.yaxis.get_major_ticks():\n",
    "    t.label.set_fontsize(26)\n",
    "    \n",
    "plt.tight_layout()\n",
    "plt.savefig('./plots/feature-failure.pdf')\n",
    "plt.show()"
   ]
  },
  {
   "cell_type": "code",
   "execution_count": null,
   "id": "898e577c-a924-46cc-ae9d-73cb54c646fd",
   "metadata": {},
   "outputs": [],
   "source": []
  }
 ],
 "metadata": {
  "kernelspec": {
   "display_name": "venv-gnp",
   "language": "python",
   "name": "venv-gnp"
  },
  "language_info": {
   "codemirror_mode": {
    "name": "ipython",
    "version": 3
   },
   "file_extension": ".py",
   "mimetype": "text/x-python",
   "name": "python",
   "nbconvert_exporter": "python",
   "pygments_lexer": "ipython3",
   "version": "3.7.3"
  }
 },
 "nbformat": 4,
 "nbformat_minor": 5
}
