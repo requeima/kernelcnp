{
 "cells": [
  {
   "cell_type": "code",
   "execution_count": 1,
   "id": "looking-performance",
   "metadata": {},
   "outputs": [],
   "source": [
    "import numpy as np\n",
    "import matplotlib.pyplot as plt\n",
    "import torch\n",
    "\n",
    "from cnp.data import GPGenerator\n",
    "\n",
    "from cnp.cnp import StandardConvGNP\n",
    "from cnp.cov import InnerProdCov, MeanFieldCov, AddNoNoise, AddHomoNoise\n",
    "\n",
    "import stheno\n",
    "\n",
    "import matplotlib\n",
    "matplotlib.rcParams['text.usetex'] = True"
   ]
  },
  {
   "cell_type": "code",
   "execution_count": 2,
   "id": "structural-financing",
   "metadata": {},
   "outputs": [
    {
     "name": "stderr",
     "output_type": "stream",
     "text": [
      "/Users/stratis/repos/kernelcnp/venv-gnp/lib/python3.7/site-packages/ipykernel/ipkernel.py:283: DeprecationWarning: `should_run_async` will not call `transform_cell` automatically in the future. Please pass the result to `transformed_cell` argument and any exception that happen during thetransform in `preprocessing_exc_tuple` in IPython 7.17 and above.\n",
      "  and should_run_async(code)\n"
     ]
    }
   ],
   "source": [
    "plot_grid_res = 100\n",
    "num_samples = 50\n",
    "xmin = -4.5\n",
    "xmax = 4.5\n",
    "ymin = -5\n",
    "ymax = 5\n",
    "num_basis_dim = 512"
   ]
  },
  {
   "cell_type": "code",
   "execution_count": 3,
   "id": "88af432e-e896-4222-88dc-921ee043dc00",
   "metadata": {},
   "outputs": [
    {
     "name": "stdout",
     "output_type": "stream",
     "text": [
      "cp: ../../sync/toy-results/eq/models/convGNP/meanfield/seed-0/dim-1/checkpoint.pth.tar: No such file or directory\n",
      "cp: ../../sync/toy-results/eq/models/convGNP/innerprod-homo/seed-0/dim-1/checkpoint.pth.tar: No such file or directory\n"
     ]
    },
    {
     "name": "stderr",
     "output_type": "stream",
     "text": [
      "/Users/stratis/repos/kernelcnp/venv-gnp/lib/python3.7/site-packages/ipykernel/ipkernel.py:283: DeprecationWarning: `should_run_async` will not call `transform_cell` automatically in the future. Please pass the result to `transformed_cell` argument and any exception that happen during thetransform in `preprocessing_exc_tuple` in IPython 7.17 and above.\n",
      "  and should_run_async(code)\n"
     ]
    }
   ],
   "source": [
    "!cp ../../sync/toy-results/eq/models/convGNP/meanfield/seed-0/dim-1/checkpoint.pth.tar ./models/meanfield-convGNP\n",
    "!cp ../../sync/toy-results/eq/models/convGNP/innerprod-homo/seed-0/dim-1/checkpoint.pth.tar ./models/innerprod-convGNP"
   ]
  },
  {
   "cell_type": "code",
   "execution_count": 4,
   "id": "computational-platform",
   "metadata": {},
   "outputs": [
    {
     "name": "stderr",
     "output_type": "stream",
     "text": [
      "/Users/stratis/repos/kernelcnp/venv-gnp/lib/python3.7/site-packages/ipykernel/ipkernel.py:283: DeprecationWarning: `should_run_async` will not call `transform_cell` automatically in the future. Please pass the result to `transformed_cell` argument and any exception that happen during thetransform in `preprocessing_exc_tuple` in IPython 7.17 and above.\n",
      "  and should_run_async(code)\n"
     ]
    }
   ],
   "source": [
    "kernel = stheno.EQ().stretch(1.)\n",
    "std_noise = 1e-1\n",
    "\n",
    "gen_params = {\n",
    "    'batch_size'                : 1,\n",
    "    'x_context_ranges'          : [[-3., 3.]],\n",
    "    'max_num_context'           : 4,\n",
    "    'min_num_target'            : 3,\n",
    "    'max_num_target'            : 10,\n",
    "    'device'                    : 'cpu'\n",
    "}\n",
    "\n",
    "gen = GPGenerator(iterations_per_epoch=1,\n",
    "                  kernel=kernel,\n",
    "                  std_noise=std_noise,\n",
    "                  **gen_params)\n",
    "\n",
    "seed = 3"
   ]
  },
  {
   "cell_type": "markdown",
   "id": "partial-acceptance",
   "metadata": {},
   "source": [
    "# Mean field ConvGNP"
   ]
  },
  {
   "cell_type": "code",
   "execution_count": 5,
   "id": "afraid-management",
   "metadata": {},
   "outputs": [
    {
     "name": "stderr",
     "output_type": "stream",
     "text": [
      "/Users/stratis/repos/kernelcnp/venv-gnp/lib/python3.7/site-packages/ipykernel/ipkernel.py:283: DeprecationWarning: `should_run_async` will not call `transform_cell` automatically in the future. Please pass the result to `transformed_cell` argument and any exception that happen during thetransform in `preprocessing_exc_tuple` in IPython 7.17 and above.\n",
      "  and should_run_async(code)\n"
     ]
    },
    {
     "data": {
      "image/png": "[encoded data removed]",
      "text/plain": [
       "<Figure size 576x144 with 1 Axes>"
      ]
     },
     "metadata": {
      "needs_background": "light"
     },
     "output_type": "display_data"
    }
   ],
   "source": [
    "mean_field_cov = MeanFieldCov(num_basis_dim=1)\n",
    "add_no_noise = AddNoNoise()\n",
    "\n",
    "mean_field_conv_gnp_path = './models/meanfield-convGNP'\n",
    "\n",
    "model = StandardConvGNP(input_dim=1,\n",
    "                        covariance=mean_field_cov,\n",
    "                        add_noise=add_no_noise,\n",
    "                        num_noise_channels=0)\n",
    "model.load_state_dict(torch.load(mean_field_conv_gnp_path, map_location=torch.device('cpu'))['state_dict'])\n",
    "\n",
    "\n",
    "np.random.seed(seed)\n",
    "torch.manual_seed(seed)\n",
    "\n",
    "data = list(gen)[0]\n",
    "\n",
    "x_context = data['x_context']\n",
    "x_target = data['x_target']\n",
    "y_context = data['y_context']\n",
    "y_target = data['y_target']\n",
    "\n",
    "x_plot = torch.linspace(xmin, xmax, plot_grid_res)[None, :, None]\n",
    "x_plot = x_plot.repeat(x_context.shape[0], 1, 1)\n",
    "\n",
    "model_output = model(x_context, y_context, x_plot)\n",
    "mean, cov, cov_plus_noise = [v.detach().numpy() for v in model_output]\n",
    "\n",
    "std_dev = np.diag(cov[0]) ** 0.5\n",
    "\n",
    "\n",
    "plt.figure(figsize=(8, 2))\n",
    "plt.scatter(x_context[0, :, 0],\n",
    "            y_context[0, :, 0],\n",
    "            marker='+',\n",
    "            color='black',\n",
    "            s=100,\n",
    "            label='Context')\n",
    "\n",
    "# plt.scatter(x_target[0, :, 0], y_target[0, :, 0], marker='+', color='red')\n",
    "plt.fill_between(x_plot[0, :, 0],\n",
    "                 mean[0, :, 0] - 2 * std_dev,\n",
    "                 mean[0, :, 0] + 2 * std_dev,\n",
    "                 color='green',\n",
    "                 alpha=0.2)\n",
    "\n",
    "plt.plot(x_plot[0, :, 0],\n",
    "         mean[0, :, 0],\n",
    "         color='green',\n",
    "         alpha=0.3)\n",
    "\n",
    "# plt.title('ConvCNP', fontsize=25)\n",
    "plt.xlim([xmin, xmax])\n",
    "plt.ylim([ymin, ymax])\n",
    "plt.xticks([], fontsize=26)\n",
    "plt.yticks(np.linspace(-4, 4, 3), fontsize=26)\n",
    "# plt.xlabel('$x$', fontsize=30)\n",
    "plt.ylabel('$y$', fontsize=30)\n",
    "plt.tight_layout()\n",
    "plt.savefig('./plots/meanfield-convGNP.pdf')\n",
    "plt.show()"
   ]
  },
  {
   "cell_type": "markdown",
   "id": "fourth-blake",
   "metadata": {},
   "source": [
    "# Inner product convGNP"
   ]
  },
  {
   "cell_type": "code",
   "execution_count": 6,
   "id": "increasing-glass",
   "metadata": {},
   "outputs": [
    {
     "name": "stderr",
     "output_type": "stream",
     "text": [
      "/Users/stratis/repos/kernelcnp/venv-gnp/lib/python3.7/site-packages/ipykernel/ipkernel.py:283: DeprecationWarning: `should_run_async` will not call `transform_cell` automatically in the future. Please pass the result to `transformed_cell` argument and any exception that happen during thetransform in `preprocessing_exc_tuple` in IPython 7.17 and above.\n",
      "  and should_run_async(code)\n"
     ]
    },
    {
     "ename": "TypeError",
     "evalue": "__init__() missing 1 required positional argument: 'num_noise_channels'",
     "output_type": "error",
     "traceback": [
      "\u001b[0;31m---------------------------------------------------------------------------\u001b[0m",
      "\u001b[0;31mTypeError\u001b[0m                                 Traceback (most recent call last)",
      "\u001b[0;32m<ipython-input-6-fa41bf122975>\u001b[0m in \u001b[0;36m<module>\u001b[0;34m\u001b[0m\n\u001b[1;32m      6\u001b[0m model = StandardConvGNP(input_dim=1,\n\u001b[1;32m      7\u001b[0m                         \u001b[0mcovariance\u001b[0m\u001b[0;34m=\u001b[0m\u001b[0minner_prod_cov\u001b[0m\u001b[0;34m,\u001b[0m\u001b[0;34m\u001b[0m\u001b[0;34m\u001b[0m\u001b[0m\n\u001b[0;32m----> 8\u001b[0;31m                         add_noise=add_homo_noise)\n\u001b[0m\u001b[1;32m      9\u001b[0m \u001b[0;34m\u001b[0m\u001b[0m\n\u001b[1;32m     10\u001b[0m \u001b[0mmodel\u001b[0m\u001b[0;34m.\u001b[0m\u001b[0mload_state_dict\u001b[0m\u001b[0;34m(\u001b[0m\u001b[0mtorch\u001b[0m\u001b[0;34m.\u001b[0m\u001b[0mload\u001b[0m\u001b[0;34m(\u001b[0m\u001b[0minnerprod_conv_gnp_path\u001b[0m\u001b[0;34m,\u001b[0m \u001b[0mmap_location\u001b[0m\u001b[0;34m=\u001b[0m\u001b[0mtorch\u001b[0m\u001b[0;34m.\u001b[0m\u001b[0mdevice\u001b[0m\u001b[0;34m(\u001b[0m\u001b[0;34m'cpu'\u001b[0m\u001b[0;34m)\u001b[0m\u001b[0;34m)\u001b[0m\u001b[0;34m[\u001b[0m\u001b[0;34m'state_dict'\u001b[0m\u001b[0;34m]\u001b[0m\u001b[0;34m)\u001b[0m\u001b[0;34m\u001b[0m\u001b[0;34m\u001b[0m\u001b[0m\n",
      "\u001b[0;31mTypeError\u001b[0m: __init__() missing 1 required positional argument: 'num_noise_channels'"
     ]
    }
   ],
   "source": [
    "inner_prod_cov = InnerProdCov(num_basis_dim=num_basis_dim)\n",
    "add_homo_noise = AddHomoNoise()\n",
    "\n",
    "innerprod_conv_gnp_path = './models/innerprod-convGNP'\n",
    "\n",
    "model = StandardConvGNP(input_dim=1,\n",
    "                        covariance=inner_prod_cov,\n",
    "                        add_noise=add_homo_noise)\n",
    "\n",
    "model.load_state_dict(torch.load(innerprod_conv_gnp_path, map_location=torch.device('cpu'))['state_dict'])\n",
    "\n",
    "\n",
    "np.random.seed(seed)\n",
    "torch.manual_seed(seed)\n",
    "\n",
    "data = list(gen)[0]\n",
    "\n",
    "x_context = data['x_context']\n",
    "x_target = data['x_target']\n",
    "y_context = data['y_context']\n",
    "y_target = data['y_target']\n",
    "\n",
    "x_plot = torch.linspace(xmin, xmax, plot_grid_res)[None, :, None]\n",
    "x_plot_rep = x_plot[:, :, 0].repeat(num_samples, 1)\n",
    "x_plot = x_plot.repeat(x_context.shape[0], 1, 1)\n",
    "\n",
    "model_output = model(x_context, y_context, x_plot)\n",
    "mean, cov, cov_plus_noise = [v.detach().numpy() for v in model_output]\n",
    "\n",
    "chol = np.linalg.cholesky(cov[0] + 1e-4 * np.eye(cov[0].shape[0]))\n",
    "\n",
    "samples = np.random.normal(size=(chol.shape[0], num_samples))\n",
    "samples = mean[:, :, 0] + (chol @ samples).T\n",
    "\n",
    "plt.figure(figsize=(8, 2.85))\n",
    "plt.scatter(x_context[0, :, 0],\n",
    "            y_context[0, :, 0],\n",
    "            marker='+',\n",
    "            color='black',\n",
    "            s=100,\n",
    "            label='Context')\n",
    "\n",
    "# plt.plot(x_plot[0, :, 0],\n",
    "#          mean[0, :, 0],\n",
    "#          color='blue',\n",
    "#          alpha=0.3)\n",
    "\n",
    "plt.plot(x_plot_rep.T,\n",
    "         samples.T,\n",
    "         color='green',\n",
    "         alpha=0.15,\n",
    "         zorder=1)\n",
    "\n",
    "# plt.title('ConvGNP', fontsize=25)\n",
    "plt.xlim([xmin, xmax])\n",
    "plt.ylim([ymin, ymax])\n",
    "plt.xticks(np.linspace(-4, 4, 3), fontsize=26)\n",
    "plt.yticks(np.linspace(-4, 4, 3), fontsize=26)\n",
    "plt.xlabel('$x$', fontsize=30)\n",
    "plt.ylabel('$y$', fontsize=30)\n",
    "plt.tight_layout()\n",
    "plt.savefig('./plots/innerprod-convGNP.pdf')\n",
    "plt.show()"
   ]
  },
  {
   "cell_type": "markdown",
   "id": "1df3d560-9724-4e38-81b4-cee8ce21403c",
   "metadata": {},
   "source": [
    "## Translation equivariance"
   ]
  },
  {
   "cell_type": "code",
   "execution_count": null,
   "id": "d8e2d813-a66c-427c-a2c5-84604d0895f9",
   "metadata": {},
   "outputs": [],
   "source": [
    "mean_field_cov = MeanFieldCov(num_basis_dim=1)\n",
    "add_no_noise = AddNoNoise()\n",
    "\n",
    "mean_field_conv_gnp_path = './models/meanfield-convGNP'\n",
    "\n",
    "model = StandardConvGNP(input_dim=1,\n",
    "                        covariance=mean_field_cov,\n",
    "                        add_noise=add_no_noise,\n",
    "                        num_noise_channels=0)\n",
    "model.load_state_dict(torch.load(mean_field_conv_gnp_path, map_location=torch.device('cpu'))['state_dict'])\n",
    "\n",
    "\n",
    "np.random.seed(seed)\n",
    "torch.manual_seed(seed)\n",
    "\n",
    "data = list(gen)[0]\n",
    "\n",
    "x_context = data['x_context'] - 1.\n",
    "x_target = data['x_target'] - 1.\n",
    "y_context = data['y_context']\n",
    "y_target = data['y_target']\n",
    "\n",
    "x_plot = torch.linspace(-7., 7., plot_grid_res)[None, :, None]\n",
    "x_plot = x_plot.repeat(x_context.shape[0], 1, 1)\n",
    "\n",
    "T = 2.\n",
    "\n",
    "#==============================================================================\n",
    "# First plot\n",
    "#==============================================================================\n",
    "\n",
    "plt.figure(figsize=(13, 6))\n",
    "plt.subplot(221)\n",
    "plt.scatter(x_context[0, :, 0],\n",
    "            y_context[0, :, 0],\n",
    "            marker='+',\n",
    "            color='black',\n",
    "            s=100,\n",
    "            label='Context')\n",
    "\n",
    "plt.xlim([xmin, xmax])\n",
    "plt.ylim([ymin, ymax])\n",
    "plt.xticks([], fontsize=26)\n",
    "plt.yticks(np.linspace(-4, 4, 3), fontsize=26)\n",
    "plt.ylabel('$y$', fontsize=30)\n",
    "\n",
    "#==============================================================================\n",
    "# Second plot\n",
    "#==============================================================================\n",
    "\n",
    "plt.subplot(222)\n",
    "\n",
    "model_output = model(x_context+T, y_context, x_plot)\n",
    "mean, cov, cov_plus_noise = [v.detach().numpy() for v in model_output]\n",
    "\n",
    "std_dev = np.diag(cov[0]) ** 0.5\n",
    "plt.scatter(x_context[0, :, 0]+T,\n",
    "            y_context[0, :, 0],\n",
    "            marker='+',\n",
    "            color='black',\n",
    "            s=100,\n",
    "            label='Context')\n",
    "\n",
    "# plt.title('ConvCNP', fontsize=25)\n",
    "plt.xlim([xmin, xmax])\n",
    "plt.ylim([ymin, ymax])\n",
    "plt.xticks([], fontsize=26)\n",
    "plt.yticks([], fontsize=26)\n",
    "\n",
    "\n",
    "#==============================================================================\n",
    "# Third plot\n",
    "#==============================================================================\n",
    "\n",
    "plt.subplot(223)\n",
    "\n",
    "model_output = model(x_context, y_context, x_plot)\n",
    "mean, cov, cov_plus_noise = [v.detach().numpy() for v in model_output]\n",
    "\n",
    "std_dev = np.diag(cov[0]) ** 0.5\n",
    "plt.scatter(x_context[0, :, 0],\n",
    "            y_context[0, :, 0],\n",
    "            marker='+',\n",
    "            color='black',\n",
    "            s=100,\n",
    "            label='Context')\n",
    "\n",
    "plt.fill_between(x_plot[0, :, 0],\n",
    "                 mean[0, :, 0] - 2 * std_dev,\n",
    "                 mean[0, :, 0] + 2 * std_dev,\n",
    "                 color='green',\n",
    "                 alpha=0.2)\n",
    "\n",
    "plt.plot(x_plot[0, :, 0],\n",
    "         mean[0, :, 0],\n",
    "         color='green',\n",
    "         alpha=0.3)\n",
    "\n",
    "# plt.title('ConvCNP', fontsize=25)\n",
    "plt.xlim([xmin, xmax])\n",
    "plt.ylim([ymin, ymax])\n",
    "plt.xticks([], fontsize=26)\n",
    "plt.yticks(np.linspace(-4, 4, 3), fontsize=26)\n",
    "plt.xticks(np.linspace(-4, 4, 3), fontsize=26)\n",
    "plt.xlabel('$x$', fontsize=30)\n",
    "plt.ylabel('$y$', fontsize=30)\n",
    "\n",
    "#==============================================================================\n",
    "# Fourth plot\n",
    "#==============================================================================\n",
    "\n",
    "model_output = model(x_context, y_context, x_plot)\n",
    "mean, cov, cov_plus_noise = [v.detach().numpy() for v in model_output]\n",
    "\n",
    "plt.subplot(224)\n",
    "plt.scatter(x_context[0, :, 0]+T,\n",
    "            y_context[0, :, 0],\n",
    "            marker='+',\n",
    "            color='black',\n",
    "            s=100,\n",
    "            label='Context')\n",
    "\n",
    "# plt.scatter(x_target[0, :, 0], y_target[0, :, 0], marker='+', color='red')\n",
    "plt.fill_between(x_plot[0, :, 0]+T,\n",
    "                 mean[0, :, 0] - 2 * std_dev,\n",
    "                 mean[0, :, 0] + 2 * std_dev,\n",
    "                 color='green',\n",
    "                 alpha=0.2)\n",
    "\n",
    "plt.plot(x_plot[0, :, 0]+T,\n",
    "         mean[0, :, 0],\n",
    "         color='green',\n",
    "         alpha=0.3)\n",
    "\n",
    "# plt.title('ConvCNP', fontsize=25)\n",
    "plt.xlim([xmin, xmax])\n",
    "plt.ylim([ymin, ymax])\n",
    "plt.xticks([], fontsize=26)\n",
    "plt.yticks([], fontsize=26)\n",
    "plt.xticks(np.linspace(-4, 4, 3), fontsize=26)\n",
    "plt.xlabel('$x$', fontsize=30)\n",
    "# plt.ylabel('$y$', fontsize=30)\n",
    "\n",
    "plt.tight_layout()\n",
    "plt.savefig('./plots/equivariance.pdf')\n",
    "plt.show()"
   ]
  },
  {
   "cell_type": "code",
   "execution_count": null,
   "id": "b0703115-7cc5-4eea-8465-fcdf31749945",
   "metadata": {},
   "outputs": [],
   "source": []
  }
 ],
 "metadata": {
  "kernelspec": {
   "display_name": "venv-gnp",
   "language": "python",
   "name": "venv-gnp"
  },
  "language_info": {
   "codemirror_mode": {
    "name": "ipython",
    "version": 3
   },
   "file_extension": ".py",
   "mimetype": "text/x-python",
   "name": "python",
   "nbconvert_exporter": "python",
   "pygments_lexer": "ipython3",
   "version": "3.7.3"
  }
 },
 "nbformat": 4,
 "nbformat_minor": 5
}
